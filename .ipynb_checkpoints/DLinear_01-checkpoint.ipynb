{
 "cells": [
  {
   "cell_type": "code",
   "execution_count": 21,
   "id": "4d5cdc43",
   "metadata": {},
   "outputs": [],
   "source": [
    "import os\n",
    "import platform\n",
    "import pandas as pd\n",
    "import numpy as np\n",
    "import re\n",
    "from sklearn.model_selection import train_test_split\n",
    "from sklearn.preprocessing import LabelEncoder\n",
    "import torch\n",
    "import torch.nn as nn\n",
    "import torch.optim as optim"
   ]
  },
  {
   "cell_type": "code",
   "execution_count": 22,
   "id": "480b2039",
   "metadata": {},
   "outputs": [
    {
     "data": {
      "text/plain": [
       "'/Users/youngseoklee/Desktop/workplace/dacon_energy'"
      ]
     },
     "execution_count": 22,
     "metadata": {},
     "output_type": "execute_result"
    }
   ],
   "source": [
    "os.getcwd()"
   ]
  },
  {
   "cell_type": "code",
   "execution_count": 23,
   "id": "d66e3a72",
   "metadata": {},
   "outputs": [
    {
     "name": "stdout",
     "output_type": "stream",
     "text": [
      "/Users/youngseoklee/Desktop/workplace/datas/dacon_energy/\n"
     ]
    }
   ],
   "source": [
    "#파일경로 설정\n",
    "if 'macOS' in platform.platform():\n",
    "    path = '/Users/youngseoklee/Desktop/workplace/datas/dacon_energy/'\n",
    "    print(path)\n",
    "elif 'Linux' in platform.platform():\n",
    "    path = '~/workplace/datas/dacon_energy/'\n",
    "    print(path)\n",
    "else:\n",
    "    print('어느 os에도 속해있지 않습니다')"
   ]
  },
  {
   "cell_type": "code",
   "execution_count": 24,
   "id": "e4952bd9",
   "metadata": {},
   "outputs": [
    {
     "name": "stdout",
     "output_type": "stream",
     "text": [
      "mps\n"
     ]
    }
   ],
   "source": [
    "#디바이스 설정\n",
    "if 'macOS' in platform.platform():\n",
    "    device = 'mps' if torch.backends.mps.is_available() else 'cpu'\n",
    "    print(device)\n",
    "elif 'Linux' in platform.platform():\n",
    "    device = 'cuda' if torch.cuda.is_available() else 'cpu'\n",
    "    print(device)\n",
    "else:\n",
    "    print('어느 os에도 속해있지 않습니다')"
   ]
  },
  {
   "cell_type": "code",
   "execution_count": 25,
   "id": "7c34f1af",
   "metadata": {},
   "outputs": [],
   "source": [
    "train_df = pd.read_csv(path + 'train_df.csv', index_col=0)\n",
    "test_df = pd.read_csv(path + 'test_df.csv', index_col=0)\n",
    "sub = pd.read_csv(path + 'sample_submission.csv', index_col=0)"
   ]
  },
  {
   "cell_type": "code",
   "execution_count": 26,
   "id": "bc50a286",
   "metadata": {},
   "outputs": [
    {
     "data": {
      "text/plain": [
       "((204000, 29), (16800, 28))"
      ]
     },
     "execution_count": 26,
     "metadata": {},
     "output_type": "execute_result"
    }
   ],
   "source": [
    "train_df.shape , test_df.shape"
   ]
  },
  {
   "cell_type": "code",
   "execution_count": 27,
   "id": "403c93e7",
   "metadata": {},
   "outputs": [
    {
     "data": {
      "text/plain": [
       "Index(['건물번호', '기온(C)', '강수량(mm)', '풍속(m/s)', '습도(%)', '전력소비량(kWh)', 'Year',\n",
       "       'Month', 'Day', 'Hour', '연면적(m2)', '냉방면적(m2)', '태양광용량(kW)',\n",
       "       'ESS저장용량(kWh)', 'PCS용량(kW)', '건물유형_건물기타', '건물유형_공공', '건물유형_대학교',\n",
       "       '건물유형_데이터센터', '건물유형_백화점및아울렛', '건물유형_병원', '건물유형_상용', '건물유형_아파트',\n",
       "       '건물유형_연구소', '건물유형_지식산업센터', '건물유형_할인마트', '건물유형_호텔및리조트', '요일', '주말'],\n",
       "      dtype='object')"
      ]
     },
     "execution_count": 27,
     "metadata": {},
     "output_type": "execute_result"
    }
   ],
   "source": [
    "train_df.keys()"
   ]
  },
  {
   "cell_type": "code",
   "execution_count": 28,
   "id": "d614bb1b",
   "metadata": {},
   "outputs": [
    {
     "data": {
      "text/plain": [
       "Index(['건물번호', '기온(C)', '강수량(mm)', '풍속(m/s)', '습도(%)', 'Year', 'Month', 'Day',\n",
       "       'Hour', '연면적(m2)', '냉방면적(m2)', '태양광용량(kW)', 'ESS저장용량(kWh)', 'PCS용량(kW)',\n",
       "       '건물유형_건물기타', '건물유형_공공', '건물유형_대학교', '건물유형_데이터센터', '건물유형_백화점및아울렛',\n",
       "       '건물유형_병원', '건물유형_상용', '건물유형_아파트', '건물유형_연구소', '건물유형_지식산업센터',\n",
       "       '건물유형_할인마트', '건물유형_호텔및리조트', '요일', '주말'],\n",
       "      dtype='object')"
      ]
     },
     "execution_count": 28,
     "metadata": {},
     "output_type": "execute_result"
    }
   ],
   "source": [
    "test_df.keys()"
   ]
  },
  {
   "cell_type": "markdown",
   "id": "55d41857",
   "metadata": {},
   "source": [
    "# Preprocessing"
   ]
  },
  {
   "cell_type": "code",
   "execution_count": 29,
   "id": "ebbeca7a",
   "metadata": {},
   "outputs": [],
   "source": [
    "import torch\n",
    "from torch import nn\n",
    "from torch.nn import Transformer\n",
    "from torch.utils.data import TensorDataset, DataLoader\n",
    "from sklearn.model_selection import train_test_split\n",
    "import numpy as np\n",
    "from torchmetrics.regression import mape, MeanAbsolutePercentageError\n",
    "from sklearn.preprocessing import LabelEncoder\n",
    "from sklearn.metrics import mean_absolute_percentage_error"
   ]
  },
  {
   "cell_type": "code",
   "execution_count": 30,
   "id": "cbe806cd",
   "metadata": {},
   "outputs": [],
   "source": [
    "train_data = train_df[train_df.index <= '2022-08-15']\n",
    "val_data = train_df[train_df.index > '2022-08-15']"
   ]
  },
  {
   "cell_type": "code",
   "execution_count": 31,
   "id": "3d0c9d61",
   "metadata": {},
   "outputs": [
    {
     "name": "stderr",
     "output_type": "stream",
     "text": [
      "/var/folders/qb/s5vw4nk95r53s007_f3ty08m0000gn/T/ipykernel_39145/2140014114.py:3: SettingWithCopyWarning: \n",
      "A value is trying to be set on a copy of a slice from a DataFrame.\n",
      "Try using .loc[row_indexer,col_indexer] = value instead\n",
      "\n",
      "See the caveats in the documentation: https://pandas.pydata.org/pandas-docs/stable/user_guide/indexing.html#returning-a-view-versus-a-copy\n",
      "  train_data['요일'] = encoder.fit_transform(train_data['요일'])\n",
      "/var/folders/qb/s5vw4nk95r53s007_f3ty08m0000gn/T/ipykernel_39145/2140014114.py:4: SettingWithCopyWarning: \n",
      "A value is trying to be set on a copy of a slice from a DataFrame.\n",
      "Try using .loc[row_indexer,col_indexer] = value instead\n",
      "\n",
      "See the caveats in the documentation: https://pandas.pydata.org/pandas-docs/stable/user_guide/indexing.html#returning-a-view-versus-a-copy\n",
      "  val_data['요일'] = encoder.fit_transform(val_data['요일'])\n"
     ]
    }
   ],
   "source": [
    "encoder = LabelEncoder()\n",
    "\n",
    "train_data['요일'] = encoder.fit_transform(train_data['요일'])\n",
    "val_data['요일'] = encoder.fit_transform(val_data['요일'])\n",
    "test_df['요일'] = encoder.fit_transform(test_df['요일'])"
   ]
  },
  {
   "cell_type": "code",
   "execution_count": 32,
   "id": "7a8a35e8",
   "metadata": {},
   "outputs": [],
   "source": [
    "X_train = train_data.drop('전력소비량(kWh)', axis=1).values\n",
    "y_train = train_data['전력소비량(kWh)'].values.reshape(-1, 1)\n",
    "X_val = val_data.drop('전력소비량(kWh)', axis=1).values\n",
    "y_val = val_data['전력소비량(kWh)'].values.reshape(-1, 1)"
   ]
  },
  {
   "cell_type": "code",
   "execution_count": 33,
   "id": "ba1c72c3",
   "metadata": {},
   "outputs": [],
   "source": [
    "test_df = test_df.values"
   ]
  },
  {
   "cell_type": "code",
   "execution_count": 34,
   "id": "4fb2c76f",
   "metadata": {},
   "outputs": [
    {
     "data": {
      "text/plain": [
       "((182400, 28), (182400, 1), (21600, 28), (21600, 1))"
      ]
     },
     "execution_count": 34,
     "metadata": {},
     "output_type": "execute_result"
    }
   ],
   "source": [
    "X_train.shape, y_train.shape, X_val.shape, y_val.shape"
   ]
  },
  {
   "cell_type": "code",
   "execution_count": 35,
   "id": "24f09059",
   "metadata": {},
   "outputs": [],
   "source": [
    "from sklearn.preprocessing import MinMaxScaler\n",
    "\n",
    "# MinMaxScaler 객체 생성\n",
    "scaler = MinMaxScaler()\n",
    "\n",
    "# DataFrame의 MinMax 스케일링 적용\n",
    "scaled_X_train = scaler.fit_transform(X_train)\n",
    "scaled_X_val = scaler.fit_transform(X_val)\n",
    "scaled_test_df = scaler.fit_transform(test_df)"
   ]
  },
  {
   "cell_type": "raw",
   "id": "5c6ea130",
   "metadata": {},
   "source": [
    "\n",
    "\n",
    "# Select all columns and convert to numpy array\n",
    "X = train_df.drop('전력소비량(kWh)', axis=1).values\n",
    "y = train_df['전력소비량(kWh)'].values\n",
    "\n",
    "\n",
    "\n",
    "# Generate sequences\n",
    "X = [X[i:i+SEQUENCE_LENGTH, :] for i in range(X.shape[0]-SEQUENCE_LENGTH)]\n",
    "y = [y[i+SEQUENCE_LENGTH] for i in range(y.shape[0]-SEQUENCE_LENGTH)]\n",
    "X, y = np.array(X), np.array(y).reshape(-1, 1)\n"
   ]
  },
  {
   "cell_type": "code",
   "execution_count": 74,
   "id": "a8400667",
   "metadata": {},
   "outputs": [],
   "source": [
    "# 0~203976\n",
    "\n",
    "#data[0:24, : -1]\n",
    "#data[1:25, : -1]\n",
    "#.....\n",
    "#data[203975 : 2~ , :-1]\n"
   ]
  },
  {
   "cell_type": "code",
   "execution_count": 36,
   "id": "9f319806",
   "metadata": {},
   "outputs": [],
   "source": [
    "BATCH_SIZE = 64\n",
    "# Convert to PyTorch tensors and create dataloaders\n",
    "train_data = TensorDataset(torch.from_numpy(scaled_X_train).float(), torch.from_numpy(y_train).float())\n",
    "val_data = TensorDataset(torch.from_numpy(scaled_X_val).float(), torch.from_numpy(y_val).float())\n",
    "test_data = torch.from_numpy(scaled_test_df).float()\n",
    "\n",
    "train_loader = DataLoader(train_data, shuffle=False, batch_size=BATCH_SIZE)\n",
    "val_loader = DataLoader(val_data, shuffle=False, batch_size=BATCH_SIZE)\n",
    "test_loader = DataLoader(test_data, shuffle=False, batch_size=BATCH_SIZE)\n",
    "\n"
   ]
  },
  {
   "cell_type": "code",
   "execution_count": 49,
   "id": "56d1fb12",
   "metadata": {
    "collapsed": true
   },
   "outputs": [
    {
     "name": "stdout",
     "output_type": "stream",
     "text": [
      "torch.Size([64, 28, 1]) torch.Size([64, 1])\n",
      "torch.Size([64, 28, 1]) torch.Size([64, 1])\n",
      "torch.Size([64, 28, 1]) torch.Size([64, 1])\n",
      "torch.Size([64, 28, 1]) torch.Size([64, 1])\n",
      "torch.Size([64, 28, 1]) torch.Size([64, 1])\n",
      "torch.Size([64, 28, 1]) torch.Size([64, 1])\n",
      "torch.Size([64, 28, 1]) torch.Size([64, 1])\n",
      "torch.Size([64, 28, 1]) torch.Size([64, 1])\n",
      "torch.Size([64, 28, 1]) torch.Size([64, 1])\n",
      "torch.Size([64, 28, 1]) torch.Size([64, 1])\n",
      "torch.Size([64, 28, 1]) torch.Size([64, 1])\n",
      "torch.Size([64, 28, 1]) torch.Size([64, 1])\n",
      "torch.Size([64, 28, 1]) torch.Size([64, 1])\n",
      "torch.Size([64, 28, 1]) torch.Size([64, 1])\n",
      "torch.Size([64, 28, 1]) torch.Size([64, 1])\n",
      "torch.Size([64, 28, 1]) torch.Size([64, 1])\n",
      "torch.Size([64, 28, 1]) torch.Size([64, 1])\n",
      "torch.Size([64, 28, 1]) torch.Size([64, 1])\n",
      "torch.Size([64, 28, 1]) torch.Size([64, 1])\n",
      "torch.Size([64, 28, 1]) torch.Size([64, 1])\n",
      "torch.Size([64, 28, 1]) torch.Size([64, 1])\n",
      "torch.Size([64, 28, 1]) torch.Size([64, 1])\n",
      "torch.Size([64, 28, 1]) torch.Size([64, 1])\n",
      "torch.Size([64, 28, 1]) torch.Size([64, 1])\n",
      "torch.Size([64, 28, 1]) torch.Size([64, 1])\n",
      "torch.Size([64, 28, 1]) torch.Size([64, 1])\n",
      "torch.Size([64, 28, 1]) torch.Size([64, 1])\n",
      "torch.Size([64, 28, 1]) torch.Size([64, 1])\n",
      "torch.Size([64, 28, 1]) torch.Size([64, 1])\n",
      "torch.Size([64, 28, 1]) torch.Size([64, 1])\n",
      "torch.Size([64, 28, 1]) torch.Size([64, 1])\n",
      "torch.Size([64, 28, 1]) torch.Size([64, 1])\n",
      "torch.Size([64, 28, 1]) torch.Size([64, 1])\n",
      "torch.Size([64, 28, 1]) torch.Size([64, 1])\n",
      "torch.Size([64, 28, 1]) torch.Size([64, 1])\n",
      "torch.Size([64, 28, 1]) torch.Size([64, 1])\n",
      "torch.Size([64, 28, 1]) torch.Size([64, 1])\n",
      "torch.Size([64, 28, 1]) torch.Size([64, 1])\n",
      "torch.Size([64, 28, 1]) torch.Size([64, 1])\n",
      "torch.Size([64, 28, 1]) torch.Size([64, 1])\n",
      "torch.Size([64, 28, 1]) torch.Size([64, 1])\n",
      "torch.Size([64, 28, 1]) torch.Size([64, 1])\n",
      "torch.Size([64, 28, 1]) torch.Size([64, 1])\n",
      "torch.Size([64, 28, 1]) torch.Size([64, 1])\n",
      "torch.Size([64, 28, 1]) torch.Size([64, 1])\n",
      "torch.Size([64, 28, 1]) torch.Size([64, 1])\n",
      "torch.Size([64, 28, 1]) torch.Size([64, 1])\n",
      "torch.Size([64, 28, 1]) torch.Size([64, 1])\n",
      "torch.Size([64, 28, 1]) torch.Size([64, 1])\n",
      "torch.Size([64, 28, 1]) torch.Size([64, 1])\n",
      "torch.Size([64, 28, 1]) torch.Size([64, 1])\n",
      "torch.Size([64, 28, 1]) torch.Size([64, 1])\n",
      "torch.Size([64, 28, 1]) torch.Size([64, 1])\n",
      "torch.Size([64, 28, 1]) torch.Size([64, 1])\n",
      "torch.Size([64, 28, 1]) torch.Size([64, 1])\n",
      "torch.Size([64, 28, 1]) torch.Size([64, 1])\n",
      "torch.Size([64, 28, 1]) torch.Size([64, 1])\n",
      "torch.Size([64, 28, 1]) torch.Size([64, 1])\n",
      "torch.Size([64, 28, 1]) torch.Size([64, 1])\n",
      "torch.Size([64, 28, 1]) torch.Size([64, 1])\n",
      "torch.Size([64, 28, 1]) torch.Size([64, 1])\n",
      "torch.Size([64, 28, 1]) torch.Size([64, 1])\n",
      "torch.Size([64, 28, 1]) torch.Size([64, 1])\n",
      "torch.Size([64, 28, 1]) torch.Size([64, 1])\n",
      "torch.Size([64, 28, 1]) torch.Size([64, 1])\n",
      "torch.Size([64, 28, 1]) torch.Size([64, 1])\n",
      "torch.Size([64, 28, 1]) torch.Size([64, 1])\n",
      "torch.Size([64, 28, 1]) torch.Size([64, 1])\n",
      "torch.Size([64, 28, 1]) torch.Size([64, 1])\n",
      "torch.Size([64, 28, 1]) torch.Size([64, 1])\n",
      "torch.Size([64, 28, 1]) torch.Size([64, 1])\n",
      "torch.Size([64, 28, 1]) torch.Size([64, 1])\n",
      "torch.Size([64, 28, 1]) torch.Size([64, 1])\n",
      "torch.Size([64, 28, 1]) torch.Size([64, 1])\n",
      "torch.Size([64, 28, 1]) torch.Size([64, 1])\n",
      "torch.Size([64, 28, 1]) torch.Size([64, 1])\n",
      "torch.Size([64, 28, 1]) torch.Size([64, 1])\n",
      "torch.Size([64, 28, 1]) torch.Size([64, 1])\n",
      "torch.Size([64, 28, 1]) torch.Size([64, 1])\n",
      "torch.Size([64, 28, 1]) torch.Size([64, 1])\n",
      "torch.Size([64, 28, 1]) torch.Size([64, 1])\n",
      "torch.Size([64, 28, 1]) torch.Size([64, 1])\n",
      "torch.Size([64, 28, 1]) torch.Size([64, 1])\n",
      "torch.Size([64, 28, 1]) torch.Size([64, 1])\n",
      "torch.Size([64, 28, 1]) torch.Size([64, 1])\n",
      "torch.Size([64, 28, 1]) torch.Size([64, 1])\n",
      "torch.Size([64, 28, 1]) torch.Size([64, 1])\n",
      "torch.Size([64, 28, 1]) torch.Size([64, 1])\n",
      "torch.Size([64, 28, 1]) torch.Size([64, 1])\n",
      "torch.Size([64, 28, 1]) torch.Size([64, 1])\n",
      "torch.Size([64, 28, 1]) torch.Size([64, 1])\n",
      "torch.Size([64, 28, 1]) torch.Size([64, 1])\n",
      "torch.Size([64, 28, 1]) torch.Size([64, 1])\n",
      "torch.Size([64, 28, 1]) torch.Size([64, 1])\n",
      "torch.Size([64, 28, 1]) torch.Size([64, 1])\n",
      "torch.Size([64, 28, 1]) torch.Size([64, 1])\n",
      "torch.Size([64, 28, 1]) torch.Size([64, 1])\n",
      "torch.Size([64, 28, 1]) torch.Size([64, 1])\n",
      "torch.Size([64, 28, 1]) torch.Size([64, 1])\n",
      "torch.Size([64, 28, 1]) torch.Size([64, 1])\n",
      "torch.Size([64, 28, 1]) torch.Size([64, 1])\n",
      "torch.Size([64, 28, 1]) torch.Size([64, 1])\n",
      "torch.Size([64, 28, 1]) torch.Size([64, 1])\n",
      "torch.Size([64, 28, 1]) torch.Size([64, 1])\n",
      "torch.Size([64, 28, 1]) torch.Size([64, 1])\n",
      "torch.Size([64, 28, 1]) torch.Size([64, 1])\n",
      "torch.Size([64, 28, 1]) torch.Size([64, 1])\n",
      "torch.Size([64, 28, 1]) torch.Size([64, 1])\n",
      "torch.Size([64, 28, 1]) torch.Size([64, 1])\n",
      "torch.Size([64, 28, 1]) torch.Size([64, 1])\n",
      "torch.Size([64, 28, 1]) torch.Size([64, 1])\n",
      "torch.Size([64, 28, 1]) torch.Size([64, 1])\n",
      "torch.Size([64, 28, 1]) torch.Size([64, 1])\n",
      "torch.Size([64, 28, 1]) torch.Size([64, 1])\n",
      "torch.Size([64, 28, 1]) torch.Size([64, 1])\n",
      "torch.Size([64, 28, 1]) torch.Size([64, 1])\n",
      "torch.Size([64, 28, 1]) torch.Size([64, 1])\n",
      "torch.Size([64, 28, 1]) torch.Size([64, 1])\n",
      "torch.Size([64, 28, 1]) torch.Size([64, 1])\n",
      "torch.Size([64, 28, 1]) torch.Size([64, 1])\n",
      "torch.Size([64, 28, 1]) torch.Size([64, 1])\n",
      "torch.Size([64, 28, 1]) torch.Size([64, 1])\n",
      "torch.Size([64, 28, 1]) torch.Size([64, 1])\n",
      "torch.Size([64, 28, 1]) torch.Size([64, 1])\n",
      "torch.Size([64, 28, 1]) torch.Size([64, 1])\n",
      "torch.Size([64, 28, 1]) torch.Size([64, 1])\n",
      "torch.Size([64, 28, 1]) torch.Size([64, 1])\n",
      "torch.Size([64, 28, 1]) torch.Size([64, 1])\n",
      "torch.Size([64, 28, 1]) torch.Size([64, 1])\n",
      "torch.Size([64, 28, 1]) torch.Size([64, 1])\n",
      "torch.Size([64, 28, 1]) torch.Size([64, 1])\n",
      "torch.Size([64, 28, 1]) torch.Size([64, 1])\n",
      "torch.Size([64, 28, 1]) torch.Size([64, 1])\n",
      "torch.Size([64, 28, 1]) torch.Size([64, 1])\n",
      "torch.Size([64, 28, 1]) torch.Size([64, 1])\n",
      "torch.Size([64, 28, 1]) torch.Size([64, 1])\n",
      "torch.Size([64, 28, 1]) torch.Size([64, 1])\n",
      "torch.Size([64, 28, 1]) torch.Size([64, 1])\n",
      "torch.Size([64, 28, 1]) torch.Size([64, 1])\n",
      "torch.Size([64, 28, 1]) torch.Size([64, 1])\n",
      "torch.Size([64, 28, 1]) torch.Size([64, 1])\n",
      "torch.Size([64, 28, 1]) torch.Size([64, 1])\n",
      "torch.Size([64, 28, 1]) torch.Size([64, 1])\n",
      "torch.Size([64, 28, 1]) torch.Size([64, 1])\n",
      "torch.Size([64, 28, 1]) torch.Size([64, 1])\n",
      "torch.Size([64, 28, 1]) torch.Size([64, 1])\n",
      "torch.Size([64, 28, 1]) torch.Size([64, 1])\n",
      "torch.Size([64, 28, 1]) torch.Size([64, 1])\n",
      "torch.Size([64, 28, 1]) torch.Size([64, 1])\n",
      "torch.Size([64, 28, 1]) torch.Size([64, 1])\n",
      "torch.Size([64, 28, 1]) torch.Size([64, 1])\n",
      "torch.Size([64, 28, 1]) torch.Size([64, 1])\n",
      "torch.Size([64, 28, 1]) torch.Size([64, 1])\n",
      "torch.Size([64, 28, 1]) torch.Size([64, 1])\n",
      "torch.Size([64, 28, 1]) torch.Size([64, 1])\n",
      "torch.Size([64, 28, 1]) torch.Size([64, 1])\n",
      "torch.Size([64, 28, 1]) torch.Size([64, 1])\n",
      "torch.Size([64, 28, 1]) torch.Size([64, 1])\n",
      "torch.Size([64, 28, 1]) torch.Size([64, 1])\n",
      "torch.Size([64, 28, 1]) torch.Size([64, 1])\n",
      "torch.Size([64, 28, 1]) torch.Size([64, 1])\n",
      "torch.Size([64, 28, 1]) torch.Size([64, 1])\n",
      "torch.Size([64, 28, 1]) torch.Size([64, 1])\n",
      "torch.Size([64, 28, 1]) torch.Size([64, 1])\n",
      "torch.Size([64, 28, 1]) torch.Size([64, 1])\n",
      "torch.Size([64, 28, 1]) torch.Size([64, 1])\n",
      "torch.Size([64, 28, 1]) torch.Size([64, 1])\n",
      "torch.Size([64, 28, 1]) torch.Size([64, 1])\n",
      "torch.Size([64, 28, 1]) torch.Size([64, 1])\n",
      "torch.Size([64, 28, 1]) torch.Size([64, 1])\n",
      "torch.Size([64, 28, 1]) torch.Size([64, 1])\n",
      "torch.Size([64, 28, 1]) torch.Size([64, 1])\n",
      "torch.Size([64, 28, 1]) torch.Size([64, 1])\n",
      "torch.Size([64, 28, 1]) torch.Size([64, 1])\n",
      "torch.Size([64, 28, 1]) torch.Size([64, 1])\n",
      "torch.Size([64, 28, 1]) torch.Size([64, 1])\n",
      "torch.Size([64, 28, 1]) torch.Size([64, 1])\n",
      "torch.Size([64, 28, 1]) torch.Size([64, 1])\n",
      "torch.Size([64, 28, 1]) torch.Size([64, 1])\n",
      "torch.Size([64, 28, 1]) torch.Size([64, 1])\n",
      "torch.Size([64, 28, 1]) torch.Size([64, 1])\n",
      "torch.Size([64, 28, 1]) torch.Size([64, 1])\n",
      "torch.Size([64, 28, 1]) torch.Size([64, 1])\n",
      "torch.Size([64, 28, 1]) torch.Size([64, 1])\n",
      "torch.Size([64, 28, 1]) torch.Size([64, 1])\n",
      "torch.Size([64, 28, 1]) torch.Size([64, 1])\n",
      "torch.Size([64, 28, 1]) torch.Size([64, 1])\n",
      "torch.Size([64, 28, 1]) torch.Size([64, 1])\n",
      "torch.Size([64, 28, 1]) torch.Size([64, 1])\n",
      "torch.Size([64, 28, 1]) torch.Size([64, 1])\n",
      "torch.Size([64, 28, 1]) torch.Size([64, 1])\n",
      "torch.Size([64, 28, 1]) torch.Size([64, 1])\n",
      "torch.Size([64, 28, 1]) torch.Size([64, 1])\n",
      "torch.Size([64, 28, 1]) torch.Size([64, 1])\n",
      "torch.Size([64, 28, 1]) torch.Size([64, 1])\n",
      "torch.Size([64, 28, 1]) torch.Size([64, 1])\n",
      "torch.Size([64, 28, 1]) torch.Size([64, 1])\n",
      "torch.Size([64, 28, 1]) torch.Size([64, 1])\n",
      "torch.Size([64, 28, 1]) torch.Size([64, 1])\n",
      "torch.Size([64, 28, 1]) torch.Size([64, 1])\n",
      "torch.Size([64, 28, 1]) torch.Size([64, 1])\n",
      "torch.Size([64, 28, 1]) torch.Size([64, 1])\n",
      "torch.Size([64, 28, 1]) torch.Size([64, 1])\n",
      "torch.Size([64, 28, 1]) torch.Size([64, 1])\n",
      "torch.Size([64, 28, 1]) torch.Size([64, 1])\n",
      "torch.Size([64, 28, 1]) torch.Size([64, 1])\n",
      "torch.Size([64, 28, 1]) torch.Size([64, 1])\n",
      "torch.Size([64, 28, 1]) torch.Size([64, 1])\n",
      "torch.Size([64, 28, 1]) torch.Size([64, 1])\n",
      "torch.Size([64, 28, 1]) torch.Size([64, 1])\n",
      "torch.Size([64, 28, 1]) torch.Size([64, 1])\n",
      "torch.Size([64, 28, 1]) torch.Size([64, 1])\n",
      "torch.Size([64, 28, 1]) torch.Size([64, 1])\n",
      "torch.Size([64, 28, 1]) torch.Size([64, 1])\n",
      "torch.Size([64, 28, 1]) torch.Size([64, 1])\n",
      "torch.Size([64, 28, 1]) torch.Size([64, 1])\n",
      "torch.Size([64, 28, 1]) torch.Size([64, 1])\n",
      "torch.Size([64, 28, 1]) torch.Size([64, 1])\n",
      "torch.Size([64, 28, 1]) torch.Size([64, 1])\n",
      "torch.Size([64, 28, 1]) torch.Size([64, 1])\n",
      "torch.Size([64, 28, 1]) torch.Size([64, 1])\n",
      "torch.Size([64, 28, 1]) torch.Size([64, 1])\n",
      "torch.Size([64, 28, 1]) torch.Size([64, 1])\n",
      "torch.Size([64, 28, 1]) torch.Size([64, 1])\n",
      "torch.Size([64, 28, 1]) torch.Size([64, 1])\n",
      "torch.Size([64, 28, 1]) torch.Size([64, 1])\n",
      "torch.Size([64, 28, 1]) torch.Size([64, 1])\n",
      "torch.Size([64, 28, 1]) torch.Size([64, 1])\n",
      "torch.Size([64, 28, 1]) torch.Size([64, 1])\n",
      "torch.Size([64, 28, 1]) torch.Size([64, 1])\n",
      "torch.Size([64, 28, 1]) torch.Size([64, 1])\n",
      "torch.Size([64, 28, 1]) torch.Size([64, 1])\n",
      "torch.Size([64, 28, 1]) torch.Size([64, 1])\n",
      "torch.Size([64, 28, 1]) torch.Size([64, 1])\n",
      "torch.Size([64, 28, 1]) torch.Size([64, 1])\n",
      "torch.Size([64, 28, 1]) torch.Size([64, 1])\n",
      "torch.Size([64, 28, 1]) torch.Size([64, 1])\n",
      "torch.Size([64, 28, 1]) torch.Size([64, 1])\n",
      "torch.Size([64, 28, 1]) torch.Size([64, 1])\n",
      "torch.Size([64, 28, 1]) torch.Size([64, 1])\n",
      "torch.Size([64, 28, 1]) torch.Size([64, 1])\n",
      "torch.Size([64, 28, 1]) torch.Size([64, 1])\n",
      "torch.Size([64, 28, 1]) torch.Size([64, 1])\n",
      "torch.Size([64, 28, 1]) torch.Size([64, 1])\n",
      "torch.Size([64, 28, 1]) torch.Size([64, 1])\n",
      "torch.Size([64, 28, 1]) torch.Size([64, 1])\n",
      "torch.Size([64, 28, 1]) torch.Size([64, 1])\n",
      "torch.Size([64, 28, 1]) torch.Size([64, 1])\n",
      "torch.Size([64, 28, 1]) torch.Size([64, 1])\n",
      "torch.Size([64, 28, 1]) torch.Size([64, 1])\n",
      "torch.Size([64, 28, 1]) torch.Size([64, 1])\n",
      "torch.Size([64, 28, 1]) torch.Size([64, 1])\n",
      "torch.Size([64, 28, 1]) torch.Size([64, 1])\n",
      "torch.Size([64, 28, 1]) torch.Size([64, 1])\n",
      "torch.Size([64, 28, 1]) torch.Size([64, 1])\n",
      "torch.Size([64, 28, 1]) torch.Size([64, 1])\n",
      "torch.Size([64, 28, 1]) torch.Size([64, 1])\n",
      "torch.Size([64, 28, 1]) torch.Size([64, 1])\n",
      "torch.Size([64, 28, 1]) torch.Size([64, 1])\n",
      "torch.Size([64, 28, 1]) torch.Size([64, 1])\n",
      "torch.Size([64, 28, 1]) torch.Size([64, 1])\n",
      "torch.Size([64, 28, 1]) torch.Size([64, 1])\n",
      "torch.Size([64, 28, 1]) torch.Size([64, 1])\n",
      "torch.Size([64, 28, 1]) torch.Size([64, 1])\n",
      "torch.Size([64, 28, 1]) torch.Size([64, 1])\n",
      "torch.Size([64, 28, 1]) torch.Size([64, 1])\n",
      "torch.Size([64, 28, 1]) torch.Size([64, 1])\n",
      "torch.Size([64, 28, 1]) torch.Size([64, 1])\n",
      "torch.Size([64, 28, 1]) torch.Size([64, 1])\n",
      "torch.Size([64, 28, 1]) torch.Size([64, 1])\n",
      "torch.Size([64, 28, 1]) torch.Size([64, 1])\n",
      "torch.Size([64, 28, 1]) torch.Size([64, 1])\n",
      "torch.Size([64, 28, 1]) torch.Size([64, 1])\n",
      "torch.Size([64, 28, 1]) torch.Size([64, 1])\n",
      "torch.Size([64, 28, 1]) torch.Size([64, 1])\n",
      "torch.Size([64, 28, 1]) torch.Size([64, 1])\n",
      "torch.Size([64, 28, 1]) torch.Size([64, 1])\n",
      "torch.Size([64, 28, 1]) torch.Size([64, 1])\n",
      "torch.Size([64, 28, 1]) torch.Size([64, 1])\n",
      "torch.Size([64, 28, 1]) torch.Size([64, 1])\n",
      "torch.Size([64, 28, 1]) torch.Size([64, 1])\n",
      "torch.Size([64, 28, 1]) torch.Size([64, 1])\n",
      "torch.Size([64, 28, 1]) torch.Size([64, 1])\n",
      "torch.Size([64, 28, 1]) torch.Size([64, 1])\n",
      "torch.Size([64, 28, 1]) torch.Size([64, 1])\n",
      "torch.Size([64, 28, 1]) torch.Size([64, 1])\n",
      "torch.Size([64, 28, 1]) torch.Size([64, 1])\n",
      "torch.Size([64, 28, 1]) torch.Size([64, 1])\n",
      "torch.Size([64, 28, 1]) torch.Size([64, 1])\n",
      "torch.Size([64, 28, 1]) torch.Size([64, 1])\n",
      "torch.Size([64, 28, 1]) torch.Size([64, 1])\n",
      "torch.Size([64, 28, 1]) torch.Size([64, 1])\n",
      "torch.Size([64, 28, 1]) torch.Size([64, 1])\n",
      "torch.Size([64, 28, 1]) torch.Size([64, 1])\n",
      "torch.Size([64, 28, 1]) torch.Size([64, 1])\n",
      "torch.Size([64, 28, 1]) torch.Size([64, 1])\n",
      "torch.Size([64, 28, 1]) torch.Size([64, 1])\n",
      "torch.Size([64, 28, 1]) torch.Size([64, 1])\n",
      "torch.Size([64, 28, 1]) torch.Size([64, 1])\n",
      "torch.Size([64, 28, 1]) torch.Size([64, 1])\n",
      "torch.Size([64, 28, 1]) torch.Size([64, 1])\n",
      "torch.Size([64, 28, 1]) torch.Size([64, 1])\n",
      "torch.Size([64, 28, 1]) torch.Size([64, 1])\n",
      "torch.Size([64, 28, 1]) torch.Size([64, 1])\n",
      "torch.Size([64, 28, 1]) torch.Size([64, 1])\n",
      "torch.Size([64, 28, 1]) torch.Size([64, 1])\n",
      "torch.Size([64, 28, 1]) torch.Size([64, 1])\n",
      "torch.Size([64, 28, 1]) torch.Size([64, 1])\n",
      "torch.Size([64, 28, 1]) torch.Size([64, 1])\n",
      "torch.Size([64, 28, 1]) torch.Size([64, 1])\n",
      "torch.Size([64, 28, 1]) torch.Size([64, 1])\n",
      "torch.Size([64, 28, 1]) torch.Size([64, 1])\n",
      "torch.Size([64, 28, 1]) torch.Size([64, 1])\n",
      "torch.Size([64, 28, 1]) torch.Size([64, 1])\n",
      "torch.Size([64, 28, 1]) torch.Size([64, 1])\n",
      "torch.Size([64, 28, 1]) torch.Size([64, 1])\n",
      "torch.Size([64, 28, 1]) torch.Size([64, 1])\n",
      "torch.Size([64, 28, 1]) torch.Size([64, 1])\n",
      "torch.Size([64, 28, 1]) torch.Size([64, 1])\n",
      "torch.Size([64, 28, 1]) torch.Size([64, 1])\n",
      "torch.Size([64, 28, 1]) torch.Size([64, 1])\n",
      "torch.Size([64, 28, 1]) torch.Size([64, 1])\n",
      "torch.Size([64, 28, 1]) torch.Size([64, 1])\n",
      "torch.Size([64, 28, 1]) torch.Size([64, 1])\n",
      "torch.Size([64, 28, 1]) torch.Size([64, 1])\n",
      "torch.Size([64, 28, 1]) torch.Size([64, 1])\n",
      "torch.Size([64, 28, 1]) torch.Size([64, 1])\n",
      "torch.Size([64, 28, 1]) torch.Size([64, 1])\n",
      "torch.Size([64, 28, 1]) torch.Size([64, 1])\n",
      "torch.Size([64, 28, 1]) torch.Size([64, 1])\n",
      "torch.Size([64, 28, 1]) torch.Size([64, 1])\n",
      "torch.Size([64, 28, 1]) torch.Size([64, 1])\n",
      "torch.Size([64, 28, 1]) torch.Size([64, 1])\n",
      "torch.Size([64, 28, 1]) torch.Size([64, 1])\n",
      "torch.Size([64, 28, 1]) torch.Size([64, 1])\n",
      "torch.Size([64, 28, 1]) torch.Size([64, 1])\n",
      "torch.Size([64, 28, 1]) torch.Size([64, 1])\n",
      "torch.Size([32, 28, 1]) torch.Size([32, 1])\n"
     ]
    }
   ],
   "source": [
    "for x,y in val_loader:\n",
    "    print(x.unsqueeze(2).shape, y.shape)"
   ]
  },
  {
   "cell_type": "code",
   "execution_count": 37,
   "id": "30d25d87",
   "metadata": {},
   "outputs": [],
   "source": [
    "class Configs:\n",
    "    def __init__(self, seq_len, pred_len, enc_in, individual):\n",
    "        self.seq_len = seq_len\n",
    "        self.pred_len = pred_len\n",
    "        self.enc_in = enc_in\n",
    "        self.individual = individual"
   ]
  },
  {
   "cell_type": "code",
   "execution_count": 38,
   "id": "8a51fb99",
   "metadata": {},
   "outputs": [
    {
     "data": {
      "text/plain": [
       "'\\nearly_stopping = EarlyStopping(patience=5, verbose=True)\\nfor epoch in range(num_epochs):\\n    # Train...\\n    # Validate...\\n    val_loss = compute_val_loss()  # 검증 손실 계산 (구현되지 않은 가상의 함수)\\n    early_stopping(val_loss, model)\\n    if early_stopping.early_stop:\\n        print(\"Early stopping\")\\n        break\\n'"
      ]
     },
     "execution_count": 38,
     "metadata": {},
     "output_type": "execute_result"
    }
   ],
   "source": [
    "class EarlyStopping:\n",
    "    def __init__(self, patience=5, verbose=False, delta=0):\n",
    "        \"\"\"\n",
    "        Args:\n",
    "            patience (int): 얼마나 많은 epoch 동안 성능 향상을 기다릴지 지정\n",
    "            verbose (bool): True로 설정하면 각 epoch마다 메시지 출력\n",
    "            delta (float): 성능 향상으로 간주되기 위한 최소한의 변화량\n",
    "        \"\"\"\n",
    "        self.patience = patience\n",
    "        self.verbose = verbose\n",
    "        self.counter = 0\n",
    "        self.best_score = None\n",
    "        self.early_stop = False\n",
    "        self.delta = delta\n",
    "\n",
    "    def __call__(self, val_loss, model):\n",
    "        score = -val_loss\n",
    "\n",
    "        if self.best_score is None:\n",
    "            self.best_score = score\n",
    "        elif score < self.best_score + self.delta:\n",
    "            self.counter += 1\n",
    "            if self.verbose:\n",
    "                print(f\"EarlyStopping counter: {self.counter} out of {self.patience}\")\n",
    "            if self.counter >= self.patience:\n",
    "                self.early_stop = True\n",
    "        else:\n",
    "            self.best_score = score\n",
    "            self.counter = 0\n",
    "\n",
    "# 예제로 활용하는 학습 루프 (실제 실행되지 않는 예시 코드)\n",
    "\"\"\"\n",
    "early_stopping = EarlyStopping(patience=5, verbose=True)\n",
    "for epoch in range(num_epochs):\n",
    "    # Train...\n",
    "    # Validate...\n",
    "    val_loss = compute_val_loss()  # 검증 손실 계산 (구현되지 않은 가상의 함수)\n",
    "    early_stopping(val_loss, model)\n",
    "    if early_stopping.early_stop:\n",
    "        print(\"Early stopping\")\n",
    "        break\n",
    "\"\"\"\n",
    "\n",
    "# 실제 실행되는 코드는 아니므로 주석 처리하였습니다.\n"
   ]
  },
  {
   "cell_type": "markdown",
   "id": "66078e07",
   "metadata": {},
   "source": [
    "# DLinear"
   ]
  },
  {
   "cell_type": "code",
   "execution_count": 61,
   "id": "5990ad0b",
   "metadata": {},
   "outputs": [],
   "source": [
    "class moving_avg(nn.Module):\n",
    "    def __init__(self, kernel_size, stride):\n",
    "        super(moving_avg, self).__init__()\n",
    "        self.kernel_size = kernel_size\n",
    "        self.avg = nn.AvgPool1d(kernel_size=kernel_size, stride=stride, padding=0)\n",
    "        \n",
    "    def forward(self, x):\n",
    "        # padding on the both ends of time series\n",
    "        #front = x[:, 0:1, :].repeat(1, (self.kernel_size -1) // 2, 1)\n",
    "        #end = x[:, -1, :].repeat(1, (self.kernel_size -1) // 2, 1)\n",
    "        \n",
    "        #fixed code\n",
    "        repeated_size = (self.kernel_size - 1) // 2\n",
    "        front = x[:, :1, :].expand(-1, repeated_size, -1)\n",
    "        end = x[:, -1:, :].expand(-1, repeated_size, -1)\n",
    "\n",
    "        #print(x.shape, front.shape, end.shape)\n",
    "\n",
    "        x = torch.cat([front, x, end], dim=1)\n",
    "        x = self.avg(x.permute(0, 2, 1))\n",
    "        x = x.permute(0, 2, 1)\n",
    "        return x\n",
    "    \n",
    "    \n",
    "\n",
    "class series_decomp(nn.Module):\n",
    "    def __init__(self, kernel_size):\n",
    "        super(series_decomp, self).__init__()\n",
    "        self.moving_avg = moving_avg(kernel_size, stride=1)\n",
    "        \n",
    "    def forward(self, x):\n",
    "        moving_mean = self.moving_avg(x)\n",
    "        res = x - moving_mean\n",
    "        \n",
    "        return res, moving_mean\n",
    "    \n",
    "    \n",
    "class Model(nn.Module):\n",
    "    '''Decomposition-Linear'''\n",
    "    def __init__(self, configs):\n",
    "        super(Model, self).__init__()\n",
    "        self.seq_len = configs.seq_len\n",
    "        self.pred_len = configs.pred_len\n",
    "        \n",
    "        #Decomposition Kernel size\n",
    "        kernel_size = 25\n",
    "        self.decomposition = series_decomp(kernel_size)\n",
    "        self.individual = configs.individual\n",
    "        self.channels = configs.enc_in\n",
    "        \n",
    "        if self.individual:\n",
    "            self.Linear_Seasonal = nn.ModuleList()\n",
    "            self.Linear_Trend = nn.ModuleList()\n",
    "            \n",
    "            for i in range(self.channels):\n",
    "                self.Linear_Seasonal.append(nn.Linear(self.seq_len, self.pred_len))\n",
    "                self.Linear_Trend.append(nn.Liner(self.seq_len, self.pred_len))\n",
    "        \n",
    "        else:\n",
    "            self.Linear_Seasonal = nn.Linear(self.seq_len, self.pred_len)\n",
    "            self.Linear_Trend = nn.Linear(self.seq_len, self.pred_len)\n",
    "        \n",
    "        \n",
    "    def forward(self, x):\n",
    "        # x: [Batch, Input length, Channel]\n",
    "        seasonal_init, trend_init = self.decomposition(x)\n",
    "        #print(\"Shape after decomposition:\", seasonal_init.shape, trend_init.shape)\n",
    "\n",
    "        seasonal_init, trend_init = seasonal_init.permute(0,2,1), trend_init.permute(0,2,1)\n",
    "        #print(\"Shape after permute:\", seasonal_init.shape, trend_init.shape)\n",
    "        \n",
    "        if self.individual:\n",
    "            seasonal_output = torch.zeros([seasonal_init.size(0), seasonal_init.size(1), self.pred_len],\n",
    "                                         dtype=seasonal_init.dtype).to(seasonal_init.device)\n",
    "            trend_output = torch.zeros([trend_init.size(0), trend_init.size(1), self.pred_len],\n",
    "                                         dtype=trend_init.dtype).to(trend_init.device)\n",
    "            \n",
    "            for i in range(self.channels):\n",
    "                seasonal_output[:,i,:] = self.Linear_Seasonal[i](seasonal_init[:,i,:]) \n",
    "                trend_output[:,i,:] = self.Linear_Trend[i](trend_init[:,i,:])\n",
    "                \n",
    "        else:\n",
    "            seasonal_output = self.Linear_Seasonal(seasonal_init)\n",
    "            trend_output = self.Linear_Trend(trend_init)\n",
    "            #print(\"Shape of outputs:\", seasonal_output.shape, trend_output.shape)\n",
    "            \n",
    "        x = seasonal_output + trend_output\n",
    "        \n",
    "        return x.permute(0, 2, 1) #to [Batch, output length, Channel]"
   ]
  },
  {
   "cell_type": "code",
   "execution_count": 71,
   "id": "aa27b3ef",
   "metadata": {},
   "outputs": [
    {
     "name": "stdout",
     "output_type": "stream",
     "text": [
      "Epoch 1/1000 - Training Loss: 920652.7500, Validation MAPE: 0.9631\n",
      "Epoch 2/1000 - Training Loss: 860549.0625, Validation MAPE: 0.9286\n",
      "Epoch 3/1000 - Training Loss: 802921.4375, Validation MAPE: 0.8942\n",
      "Epoch 4/1000 - Training Loss: 747785.6875, Validation MAPE: 0.8600\n",
      "Epoch 5/1000 - Training Loss: 695117.1875, Validation MAPE: 0.8259\n",
      "Epoch 6/1000 - Training Loss: 644888.0000, Validation MAPE: 0.7921\n",
      "Epoch 7/1000 - Training Loss: 597070.1250, Validation MAPE: 0.7583\n",
      "Epoch 8/1000 - Training Loss: 551635.0625, Validation MAPE: 0.7248\n",
      "Epoch 9/1000 - Training Loss: 508553.2812, Validation MAPE: 0.6914\n",
      "Epoch 10/1000 - Training Loss: 467795.5000, Validation MAPE: 0.6581\n",
      "Epoch 11/1000 - Training Loss: 429331.2188, Validation MAPE: 0.6251\n",
      "Epoch 12/1000 - Training Loss: 393129.8438, Validation MAPE: 0.5922\n",
      "Epoch 13/1000 - Training Loss: 359160.0312, Validation MAPE: 0.5595\n",
      "Epoch 14/1000 - Training Loss: 327390.0938, Validation MAPE: 0.5270\n",
      "Epoch 15/1000 - Training Loss: 297787.5625, Validation MAPE: 0.4947\n",
      "Epoch 16/1000 - Training Loss: 270319.8750, Validation MAPE: 0.4625\n",
      "Epoch 17/1000 - Training Loss: 244954.1406, Validation MAPE: 0.4310\n",
      "Epoch 18/1000 - Training Loss: 221656.1562, Validation MAPE: 0.4077\n",
      "Epoch 19/1000 - Training Loss: 200391.6094, Validation MAPE: 0.3900\n",
      "Epoch 20/1000 - Training Loss: 181126.0156, Validation MAPE: 0.3752\n",
      "Epoch 21/1000 - Training Loss: 163824.3125, Validation MAPE: 0.3605\n",
      "Epoch 22/1000 - Training Loss: 148450.8281, Validation MAPE: 0.3510\n",
      "Epoch 23/1000 - Training Loss: 134969.6406, Validation MAPE: 0.3436\n",
      "Epoch 24/1000 - Training Loss: 123344.2656, Validation MAPE: 0.3373\n",
      "Epoch 25/1000 - Training Loss: 113537.9688, Validation MAPE: 0.3310\n",
      "Epoch 26/1000 - Training Loss: 105513.5156, Validation MAPE: 0.3259\n",
      "Epoch 27/1000 - Training Loss: 99233.2891, Validation MAPE: 0.3237\n",
      "Epoch 28/1000 - Training Loss: 94659.4375, Validation MAPE: 0.3219\n",
      "Epoch 29/1000 - Training Loss: 91753.7031, Validation MAPE: 0.3222\n",
      "EarlyStopping counter: 1 out of 20\n",
      "Epoch 30/1000 - Training Loss: 90477.5312, Validation MAPE: 0.3224\n",
      "EarlyStopping counter: 2 out of 20\n",
      "Epoch 31/1000 - Training Loss: 90792.1641, Validation MAPE: 0.3244\n",
      "EarlyStopping counter: 3 out of 20\n",
      "Epoch 32/1000 - Training Loss: 92658.5547, Validation MAPE: 0.3266\n",
      "EarlyStopping counter: 4 out of 20\n",
      "Epoch 33/1000 - Training Loss: 96037.4375, Validation MAPE: 0.3287\n",
      "EarlyStopping counter: 5 out of 20\n",
      "Epoch 34/1000 - Training Loss: 100889.3047, Validation MAPE: 0.3325\n",
      "EarlyStopping counter: 6 out of 20\n",
      "Epoch 35/1000 - Training Loss: 107174.4531, Validation MAPE: 0.3393\n",
      "EarlyStopping counter: 7 out of 20\n",
      "Epoch 36/1000 - Training Loss: 114853.1484, Validation MAPE: 0.3463\n",
      "EarlyStopping counter: 8 out of 20\n",
      "Epoch 37/1000 - Training Loss: 123885.7969, Validation MAPE: 0.3539\n",
      "EarlyStopping counter: 9 out of 20\n",
      "Epoch 38/1000 - Training Loss: 134232.1250, Validation MAPE: 0.3645\n",
      "EarlyStopping counter: 10 out of 20\n",
      "Epoch 39/1000 - Training Loss: 145851.7188, Validation MAPE: 0.3757\n",
      "EarlyStopping counter: 11 out of 20\n",
      "Epoch 40/1000 - Training Loss: 158705.2812, Validation MAPE: 0.3867\n",
      "EarlyStopping counter: 12 out of 20\n",
      "Epoch 41/1000 - Training Loss: 172752.4219, Validation MAPE: 0.3976\n",
      "EarlyStopping counter: 13 out of 20\n",
      "Epoch 42/1000 - Training Loss: 187953.5469, Validation MAPE: 0.4088\n",
      "EarlyStopping counter: 14 out of 20\n",
      "Epoch 43/1000 - Training Loss: 204268.3750, Validation MAPE: 0.4211\n",
      "EarlyStopping counter: 15 out of 20\n",
      "Epoch 44/1000 - Training Loss: 221657.5156, Validation MAPE: 0.4342\n",
      "EarlyStopping counter: 16 out of 20\n",
      "Epoch 45/1000 - Training Loss: 240080.5000, Validation MAPE: 0.4472\n",
      "EarlyStopping counter: 17 out of 20\n",
      "Epoch 46/1000 - Training Loss: 259498.7500, Validation MAPE: 0.4600\n",
      "EarlyStopping counter: 18 out of 20\n",
      "Epoch 47/1000 - Training Loss: 279872.5312, Validation MAPE: 0.4735\n",
      "EarlyStopping counter: 19 out of 20\n",
      "Epoch 48/1000 - Training Loss: 301163.5000, Validation MAPE: 0.4878\n",
      "EarlyStopping counter: 20 out of 20\n",
      "Early stopping\n"
     ]
    }
   ],
   "source": [
    "configs = Configs(seq_len=28, pred_len=1, enc_in=2, individual=False)\n",
    "\n",
    "model = Model(configs)\n",
    "criterion = nn.MSELoss()\n",
    "optimizer = optim.Adam(model.parameters())\n",
    "early_stopping = EarlyStopping(patience=20, verbose=True)\n",
    "\n",
    "num_epochs = 1000\n",
    "\n",
    "\n",
    "\n",
    "for epoch in range(num_epochs):\n",
    "    model.train()\n",
    "    for x, y in train_loader:\n",
    "        x = x.unsqueeze(2)\n",
    "        optimizer.zero_grad()\n",
    "        output = model(x)\n",
    "        output = output.squeeze(2)\n",
    "        loss = criterion(output, y)\n",
    "        loss.backward()\n",
    "        optimizer.step()\n",
    "\n",
    "    \n",
    "    model.eval()\n",
    "    with torch.no_grad():\n",
    "        for x, y in val_loader:\n",
    "            x = x.unsqueeze(2)\n",
    "            val_pred = model(x)\n",
    "            val_pred = val_pred.squeeze(2)\n",
    "            val_mape = mean_absolute_percentage_error(y_true=y, y_pred=val_pred)\n",
    "            \n",
    "\n",
    "    print(f\"Epoch {epoch+1}/{num_epochs} - Training Loss: {loss.item():.4f}, Validation MAPE: {val_mape.item():.4f}\")\n",
    "\n",
    "    early_stopping(val_mape, model)\n",
    "    if early_stopping.early_stop:\n",
    "        print(\"Early stopping\")\n",
    "        break"
   ]
  },
  {
   "cell_type": "code",
   "execution_count": 66,
   "id": "d0bfe088",
   "metadata": {},
   "outputs": [
    {
     "data": {
      "text/plain": [
       "torch.Size([16800, 28])"
      ]
     },
     "execution_count": 66,
     "metadata": {},
     "output_type": "execute_result"
    }
   ],
   "source": [
    "test_data.shape"
   ]
  },
  {
   "cell_type": "code",
   "execution_count": 67,
   "id": "7797ac2a",
   "metadata": {},
   "outputs": [
    {
     "data": {
      "text/plain": [
       "torch.Size([16800, 1])"
      ]
     },
     "execution_count": 67,
     "metadata": {},
     "output_type": "execute_result"
    }
   ],
   "source": [
    "model.eval()\n",
    "with torch.no_grad():\n",
    "    test_pred = model(test_data.unsqueeze(2))\n",
    "    test_pred = test_pred.squeeze(2)\n",
    "test_pred.shape"
   ]
  },
  {
   "cell_type": "code",
   "execution_count": 68,
   "id": "612ec241",
   "metadata": {},
   "outputs": [
    {
     "data": {
      "text/plain": [
       "(16800, 28)"
      ]
     },
     "execution_count": 68,
     "metadata": {},
     "output_type": "execute_result"
    }
   ],
   "source": [
    "test_df.shape"
   ]
  },
  {
   "cell_type": "code",
   "execution_count": 69,
   "id": "345ca160",
   "metadata": {},
   "outputs": [],
   "source": [
    "#test_pred = scaler.inverse_transform(test_pred)\n",
    "sub['answer'] = test_pred\n",
    "\n",
    "sub.to_csv(path + 'Dlinear_sub.csv')"
   ]
  },
  {
   "cell_type": "code",
   "execution_count": null,
   "id": "5ae69bc3",
   "metadata": {},
   "outputs": [],
   "source": []
  }
 ],
 "metadata": {
  "kernelspec": {
   "display_name": "Python 3 (ipykernel)",
   "language": "python",
   "name": "python3"
  },
  "language_info": {
   "codemirror_mode": {
    "name": "ipython",
    "version": 3
   },
   "file_extension": ".py",
   "mimetype": "text/x-python",
   "name": "python",
   "nbconvert_exporter": "python",
   "pygments_lexer": "ipython3",
   "version": "3.10.11"
  }
 },
 "nbformat": 4,
 "nbformat_minor": 5
}
