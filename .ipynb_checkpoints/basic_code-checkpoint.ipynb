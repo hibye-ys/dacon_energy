{
 "cells": [
  {
   "cell_type": "code",
   "execution_count": 76,
   "id": "62e99f89",
   "metadata": {},
   "outputs": [],
   "source": [
    "import os\n",
    "import platform\n",
    "import pandas as pd\n",
    "import numpy as np\n",
    "import re\n",
    "from sklearn.model_selection import train_test_split"
   ]
  },
  {
   "cell_type": "code",
   "execution_count": 2,
   "id": "db0c3bfb",
   "metadata": {},
   "outputs": [
    {
     "data": {
      "text/plain": [
       "'/Users/youngseoklee/Desktop/workplace/dacon_energy'"
      ]
     },
     "execution_count": 2,
     "metadata": {},
     "output_type": "execute_result"
    }
   ],
   "source": [
    "os.getcwd()"
   ]
  },
  {
   "cell_type": "code",
   "execution_count": 58,
   "id": "02fd750c",
   "metadata": {},
   "outputs": [
    {
     "name": "stdout",
     "output_type": "stream",
     "text": [
      "/Users/youngseoklee/Desktop/workplace/datas/dacon_energy/\n"
     ]
    }
   ],
   "source": [
    "#파일경로 설정\n",
    "if 'macOS' in platform.platform():\n",
    "    path = '/Users/youngseoklee/Desktop/workplace/datas/dacon_energy/'\n",
    "    print(path)\n",
    "elif 'Linux' in platform.platform():\n",
    "    path = '/workplace/datas/dacon_energy/'\n",
    "    print(path)\n",
    "else:\n",
    "    print('어느 os에도 속해있지 않습니다')"
   ]
  },
  {
   "cell_type": "code",
   "execution_count": null,
   "id": "618508e6",
   "metadata": {},
   "outputs": [],
   "source": [
    "df = pd.read_csv(path + 'train.csv', index_col=0)\n",
    "test_df = pd.read_csv(path + 'test.csv', index_col=0)\n",
    "b_info = pd.read_csv(path + 'building_info.csv')"
   ]
  },
  {
   "cell_type": "code",
   "execution_count": 187,
   "id": "e2764f17",
   "metadata": {},
   "outputs": [],
   "source": [
    "sub = pd.read_csv(path + 'sample_submission.csv', index_col=0)"
   ]
  },
  {
   "cell_type": "code",
   "execution_count": 161,
   "id": "a0ca4ae0",
   "metadata": {},
   "outputs": [
    {
     "name": "stdout",
     "output_type": "stream",
     "text": [
      "<class 'pandas.core.frame.DataFrame'>\n",
      "RangeIndex: 100 entries, 0 to 99\n",
      "Data columns (total 7 columns):\n",
      " #   Column        Non-Null Count  Dtype  \n",
      "---  ------        --------------  -----  \n",
      " 0   건물번호          100 non-null    int64  \n",
      " 1   건물유형          100 non-null    object \n",
      " 2   연면적(m2)       100 non-null    float64\n",
      " 3   냉방면적(m2)      100 non-null    float64\n",
      " 4   태양광용량(kW)     100 non-null    object \n",
      " 5   ESS저장용량(kWh)  100 non-null    object \n",
      " 6   PCS용량(kW)     100 non-null    object \n",
      "dtypes: float64(2), int64(1), object(4)\n",
      "memory usage: 5.6+ KB\n"
     ]
    }
   ],
   "source": [
    "b_info.info()"
   ]
  },
  {
   "cell_type": "code",
   "execution_count": 162,
   "id": "8c6991a1",
   "metadata": {},
   "outputs": [],
   "source": [
    "#float으로 변경\n",
    "b_info[['태양광용량(kW)', 'ESS저장용량(kWh)', 'PCS용량(kW)']] = b_info[['태양광용량(kW)', 'ESS저장용량(kWh)', 'PCS용량(kW)']].replace('-', '0')\n",
    "\n",
    "b_info[['태양광용량(kW)', 'ESS저장용량(kWh)', 'PCS용량(kW)']] = b_info[['태양광용량(kW)', 'ESS저장용량(kWh)', 'PCS용량(kW)']].astype(float)"
   ]
  },
  {
   "cell_type": "code",
   "execution_count": 163,
   "id": "3e3cbccd",
   "metadata": {},
   "outputs": [
    {
     "data": {
      "text/plain": [
       "건물기타       15\n",
       "공공          8\n",
       "대학교         8\n",
       "백화점및아울렛     8\n",
       "병원          8\n",
       "상용          8\n",
       "아파트         8\n",
       "연구소         8\n",
       "지식산업센터      8\n",
       "할인마트        8\n",
       "호텔및리조트      8\n",
       "데이터센터       5\n",
       "Name: 건물유형, dtype: int64"
      ]
     },
     "execution_count": 163,
     "metadata": {},
     "output_type": "execute_result"
    }
   ],
   "source": [
    "b_info['건물유형'].value_counts()"
   ]
  },
  {
   "cell_type": "code",
   "execution_count": 164,
   "id": "85e04a89",
   "metadata": {},
   "outputs": [],
   "source": [
    "b_info = pd.get_dummies(b_info, columns=['건물유형'])"
   ]
  },
  {
   "cell_type": "code",
   "execution_count": 165,
   "id": "46a72a84",
   "metadata": {},
   "outputs": [
    {
     "data": {
      "text/html": [
       "<div>\n",
       "<style scoped>\n",
       "    .dataframe tbody tr th:only-of-type {\n",
       "        vertical-align: middle;\n",
       "    }\n",
       "\n",
       "    .dataframe tbody tr th {\n",
       "        vertical-align: top;\n",
       "    }\n",
       "\n",
       "    .dataframe thead th {\n",
       "        text-align: right;\n",
       "    }\n",
       "</style>\n",
       "<table border=\"1\" class=\"dataframe\">\n",
       "  <thead>\n",
       "    <tr style=\"text-align: right;\">\n",
       "      <th></th>\n",
       "      <th>건물번호</th>\n",
       "      <th>연면적(m2)</th>\n",
       "      <th>냉방면적(m2)</th>\n",
       "      <th>태양광용량(kW)</th>\n",
       "      <th>ESS저장용량(kWh)</th>\n",
       "      <th>PCS용량(kW)</th>\n",
       "      <th>건물유형_건물기타</th>\n",
       "      <th>건물유형_공공</th>\n",
       "      <th>건물유형_대학교</th>\n",
       "      <th>건물유형_데이터센터</th>\n",
       "      <th>건물유형_백화점및아울렛</th>\n",
       "      <th>건물유형_병원</th>\n",
       "      <th>건물유형_상용</th>\n",
       "      <th>건물유형_아파트</th>\n",
       "      <th>건물유형_연구소</th>\n",
       "      <th>건물유형_지식산업센터</th>\n",
       "      <th>건물유형_할인마트</th>\n",
       "      <th>건물유형_호텔및리조트</th>\n",
       "    </tr>\n",
       "  </thead>\n",
       "  <tbody>\n",
       "    <tr>\n",
       "      <th>0</th>\n",
       "      <td>1</td>\n",
       "      <td>110634.00</td>\n",
       "      <td>39570.00</td>\n",
       "      <td>0.0</td>\n",
       "      <td>0.0</td>\n",
       "      <td>0.0</td>\n",
       "      <td>1</td>\n",
       "      <td>0</td>\n",
       "      <td>0</td>\n",
       "      <td>0</td>\n",
       "      <td>0</td>\n",
       "      <td>0</td>\n",
       "      <td>0</td>\n",
       "      <td>0</td>\n",
       "      <td>0</td>\n",
       "      <td>0</td>\n",
       "      <td>0</td>\n",
       "      <td>0</td>\n",
       "    </tr>\n",
       "    <tr>\n",
       "      <th>1</th>\n",
       "      <td>2</td>\n",
       "      <td>122233.47</td>\n",
       "      <td>99000.00</td>\n",
       "      <td>0.0</td>\n",
       "      <td>0.0</td>\n",
       "      <td>0.0</td>\n",
       "      <td>1</td>\n",
       "      <td>0</td>\n",
       "      <td>0</td>\n",
       "      <td>0</td>\n",
       "      <td>0</td>\n",
       "      <td>0</td>\n",
       "      <td>0</td>\n",
       "      <td>0</td>\n",
       "      <td>0</td>\n",
       "      <td>0</td>\n",
       "      <td>0</td>\n",
       "      <td>0</td>\n",
       "    </tr>\n",
       "    <tr>\n",
       "      <th>2</th>\n",
       "      <td>3</td>\n",
       "      <td>171243.00</td>\n",
       "      <td>113950.00</td>\n",
       "      <td>40.0</td>\n",
       "      <td>0.0</td>\n",
       "      <td>0.0</td>\n",
       "      <td>1</td>\n",
       "      <td>0</td>\n",
       "      <td>0</td>\n",
       "      <td>0</td>\n",
       "      <td>0</td>\n",
       "      <td>0</td>\n",
       "      <td>0</td>\n",
       "      <td>0</td>\n",
       "      <td>0</td>\n",
       "      <td>0</td>\n",
       "      <td>0</td>\n",
       "      <td>0</td>\n",
       "    </tr>\n",
       "    <tr>\n",
       "      <th>3</th>\n",
       "      <td>4</td>\n",
       "      <td>74312.98</td>\n",
       "      <td>34419.62</td>\n",
       "      <td>60.0</td>\n",
       "      <td>0.0</td>\n",
       "      <td>0.0</td>\n",
       "      <td>1</td>\n",
       "      <td>0</td>\n",
       "      <td>0</td>\n",
       "      <td>0</td>\n",
       "      <td>0</td>\n",
       "      <td>0</td>\n",
       "      <td>0</td>\n",
       "      <td>0</td>\n",
       "      <td>0</td>\n",
       "      <td>0</td>\n",
       "      <td>0</td>\n",
       "      <td>0</td>\n",
       "    </tr>\n",
       "    <tr>\n",
       "      <th>4</th>\n",
       "      <td>5</td>\n",
       "      <td>205884.00</td>\n",
       "      <td>150000.00</td>\n",
       "      <td>0.0</td>\n",
       "      <td>2557.0</td>\n",
       "      <td>1000.0</td>\n",
       "      <td>1</td>\n",
       "      <td>0</td>\n",
       "      <td>0</td>\n",
       "      <td>0</td>\n",
       "      <td>0</td>\n",
       "      <td>0</td>\n",
       "      <td>0</td>\n",
       "      <td>0</td>\n",
       "      <td>0</td>\n",
       "      <td>0</td>\n",
       "      <td>0</td>\n",
       "      <td>0</td>\n",
       "    </tr>\n",
       "    <tr>\n",
       "      <th>...</th>\n",
       "      <td>...</td>\n",
       "      <td>...</td>\n",
       "      <td>...</td>\n",
       "      <td>...</td>\n",
       "      <td>...</td>\n",
       "      <td>...</td>\n",
       "      <td>...</td>\n",
       "      <td>...</td>\n",
       "      <td>...</td>\n",
       "      <td>...</td>\n",
       "      <td>...</td>\n",
       "      <td>...</td>\n",
       "      <td>...</td>\n",
       "      <td>...</td>\n",
       "      <td>...</td>\n",
       "      <td>...</td>\n",
       "      <td>...</td>\n",
       "      <td>...</td>\n",
       "    </tr>\n",
       "    <tr>\n",
       "      <th>95</th>\n",
       "      <td>96</td>\n",
       "      <td>93314.00</td>\n",
       "      <td>60500.00</td>\n",
       "      <td>0.0</td>\n",
       "      <td>0.0</td>\n",
       "      <td>0.0</td>\n",
       "      <td>0</td>\n",
       "      <td>0</td>\n",
       "      <td>0</td>\n",
       "      <td>0</td>\n",
       "      <td>0</td>\n",
       "      <td>0</td>\n",
       "      <td>0</td>\n",
       "      <td>0</td>\n",
       "      <td>0</td>\n",
       "      <td>0</td>\n",
       "      <td>0</td>\n",
       "      <td>1</td>\n",
       "    </tr>\n",
       "    <tr>\n",
       "      <th>96</th>\n",
       "      <td>97</td>\n",
       "      <td>55144.67</td>\n",
       "      <td>25880.00</td>\n",
       "      <td>0.0</td>\n",
       "      <td>0.0</td>\n",
       "      <td>0.0</td>\n",
       "      <td>0</td>\n",
       "      <td>0</td>\n",
       "      <td>0</td>\n",
       "      <td>0</td>\n",
       "      <td>0</td>\n",
       "      <td>0</td>\n",
       "      <td>0</td>\n",
       "      <td>0</td>\n",
       "      <td>0</td>\n",
       "      <td>0</td>\n",
       "      <td>0</td>\n",
       "      <td>1</td>\n",
       "    </tr>\n",
       "    <tr>\n",
       "      <th>97</th>\n",
       "      <td>98</td>\n",
       "      <td>53578.62</td>\n",
       "      <td>17373.75</td>\n",
       "      <td>0.0</td>\n",
       "      <td>0.0</td>\n",
       "      <td>0.0</td>\n",
       "      <td>0</td>\n",
       "      <td>0</td>\n",
       "      <td>0</td>\n",
       "      <td>0</td>\n",
       "      <td>0</td>\n",
       "      <td>0</td>\n",
       "      <td>0</td>\n",
       "      <td>0</td>\n",
       "      <td>0</td>\n",
       "      <td>0</td>\n",
       "      <td>0</td>\n",
       "      <td>1</td>\n",
       "    </tr>\n",
       "    <tr>\n",
       "      <th>98</th>\n",
       "      <td>99</td>\n",
       "      <td>53499.00</td>\n",
       "      <td>40636.00</td>\n",
       "      <td>0.0</td>\n",
       "      <td>0.0</td>\n",
       "      <td>0.0</td>\n",
       "      <td>0</td>\n",
       "      <td>0</td>\n",
       "      <td>0</td>\n",
       "      <td>0</td>\n",
       "      <td>0</td>\n",
       "      <td>0</td>\n",
       "      <td>0</td>\n",
       "      <td>0</td>\n",
       "      <td>0</td>\n",
       "      <td>0</td>\n",
       "      <td>0</td>\n",
       "      <td>1</td>\n",
       "    </tr>\n",
       "    <tr>\n",
       "      <th>99</th>\n",
       "      <td>100</td>\n",
       "      <td>57497.84</td>\n",
       "      <td>40035.23</td>\n",
       "      <td>0.0</td>\n",
       "      <td>0.0</td>\n",
       "      <td>0.0</td>\n",
       "      <td>0</td>\n",
       "      <td>0</td>\n",
       "      <td>0</td>\n",
       "      <td>0</td>\n",
       "      <td>0</td>\n",
       "      <td>0</td>\n",
       "      <td>0</td>\n",
       "      <td>0</td>\n",
       "      <td>0</td>\n",
       "      <td>0</td>\n",
       "      <td>0</td>\n",
       "      <td>1</td>\n",
       "    </tr>\n",
       "  </tbody>\n",
       "</table>\n",
       "<p>100 rows × 18 columns</p>\n",
       "</div>"
      ],
      "text/plain": [
       "    건물번호    연면적(m2)   냉방면적(m2)  태양광용량(kW)  ESS저장용량(kWh)  PCS용량(kW)  건물유형_건물기타  \\\n",
       "0      1  110634.00   39570.00        0.0           0.0        0.0          1   \n",
       "1      2  122233.47   99000.00        0.0           0.0        0.0          1   \n",
       "2      3  171243.00  113950.00       40.0           0.0        0.0          1   \n",
       "3      4   74312.98   34419.62       60.0           0.0        0.0          1   \n",
       "4      5  205884.00  150000.00        0.0        2557.0     1000.0          1   \n",
       "..   ...        ...        ...        ...           ...        ...        ...   \n",
       "95    96   93314.00   60500.00        0.0           0.0        0.0          0   \n",
       "96    97   55144.67   25880.00        0.0           0.0        0.0          0   \n",
       "97    98   53578.62   17373.75        0.0           0.0        0.0          0   \n",
       "98    99   53499.00   40636.00        0.0           0.0        0.0          0   \n",
       "99   100   57497.84   40035.23        0.0           0.0        0.0          0   \n",
       "\n",
       "    건물유형_공공  건물유형_대학교  건물유형_데이터센터  건물유형_백화점및아울렛  건물유형_병원  건물유형_상용  건물유형_아파트  \\\n",
       "0         0         0           0             0        0        0         0   \n",
       "1         0         0           0             0        0        0         0   \n",
       "2         0         0           0             0        0        0         0   \n",
       "3         0         0           0             0        0        0         0   \n",
       "4         0         0           0             0        0        0         0   \n",
       "..      ...       ...         ...           ...      ...      ...       ...   \n",
       "95        0         0           0             0        0        0         0   \n",
       "96        0         0           0             0        0        0         0   \n",
       "97        0         0           0             0        0        0         0   \n",
       "98        0         0           0             0        0        0         0   \n",
       "99        0         0           0             0        0        0         0   \n",
       "\n",
       "    건물유형_연구소  건물유형_지식산업센터  건물유형_할인마트  건물유형_호텔및리조트  \n",
       "0          0            0          0            0  \n",
       "1          0            0          0            0  \n",
       "2          0            0          0            0  \n",
       "3          0            0          0            0  \n",
       "4          0            0          0            0  \n",
       "..       ...          ...        ...          ...  \n",
       "95         0            0          0            1  \n",
       "96         0            0          0            1  \n",
       "97         0            0          0            1  \n",
       "98         0            0          0            1  \n",
       "99         0            0          0            1  \n",
       "\n",
       "[100 rows x 18 columns]"
      ]
     },
     "execution_count": 165,
     "metadata": {},
     "output_type": "execute_result"
    }
   ],
   "source": [
    "b_info"
   ]
  },
  {
   "cell_type": "code",
   "execution_count": 166,
   "id": "05f93bf1",
   "metadata": {},
   "outputs": [
    {
     "name": "stdout",
     "output_type": "stream",
     "text": [
      "<class 'pandas.core.frame.DataFrame'>\n",
      "Index: 204000 entries, 1_20220601 00 to 100_20220824 23\n",
      "Data columns (total 9 columns):\n",
      " #   Column      Non-Null Count   Dtype  \n",
      "---  ------      --------------   -----  \n",
      " 0   건물번호        204000 non-null  int64  \n",
      " 1   일시          204000 non-null  object \n",
      " 2   기온(C)       204000 non-null  float64\n",
      " 3   강수량(mm)     43931 non-null   float64\n",
      " 4   풍속(m/s)     203981 non-null  float64\n",
      " 5   습도(%)       203991 non-null  float64\n",
      " 6   일조(hr)      128818 non-null  float64\n",
      " 7   일사(MJ/m2)   116087 non-null  float64\n",
      " 8   전력소비량(kWh)  204000 non-null  float64\n",
      "dtypes: float64(7), int64(1), object(1)\n",
      "memory usage: 15.6+ MB\n"
     ]
    }
   ],
   "source": [
    "df.info()"
   ]
  },
  {
   "cell_type": "code",
   "execution_count": 167,
   "id": "d88c01a8",
   "metadata": {},
   "outputs": [
    {
     "data": {
      "text/plain": [
       "건물번호               0\n",
       "일시                 0\n",
       "기온(C)              0\n",
       "강수량(mm)       160069\n",
       "풍속(m/s)           19\n",
       "습도(%)              9\n",
       "일조(hr)         75182\n",
       "일사(MJ/m2)      87913\n",
       "전력소비량(kWh)         0\n",
       "dtype: int64"
      ]
     },
     "execution_count": 167,
     "metadata": {},
     "output_type": "execute_result"
    }
   ],
   "source": [
    "df.isnull().sum()"
   ]
  },
  {
   "cell_type": "code",
   "execution_count": 170,
   "id": "e68907db",
   "metadata": {},
   "outputs": [],
   "source": [
    "# Convert '일시' to datetime format\n",
    "df['일시'] = pd.to_datetime(df['일시'], format='%Y%m%d %H')\n",
    "\n",
    "# Extract year, month, day, and hour\n",
    "df['Year'] = df['일시'].dt.year\n",
    "df['Month'] = df['일시'].dt.month\n",
    "df['Day'] = df['일시'].dt.day\n",
    "df['Hour'] = df['일시'].dt.hour\n",
    "\n",
    "\n",
    "df.drop(['일시', '일조(hr)','일사(MJ/m2)'], axis=1, inplace=True)\n"
   ]
  },
  {
   "cell_type": "code",
   "execution_count": null,
   "id": "add3dc5e",
   "metadata": {},
   "outputs": [],
   "source": []
  },
  {
   "cell_type": "code",
   "execution_count": 171,
   "id": "88efc925",
   "metadata": {},
   "outputs": [],
   "source": [
    "train_df = pd.merge(df, b_info, on='건물번호', how='left')"
   ]
  },
  {
   "cell_type": "code",
   "execution_count": 172,
   "id": "6c63517f",
   "metadata": {},
   "outputs": [
    {
     "data": {
      "text/html": [
       "<div>\n",
       "<style scoped>\n",
       "    .dataframe tbody tr th:only-of-type {\n",
       "        vertical-align: middle;\n",
       "    }\n",
       "\n",
       "    .dataframe tbody tr th {\n",
       "        vertical-align: top;\n",
       "    }\n",
       "\n",
       "    .dataframe thead th {\n",
       "        text-align: right;\n",
       "    }\n",
       "</style>\n",
       "<table border=\"1\" class=\"dataframe\">\n",
       "  <thead>\n",
       "    <tr style=\"text-align: right;\">\n",
       "      <th></th>\n",
       "      <th>건물번호</th>\n",
       "      <th>기온(C)</th>\n",
       "      <th>강수량(mm)</th>\n",
       "      <th>풍속(m/s)</th>\n",
       "      <th>습도(%)</th>\n",
       "      <th>전력소비량(kWh)</th>\n",
       "      <th>Year</th>\n",
       "      <th>Month</th>\n",
       "      <th>Day</th>\n",
       "      <th>Hour</th>\n",
       "      <th>...</th>\n",
       "      <th>건물유형_대학교</th>\n",
       "      <th>건물유형_데이터센터</th>\n",
       "      <th>건물유형_백화점및아울렛</th>\n",
       "      <th>건물유형_병원</th>\n",
       "      <th>건물유형_상용</th>\n",
       "      <th>건물유형_아파트</th>\n",
       "      <th>건물유형_연구소</th>\n",
       "      <th>건물유형_지식산업센터</th>\n",
       "      <th>건물유형_할인마트</th>\n",
       "      <th>건물유형_호텔및리조트</th>\n",
       "    </tr>\n",
       "  </thead>\n",
       "  <tbody>\n",
       "    <tr>\n",
       "      <th>0</th>\n",
       "      <td>1</td>\n",
       "      <td>18.6</td>\n",
       "      <td>NaN</td>\n",
       "      <td>0.9</td>\n",
       "      <td>42.0</td>\n",
       "      <td>1085.28</td>\n",
       "      <td>2022</td>\n",
       "      <td>6</td>\n",
       "      <td>1</td>\n",
       "      <td>0</td>\n",
       "      <td>...</td>\n",
       "      <td>0</td>\n",
       "      <td>0</td>\n",
       "      <td>0</td>\n",
       "      <td>0</td>\n",
       "      <td>0</td>\n",
       "      <td>0</td>\n",
       "      <td>0</td>\n",
       "      <td>0</td>\n",
       "      <td>0</td>\n",
       "      <td>0</td>\n",
       "    </tr>\n",
       "    <tr>\n",
       "      <th>1</th>\n",
       "      <td>1</td>\n",
       "      <td>18.0</td>\n",
       "      <td>NaN</td>\n",
       "      <td>1.1</td>\n",
       "      <td>45.0</td>\n",
       "      <td>1047.36</td>\n",
       "      <td>2022</td>\n",
       "      <td>6</td>\n",
       "      <td>1</td>\n",
       "      <td>1</td>\n",
       "      <td>...</td>\n",
       "      <td>0</td>\n",
       "      <td>0</td>\n",
       "      <td>0</td>\n",
       "      <td>0</td>\n",
       "      <td>0</td>\n",
       "      <td>0</td>\n",
       "      <td>0</td>\n",
       "      <td>0</td>\n",
       "      <td>0</td>\n",
       "      <td>0</td>\n",
       "    </tr>\n",
       "    <tr>\n",
       "      <th>2</th>\n",
       "      <td>1</td>\n",
       "      <td>17.7</td>\n",
       "      <td>NaN</td>\n",
       "      <td>1.5</td>\n",
       "      <td>45.0</td>\n",
       "      <td>974.88</td>\n",
       "      <td>2022</td>\n",
       "      <td>6</td>\n",
       "      <td>1</td>\n",
       "      <td>2</td>\n",
       "      <td>...</td>\n",
       "      <td>0</td>\n",
       "      <td>0</td>\n",
       "      <td>0</td>\n",
       "      <td>0</td>\n",
       "      <td>0</td>\n",
       "      <td>0</td>\n",
       "      <td>0</td>\n",
       "      <td>0</td>\n",
       "      <td>0</td>\n",
       "      <td>0</td>\n",
       "    </tr>\n",
       "    <tr>\n",
       "      <th>3</th>\n",
       "      <td>1</td>\n",
       "      <td>16.7</td>\n",
       "      <td>NaN</td>\n",
       "      <td>1.4</td>\n",
       "      <td>48.0</td>\n",
       "      <td>953.76</td>\n",
       "      <td>2022</td>\n",
       "      <td>6</td>\n",
       "      <td>1</td>\n",
       "      <td>3</td>\n",
       "      <td>...</td>\n",
       "      <td>0</td>\n",
       "      <td>0</td>\n",
       "      <td>0</td>\n",
       "      <td>0</td>\n",
       "      <td>0</td>\n",
       "      <td>0</td>\n",
       "      <td>0</td>\n",
       "      <td>0</td>\n",
       "      <td>0</td>\n",
       "      <td>0</td>\n",
       "    </tr>\n",
       "    <tr>\n",
       "      <th>4</th>\n",
       "      <td>1</td>\n",
       "      <td>18.4</td>\n",
       "      <td>NaN</td>\n",
       "      <td>2.8</td>\n",
       "      <td>43.0</td>\n",
       "      <td>986.40</td>\n",
       "      <td>2022</td>\n",
       "      <td>6</td>\n",
       "      <td>1</td>\n",
       "      <td>4</td>\n",
       "      <td>...</td>\n",
       "      <td>0</td>\n",
       "      <td>0</td>\n",
       "      <td>0</td>\n",
       "      <td>0</td>\n",
       "      <td>0</td>\n",
       "      <td>0</td>\n",
       "      <td>0</td>\n",
       "      <td>0</td>\n",
       "      <td>0</td>\n",
       "      <td>0</td>\n",
       "    </tr>\n",
       "    <tr>\n",
       "      <th>...</th>\n",
       "      <td>...</td>\n",
       "      <td>...</td>\n",
       "      <td>...</td>\n",
       "      <td>...</td>\n",
       "      <td>...</td>\n",
       "      <td>...</td>\n",
       "      <td>...</td>\n",
       "      <td>...</td>\n",
       "      <td>...</td>\n",
       "      <td>...</td>\n",
       "      <td>...</td>\n",
       "      <td>...</td>\n",
       "      <td>...</td>\n",
       "      <td>...</td>\n",
       "      <td>...</td>\n",
       "      <td>...</td>\n",
       "      <td>...</td>\n",
       "      <td>...</td>\n",
       "      <td>...</td>\n",
       "      <td>...</td>\n",
       "      <td>...</td>\n",
       "    </tr>\n",
       "    <tr>\n",
       "      <th>203995</th>\n",
       "      <td>100</td>\n",
       "      <td>23.1</td>\n",
       "      <td>NaN</td>\n",
       "      <td>0.9</td>\n",
       "      <td>86.0</td>\n",
       "      <td>881.04</td>\n",
       "      <td>2022</td>\n",
       "      <td>8</td>\n",
       "      <td>24</td>\n",
       "      <td>19</td>\n",
       "      <td>...</td>\n",
       "      <td>0</td>\n",
       "      <td>0</td>\n",
       "      <td>0</td>\n",
       "      <td>0</td>\n",
       "      <td>0</td>\n",
       "      <td>0</td>\n",
       "      <td>0</td>\n",
       "      <td>0</td>\n",
       "      <td>0</td>\n",
       "      <td>1</td>\n",
       "    </tr>\n",
       "    <tr>\n",
       "      <th>203996</th>\n",
       "      <td>100</td>\n",
       "      <td>22.4</td>\n",
       "      <td>NaN</td>\n",
       "      <td>1.3</td>\n",
       "      <td>86.0</td>\n",
       "      <td>798.96</td>\n",
       "      <td>2022</td>\n",
       "      <td>8</td>\n",
       "      <td>24</td>\n",
       "      <td>20</td>\n",
       "      <td>...</td>\n",
       "      <td>0</td>\n",
       "      <td>0</td>\n",
       "      <td>0</td>\n",
       "      <td>0</td>\n",
       "      <td>0</td>\n",
       "      <td>0</td>\n",
       "      <td>0</td>\n",
       "      <td>0</td>\n",
       "      <td>0</td>\n",
       "      <td>1</td>\n",
       "    </tr>\n",
       "    <tr>\n",
       "      <th>203997</th>\n",
       "      <td>100</td>\n",
       "      <td>21.3</td>\n",
       "      <td>NaN</td>\n",
       "      <td>1.0</td>\n",
       "      <td>92.0</td>\n",
       "      <td>825.12</td>\n",
       "      <td>2022</td>\n",
       "      <td>8</td>\n",
       "      <td>24</td>\n",
       "      <td>21</td>\n",
       "      <td>...</td>\n",
       "      <td>0</td>\n",
       "      <td>0</td>\n",
       "      <td>0</td>\n",
       "      <td>0</td>\n",
       "      <td>0</td>\n",
       "      <td>0</td>\n",
       "      <td>0</td>\n",
       "      <td>0</td>\n",
       "      <td>0</td>\n",
       "      <td>1</td>\n",
       "    </tr>\n",
       "    <tr>\n",
       "      <th>203998</th>\n",
       "      <td>100</td>\n",
       "      <td>21.0</td>\n",
       "      <td>NaN</td>\n",
       "      <td>0.3</td>\n",
       "      <td>94.0</td>\n",
       "      <td>640.08</td>\n",
       "      <td>2022</td>\n",
       "      <td>8</td>\n",
       "      <td>24</td>\n",
       "      <td>22</td>\n",
       "      <td>...</td>\n",
       "      <td>0</td>\n",
       "      <td>0</td>\n",
       "      <td>0</td>\n",
       "      <td>0</td>\n",
       "      <td>0</td>\n",
       "      <td>0</td>\n",
       "      <td>0</td>\n",
       "      <td>0</td>\n",
       "      <td>0</td>\n",
       "      <td>1</td>\n",
       "    </tr>\n",
       "    <tr>\n",
       "      <th>203999</th>\n",
       "      <td>100</td>\n",
       "      <td>20.7</td>\n",
       "      <td>NaN</td>\n",
       "      <td>0.1</td>\n",
       "      <td>95.0</td>\n",
       "      <td>540.24</td>\n",
       "      <td>2022</td>\n",
       "      <td>8</td>\n",
       "      <td>24</td>\n",
       "      <td>23</td>\n",
       "      <td>...</td>\n",
       "      <td>0</td>\n",
       "      <td>0</td>\n",
       "      <td>0</td>\n",
       "      <td>0</td>\n",
       "      <td>0</td>\n",
       "      <td>0</td>\n",
       "      <td>0</td>\n",
       "      <td>0</td>\n",
       "      <td>0</td>\n",
       "      <td>1</td>\n",
       "    </tr>\n",
       "  </tbody>\n",
       "</table>\n",
       "<p>204000 rows × 27 columns</p>\n",
       "</div>"
      ],
      "text/plain": [
       "        건물번호  기온(C)  강수량(mm)  풍속(m/s)  습도(%)  전력소비량(kWh)  Year  Month  Day  \\\n",
       "0          1   18.6      NaN      0.9   42.0     1085.28  2022      6    1   \n",
       "1          1   18.0      NaN      1.1   45.0     1047.36  2022      6    1   \n",
       "2          1   17.7      NaN      1.5   45.0      974.88  2022      6    1   \n",
       "3          1   16.7      NaN      1.4   48.0      953.76  2022      6    1   \n",
       "4          1   18.4      NaN      2.8   43.0      986.40  2022      6    1   \n",
       "...      ...    ...      ...      ...    ...         ...   ...    ...  ...   \n",
       "203995   100   23.1      NaN      0.9   86.0      881.04  2022      8   24   \n",
       "203996   100   22.4      NaN      1.3   86.0      798.96  2022      8   24   \n",
       "203997   100   21.3      NaN      1.0   92.0      825.12  2022      8   24   \n",
       "203998   100   21.0      NaN      0.3   94.0      640.08  2022      8   24   \n",
       "203999   100   20.7      NaN      0.1   95.0      540.24  2022      8   24   \n",
       "\n",
       "        Hour  ...  건물유형_대학교  건물유형_데이터센터  건물유형_백화점및아울렛  건물유형_병원  건물유형_상용  \\\n",
       "0          0  ...         0           0             0        0        0   \n",
       "1          1  ...         0           0             0        0        0   \n",
       "2          2  ...         0           0             0        0        0   \n",
       "3          3  ...         0           0             0        0        0   \n",
       "4          4  ...         0           0             0        0        0   \n",
       "...      ...  ...       ...         ...           ...      ...      ...   \n",
       "203995    19  ...         0           0             0        0        0   \n",
       "203996    20  ...         0           0             0        0        0   \n",
       "203997    21  ...         0           0             0        0        0   \n",
       "203998    22  ...         0           0             0        0        0   \n",
       "203999    23  ...         0           0             0        0        0   \n",
       "\n",
       "        건물유형_아파트  건물유형_연구소  건물유형_지식산업센터  건물유형_할인마트  건물유형_호텔및리조트  \n",
       "0              0         0            0          0            0  \n",
       "1              0         0            0          0            0  \n",
       "2              0         0            0          0            0  \n",
       "3              0         0            0          0            0  \n",
       "4              0         0            0          0            0  \n",
       "...          ...       ...          ...        ...          ...  \n",
       "203995         0         0            0          0            1  \n",
       "203996         0         0            0          0            1  \n",
       "203997         0         0            0          0            1  \n",
       "203998         0         0            0          0            1  \n",
       "203999         0         0            0          0            1  \n",
       "\n",
       "[204000 rows x 27 columns]"
      ]
     },
     "execution_count": 172,
     "metadata": {},
     "output_type": "execute_result"
    }
   ],
   "source": [
    "train_df"
   ]
  },
  {
   "cell_type": "code",
   "execution_count": 173,
   "id": "45c5e28b",
   "metadata": {},
   "outputs": [],
   "source": [
    "# Convert '일시' to datetime format\n",
    "test_df['일시'] = pd.to_datetime(test_df['일시'], format='%Y%m%d %H')\n",
    "\n",
    "# Extract year, month, day, and hour\n",
    "test_df['Year'] = test_df['일시'].dt.year\n",
    "test_df['Month'] = test_df['일시'].dt.month\n",
    "test_df['Day'] = test_df['일시'].dt.day\n",
    "test_df['Hour'] = test_df['일시'].dt.hour\n",
    "\n",
    "# Drop the original '일시' column and 'num_date_time'\n",
    "test_df.drop(['일시'], axis=1, inplace=True)\n"
   ]
  },
  {
   "cell_type": "code",
   "execution_count": 174,
   "id": "7e00bd1c",
   "metadata": {},
   "outputs": [],
   "source": [
    "test_df = pd.merge(test_df, b_info, on='건물번호', how='left')"
   ]
  },
  {
   "cell_type": "code",
   "execution_count": 175,
   "id": "bcc2c695",
   "metadata": {},
   "outputs": [],
   "source": [
    "X = train_df.drop('전력소비량(kWh)', axis=1)\n",
    "y = train_df['전력소비량(kWh)']\n",
    "\n",
    "X_train, X_valid, y_train, y_valid = train_test_split(X,y, test_size=0.2, shuffle=False)"
   ]
  },
  {
   "cell_type": "code",
   "execution_count": 176,
   "id": "f6b6d864",
   "metadata": {},
   "outputs": [],
   "source": [
    "import optuna\n",
    "import lightgbm as lgb\n",
    "from sklearn.model_selection import train_test_split\n",
    "from torchmetrics.regression import MeanAbsolutePercentageError\n",
    "from sklearn.metrics import mean_absolute_percentage_error"
   ]
  },
  {
   "cell_type": "code",
   "execution_count": 177,
   "id": "ce96d172",
   "metadata": {},
   "outputs": [
    {
     "name": "stderr",
     "output_type": "stream",
     "text": [
      "\u001b[32m[I 2023-08-01 00:03:24,688]\u001b[0m A new study created in memory with name: no-name-3e8eba97-5164-4772-b400-3219ec2198f2\u001b[0m\n",
      "/var/folders/qb/s5vw4nk95r53s007_f3ty08m0000gn/T/ipykernel_15260/2951571227.py:8: FutureWarning: suggest_loguniform has been deprecated in v3.0.0. This feature will be removed in v6.0.0. See https://github.com/optuna/optuna/releases/tag/v3.0.0. Use :func:`~optuna.trial.Trial.suggest_float` instead.\n",
      "  'lambda_l1': trial.suggest_loguniform('lambda_l1', 1e-8, 10.0),\n",
      "/var/folders/qb/s5vw4nk95r53s007_f3ty08m0000gn/T/ipykernel_15260/2951571227.py:9: FutureWarning: suggest_loguniform has been deprecated in v3.0.0. This feature will be removed in v6.0.0. See https://github.com/optuna/optuna/releases/tag/v3.0.0. Use :func:`~optuna.trial.Trial.suggest_float` instead.\n",
      "  'lambda_l2': trial.suggest_loguniform('lambda_l2', 1e-8, 10.0),\n",
      "/var/folders/qb/s5vw4nk95r53s007_f3ty08m0000gn/T/ipykernel_15260/2951571227.py:11: FutureWarning: suggest_uniform has been deprecated in v3.0.0. This feature will be removed in v6.0.0. See https://github.com/optuna/optuna/releases/tag/v3.0.0. Use :func:`~optuna.trial.Trial.suggest_float` instead.\n",
      "  'feature_fraction': trial.suggest_uniform('feature_fraction', 0.4, 1.0),\n",
      "/var/folders/qb/s5vw4nk95r53s007_f3ty08m0000gn/T/ipykernel_15260/2951571227.py:12: FutureWarning: suggest_uniform has been deprecated in v3.0.0. This feature will be removed in v6.0.0. See https://github.com/optuna/optuna/releases/tag/v3.0.0. Use :func:`~optuna.trial.Trial.suggest_float` instead.\n",
      "  'bagging_fraction': trial.suggest_uniform('bagging_fraction', 0.4, 1.0),\n",
      "/Users/youngseoklee/opt/anaconda3/envs/ai/lib/python3.10/site-packages/lightgbm/sklearn.py:726: UserWarning: 'early_stopping_rounds' argument is deprecated and will be removed in a future release of LightGBM. Pass 'early_stopping()' callback via 'callbacks' argument instead.\n",
      "  _log_warning(\"'early_stopping_rounds' argument is deprecated and will be removed in a future release of LightGBM. \"\n",
      "/Users/youngseoklee/opt/anaconda3/envs/ai/lib/python3.10/site-packages/lightgbm/sklearn.py:736: UserWarning: 'verbose' argument is deprecated and will be removed in a future release of LightGBM. Pass 'log_evaluation()' callback via 'callbacks' argument instead.\n",
      "  _log_warning(\"'verbose' argument is deprecated and will be removed in a future release of LightGBM. \"\n"
     ]
    },
    {
     "name": "stdout",
     "output_type": "stream",
     "text": [
      "[LightGBM] [Warning] feature_fraction is set=0.5813993159382741, colsample_bytree=1.0 will be ignored. Current value: feature_fraction=0.5813993159382741\n",
      "[LightGBM] [Warning] lambda_l1 is set=0.07512994039259038, reg_alpha=0.0 will be ignored. Current value: lambda_l1=0.07512994039259038\n",
      "[LightGBM] [Warning] bagging_fraction is set=0.946850094294572, subsample=1.0 will be ignored. Current value: bagging_fraction=0.946850094294572\n",
      "[LightGBM] [Warning] lambda_l2 is set=3.410113002496365e-08, reg_lambda=0.0 will be ignored. Current value: lambda_l2=3.410113002496365e-08\n",
      "[LightGBM] [Warning] bagging_freq is set=3, subsample_freq=0 will be ignored. Current value: bagging_freq=3\n"
     ]
    },
    {
     "name": "stderr",
     "output_type": "stream",
     "text": [
      "\u001b[32m[I 2023-08-01 00:03:28,470]\u001b[0m Trial 0 finished with value: 310302780877287.1 and parameters: {'lambda_l1': 0.07512994039259038, 'lambda_l2': 3.410113002496365e-08, 'num_leaves': 243, 'feature_fraction': 0.5813993159382741, 'bagging_fraction': 0.946850094294572, 'bagging_freq': 3, 'min_child_samples': 45}. Best is trial 0 with value: 310302780877287.1.\u001b[0m\n"
     ]
    },
    {
     "name": "stdout",
     "output_type": "stream",
     "text": [
      "310302780877287.1\n",
      "[LightGBM] [Warning] feature_fraction is set=0.557953233307301, colsample_bytree=1.0 will be ignored. Current value: feature_fraction=0.557953233307301\n",
      "[LightGBM] [Warning] lambda_l1 is set=7.804230457362021e-05, reg_alpha=0.0 will be ignored. Current value: lambda_l1=7.804230457362021e-05\n",
      "[LightGBM] [Warning] bagging_fraction is set=0.47610579919622464, subsample=1.0 will be ignored. Current value: bagging_fraction=0.47610579919622464\n",
      "[LightGBM] [Warning] lambda_l2 is set=1.275563253022607e-08, reg_lambda=0.0 will be ignored. Current value: lambda_l2=1.275563253022607e-08\n",
      "[LightGBM] [Warning] bagging_freq is set=6, subsample_freq=0 will be ignored. Current value: bagging_freq=6\n"
     ]
    },
    {
     "name": "stderr",
     "output_type": "stream",
     "text": [
      "/var/folders/qb/s5vw4nk95r53s007_f3ty08m0000gn/T/ipykernel_15260/2951571227.py:8: FutureWarning: suggest_loguniform has been deprecated in v3.0.0. This feature will be removed in v6.0.0. See https://github.com/optuna/optuna/releases/tag/v3.0.0. Use :func:`~optuna.trial.Trial.suggest_float` instead.\n",
      "  'lambda_l1': trial.suggest_loguniform('lambda_l1', 1e-8, 10.0),\n",
      "/var/folders/qb/s5vw4nk95r53s007_f3ty08m0000gn/T/ipykernel_15260/2951571227.py:9: FutureWarning: suggest_loguniform has been deprecated in v3.0.0. This feature will be removed in v6.0.0. See https://github.com/optuna/optuna/releases/tag/v3.0.0. Use :func:`~optuna.trial.Trial.suggest_float` instead.\n",
      "  'lambda_l2': trial.suggest_loguniform('lambda_l2', 1e-8, 10.0),\n",
      "/var/folders/qb/s5vw4nk95r53s007_f3ty08m0000gn/T/ipykernel_15260/2951571227.py:11: FutureWarning: suggest_uniform has been deprecated in v3.0.0. This feature will be removed in v6.0.0. See https://github.com/optuna/optuna/releases/tag/v3.0.0. Use :func:`~optuna.trial.Trial.suggest_float` instead.\n",
      "  'feature_fraction': trial.suggest_uniform('feature_fraction', 0.4, 1.0),\n",
      "/var/folders/qb/s5vw4nk95r53s007_f3ty08m0000gn/T/ipykernel_15260/2951571227.py:12: FutureWarning: suggest_uniform has been deprecated in v3.0.0. This feature will be removed in v6.0.0. See https://github.com/optuna/optuna/releases/tag/v3.0.0. Use :func:`~optuna.trial.Trial.suggest_float` instead.\n",
      "  'bagging_fraction': trial.suggest_uniform('bagging_fraction', 0.4, 1.0),\n",
      "/Users/youngseoklee/opt/anaconda3/envs/ai/lib/python3.10/site-packages/lightgbm/sklearn.py:726: UserWarning: 'early_stopping_rounds' argument is deprecated and will be removed in a future release of LightGBM. Pass 'early_stopping()' callback via 'callbacks' argument instead.\n",
      "  _log_warning(\"'early_stopping_rounds' argument is deprecated and will be removed in a future release of LightGBM. \"\n",
      "/Users/youngseoklee/opt/anaconda3/envs/ai/lib/python3.10/site-packages/lightgbm/sklearn.py:736: UserWarning: 'verbose' argument is deprecated and will be removed in a future release of LightGBM. Pass 'log_evaluation()' callback via 'callbacks' argument instead.\n",
      "  _log_warning(\"'verbose' argument is deprecated and will be removed in a future release of LightGBM. \"\n",
      "\u001b[32m[I 2023-08-01 00:03:28,752]\u001b[0m Trial 1 finished with value: 280414055820548.16 and parameters: {'lambda_l1': 7.804230457362021e-05, 'lambda_l2': 1.275563253022607e-08, 'num_leaves': 4, 'feature_fraction': 0.557953233307301, 'bagging_fraction': 0.47610579919622464, 'bagging_freq': 6, 'min_child_samples': 77}. Best is trial 1 with value: 280414055820548.16.\u001b[0m\n"
     ]
    },
    {
     "name": "stdout",
     "output_type": "stream",
     "text": [
      "280414055820548.16\n",
      "[LightGBM] [Warning] feature_fraction is set=0.5263464399458468, colsample_bytree=1.0 will be ignored. Current value: feature_fraction=0.5263464399458468\n",
      "[LightGBM] [Warning] lambda_l1 is set=1.5360897012287415e-05, reg_alpha=0.0 will be ignored. Current value: lambda_l1=1.5360897012287415e-05\n",
      "[LightGBM] [Warning] bagging_fraction is set=0.5569696608612953, subsample=1.0 will be ignored. Current value: bagging_fraction=0.5569696608612953\n",
      "[LightGBM] [Warning] lambda_l2 is set=8.038783766305714e-08, reg_lambda=0.0 will be ignored. Current value: lambda_l2=8.038783766305714e-08\n",
      "[LightGBM] [Warning] bagging_freq is set=5, subsample_freq=0 will be ignored. Current value: bagging_freq=5\n"
     ]
    },
    {
     "name": "stderr",
     "output_type": "stream",
     "text": [
      "/var/folders/qb/s5vw4nk95r53s007_f3ty08m0000gn/T/ipykernel_15260/2951571227.py:8: FutureWarning: suggest_loguniform has been deprecated in v3.0.0. This feature will be removed in v6.0.0. See https://github.com/optuna/optuna/releases/tag/v3.0.0. Use :func:`~optuna.trial.Trial.suggest_float` instead.\n",
      "  'lambda_l1': trial.suggest_loguniform('lambda_l1', 1e-8, 10.0),\n",
      "/var/folders/qb/s5vw4nk95r53s007_f3ty08m0000gn/T/ipykernel_15260/2951571227.py:9: FutureWarning: suggest_loguniform has been deprecated in v3.0.0. This feature will be removed in v6.0.0. See https://github.com/optuna/optuna/releases/tag/v3.0.0. Use :func:`~optuna.trial.Trial.suggest_float` instead.\n",
      "  'lambda_l2': trial.suggest_loguniform('lambda_l2', 1e-8, 10.0),\n",
      "/var/folders/qb/s5vw4nk95r53s007_f3ty08m0000gn/T/ipykernel_15260/2951571227.py:11: FutureWarning: suggest_uniform has been deprecated in v3.0.0. This feature will be removed in v6.0.0. See https://github.com/optuna/optuna/releases/tag/v3.0.0. Use :func:`~optuna.trial.Trial.suggest_float` instead.\n",
      "  'feature_fraction': trial.suggest_uniform('feature_fraction', 0.4, 1.0),\n",
      "/var/folders/qb/s5vw4nk95r53s007_f3ty08m0000gn/T/ipykernel_15260/2951571227.py:12: FutureWarning: suggest_uniform has been deprecated in v3.0.0. This feature will be removed in v6.0.0. See https://github.com/optuna/optuna/releases/tag/v3.0.0. Use :func:`~optuna.trial.Trial.suggest_float` instead.\n",
      "  'bagging_fraction': trial.suggest_uniform('bagging_fraction', 0.4, 1.0),\n",
      "/Users/youngseoklee/opt/anaconda3/envs/ai/lib/python3.10/site-packages/lightgbm/sklearn.py:726: UserWarning: 'early_stopping_rounds' argument is deprecated and will be removed in a future release of LightGBM. Pass 'early_stopping()' callback via 'callbacks' argument instead.\n",
      "  _log_warning(\"'early_stopping_rounds' argument is deprecated and will be removed in a future release of LightGBM. \"\n",
      "/Users/youngseoklee/opt/anaconda3/envs/ai/lib/python3.10/site-packages/lightgbm/sklearn.py:736: UserWarning: 'verbose' argument is deprecated and will be removed in a future release of LightGBM. Pass 'log_evaluation()' callback via 'callbacks' argument instead.\n",
      "  _log_warning(\"'verbose' argument is deprecated and will be removed in a future release of LightGBM. \"\n",
      "\u001b[32m[I 2023-08-01 00:03:30,705]\u001b[0m Trial 2 finished with value: 339827335550837.06 and parameters: {'lambda_l1': 1.5360897012287415e-05, 'lambda_l2': 8.038783766305714e-08, 'num_leaves': 108, 'feature_fraction': 0.5263464399458468, 'bagging_fraction': 0.5569696608612953, 'bagging_freq': 5, 'min_child_samples': 42}. Best is trial 1 with value: 280414055820548.16.\u001b[0m\n"
     ]
    },
    {
     "name": "stdout",
     "output_type": "stream",
     "text": [
      "339827335550837.06\n",
      "[LightGBM] [Warning] feature_fraction is set=0.531681167956434, colsample_bytree=1.0 will be ignored. Current value: feature_fraction=0.531681167956434\n",
      "[LightGBM] [Warning] lambda_l1 is set=2.9642303351296784, reg_alpha=0.0 will be ignored. Current value: lambda_l1=2.9642303351296784\n",
      "[LightGBM] [Warning] bagging_fraction is set=0.6807153074639793, subsample=1.0 will be ignored. Current value: bagging_fraction=0.6807153074639793\n",
      "[LightGBM] [Warning] lambda_l2 is set=0.6722617826412146, reg_lambda=0.0 will be ignored. Current value: lambda_l2=0.6722617826412146\n",
      "[LightGBM] [Warning] bagging_freq is set=6, subsample_freq=0 will be ignored. Current value: bagging_freq=6\n"
     ]
    },
    {
     "name": "stderr",
     "output_type": "stream",
     "text": [
      "/var/folders/qb/s5vw4nk95r53s007_f3ty08m0000gn/T/ipykernel_15260/2951571227.py:8: FutureWarning: suggest_loguniform has been deprecated in v3.0.0. This feature will be removed in v6.0.0. See https://github.com/optuna/optuna/releases/tag/v3.0.0. Use :func:`~optuna.trial.Trial.suggest_float` instead.\n",
      "  'lambda_l1': trial.suggest_loguniform('lambda_l1', 1e-8, 10.0),\n",
      "/var/folders/qb/s5vw4nk95r53s007_f3ty08m0000gn/T/ipykernel_15260/2951571227.py:9: FutureWarning: suggest_loguniform has been deprecated in v3.0.0. This feature will be removed in v6.0.0. See https://github.com/optuna/optuna/releases/tag/v3.0.0. Use :func:`~optuna.trial.Trial.suggest_float` instead.\n",
      "  'lambda_l2': trial.suggest_loguniform('lambda_l2', 1e-8, 10.0),\n",
      "/var/folders/qb/s5vw4nk95r53s007_f3ty08m0000gn/T/ipykernel_15260/2951571227.py:11: FutureWarning: suggest_uniform has been deprecated in v3.0.0. This feature will be removed in v6.0.0. See https://github.com/optuna/optuna/releases/tag/v3.0.0. Use :func:`~optuna.trial.Trial.suggest_float` instead.\n",
      "  'feature_fraction': trial.suggest_uniform('feature_fraction', 0.4, 1.0),\n",
      "/var/folders/qb/s5vw4nk95r53s007_f3ty08m0000gn/T/ipykernel_15260/2951571227.py:12: FutureWarning: suggest_uniform has been deprecated in v3.0.0. This feature will be removed in v6.0.0. See https://github.com/optuna/optuna/releases/tag/v3.0.0. Use :func:`~optuna.trial.Trial.suggest_float` instead.\n",
      "  'bagging_fraction': trial.suggest_uniform('bagging_fraction', 0.4, 1.0),\n",
      "/Users/youngseoklee/opt/anaconda3/envs/ai/lib/python3.10/site-packages/lightgbm/sklearn.py:726: UserWarning: 'early_stopping_rounds' argument is deprecated and will be removed in a future release of LightGBM. Pass 'early_stopping()' callback via 'callbacks' argument instead.\n",
      "  _log_warning(\"'early_stopping_rounds' argument is deprecated and will be removed in a future release of LightGBM. \"\n",
      "/Users/youngseoklee/opt/anaconda3/envs/ai/lib/python3.10/site-packages/lightgbm/sklearn.py:736: UserWarning: 'verbose' argument is deprecated and will be removed in a future release of LightGBM. Pass 'log_evaluation()' callback via 'callbacks' argument instead.\n",
      "  _log_warning(\"'verbose' argument is deprecated and will be removed in a future release of LightGBM. \"\n",
      "\u001b[32m[I 2023-08-01 00:03:33,167]\u001b[0m Trial 3 finished with value: 308680829529478.1 and parameters: {'lambda_l1': 2.9642303351296784, 'lambda_l2': 0.6722617826412146, 'num_leaves': 146, 'feature_fraction': 0.531681167956434, 'bagging_fraction': 0.6807153074639793, 'bagging_freq': 6, 'min_child_samples': 77}. Best is trial 1 with value: 280414055820548.16.\u001b[0m\n"
     ]
    },
    {
     "name": "stdout",
     "output_type": "stream",
     "text": [
      "308680829529478.1\n",
      "[LightGBM] [Warning] feature_fraction is set=0.6923060599592841, colsample_bytree=1.0 will be ignored. Current value: feature_fraction=0.6923060599592841\n",
      "[LightGBM] [Warning] lambda_l1 is set=0.24936128499674015, reg_alpha=0.0 will be ignored. Current value: lambda_l1=0.24936128499674015\n",
      "[LightGBM] [Warning] bagging_fraction is set=0.8658954923324408, subsample=1.0 will be ignored. Current value: bagging_fraction=0.8658954923324408\n",
      "[LightGBM] [Warning] lambda_l2 is set=5.5575103982005526e-08, reg_lambda=0.0 will be ignored. Current value: lambda_l2=5.5575103982005526e-08\n",
      "[LightGBM] [Warning] bagging_freq is set=7, subsample_freq=0 will be ignored. Current value: bagging_freq=7\n"
     ]
    },
    {
     "name": "stderr",
     "output_type": "stream",
     "text": [
      "/var/folders/qb/s5vw4nk95r53s007_f3ty08m0000gn/T/ipykernel_15260/2951571227.py:8: FutureWarning: suggest_loguniform has been deprecated in v3.0.0. This feature will be removed in v6.0.0. See https://github.com/optuna/optuna/releases/tag/v3.0.0. Use :func:`~optuna.trial.Trial.suggest_float` instead.\n",
      "  'lambda_l1': trial.suggest_loguniform('lambda_l1', 1e-8, 10.0),\n",
      "/var/folders/qb/s5vw4nk95r53s007_f3ty08m0000gn/T/ipykernel_15260/2951571227.py:9: FutureWarning: suggest_loguniform has been deprecated in v3.0.0. This feature will be removed in v6.0.0. See https://github.com/optuna/optuna/releases/tag/v3.0.0. Use :func:`~optuna.trial.Trial.suggest_float` instead.\n",
      "  'lambda_l2': trial.suggest_loguniform('lambda_l2', 1e-8, 10.0),\n",
      "/var/folders/qb/s5vw4nk95r53s007_f3ty08m0000gn/T/ipykernel_15260/2951571227.py:11: FutureWarning: suggest_uniform has been deprecated in v3.0.0. This feature will be removed in v6.0.0. See https://github.com/optuna/optuna/releases/tag/v3.0.0. Use :func:`~optuna.trial.Trial.suggest_float` instead.\n",
      "  'feature_fraction': trial.suggest_uniform('feature_fraction', 0.4, 1.0),\n",
      "/var/folders/qb/s5vw4nk95r53s007_f3ty08m0000gn/T/ipykernel_15260/2951571227.py:12: FutureWarning: suggest_uniform has been deprecated in v3.0.0. This feature will be removed in v6.0.0. See https://github.com/optuna/optuna/releases/tag/v3.0.0. Use :func:`~optuna.trial.Trial.suggest_float` instead.\n",
      "  'bagging_fraction': trial.suggest_uniform('bagging_fraction', 0.4, 1.0),\n",
      "/Users/youngseoklee/opt/anaconda3/envs/ai/lib/python3.10/site-packages/lightgbm/sklearn.py:726: UserWarning: 'early_stopping_rounds' argument is deprecated and will be removed in a future release of LightGBM. Pass 'early_stopping()' callback via 'callbacks' argument instead.\n",
      "  _log_warning(\"'early_stopping_rounds' argument is deprecated and will be removed in a future release of LightGBM. \"\n",
      "/Users/youngseoklee/opt/anaconda3/envs/ai/lib/python3.10/site-packages/lightgbm/sklearn.py:736: UserWarning: 'verbose' argument is deprecated and will be removed in a future release of LightGBM. Pass 'log_evaluation()' callback via 'callbacks' argument instead.\n",
      "  _log_warning(\"'verbose' argument is deprecated and will be removed in a future release of LightGBM. \"\n",
      "\u001b[32m[I 2023-08-01 00:03:34,717]\u001b[0m Trial 4 finished with value: 487029671950458.75 and parameters: {'lambda_l1': 0.24936128499674015, 'lambda_l2': 5.5575103982005526e-08, 'num_leaves': 77, 'feature_fraction': 0.6923060599592841, 'bagging_fraction': 0.8658954923324408, 'bagging_freq': 7, 'min_child_samples': 45}. Best is trial 1 with value: 280414055820548.16.\u001b[0m\n"
     ]
    },
    {
     "name": "stdout",
     "output_type": "stream",
     "text": [
      "487029671950458.75\n",
      "[LightGBM] [Warning] feature_fraction is set=0.8488920505405493, colsample_bytree=1.0 will be ignored. Current value: feature_fraction=0.8488920505405493\n",
      "[LightGBM] [Warning] lambda_l1 is set=0.05531640269304033, reg_alpha=0.0 will be ignored. Current value: lambda_l1=0.05531640269304033\n",
      "[LightGBM] [Warning] bagging_fraction is set=0.4560048290756463, subsample=1.0 will be ignored. Current value: bagging_fraction=0.4560048290756463\n",
      "[LightGBM] [Warning] lambda_l2 is set=2.873213906924279e-07, reg_lambda=0.0 will be ignored. Current value: lambda_l2=2.873213906924279e-07\n",
      "[LightGBM] [Warning] bagging_freq is set=3, subsample_freq=0 will be ignored. Current value: bagging_freq=3\n"
     ]
    },
    {
     "name": "stderr",
     "output_type": "stream",
     "text": [
      "/var/folders/qb/s5vw4nk95r53s007_f3ty08m0000gn/T/ipykernel_15260/2951571227.py:8: FutureWarning: suggest_loguniform has been deprecated in v3.0.0. This feature will be removed in v6.0.0. See https://github.com/optuna/optuna/releases/tag/v3.0.0. Use :func:`~optuna.trial.Trial.suggest_float` instead.\n",
      "  'lambda_l1': trial.suggest_loguniform('lambda_l1', 1e-8, 10.0),\n",
      "/var/folders/qb/s5vw4nk95r53s007_f3ty08m0000gn/T/ipykernel_15260/2951571227.py:9: FutureWarning: suggest_loguniform has been deprecated in v3.0.0. This feature will be removed in v6.0.0. See https://github.com/optuna/optuna/releases/tag/v3.0.0. Use :func:`~optuna.trial.Trial.suggest_float` instead.\n",
      "  'lambda_l2': trial.suggest_loguniform('lambda_l2', 1e-8, 10.0),\n",
      "/var/folders/qb/s5vw4nk95r53s007_f3ty08m0000gn/T/ipykernel_15260/2951571227.py:11: FutureWarning: suggest_uniform has been deprecated in v3.0.0. This feature will be removed in v6.0.0. See https://github.com/optuna/optuna/releases/tag/v3.0.0. Use :func:`~optuna.trial.Trial.suggest_float` instead.\n",
      "  'feature_fraction': trial.suggest_uniform('feature_fraction', 0.4, 1.0),\n",
      "/var/folders/qb/s5vw4nk95r53s007_f3ty08m0000gn/T/ipykernel_15260/2951571227.py:12: FutureWarning: suggest_uniform has been deprecated in v3.0.0. This feature will be removed in v6.0.0. See https://github.com/optuna/optuna/releases/tag/v3.0.0. Use :func:`~optuna.trial.Trial.suggest_float` instead.\n",
      "  'bagging_fraction': trial.suggest_uniform('bagging_fraction', 0.4, 1.0),\n",
      "/Users/youngseoklee/opt/anaconda3/envs/ai/lib/python3.10/site-packages/lightgbm/sklearn.py:726: UserWarning: 'early_stopping_rounds' argument is deprecated and will be removed in a future release of LightGBM. Pass 'early_stopping()' callback via 'callbacks' argument instead.\n",
      "  _log_warning(\"'early_stopping_rounds' argument is deprecated and will be removed in a future release of LightGBM. \"\n",
      "/Users/youngseoklee/opt/anaconda3/envs/ai/lib/python3.10/site-packages/lightgbm/sklearn.py:736: UserWarning: 'verbose' argument is deprecated and will be removed in a future release of LightGBM. Pass 'log_evaluation()' callback via 'callbacks' argument instead.\n",
      "  _log_warning(\"'verbose' argument is deprecated and will be removed in a future release of LightGBM. \"\n",
      "\u001b[32m[I 2023-08-01 00:03:38,044]\u001b[0m Trial 5 finished with value: 469862652478392.3 and parameters: {'lambda_l1': 0.05531640269304033, 'lambda_l2': 2.873213906924279e-07, 'num_leaves': 234, 'feature_fraction': 0.8488920505405493, 'bagging_fraction': 0.4560048290756463, 'bagging_freq': 3, 'min_child_samples': 66}. Best is trial 1 with value: 280414055820548.16.\u001b[0m\n"
     ]
    },
    {
     "name": "stdout",
     "output_type": "stream",
     "text": [
      "469862652478392.3\n",
      "[LightGBM] [Warning] feature_fraction is set=0.7433134273814813, colsample_bytree=1.0 will be ignored. Current value: feature_fraction=0.7433134273814813\n",
      "[LightGBM] [Warning] lambda_l1 is set=1.0059675237695884, reg_alpha=0.0 will be ignored. Current value: lambda_l1=1.0059675237695884\n",
      "[LightGBM] [Warning] bagging_fraction is set=0.9822409205131514, subsample=1.0 will be ignored. Current value: bagging_fraction=0.9822409205131514\n",
      "[LightGBM] [Warning] lambda_l2 is set=3.005466759460062e-05, reg_lambda=0.0 will be ignored. Current value: lambda_l2=3.005466759460062e-05\n",
      "[LightGBM] [Warning] bagging_freq is set=6, subsample_freq=0 will be ignored. Current value: bagging_freq=6\n"
     ]
    },
    {
     "name": "stderr",
     "output_type": "stream",
     "text": [
      "/var/folders/qb/s5vw4nk95r53s007_f3ty08m0000gn/T/ipykernel_15260/2951571227.py:8: FutureWarning: suggest_loguniform has been deprecated in v3.0.0. This feature will be removed in v6.0.0. See https://github.com/optuna/optuna/releases/tag/v3.0.0. Use :func:`~optuna.trial.Trial.suggest_float` instead.\n",
      "  'lambda_l1': trial.suggest_loguniform('lambda_l1', 1e-8, 10.0),\n",
      "/var/folders/qb/s5vw4nk95r53s007_f3ty08m0000gn/T/ipykernel_15260/2951571227.py:9: FutureWarning: suggest_loguniform has been deprecated in v3.0.0. This feature will be removed in v6.0.0. See https://github.com/optuna/optuna/releases/tag/v3.0.0. Use :func:`~optuna.trial.Trial.suggest_float` instead.\n",
      "  'lambda_l2': trial.suggest_loguniform('lambda_l2', 1e-8, 10.0),\n",
      "/var/folders/qb/s5vw4nk95r53s007_f3ty08m0000gn/T/ipykernel_15260/2951571227.py:11: FutureWarning: suggest_uniform has been deprecated in v3.0.0. This feature will be removed in v6.0.0. See https://github.com/optuna/optuna/releases/tag/v3.0.0. Use :func:`~optuna.trial.Trial.suggest_float` instead.\n",
      "  'feature_fraction': trial.suggest_uniform('feature_fraction', 0.4, 1.0),\n",
      "/var/folders/qb/s5vw4nk95r53s007_f3ty08m0000gn/T/ipykernel_15260/2951571227.py:12: FutureWarning: suggest_uniform has been deprecated in v3.0.0. This feature will be removed in v6.0.0. See https://github.com/optuna/optuna/releases/tag/v3.0.0. Use :func:`~optuna.trial.Trial.suggest_float` instead.\n",
      "  'bagging_fraction': trial.suggest_uniform('bagging_fraction', 0.4, 1.0),\n",
      "/Users/youngseoklee/opt/anaconda3/envs/ai/lib/python3.10/site-packages/lightgbm/sklearn.py:726: UserWarning: 'early_stopping_rounds' argument is deprecated and will be removed in a future release of LightGBM. Pass 'early_stopping()' callback via 'callbacks' argument instead.\n",
      "  _log_warning(\"'early_stopping_rounds' argument is deprecated and will be removed in a future release of LightGBM. \"\n",
      "/Users/youngseoklee/opt/anaconda3/envs/ai/lib/python3.10/site-packages/lightgbm/sklearn.py:736: UserWarning: 'verbose' argument is deprecated and will be removed in a future release of LightGBM. Pass 'log_evaluation()' callback via 'callbacks' argument instead.\n",
      "  _log_warning(\"'verbose' argument is deprecated and will be removed in a future release of LightGBM. \"\n",
      "\u001b[32m[I 2023-08-01 00:03:39,650]\u001b[0m Trial 6 finished with value: 443043331004431.5 and parameters: {'lambda_l1': 1.0059675237695884, 'lambda_l2': 3.005466759460062e-05, 'num_leaves': 81, 'feature_fraction': 0.7433134273814813, 'bagging_fraction': 0.9822409205131514, 'bagging_freq': 6, 'min_child_samples': 68}. Best is trial 1 with value: 280414055820548.16.\u001b[0m\n"
     ]
    },
    {
     "name": "stdout",
     "output_type": "stream",
     "text": [
      "443043331004431.5\n",
      "[LightGBM] [Warning] feature_fraction is set=0.9865081793950832, colsample_bytree=1.0 will be ignored. Current value: feature_fraction=0.9865081793950832\n",
      "[LightGBM] [Warning] lambda_l1 is set=2.037924588726455e-06, reg_alpha=0.0 will be ignored. Current value: lambda_l1=2.037924588726455e-06\n",
      "[LightGBM] [Warning] bagging_fraction is set=0.44611889195853627, subsample=1.0 will be ignored. Current value: bagging_fraction=0.44611889195853627\n",
      "[LightGBM] [Warning] lambda_l2 is set=2.737635091699195e-05, reg_lambda=0.0 will be ignored. Current value: lambda_l2=2.737635091699195e-05\n",
      "[LightGBM] [Warning] bagging_freq is set=3, subsample_freq=0 will be ignored. Current value: bagging_freq=3\n"
     ]
    },
    {
     "name": "stderr",
     "output_type": "stream",
     "text": [
      "/var/folders/qb/s5vw4nk95r53s007_f3ty08m0000gn/T/ipykernel_15260/2951571227.py:8: FutureWarning: suggest_loguniform has been deprecated in v3.0.0. This feature will be removed in v6.0.0. See https://github.com/optuna/optuna/releases/tag/v3.0.0. Use :func:`~optuna.trial.Trial.suggest_float` instead.\n",
      "  'lambda_l1': trial.suggest_loguniform('lambda_l1', 1e-8, 10.0),\n",
      "/var/folders/qb/s5vw4nk95r53s007_f3ty08m0000gn/T/ipykernel_15260/2951571227.py:9: FutureWarning: suggest_loguniform has been deprecated in v3.0.0. This feature will be removed in v6.0.0. See https://github.com/optuna/optuna/releases/tag/v3.0.0. Use :func:`~optuna.trial.Trial.suggest_float` instead.\n",
      "  'lambda_l2': trial.suggest_loguniform('lambda_l2', 1e-8, 10.0),\n",
      "/var/folders/qb/s5vw4nk95r53s007_f3ty08m0000gn/T/ipykernel_15260/2951571227.py:11: FutureWarning: suggest_uniform has been deprecated in v3.0.0. This feature will be removed in v6.0.0. See https://github.com/optuna/optuna/releases/tag/v3.0.0. Use :func:`~optuna.trial.Trial.suggest_float` instead.\n",
      "  'feature_fraction': trial.suggest_uniform('feature_fraction', 0.4, 1.0),\n",
      "/var/folders/qb/s5vw4nk95r53s007_f3ty08m0000gn/T/ipykernel_15260/2951571227.py:12: FutureWarning: suggest_uniform has been deprecated in v3.0.0. This feature will be removed in v6.0.0. See https://github.com/optuna/optuna/releases/tag/v3.0.0. Use :func:`~optuna.trial.Trial.suggest_float` instead.\n",
      "  'bagging_fraction': trial.suggest_uniform('bagging_fraction', 0.4, 1.0),\n",
      "/Users/youngseoklee/opt/anaconda3/envs/ai/lib/python3.10/site-packages/lightgbm/sklearn.py:726: UserWarning: 'early_stopping_rounds' argument is deprecated and will be removed in a future release of LightGBM. Pass 'early_stopping()' callback via 'callbacks' argument instead.\n",
      "  _log_warning(\"'early_stopping_rounds' argument is deprecated and will be removed in a future release of LightGBM. \"\n",
      "/Users/youngseoklee/opt/anaconda3/envs/ai/lib/python3.10/site-packages/lightgbm/sklearn.py:736: UserWarning: 'verbose' argument is deprecated and will be removed in a future release of LightGBM. Pass 'log_evaluation()' callback via 'callbacks' argument instead.\n",
      "  _log_warning(\"'verbose' argument is deprecated and will be removed in a future release of LightGBM. \"\n",
      "\u001b[32m[I 2023-08-01 00:03:41,186]\u001b[0m Trial 7 finished with value: 470400287106806.44 and parameters: {'lambda_l1': 2.037924588726455e-06, 'lambda_l2': 2.737635091699195e-05, 'num_leaves': 85, 'feature_fraction': 0.9865081793950832, 'bagging_fraction': 0.44611889195853627, 'bagging_freq': 3, 'min_child_samples': 6}. Best is trial 1 with value: 280414055820548.16.\u001b[0m\n"
     ]
    },
    {
     "name": "stdout",
     "output_type": "stream",
     "text": [
      "470400287106806.44\n",
      "[LightGBM] [Warning] feature_fraction is set=0.8228653453117438, colsample_bytree=1.0 will be ignored. Current value: feature_fraction=0.8228653453117438\n",
      "[LightGBM] [Warning] lambda_l1 is set=4.476801314849379e-06, reg_alpha=0.0 will be ignored. Current value: lambda_l1=4.476801314849379e-06\n",
      "[LightGBM] [Warning] bagging_fraction is set=0.7896965821654847, subsample=1.0 will be ignored. Current value: bagging_fraction=0.7896965821654847\n",
      "[LightGBM] [Warning] lambda_l2 is set=3.604685551860198e-06, reg_lambda=0.0 will be ignored. Current value: lambda_l2=3.604685551860198e-06\n",
      "[LightGBM] [Warning] bagging_freq is set=4, subsample_freq=0 will be ignored. Current value: bagging_freq=4\n"
     ]
    },
    {
     "name": "stderr",
     "output_type": "stream",
     "text": [
      "/var/folders/qb/s5vw4nk95r53s007_f3ty08m0000gn/T/ipykernel_15260/2951571227.py:8: FutureWarning: suggest_loguniform has been deprecated in v3.0.0. This feature will be removed in v6.0.0. See https://github.com/optuna/optuna/releases/tag/v3.0.0. Use :func:`~optuna.trial.Trial.suggest_float` instead.\n",
      "  'lambda_l1': trial.suggest_loguniform('lambda_l1', 1e-8, 10.0),\n",
      "/var/folders/qb/s5vw4nk95r53s007_f3ty08m0000gn/T/ipykernel_15260/2951571227.py:9: FutureWarning: suggest_loguniform has been deprecated in v3.0.0. This feature will be removed in v6.0.0. See https://github.com/optuna/optuna/releases/tag/v3.0.0. Use :func:`~optuna.trial.Trial.suggest_float` instead.\n",
      "  'lambda_l2': trial.suggest_loguniform('lambda_l2', 1e-8, 10.0),\n",
      "/var/folders/qb/s5vw4nk95r53s007_f3ty08m0000gn/T/ipykernel_15260/2951571227.py:11: FutureWarning: suggest_uniform has been deprecated in v3.0.0. This feature will be removed in v6.0.0. See https://github.com/optuna/optuna/releases/tag/v3.0.0. Use :func:`~optuna.trial.Trial.suggest_float` instead.\n",
      "  'feature_fraction': trial.suggest_uniform('feature_fraction', 0.4, 1.0),\n",
      "/var/folders/qb/s5vw4nk95r53s007_f3ty08m0000gn/T/ipykernel_15260/2951571227.py:12: FutureWarning: suggest_uniform has been deprecated in v3.0.0. This feature will be removed in v6.0.0. See https://github.com/optuna/optuna/releases/tag/v3.0.0. Use :func:`~optuna.trial.Trial.suggest_float` instead.\n",
      "  'bagging_fraction': trial.suggest_uniform('bagging_fraction', 0.4, 1.0),\n",
      "/Users/youngseoklee/opt/anaconda3/envs/ai/lib/python3.10/site-packages/lightgbm/sklearn.py:726: UserWarning: 'early_stopping_rounds' argument is deprecated and will be removed in a future release of LightGBM. Pass 'early_stopping()' callback via 'callbacks' argument instead.\n",
      "  _log_warning(\"'early_stopping_rounds' argument is deprecated and will be removed in a future release of LightGBM. \"\n",
      "/Users/youngseoklee/opt/anaconda3/envs/ai/lib/python3.10/site-packages/lightgbm/sklearn.py:736: UserWarning: 'verbose' argument is deprecated and will be removed in a future release of LightGBM. Pass 'log_evaluation()' callback via 'callbacks' argument instead.\n",
      "  _log_warning(\"'verbose' argument is deprecated and will be removed in a future release of LightGBM. \"\n",
      "\u001b[32m[I 2023-08-01 00:03:44,338]\u001b[0m Trial 8 finished with value: 522142157076536.8 and parameters: {'lambda_l1': 4.476801314849379e-06, 'lambda_l2': 3.604685551860198e-06, 'num_leaves': 211, 'feature_fraction': 0.8228653453117438, 'bagging_fraction': 0.7896965821654847, 'bagging_freq': 4, 'min_child_samples': 5}. Best is trial 1 with value: 280414055820548.16.\u001b[0m\n"
     ]
    },
    {
     "name": "stdout",
     "output_type": "stream",
     "text": [
      "522142157076536.8\n",
      "[LightGBM] [Warning] feature_fraction is set=0.771073683099458, colsample_bytree=1.0 will be ignored. Current value: feature_fraction=0.771073683099458\n",
      "[LightGBM] [Warning] lambda_l1 is set=0.25600447866258846, reg_alpha=0.0 will be ignored. Current value: lambda_l1=0.25600447866258846\n",
      "[LightGBM] [Warning] bagging_fraction is set=0.43222080320362044, subsample=1.0 will be ignored. Current value: bagging_fraction=0.43222080320362044\n",
      "[LightGBM] [Warning] lambda_l2 is set=1.511614646407666, reg_lambda=0.0 will be ignored. Current value: lambda_l2=1.511614646407666\n",
      "[LightGBM] [Warning] bagging_freq is set=4, subsample_freq=0 will be ignored. Current value: bagging_freq=4\n"
     ]
    },
    {
     "name": "stderr",
     "output_type": "stream",
     "text": [
      "/var/folders/qb/s5vw4nk95r53s007_f3ty08m0000gn/T/ipykernel_15260/2951571227.py:8: FutureWarning: suggest_loguniform has been deprecated in v3.0.0. This feature will be removed in v6.0.0. See https://github.com/optuna/optuna/releases/tag/v3.0.0. Use :func:`~optuna.trial.Trial.suggest_float` instead.\n",
      "  'lambda_l1': trial.suggest_loguniform('lambda_l1', 1e-8, 10.0),\n",
      "/var/folders/qb/s5vw4nk95r53s007_f3ty08m0000gn/T/ipykernel_15260/2951571227.py:9: FutureWarning: suggest_loguniform has been deprecated in v3.0.0. This feature will be removed in v6.0.0. See https://github.com/optuna/optuna/releases/tag/v3.0.0. Use :func:`~optuna.trial.Trial.suggest_float` instead.\n",
      "  'lambda_l2': trial.suggest_loguniform('lambda_l2', 1e-8, 10.0),\n",
      "/var/folders/qb/s5vw4nk95r53s007_f3ty08m0000gn/T/ipykernel_15260/2951571227.py:11: FutureWarning: suggest_uniform has been deprecated in v3.0.0. This feature will be removed in v6.0.0. See https://github.com/optuna/optuna/releases/tag/v3.0.0. Use :func:`~optuna.trial.Trial.suggest_float` instead.\n",
      "  'feature_fraction': trial.suggest_uniform('feature_fraction', 0.4, 1.0),\n",
      "/var/folders/qb/s5vw4nk95r53s007_f3ty08m0000gn/T/ipykernel_15260/2951571227.py:12: FutureWarning: suggest_uniform has been deprecated in v3.0.0. This feature will be removed in v6.0.0. See https://github.com/optuna/optuna/releases/tag/v3.0.0. Use :func:`~optuna.trial.Trial.suggest_float` instead.\n",
      "  'bagging_fraction': trial.suggest_uniform('bagging_fraction', 0.4, 1.0),\n",
      "/Users/youngseoklee/opt/anaconda3/envs/ai/lib/python3.10/site-packages/lightgbm/sklearn.py:726: UserWarning: 'early_stopping_rounds' argument is deprecated and will be removed in a future release of LightGBM. Pass 'early_stopping()' callback via 'callbacks' argument instead.\n",
      "  _log_warning(\"'early_stopping_rounds' argument is deprecated and will be removed in a future release of LightGBM. \"\n",
      "/Users/youngseoklee/opt/anaconda3/envs/ai/lib/python3.10/site-packages/lightgbm/sklearn.py:736: UserWarning: 'verbose' argument is deprecated and will be removed in a future release of LightGBM. Pass 'log_evaluation()' callback via 'callbacks' argument instead.\n",
      "  _log_warning(\"'verbose' argument is deprecated and will be removed in a future release of LightGBM. \"\n",
      "\u001b[32m[I 2023-08-01 00:03:47,777]\u001b[0m Trial 9 finished with value: 493794529197992.94 and parameters: {'lambda_l1': 0.25600447866258846, 'lambda_l2': 1.511614646407666, 'num_leaves': 244, 'feature_fraction': 0.771073683099458, 'bagging_fraction': 0.43222080320362044, 'bagging_freq': 4, 'min_child_samples': 46}. Best is trial 1 with value: 280414055820548.16.\u001b[0m\n"
     ]
    },
    {
     "name": "stdout",
     "output_type": "stream",
     "text": [
      "493794529197992.94\n",
      "[LightGBM] [Warning] feature_fraction is set=0.4046217169459032, colsample_bytree=1.0 will be ignored. Current value: feature_fraction=0.4046217169459032\n",
      "[LightGBM] [Warning] lambda_l1 is set=1.1734689822842908e-08, reg_alpha=0.0 will be ignored. Current value: lambda_l1=1.1734689822842908e-08\n",
      "[LightGBM] [Warning] bagging_fraction is set=0.621453048610027, subsample=1.0 will be ignored. Current value: bagging_fraction=0.621453048610027\n",
      "[LightGBM] [Warning] lambda_l2 is set=0.0029194099334541733, reg_lambda=0.0 will be ignored. Current value: lambda_l2=0.0029194099334541733\n",
      "[LightGBM] [Warning] bagging_freq is set=1, subsample_freq=0 will be ignored. Current value: bagging_freq=1\n"
     ]
    },
    {
     "name": "stderr",
     "output_type": "stream",
     "text": [
      "/var/folders/qb/s5vw4nk95r53s007_f3ty08m0000gn/T/ipykernel_15260/2951571227.py:8: FutureWarning: suggest_loguniform has been deprecated in v3.0.0. This feature will be removed in v6.0.0. See https://github.com/optuna/optuna/releases/tag/v3.0.0. Use :func:`~optuna.trial.Trial.suggest_float` instead.\n",
      "  'lambda_l1': trial.suggest_loguniform('lambda_l1', 1e-8, 10.0),\n",
      "/var/folders/qb/s5vw4nk95r53s007_f3ty08m0000gn/T/ipykernel_15260/2951571227.py:9: FutureWarning: suggest_loguniform has been deprecated in v3.0.0. This feature will be removed in v6.0.0. See https://github.com/optuna/optuna/releases/tag/v3.0.0. Use :func:`~optuna.trial.Trial.suggest_float` instead.\n",
      "  'lambda_l2': trial.suggest_loguniform('lambda_l2', 1e-8, 10.0),\n",
      "/var/folders/qb/s5vw4nk95r53s007_f3ty08m0000gn/T/ipykernel_15260/2951571227.py:11: FutureWarning: suggest_uniform has been deprecated in v3.0.0. This feature will be removed in v6.0.0. See https://github.com/optuna/optuna/releases/tag/v3.0.0. Use :func:`~optuna.trial.Trial.suggest_float` instead.\n",
      "  'feature_fraction': trial.suggest_uniform('feature_fraction', 0.4, 1.0),\n",
      "/var/folders/qb/s5vw4nk95r53s007_f3ty08m0000gn/T/ipykernel_15260/2951571227.py:12: FutureWarning: suggest_uniform has been deprecated in v3.0.0. This feature will be removed in v6.0.0. See https://github.com/optuna/optuna/releases/tag/v3.0.0. Use :func:`~optuna.trial.Trial.suggest_float` instead.\n",
      "  'bagging_fraction': trial.suggest_uniform('bagging_fraction', 0.4, 1.0),\n",
      "/Users/youngseoklee/opt/anaconda3/envs/ai/lib/python3.10/site-packages/lightgbm/sklearn.py:726: UserWarning: 'early_stopping_rounds' argument is deprecated and will be removed in a future release of LightGBM. Pass 'early_stopping()' callback via 'callbacks' argument instead.\n",
      "  _log_warning(\"'early_stopping_rounds' argument is deprecated and will be removed in a future release of LightGBM. \"\n",
      "/Users/youngseoklee/opt/anaconda3/envs/ai/lib/python3.10/site-packages/lightgbm/sklearn.py:736: UserWarning: 'verbose' argument is deprecated and will be removed in a future release of LightGBM. Pass 'log_evaluation()' callback via 'callbacks' argument instead.\n",
      "  _log_warning(\"'verbose' argument is deprecated and will be removed in a future release of LightGBM. \"\n",
      "\u001b[32m[I 2023-08-01 00:03:48,012]\u001b[0m Trial 10 finished with value: 274129069360801.22 and parameters: {'lambda_l1': 1.1734689822842908e-08, 'lambda_l2': 0.0029194099334541733, 'num_leaves': 2, 'feature_fraction': 0.4046217169459032, 'bagging_fraction': 0.621453048610027, 'bagging_freq': 1, 'min_child_samples': 99}. Best is trial 10 with value: 274129069360801.22.\u001b[0m\n"
     ]
    },
    {
     "name": "stdout",
     "output_type": "stream",
     "text": [
      "274129069360801.22\n",
      "[LightGBM] [Warning] feature_fraction is set=0.42278153859517437, colsample_bytree=1.0 will be ignored. Current value: feature_fraction=0.42278153859517437\n",
      "[LightGBM] [Warning] lambda_l1 is set=1.516162239946778e-08, reg_alpha=0.0 will be ignored. Current value: lambda_l1=1.516162239946778e-08\n",
      "[LightGBM] [Warning] bagging_fraction is set=0.5973539278066236, subsample=1.0 will be ignored. Current value: bagging_fraction=0.5973539278066236\n",
      "[LightGBM] [Warning] lambda_l2 is set=0.004631617021685371, reg_lambda=0.0 will be ignored. Current value: lambda_l2=0.004631617021685371\n",
      "[LightGBM] [Warning] bagging_freq is set=1, subsample_freq=0 will be ignored. Current value: bagging_freq=1\n"
     ]
    },
    {
     "name": "stderr",
     "output_type": "stream",
     "text": [
      "/var/folders/qb/s5vw4nk95r53s007_f3ty08m0000gn/T/ipykernel_15260/2951571227.py:8: FutureWarning: suggest_loguniform has been deprecated in v3.0.0. This feature will be removed in v6.0.0. See https://github.com/optuna/optuna/releases/tag/v3.0.0. Use :func:`~optuna.trial.Trial.suggest_float` instead.\n",
      "  'lambda_l1': trial.suggest_loguniform('lambda_l1', 1e-8, 10.0),\n",
      "/var/folders/qb/s5vw4nk95r53s007_f3ty08m0000gn/T/ipykernel_15260/2951571227.py:9: FutureWarning: suggest_loguniform has been deprecated in v3.0.0. This feature will be removed in v6.0.0. See https://github.com/optuna/optuna/releases/tag/v3.0.0. Use :func:`~optuna.trial.Trial.suggest_float` instead.\n",
      "  'lambda_l2': trial.suggest_loguniform('lambda_l2', 1e-8, 10.0),\n",
      "/var/folders/qb/s5vw4nk95r53s007_f3ty08m0000gn/T/ipykernel_15260/2951571227.py:11: FutureWarning: suggest_uniform has been deprecated in v3.0.0. This feature will be removed in v6.0.0. See https://github.com/optuna/optuna/releases/tag/v3.0.0. Use :func:`~optuna.trial.Trial.suggest_float` instead.\n",
      "  'feature_fraction': trial.suggest_uniform('feature_fraction', 0.4, 1.0),\n",
      "/var/folders/qb/s5vw4nk95r53s007_f3ty08m0000gn/T/ipykernel_15260/2951571227.py:12: FutureWarning: suggest_uniform has been deprecated in v3.0.0. This feature will be removed in v6.0.0. See https://github.com/optuna/optuna/releases/tag/v3.0.0. Use :func:`~optuna.trial.Trial.suggest_float` instead.\n",
      "  'bagging_fraction': trial.suggest_uniform('bagging_fraction', 0.4, 1.0),\n",
      "/Users/youngseoklee/opt/anaconda3/envs/ai/lib/python3.10/site-packages/lightgbm/sklearn.py:726: UserWarning: 'early_stopping_rounds' argument is deprecated and will be removed in a future release of LightGBM. Pass 'early_stopping()' callback via 'callbacks' argument instead.\n",
      "  _log_warning(\"'early_stopping_rounds' argument is deprecated and will be removed in a future release of LightGBM. \"\n",
      "/Users/youngseoklee/opt/anaconda3/envs/ai/lib/python3.10/site-packages/lightgbm/sklearn.py:736: UserWarning: 'verbose' argument is deprecated and will be removed in a future release of LightGBM. Pass 'log_evaluation()' callback via 'callbacks' argument instead.\n",
      "  _log_warning(\"'verbose' argument is deprecated and will be removed in a future release of LightGBM. \"\n",
      "\u001b[32m[I 2023-08-01 00:03:48,276]\u001b[0m Trial 11 finished with value: 289927436659092.25 and parameters: {'lambda_l1': 1.516162239946778e-08, 'lambda_l2': 0.004631617021685371, 'num_leaves': 3, 'feature_fraction': 0.42278153859517437, 'bagging_fraction': 0.5973539278066236, 'bagging_freq': 1, 'min_child_samples': 99}. Best is trial 10 with value: 274129069360801.22.\u001b[0m\n"
     ]
    },
    {
     "name": "stdout",
     "output_type": "stream",
     "text": [
      "289927436659092.25\n",
      "[LightGBM] [Warning] feature_fraction is set=0.43642056257262885, colsample_bytree=1.0 will be ignored. Current value: feature_fraction=0.43642056257262885\n",
      "[LightGBM] [Warning] lambda_l1 is set=0.002102438625322476, reg_alpha=0.0 will be ignored. Current value: lambda_l1=0.002102438625322476\n",
      "[LightGBM] [Warning] bagging_fraction is set=0.5827386247977232, subsample=1.0 will be ignored. Current value: bagging_fraction=0.5827386247977232\n",
      "[LightGBM] [Warning] lambda_l2 is set=0.0014024836949076557, reg_lambda=0.0 will be ignored. Current value: lambda_l2=0.0014024836949076557\n",
      "[LightGBM] [Warning] bagging_freq is set=1, subsample_freq=0 will be ignored. Current value: bagging_freq=1\n"
     ]
    },
    {
     "name": "stderr",
     "output_type": "stream",
     "text": [
      "/var/folders/qb/s5vw4nk95r53s007_f3ty08m0000gn/T/ipykernel_15260/2951571227.py:8: FutureWarning: suggest_loguniform has been deprecated in v3.0.0. This feature will be removed in v6.0.0. See https://github.com/optuna/optuna/releases/tag/v3.0.0. Use :func:`~optuna.trial.Trial.suggest_float` instead.\n",
      "  'lambda_l1': trial.suggest_loguniform('lambda_l1', 1e-8, 10.0),\n",
      "/var/folders/qb/s5vw4nk95r53s007_f3ty08m0000gn/T/ipykernel_15260/2951571227.py:9: FutureWarning: suggest_loguniform has been deprecated in v3.0.0. This feature will be removed in v6.0.0. See https://github.com/optuna/optuna/releases/tag/v3.0.0. Use :func:`~optuna.trial.Trial.suggest_float` instead.\n",
      "  'lambda_l2': trial.suggest_loguniform('lambda_l2', 1e-8, 10.0),\n",
      "/var/folders/qb/s5vw4nk95r53s007_f3ty08m0000gn/T/ipykernel_15260/2951571227.py:11: FutureWarning: suggest_uniform has been deprecated in v3.0.0. This feature will be removed in v6.0.0. See https://github.com/optuna/optuna/releases/tag/v3.0.0. Use :func:`~optuna.trial.Trial.suggest_float` instead.\n",
      "  'feature_fraction': trial.suggest_uniform('feature_fraction', 0.4, 1.0),\n",
      "/var/folders/qb/s5vw4nk95r53s007_f3ty08m0000gn/T/ipykernel_15260/2951571227.py:12: FutureWarning: suggest_uniform has been deprecated in v3.0.0. This feature will be removed in v6.0.0. See https://github.com/optuna/optuna/releases/tag/v3.0.0. Use :func:`~optuna.trial.Trial.suggest_float` instead.\n",
      "  'bagging_fraction': trial.suggest_uniform('bagging_fraction', 0.4, 1.0),\n",
      "/Users/youngseoklee/opt/anaconda3/envs/ai/lib/python3.10/site-packages/lightgbm/sklearn.py:726: UserWarning: 'early_stopping_rounds' argument is deprecated and will be removed in a future release of LightGBM. Pass 'early_stopping()' callback via 'callbacks' argument instead.\n",
      "  _log_warning(\"'early_stopping_rounds' argument is deprecated and will be removed in a future release of LightGBM. \"\n",
      "/Users/youngseoklee/opt/anaconda3/envs/ai/lib/python3.10/site-packages/lightgbm/sklearn.py:736: UserWarning: 'verbose' argument is deprecated and will be removed in a future release of LightGBM. Pass 'log_evaluation()' callback via 'callbacks' argument instead.\n",
      "  _log_warning(\"'verbose' argument is deprecated and will be removed in a future release of LightGBM. \"\n",
      "\u001b[32m[I 2023-08-01 00:03:48,574]\u001b[0m Trial 12 finished with value: 291116297056043.25 and parameters: {'lambda_l1': 0.002102438625322476, 'lambda_l2': 0.0014024836949076557, 'num_leaves': 4, 'feature_fraction': 0.43642056257262885, 'bagging_fraction': 0.5827386247977232, 'bagging_freq': 1, 'min_child_samples': 98}. Best is trial 10 with value: 274129069360801.22.\u001b[0m\n"
     ]
    },
    {
     "name": "stdout",
     "output_type": "stream",
     "text": [
      "291116297056043.25\n",
      "[LightGBM] [Warning] feature_fraction is set=0.40388867793578775, colsample_bytree=1.0 will be ignored. Current value: feature_fraction=0.40388867793578775\n",
      "[LightGBM] [Warning] lambda_l1 is set=8.441400452592042e-08, reg_alpha=0.0 will be ignored. Current value: lambda_l1=8.441400452592042e-08\n",
      "[LightGBM] [Warning] bagging_fraction is set=0.7035431510124522, subsample=1.0 will be ignored. Current value: bagging_fraction=0.7035431510124522\n",
      "[LightGBM] [Warning] lambda_l2 is set=0.058699411035325076, reg_lambda=0.0 will be ignored. Current value: lambda_l2=0.058699411035325076\n",
      "[LightGBM] [Warning] bagging_freq is set=2, subsample_freq=0 will be ignored. Current value: bagging_freq=2\n"
     ]
    },
    {
     "name": "stderr",
     "output_type": "stream",
     "text": [
      "/var/folders/qb/s5vw4nk95r53s007_f3ty08m0000gn/T/ipykernel_15260/2951571227.py:8: FutureWarning: suggest_loguniform has been deprecated in v3.0.0. This feature will be removed in v6.0.0. See https://github.com/optuna/optuna/releases/tag/v3.0.0. Use :func:`~optuna.trial.Trial.suggest_float` instead.\n",
      "  'lambda_l1': trial.suggest_loguniform('lambda_l1', 1e-8, 10.0),\n",
      "/var/folders/qb/s5vw4nk95r53s007_f3ty08m0000gn/T/ipykernel_15260/2951571227.py:9: FutureWarning: suggest_loguniform has been deprecated in v3.0.0. This feature will be removed in v6.0.0. See https://github.com/optuna/optuna/releases/tag/v3.0.0. Use :func:`~optuna.trial.Trial.suggest_float` instead.\n",
      "  'lambda_l2': trial.suggest_loguniform('lambda_l2', 1e-8, 10.0),\n",
      "/var/folders/qb/s5vw4nk95r53s007_f3ty08m0000gn/T/ipykernel_15260/2951571227.py:11: FutureWarning: suggest_uniform has been deprecated in v3.0.0. This feature will be removed in v6.0.0. See https://github.com/optuna/optuna/releases/tag/v3.0.0. Use :func:`~optuna.trial.Trial.suggest_float` instead.\n",
      "  'feature_fraction': trial.suggest_uniform('feature_fraction', 0.4, 1.0),\n",
      "/var/folders/qb/s5vw4nk95r53s007_f3ty08m0000gn/T/ipykernel_15260/2951571227.py:12: FutureWarning: suggest_uniform has been deprecated in v3.0.0. This feature will be removed in v6.0.0. See https://github.com/optuna/optuna/releases/tag/v3.0.0. Use :func:`~optuna.trial.Trial.suggest_float` instead.\n",
      "  'bagging_fraction': trial.suggest_uniform('bagging_fraction', 0.4, 1.0),\n",
      "/Users/youngseoklee/opt/anaconda3/envs/ai/lib/python3.10/site-packages/lightgbm/sklearn.py:726: UserWarning: 'early_stopping_rounds' argument is deprecated and will be removed in a future release of LightGBM. Pass 'early_stopping()' callback via 'callbacks' argument instead.\n",
      "  _log_warning(\"'early_stopping_rounds' argument is deprecated and will be removed in a future release of LightGBM. \"\n",
      "/Users/youngseoklee/opt/anaconda3/envs/ai/lib/python3.10/site-packages/lightgbm/sklearn.py:736: UserWarning: 'verbose' argument is deprecated and will be removed in a future release of LightGBM. Pass 'log_evaluation()' callback via 'callbacks' argument instead.\n",
      "  _log_warning(\"'verbose' argument is deprecated and will be removed in a future release of LightGBM. \"\n",
      "\u001b[32m[I 2023-08-01 00:03:49,676]\u001b[0m Trial 13 finished with value: 353990715185657.0 and parameters: {'lambda_l1': 8.441400452592042e-08, 'lambda_l2': 0.058699411035325076, 'num_leaves': 39, 'feature_fraction': 0.40388867793578775, 'bagging_fraction': 0.7035431510124522, 'bagging_freq': 2, 'min_child_samples': 84}. Best is trial 10 with value: 274129069360801.22.\u001b[0m\n"
     ]
    },
    {
     "name": "stdout",
     "output_type": "stream",
     "text": [
      "353990715185657.0\n",
      "[LightGBM] [Warning] feature_fraction is set=0.6220425347172426, colsample_bytree=1.0 will be ignored. Current value: feature_fraction=0.6220425347172426\n",
      "[LightGBM] [Warning] lambda_l1 is set=0.00024410974972885629, reg_alpha=0.0 will be ignored. Current value: lambda_l1=0.00024410974972885629\n",
      "[LightGBM] [Warning] bagging_fraction is set=0.5171939490509463, subsample=1.0 will be ignored. Current value: bagging_fraction=0.5171939490509463\n",
      "[LightGBM] [Warning] lambda_l2 is set=0.00023378728414016228, reg_lambda=0.0 will be ignored. Current value: lambda_l2=0.00023378728414016228\n",
      "[LightGBM] [Warning] bagging_freq is set=7, subsample_freq=0 will be ignored. Current value: bagging_freq=7\n"
     ]
    },
    {
     "name": "stderr",
     "output_type": "stream",
     "text": [
      "/var/folders/qb/s5vw4nk95r53s007_f3ty08m0000gn/T/ipykernel_15260/2951571227.py:8: FutureWarning: suggest_loguniform has been deprecated in v3.0.0. This feature will be removed in v6.0.0. See https://github.com/optuna/optuna/releases/tag/v3.0.0. Use :func:`~optuna.trial.Trial.suggest_float` instead.\n",
      "  'lambda_l1': trial.suggest_loguniform('lambda_l1', 1e-8, 10.0),\n",
      "/var/folders/qb/s5vw4nk95r53s007_f3ty08m0000gn/T/ipykernel_15260/2951571227.py:9: FutureWarning: suggest_loguniform has been deprecated in v3.0.0. This feature will be removed in v6.0.0. See https://github.com/optuna/optuna/releases/tag/v3.0.0. Use :func:`~optuna.trial.Trial.suggest_float` instead.\n",
      "  'lambda_l2': trial.suggest_loguniform('lambda_l2', 1e-8, 10.0),\n",
      "/var/folders/qb/s5vw4nk95r53s007_f3ty08m0000gn/T/ipykernel_15260/2951571227.py:11: FutureWarning: suggest_uniform has been deprecated in v3.0.0. This feature will be removed in v6.0.0. See https://github.com/optuna/optuna/releases/tag/v3.0.0. Use :func:`~optuna.trial.Trial.suggest_float` instead.\n",
      "  'feature_fraction': trial.suggest_uniform('feature_fraction', 0.4, 1.0),\n",
      "/var/folders/qb/s5vw4nk95r53s007_f3ty08m0000gn/T/ipykernel_15260/2951571227.py:12: FutureWarning: suggest_uniform has been deprecated in v3.0.0. This feature will be removed in v6.0.0. See https://github.com/optuna/optuna/releases/tag/v3.0.0. Use :func:`~optuna.trial.Trial.suggest_float` instead.\n",
      "  'bagging_fraction': trial.suggest_uniform('bagging_fraction', 0.4, 1.0),\n",
      "/Users/youngseoklee/opt/anaconda3/envs/ai/lib/python3.10/site-packages/lightgbm/sklearn.py:726: UserWarning: 'early_stopping_rounds' argument is deprecated and will be removed in a future release of LightGBM. Pass 'early_stopping()' callback via 'callbacks' argument instead.\n",
      "  _log_warning(\"'early_stopping_rounds' argument is deprecated and will be removed in a future release of LightGBM. \"\n",
      "/Users/youngseoklee/opt/anaconda3/envs/ai/lib/python3.10/site-packages/lightgbm/sklearn.py:736: UserWarning: 'verbose' argument is deprecated and will be removed in a future release of LightGBM. Pass 'log_evaluation()' callback via 'callbacks' argument instead.\n",
      "  _log_warning(\"'verbose' argument is deprecated and will be removed in a future release of LightGBM. \"\n",
      "\u001b[32m[I 2023-08-01 00:03:50,659]\u001b[0m Trial 14 finished with value: 399208938120126.75 and parameters: {'lambda_l1': 0.00024410974972885629, 'lambda_l2': 0.00023378728414016228, 'num_leaves': 36, 'feature_fraction': 0.6220425347172426, 'bagging_fraction': 0.5171939490509463, 'bagging_freq': 7, 'min_child_samples': 86}. Best is trial 10 with value: 274129069360801.22.\u001b[0m\n"
     ]
    },
    {
     "name": "stdout",
     "output_type": "stream",
     "text": [
      "399208938120126.75\n",
      "[LightGBM] [Warning] feature_fraction is set=0.49855040768719994, colsample_bytree=1.0 will be ignored. Current value: feature_fraction=0.49855040768719994\n",
      "[LightGBM] [Warning] lambda_l1 is set=2.877248145621087e-07, reg_alpha=0.0 will be ignored. Current value: lambda_l1=2.877248145621087e-07\n",
      "[LightGBM] [Warning] bagging_fraction is set=0.5042188356402291, subsample=1.0 will be ignored. Current value: bagging_fraction=0.5042188356402291\n",
      "[LightGBM] [Warning] lambda_l2 is set=1.504218701931495e-06, reg_lambda=0.0 will be ignored. Current value: lambda_l2=1.504218701931495e-06\n",
      "[LightGBM] [Warning] bagging_freq is set=5, subsample_freq=0 will be ignored. Current value: bagging_freq=5\n"
     ]
    },
    {
     "name": "stderr",
     "output_type": "stream",
     "text": [
      "/var/folders/qb/s5vw4nk95r53s007_f3ty08m0000gn/T/ipykernel_15260/2951571227.py:8: FutureWarning: suggest_loguniform has been deprecated in v3.0.0. This feature will be removed in v6.0.0. See https://github.com/optuna/optuna/releases/tag/v3.0.0. Use :func:`~optuna.trial.Trial.suggest_float` instead.\n",
      "  'lambda_l1': trial.suggest_loguniform('lambda_l1', 1e-8, 10.0),\n",
      "/var/folders/qb/s5vw4nk95r53s007_f3ty08m0000gn/T/ipykernel_15260/2951571227.py:9: FutureWarning: suggest_loguniform has been deprecated in v3.0.0. This feature will be removed in v6.0.0. See https://github.com/optuna/optuna/releases/tag/v3.0.0. Use :func:`~optuna.trial.Trial.suggest_float` instead.\n",
      "  'lambda_l2': trial.suggest_loguniform('lambda_l2', 1e-8, 10.0),\n",
      "/var/folders/qb/s5vw4nk95r53s007_f3ty08m0000gn/T/ipykernel_15260/2951571227.py:11: FutureWarning: suggest_uniform has been deprecated in v3.0.0. This feature will be removed in v6.0.0. See https://github.com/optuna/optuna/releases/tag/v3.0.0. Use :func:`~optuna.trial.Trial.suggest_float` instead.\n",
      "  'feature_fraction': trial.suggest_uniform('feature_fraction', 0.4, 1.0),\n",
      "/var/folders/qb/s5vw4nk95r53s007_f3ty08m0000gn/T/ipykernel_15260/2951571227.py:12: FutureWarning: suggest_uniform has been deprecated in v3.0.0. This feature will be removed in v6.0.0. See https://github.com/optuna/optuna/releases/tag/v3.0.0. Use :func:`~optuna.trial.Trial.suggest_float` instead.\n",
      "  'bagging_fraction': trial.suggest_uniform('bagging_fraction', 0.4, 1.0),\n",
      "/Users/youngseoklee/opt/anaconda3/envs/ai/lib/python3.10/site-packages/lightgbm/sklearn.py:726: UserWarning: 'early_stopping_rounds' argument is deprecated and will be removed in a future release of LightGBM. Pass 'early_stopping()' callback via 'callbacks' argument instead.\n",
      "  _log_warning(\"'early_stopping_rounds' argument is deprecated and will be removed in a future release of LightGBM. \"\n",
      "/Users/youngseoklee/opt/anaconda3/envs/ai/lib/python3.10/site-packages/lightgbm/sklearn.py:736: UserWarning: 'verbose' argument is deprecated and will be removed in a future release of LightGBM. Pass 'log_evaluation()' callback via 'callbacks' argument instead.\n",
      "  _log_warning(\"'verbose' argument is deprecated and will be removed in a future release of LightGBM. \"\n",
      "\u001b[32m[I 2023-08-01 00:03:53,407]\u001b[0m Trial 15 finished with value: 313788350267163.44 and parameters: {'lambda_l1': 2.877248145621087e-07, 'lambda_l2': 1.504218701931495e-06, 'num_leaves': 169, 'feature_fraction': 0.49855040768719994, 'bagging_fraction': 0.5042188356402291, 'bagging_freq': 5, 'min_child_samples': 70}. Best is trial 10 with value: 274129069360801.22.\u001b[0m\n"
     ]
    },
    {
     "name": "stdout",
     "output_type": "stream",
     "text": [
      "313788350267163.44\n",
      "[LightGBM] [Warning] feature_fraction is set=0.4778281462875915, colsample_bytree=1.0 will be ignored. Current value: feature_fraction=0.4778281462875915\n",
      "[LightGBM] [Warning] lambda_l1 is set=1.3838076675064554e-08, reg_alpha=0.0 will be ignored. Current value: lambda_l1=1.3838076675064554e-08\n",
      "[LightGBM] [Warning] bagging_fraction is set=0.40650213974287713, subsample=1.0 will be ignored. Current value: bagging_fraction=0.40650213974287713\n",
      "[LightGBM] [Warning] lambda_l2 is set=1.7415111322053447e-08, reg_lambda=0.0 will be ignored. Current value: lambda_l2=1.7415111322053447e-08\n",
      "[LightGBM] [Warning] bagging_freq is set=2, subsample_freq=0 will be ignored. Current value: bagging_freq=2\n"
     ]
    },
    {
     "name": "stderr",
     "output_type": "stream",
     "text": [
      "/var/folders/qb/s5vw4nk95r53s007_f3ty08m0000gn/T/ipykernel_15260/2951571227.py:8: FutureWarning: suggest_loguniform has been deprecated in v3.0.0. This feature will be removed in v6.0.0. See https://github.com/optuna/optuna/releases/tag/v3.0.0. Use :func:`~optuna.trial.Trial.suggest_float` instead.\n",
      "  'lambda_l1': trial.suggest_loguniform('lambda_l1', 1e-8, 10.0),\n",
      "/var/folders/qb/s5vw4nk95r53s007_f3ty08m0000gn/T/ipykernel_15260/2951571227.py:9: FutureWarning: suggest_loguniform has been deprecated in v3.0.0. This feature will be removed in v6.0.0. See https://github.com/optuna/optuna/releases/tag/v3.0.0. Use :func:`~optuna.trial.Trial.suggest_float` instead.\n",
      "  'lambda_l2': trial.suggest_loguniform('lambda_l2', 1e-8, 10.0),\n",
      "/var/folders/qb/s5vw4nk95r53s007_f3ty08m0000gn/T/ipykernel_15260/2951571227.py:11: FutureWarning: suggest_uniform has been deprecated in v3.0.0. This feature will be removed in v6.0.0. See https://github.com/optuna/optuna/releases/tag/v3.0.0. Use :func:`~optuna.trial.Trial.suggest_float` instead.\n",
      "  'feature_fraction': trial.suggest_uniform('feature_fraction', 0.4, 1.0),\n",
      "/var/folders/qb/s5vw4nk95r53s007_f3ty08m0000gn/T/ipykernel_15260/2951571227.py:12: FutureWarning: suggest_uniform has been deprecated in v3.0.0. This feature will be removed in v6.0.0. See https://github.com/optuna/optuna/releases/tag/v3.0.0. Use :func:`~optuna.trial.Trial.suggest_float` instead.\n",
      "  'bagging_fraction': trial.suggest_uniform('bagging_fraction', 0.4, 1.0),\n",
      "/Users/youngseoklee/opt/anaconda3/envs/ai/lib/python3.10/site-packages/lightgbm/sklearn.py:726: UserWarning: 'early_stopping_rounds' argument is deprecated and will be removed in a future release of LightGBM. Pass 'early_stopping()' callback via 'callbacks' argument instead.\n",
      "  _log_warning(\"'early_stopping_rounds' argument is deprecated and will be removed in a future release of LightGBM. \"\n",
      "/Users/youngseoklee/opt/anaconda3/envs/ai/lib/python3.10/site-packages/lightgbm/sklearn.py:736: UserWarning: 'verbose' argument is deprecated and will be removed in a future release of LightGBM. Pass 'log_evaluation()' callback via 'callbacks' argument instead.\n",
      "  _log_warning(\"'verbose' argument is deprecated and will be removed in a future release of LightGBM. \"\n",
      "\u001b[32m[I 2023-08-01 00:03:54,503]\u001b[0m Trial 16 finished with value: 388351993797685.3 and parameters: {'lambda_l1': 1.3838076675064554e-08, 'lambda_l2': 1.7415111322053447e-08, 'num_leaves': 43, 'feature_fraction': 0.4778281462875915, 'bagging_fraction': 0.40650213974287713, 'bagging_freq': 2, 'min_child_samples': 89}. Best is trial 10 with value: 274129069360801.22.\u001b[0m\n"
     ]
    },
    {
     "name": "stdout",
     "output_type": "stream",
     "text": [
      "388351993797685.3\n",
      "[LightGBM] [Warning] feature_fraction is set=0.5829661219638861, colsample_bytree=1.0 will be ignored. Current value: feature_fraction=0.5829661219638861\n",
      "[LightGBM] [Warning] lambda_l1 is set=3.344996424466998e-05, reg_alpha=0.0 will be ignored. Current value: lambda_l1=3.344996424466998e-05\n",
      "[LightGBM] [Warning] bagging_fraction is set=0.6388352499959179, subsample=1.0 will be ignored. Current value: bagging_fraction=0.6388352499959179\n",
      "[LightGBM] [Warning] lambda_l2 is set=0.011828098225182639, reg_lambda=0.0 will be ignored. Current value: lambda_l2=0.011828098225182639\n",
      "[LightGBM] [Warning] bagging_freq is set=5, subsample_freq=0 will be ignored. Current value: bagging_freq=5\n"
     ]
    },
    {
     "name": "stderr",
     "output_type": "stream",
     "text": [
      "/var/folders/qb/s5vw4nk95r53s007_f3ty08m0000gn/T/ipykernel_15260/2951571227.py:8: FutureWarning: suggest_loguniform has been deprecated in v3.0.0. This feature will be removed in v6.0.0. See https://github.com/optuna/optuna/releases/tag/v3.0.0. Use :func:`~optuna.trial.Trial.suggest_float` instead.\n",
      "  'lambda_l1': trial.suggest_loguniform('lambda_l1', 1e-8, 10.0),\n",
      "/var/folders/qb/s5vw4nk95r53s007_f3ty08m0000gn/T/ipykernel_15260/2951571227.py:9: FutureWarning: suggest_loguniform has been deprecated in v3.0.0. This feature will be removed in v6.0.0. See https://github.com/optuna/optuna/releases/tag/v3.0.0. Use :func:`~optuna.trial.Trial.suggest_float` instead.\n",
      "  'lambda_l2': trial.suggest_loguniform('lambda_l2', 1e-8, 10.0),\n",
      "/var/folders/qb/s5vw4nk95r53s007_f3ty08m0000gn/T/ipykernel_15260/2951571227.py:11: FutureWarning: suggest_uniform has been deprecated in v3.0.0. This feature will be removed in v6.0.0. See https://github.com/optuna/optuna/releases/tag/v3.0.0. Use :func:`~optuna.trial.Trial.suggest_float` instead.\n",
      "  'feature_fraction': trial.suggest_uniform('feature_fraction', 0.4, 1.0),\n",
      "/var/folders/qb/s5vw4nk95r53s007_f3ty08m0000gn/T/ipykernel_15260/2951571227.py:12: FutureWarning: suggest_uniform has been deprecated in v3.0.0. This feature will be removed in v6.0.0. See https://github.com/optuna/optuna/releases/tag/v3.0.0. Use :func:`~optuna.trial.Trial.suggest_float` instead.\n",
      "  'bagging_fraction': trial.suggest_uniform('bagging_fraction', 0.4, 1.0),\n",
      "/Users/youngseoklee/opt/anaconda3/envs/ai/lib/python3.10/site-packages/lightgbm/sklearn.py:726: UserWarning: 'early_stopping_rounds' argument is deprecated and will be removed in a future release of LightGBM. Pass 'early_stopping()' callback via 'callbacks' argument instead.\n",
      "  _log_warning(\"'early_stopping_rounds' argument is deprecated and will be removed in a future release of LightGBM. \"\n",
      "/Users/youngseoklee/opt/anaconda3/envs/ai/lib/python3.10/site-packages/lightgbm/sklearn.py:736: UserWarning: 'verbose' argument is deprecated and will be removed in a future release of LightGBM. Pass 'log_evaluation()' callback via 'callbacks' argument instead.\n",
      "  _log_warning(\"'verbose' argument is deprecated and will be removed in a future release of LightGBM. \"\n",
      "\u001b[32m[I 2023-08-01 00:03:55,375]\u001b[0m Trial 17 finished with value: 374575474665719.2 and parameters: {'lambda_l1': 3.344996424466998e-05, 'lambda_l2': 0.011828098225182639, 'num_leaves': 28, 'feature_fraction': 0.5829661219638861, 'bagging_fraction': 0.6388352499959179, 'bagging_freq': 5, 'min_child_samples': 60}. Best is trial 10 with value: 274129069360801.22.\u001b[0m\n"
     ]
    },
    {
     "name": "stdout",
     "output_type": "stream",
     "text": [
      "374575474665719.2\n",
      "[LightGBM] [Warning] feature_fraction is set=0.46953698658156356, colsample_bytree=1.0 will be ignored. Current value: feature_fraction=0.46953698658156356\n",
      "[LightGBM] [Warning] lambda_l1 is set=4.396072455681965e-07, reg_alpha=0.0 will be ignored. Current value: lambda_l1=4.396072455681965e-07\n",
      "[LightGBM] [Warning] bagging_fraction is set=0.5172287458183992, subsample=1.0 will be ignored. Current value: bagging_fraction=0.5172287458183992\n",
      "[LightGBM] [Warning] lambda_l2 is set=0.0001513905783338652, reg_lambda=0.0 will be ignored. Current value: lambda_l2=0.0001513905783338652\n",
      "[LightGBM] [Warning] bagging_freq is set=6, subsample_freq=0 will be ignored. Current value: bagging_freq=6\n"
     ]
    },
    {
     "name": "stderr",
     "output_type": "stream",
     "text": [
      "/var/folders/qb/s5vw4nk95r53s007_f3ty08m0000gn/T/ipykernel_15260/2951571227.py:8: FutureWarning: suggest_loguniform has been deprecated in v3.0.0. This feature will be removed in v6.0.0. See https://github.com/optuna/optuna/releases/tag/v3.0.0. Use :func:`~optuna.trial.Trial.suggest_float` instead.\n",
      "  'lambda_l1': trial.suggest_loguniform('lambda_l1', 1e-8, 10.0),\n",
      "/var/folders/qb/s5vw4nk95r53s007_f3ty08m0000gn/T/ipykernel_15260/2951571227.py:9: FutureWarning: suggest_loguniform has been deprecated in v3.0.0. This feature will be removed in v6.0.0. See https://github.com/optuna/optuna/releases/tag/v3.0.0. Use :func:`~optuna.trial.Trial.suggest_float` instead.\n",
      "  'lambda_l2': trial.suggest_loguniform('lambda_l2', 1e-8, 10.0),\n",
      "/var/folders/qb/s5vw4nk95r53s007_f3ty08m0000gn/T/ipykernel_15260/2951571227.py:11: FutureWarning: suggest_uniform has been deprecated in v3.0.0. This feature will be removed in v6.0.0. See https://github.com/optuna/optuna/releases/tag/v3.0.0. Use :func:`~optuna.trial.Trial.suggest_float` instead.\n",
      "  'feature_fraction': trial.suggest_uniform('feature_fraction', 0.4, 1.0),\n",
      "/var/folders/qb/s5vw4nk95r53s007_f3ty08m0000gn/T/ipykernel_15260/2951571227.py:12: FutureWarning: suggest_uniform has been deprecated in v3.0.0. This feature will be removed in v6.0.0. See https://github.com/optuna/optuna/releases/tag/v3.0.0. Use :func:`~optuna.trial.Trial.suggest_float` instead.\n",
      "  'bagging_fraction': trial.suggest_uniform('bagging_fraction', 0.4, 1.0),\n",
      "/Users/youngseoklee/opt/anaconda3/envs/ai/lib/python3.10/site-packages/lightgbm/sklearn.py:726: UserWarning: 'early_stopping_rounds' argument is deprecated and will be removed in a future release of LightGBM. Pass 'early_stopping()' callback via 'callbacks' argument instead.\n",
      "  _log_warning(\"'early_stopping_rounds' argument is deprecated and will be removed in a future release of LightGBM. \"\n",
      "/Users/youngseoklee/opt/anaconda3/envs/ai/lib/python3.10/site-packages/lightgbm/sklearn.py:736: UserWarning: 'verbose' argument is deprecated and will be removed in a future release of LightGBM. Pass 'log_evaluation()' callback via 'callbacks' argument instead.\n",
      "  _log_warning(\"'verbose' argument is deprecated and will be removed in a future release of LightGBM. \"\n",
      "\u001b[32m[I 2023-08-01 00:03:56,748]\u001b[0m Trial 18 finished with value: 431680959004718.8 and parameters: {'lambda_l1': 4.396072455681965e-07, 'lambda_l2': 0.0001513905783338652, 'num_leaves': 63, 'feature_fraction': 0.46953698658156356, 'bagging_fraction': 0.5172287458183992, 'bagging_freq': 6, 'min_child_samples': 30}. Best is trial 10 with value: 274129069360801.22.\u001b[0m\n"
     ]
    },
    {
     "name": "stdout",
     "output_type": "stream",
     "text": [
      "431680959004718.8\n",
      "[LightGBM] [Warning] feature_fraction is set=0.6283567084953877, colsample_bytree=1.0 will be ignored. Current value: feature_fraction=0.6283567084953877\n",
      "[LightGBM] [Warning] lambda_l1 is set=0.001992521019682039, reg_alpha=0.0 will be ignored. Current value: lambda_l1=0.001992521019682039\n",
      "[LightGBM] [Warning] bagging_fraction is set=0.6350784057798725, subsample=1.0 will be ignored. Current value: bagging_fraction=0.6350784057798725\n",
      "[LightGBM] [Warning] lambda_l2 is set=1.2194163921679017e-06, reg_lambda=0.0 will be ignored. Current value: lambda_l2=1.2194163921679017e-06\n",
      "[LightGBM] [Warning] bagging_freq is set=2, subsample_freq=0 will be ignored. Current value: bagging_freq=2\n"
     ]
    },
    {
     "name": "stderr",
     "output_type": "stream",
     "text": [
      "/var/folders/qb/s5vw4nk95r53s007_f3ty08m0000gn/T/ipykernel_15260/2951571227.py:8: FutureWarning: suggest_loguniform has been deprecated in v3.0.0. This feature will be removed in v6.0.0. See https://github.com/optuna/optuna/releases/tag/v3.0.0. Use :func:`~optuna.trial.Trial.suggest_float` instead.\n",
      "  'lambda_l1': trial.suggest_loguniform('lambda_l1', 1e-8, 10.0),\n",
      "/var/folders/qb/s5vw4nk95r53s007_f3ty08m0000gn/T/ipykernel_15260/2951571227.py:9: FutureWarning: suggest_loguniform has been deprecated in v3.0.0. This feature will be removed in v6.0.0. See https://github.com/optuna/optuna/releases/tag/v3.0.0. Use :func:`~optuna.trial.Trial.suggest_float` instead.\n",
      "  'lambda_l2': trial.suggest_loguniform('lambda_l2', 1e-8, 10.0),\n",
      "/var/folders/qb/s5vw4nk95r53s007_f3ty08m0000gn/T/ipykernel_15260/2951571227.py:11: FutureWarning: suggest_uniform has been deprecated in v3.0.0. This feature will be removed in v6.0.0. See https://github.com/optuna/optuna/releases/tag/v3.0.0. Use :func:`~optuna.trial.Trial.suggest_float` instead.\n",
      "  'feature_fraction': trial.suggest_uniform('feature_fraction', 0.4, 1.0),\n",
      "/var/folders/qb/s5vw4nk95r53s007_f3ty08m0000gn/T/ipykernel_15260/2951571227.py:12: FutureWarning: suggest_uniform has been deprecated in v3.0.0. This feature will be removed in v6.0.0. See https://github.com/optuna/optuna/releases/tag/v3.0.0. Use :func:`~optuna.trial.Trial.suggest_float` instead.\n",
      "  'bagging_fraction': trial.suggest_uniform('bagging_fraction', 0.4, 1.0),\n",
      "/Users/youngseoklee/opt/anaconda3/envs/ai/lib/python3.10/site-packages/lightgbm/sklearn.py:726: UserWarning: 'early_stopping_rounds' argument is deprecated and will be removed in a future release of LightGBM. Pass 'early_stopping()' callback via 'callbacks' argument instead.\n",
      "  _log_warning(\"'early_stopping_rounds' argument is deprecated and will be removed in a future release of LightGBM. \"\n",
      "/Users/youngseoklee/opt/anaconda3/envs/ai/lib/python3.10/site-packages/lightgbm/sklearn.py:736: UserWarning: 'verbose' argument is deprecated and will be removed in a future release of LightGBM. Pass 'log_evaluation()' callback via 'callbacks' argument instead.\n",
      "  _log_warning(\"'verbose' argument is deprecated and will be removed in a future release of LightGBM. \"\n",
      "\u001b[32m[I 2023-08-01 00:03:58,788]\u001b[0m Trial 19 finished with value: 428613556060692.9 and parameters: {'lambda_l1': 0.001992521019682039, 'lambda_l2': 1.2194163921679017e-06, 'num_leaves': 116, 'feature_fraction': 0.6283567084953877, 'bagging_fraction': 0.6350784057798725, 'bagging_freq': 2, 'min_child_samples': 78}. Best is trial 10 with value: 274129069360801.22.\u001b[0m\n"
     ]
    },
    {
     "name": "stdout",
     "output_type": "stream",
     "text": [
      "428613556060692.9\n",
      "[LightGBM] [Warning] feature_fraction is set=0.4112169653124506, colsample_bytree=1.0 will be ignored. Current value: feature_fraction=0.4112169653124506\n",
      "[LightGBM] [Warning] lambda_l1 is set=7.522493626742197e-05, reg_alpha=0.0 will be ignored. Current value: lambda_l1=7.522493626742197e-05\n",
      "[LightGBM] [Warning] bagging_fraction is set=0.7369489124782023, subsample=1.0 will be ignored. Current value: bagging_fraction=0.7369489124782023\n",
      "[LightGBM] [Warning] lambda_l2 is set=1.0368751895228725e-08, reg_lambda=0.0 will be ignored. Current value: lambda_l2=1.0368751895228725e-08\n",
      "[LightGBM] [Warning] bagging_freq is set=7, subsample_freq=0 will be ignored. Current value: bagging_freq=7\n"
     ]
    },
    {
     "name": "stderr",
     "output_type": "stream",
     "text": [
      "/var/folders/qb/s5vw4nk95r53s007_f3ty08m0000gn/T/ipykernel_15260/2951571227.py:8: FutureWarning: suggest_loguniform has been deprecated in v3.0.0. This feature will be removed in v6.0.0. See https://github.com/optuna/optuna/releases/tag/v3.0.0. Use :func:`~optuna.trial.Trial.suggest_float` instead.\n",
      "  'lambda_l1': trial.suggest_loguniform('lambda_l1', 1e-8, 10.0),\n",
      "/var/folders/qb/s5vw4nk95r53s007_f3ty08m0000gn/T/ipykernel_15260/2951571227.py:9: FutureWarning: suggest_loguniform has been deprecated in v3.0.0. This feature will be removed in v6.0.0. See https://github.com/optuna/optuna/releases/tag/v3.0.0. Use :func:`~optuna.trial.Trial.suggest_float` instead.\n",
      "  'lambda_l2': trial.suggest_loguniform('lambda_l2', 1e-8, 10.0),\n",
      "/var/folders/qb/s5vw4nk95r53s007_f3ty08m0000gn/T/ipykernel_15260/2951571227.py:11: FutureWarning: suggest_uniform has been deprecated in v3.0.0. This feature will be removed in v6.0.0. See https://github.com/optuna/optuna/releases/tag/v3.0.0. Use :func:`~optuna.trial.Trial.suggest_float` instead.\n",
      "  'feature_fraction': trial.suggest_uniform('feature_fraction', 0.4, 1.0),\n",
      "/var/folders/qb/s5vw4nk95r53s007_f3ty08m0000gn/T/ipykernel_15260/2951571227.py:12: FutureWarning: suggest_uniform has been deprecated in v3.0.0. This feature will be removed in v6.0.0. See https://github.com/optuna/optuna/releases/tag/v3.0.0. Use :func:`~optuna.trial.Trial.suggest_float` instead.\n",
      "  'bagging_fraction': trial.suggest_uniform('bagging_fraction', 0.4, 1.0),\n",
      "/Users/youngseoklee/opt/anaconda3/envs/ai/lib/python3.10/site-packages/lightgbm/sklearn.py:726: UserWarning: 'early_stopping_rounds' argument is deprecated and will be removed in a future release of LightGBM. Pass 'early_stopping()' callback via 'callbacks' argument instead.\n",
      "  _log_warning(\"'early_stopping_rounds' argument is deprecated and will be removed in a future release of LightGBM. \"\n",
      "/Users/youngseoklee/opt/anaconda3/envs/ai/lib/python3.10/site-packages/lightgbm/sklearn.py:736: UserWarning: 'verbose' argument is deprecated and will be removed in a future release of LightGBM. Pass 'log_evaluation()' callback via 'callbacks' argument instead.\n",
      "  _log_warning(\"'verbose' argument is deprecated and will be removed in a future release of LightGBM. \"\n",
      "\u001b[32m[I 2023-08-01 00:04:01,936]\u001b[0m Trial 20 finished with value: 381477469586563.6 and parameters: {'lambda_l1': 7.522493626742197e-05, 'lambda_l2': 1.0368751895228725e-08, 'num_leaves': 187, 'feature_fraction': 0.4112169653124506, 'bagging_fraction': 0.7369489124782023, 'bagging_freq': 7, 'min_child_samples': 94}. Best is trial 10 with value: 274129069360801.22.\u001b[0m\n"
     ]
    },
    {
     "name": "stdout",
     "output_type": "stream",
     "text": [
      "381477469586563.6\n",
      "[LightGBM] [Warning] feature_fraction is set=0.45190357947016724, colsample_bytree=1.0 will be ignored. Current value: feature_fraction=0.45190357947016724\n",
      "[LightGBM] [Warning] lambda_l1 is set=1.0478903229768956e-08, reg_alpha=0.0 will be ignored. Current value: lambda_l1=1.0478903229768956e-08\n",
      "[LightGBM] [Warning] bagging_fraction is set=0.5878882726075937, subsample=1.0 will be ignored. Current value: bagging_fraction=0.5878882726075937\n",
      "[LightGBM] [Warning] lambda_l2 is set=0.002903545266151598, reg_lambda=0.0 will be ignored. Current value: lambda_l2=0.002903545266151598\n",
      "[LightGBM] [Warning] bagging_freq is set=1, subsample_freq=0 will be ignored. Current value: bagging_freq=1\n"
     ]
    },
    {
     "name": "stderr",
     "output_type": "stream",
     "text": [
      "/var/folders/qb/s5vw4nk95r53s007_f3ty08m0000gn/T/ipykernel_15260/2951571227.py:8: FutureWarning: suggest_loguniform has been deprecated in v3.0.0. This feature will be removed in v6.0.0. See https://github.com/optuna/optuna/releases/tag/v3.0.0. Use :func:`~optuna.trial.Trial.suggest_float` instead.\n",
      "  'lambda_l1': trial.suggest_loguniform('lambda_l1', 1e-8, 10.0),\n",
      "/var/folders/qb/s5vw4nk95r53s007_f3ty08m0000gn/T/ipykernel_15260/2951571227.py:9: FutureWarning: suggest_loguniform has been deprecated in v3.0.0. This feature will be removed in v6.0.0. See https://github.com/optuna/optuna/releases/tag/v3.0.0. Use :func:`~optuna.trial.Trial.suggest_float` instead.\n",
      "  'lambda_l2': trial.suggest_loguniform('lambda_l2', 1e-8, 10.0),\n",
      "/var/folders/qb/s5vw4nk95r53s007_f3ty08m0000gn/T/ipykernel_15260/2951571227.py:11: FutureWarning: suggest_uniform has been deprecated in v3.0.0. This feature will be removed in v6.0.0. See https://github.com/optuna/optuna/releases/tag/v3.0.0. Use :func:`~optuna.trial.Trial.suggest_float` instead.\n",
      "  'feature_fraction': trial.suggest_uniform('feature_fraction', 0.4, 1.0),\n",
      "/var/folders/qb/s5vw4nk95r53s007_f3ty08m0000gn/T/ipykernel_15260/2951571227.py:12: FutureWarning: suggest_uniform has been deprecated in v3.0.0. This feature will be removed in v6.0.0. See https://github.com/optuna/optuna/releases/tag/v3.0.0. Use :func:`~optuna.trial.Trial.suggest_float` instead.\n",
      "  'bagging_fraction': trial.suggest_uniform('bagging_fraction', 0.4, 1.0),\n",
      "/Users/youngseoklee/opt/anaconda3/envs/ai/lib/python3.10/site-packages/lightgbm/sklearn.py:726: UserWarning: 'early_stopping_rounds' argument is deprecated and will be removed in a future release of LightGBM. Pass 'early_stopping()' callback via 'callbacks' argument instead.\n",
      "  _log_warning(\"'early_stopping_rounds' argument is deprecated and will be removed in a future release of LightGBM. \"\n",
      "/Users/youngseoklee/opt/anaconda3/envs/ai/lib/python3.10/site-packages/lightgbm/sklearn.py:736: UserWarning: 'verbose' argument is deprecated and will be removed in a future release of LightGBM. Pass 'log_evaluation()' callback via 'callbacks' argument instead.\n",
      "  _log_warning(\"'verbose' argument is deprecated and will be removed in a future release of LightGBM. \"\n",
      "\u001b[32m[I 2023-08-01 00:04:02,237]\u001b[0m Trial 21 finished with value: 276139270139126.97 and parameters: {'lambda_l1': 1.0478903229768956e-08, 'lambda_l2': 0.002903545266151598, 'num_leaves': 4, 'feature_fraction': 0.45190357947016724, 'bagging_fraction': 0.5878882726075937, 'bagging_freq': 1, 'min_child_samples': 99}. Best is trial 10 with value: 274129069360801.22.\u001b[0m\n"
     ]
    },
    {
     "name": "stdout",
     "output_type": "stream",
     "text": [
      "276139270139126.97\n",
      "[LightGBM] [Warning] feature_fraction is set=0.48570893084373457, colsample_bytree=1.0 will be ignored. Current value: feature_fraction=0.48570893084373457\n",
      "[LightGBM] [Warning] lambda_l1 is set=1.0968119566710379e-08, reg_alpha=0.0 will be ignored. Current value: lambda_l1=1.0968119566710379e-08\n",
      "[LightGBM] [Warning] bagging_fraction is set=0.5693705330787299, subsample=1.0 will be ignored. Current value: bagging_fraction=0.5693705330787299\n",
      "[LightGBM] [Warning] lambda_l2 is set=0.0011853765249955157, reg_lambda=0.0 will be ignored. Current value: lambda_l2=0.0011853765249955157\n",
      "[LightGBM] [Warning] bagging_freq is set=1, subsample_freq=0 will be ignored. Current value: bagging_freq=1\n"
     ]
    },
    {
     "name": "stderr",
     "output_type": "stream",
     "text": [
      "/var/folders/qb/s5vw4nk95r53s007_f3ty08m0000gn/T/ipykernel_15260/2951571227.py:8: FutureWarning: suggest_loguniform has been deprecated in v3.0.0. This feature will be removed in v6.0.0. See https://github.com/optuna/optuna/releases/tag/v3.0.0. Use :func:`~optuna.trial.Trial.suggest_float` instead.\n",
      "  'lambda_l1': trial.suggest_loguniform('lambda_l1', 1e-8, 10.0),\n",
      "/var/folders/qb/s5vw4nk95r53s007_f3ty08m0000gn/T/ipykernel_15260/2951571227.py:9: FutureWarning: suggest_loguniform has been deprecated in v3.0.0. This feature will be removed in v6.0.0. See https://github.com/optuna/optuna/releases/tag/v3.0.0. Use :func:`~optuna.trial.Trial.suggest_float` instead.\n",
      "  'lambda_l2': trial.suggest_loguniform('lambda_l2', 1e-8, 10.0),\n",
      "/var/folders/qb/s5vw4nk95r53s007_f3ty08m0000gn/T/ipykernel_15260/2951571227.py:11: FutureWarning: suggest_uniform has been deprecated in v3.0.0. This feature will be removed in v6.0.0. See https://github.com/optuna/optuna/releases/tag/v3.0.0. Use :func:`~optuna.trial.Trial.suggest_float` instead.\n",
      "  'feature_fraction': trial.suggest_uniform('feature_fraction', 0.4, 1.0),\n",
      "/var/folders/qb/s5vw4nk95r53s007_f3ty08m0000gn/T/ipykernel_15260/2951571227.py:12: FutureWarning: suggest_uniform has been deprecated in v3.0.0. This feature will be removed in v6.0.0. See https://github.com/optuna/optuna/releases/tag/v3.0.0. Use :func:`~optuna.trial.Trial.suggest_float` instead.\n",
      "  'bagging_fraction': trial.suggest_uniform('bagging_fraction', 0.4, 1.0),\n",
      "/Users/youngseoklee/opt/anaconda3/envs/ai/lib/python3.10/site-packages/lightgbm/sklearn.py:726: UserWarning: 'early_stopping_rounds' argument is deprecated and will be removed in a future release of LightGBM. Pass 'early_stopping()' callback via 'callbacks' argument instead.\n",
      "  _log_warning(\"'early_stopping_rounds' argument is deprecated and will be removed in a future release of LightGBM. \"\n",
      "/Users/youngseoklee/opt/anaconda3/envs/ai/lib/python3.10/site-packages/lightgbm/sklearn.py:736: UserWarning: 'verbose' argument is deprecated and will be removed in a future release of LightGBM. Pass 'log_evaluation()' callback via 'callbacks' argument instead.\n",
      "  _log_warning(\"'verbose' argument is deprecated and will be removed in a future release of LightGBM. \"\n",
      "\u001b[32m[I 2023-08-01 00:04:02,816]\u001b[0m Trial 22 finished with value: 350377766571128.5 and parameters: {'lambda_l1': 1.0968119566710379e-08, 'lambda_l2': 0.0011853765249955157, 'num_leaves': 15, 'feature_fraction': 0.48570893084373457, 'bagging_fraction': 0.5693705330787299, 'bagging_freq': 1, 'min_child_samples': 100}. Best is trial 10 with value: 274129069360801.22.\u001b[0m\n"
     ]
    },
    {
     "name": "stdout",
     "output_type": "stream",
     "text": [
      "350377766571128.5\n",
      "[LightGBM] [Warning] feature_fraction is set=0.4036677755882627, colsample_bytree=1.0 will be ignored. Current value: feature_fraction=0.4036677755882627\n",
      "[LightGBM] [Warning] lambda_l1 is set=1.2845332427790455e-07, reg_alpha=0.0 will be ignored. Current value: lambda_l1=1.2845332427790455e-07\n",
      "[LightGBM] [Warning] bagging_fraction is set=0.49403136330394437, subsample=1.0 will be ignored. Current value: bagging_fraction=0.49403136330394437\n",
      "[LightGBM] [Warning] lambda_l2 is set=0.07588423581756991, reg_lambda=0.0 will be ignored. Current value: lambda_l2=0.07588423581756991\n",
      "[LightGBM] [Warning] bagging_freq is set=2, subsample_freq=0 will be ignored. Current value: bagging_freq=2\n"
     ]
    },
    {
     "name": "stderr",
     "output_type": "stream",
     "text": [
      "/var/folders/qb/s5vw4nk95r53s007_f3ty08m0000gn/T/ipykernel_15260/2951571227.py:8: FutureWarning: suggest_loguniform has been deprecated in v3.0.0. This feature will be removed in v6.0.0. See https://github.com/optuna/optuna/releases/tag/v3.0.0. Use :func:`~optuna.trial.Trial.suggest_float` instead.\n",
      "  'lambda_l1': trial.suggest_loguniform('lambda_l1', 1e-8, 10.0),\n",
      "/var/folders/qb/s5vw4nk95r53s007_f3ty08m0000gn/T/ipykernel_15260/2951571227.py:9: FutureWarning: suggest_loguniform has been deprecated in v3.0.0. This feature will be removed in v6.0.0. See https://github.com/optuna/optuna/releases/tag/v3.0.0. Use :func:`~optuna.trial.Trial.suggest_float` instead.\n",
      "  'lambda_l2': trial.suggest_loguniform('lambda_l2', 1e-8, 10.0),\n",
      "/var/folders/qb/s5vw4nk95r53s007_f3ty08m0000gn/T/ipykernel_15260/2951571227.py:11: FutureWarning: suggest_uniform has been deprecated in v3.0.0. This feature will be removed in v6.0.0. See https://github.com/optuna/optuna/releases/tag/v3.0.0. Use :func:`~optuna.trial.Trial.suggest_float` instead.\n",
      "  'feature_fraction': trial.suggest_uniform('feature_fraction', 0.4, 1.0),\n",
      "/var/folders/qb/s5vw4nk95r53s007_f3ty08m0000gn/T/ipykernel_15260/2951571227.py:12: FutureWarning: suggest_uniform has been deprecated in v3.0.0. This feature will be removed in v6.0.0. See https://github.com/optuna/optuna/releases/tag/v3.0.0. Use :func:`~optuna.trial.Trial.suggest_float` instead.\n",
      "  'bagging_fraction': trial.suggest_uniform('bagging_fraction', 0.4, 1.0),\n",
      "/Users/youngseoklee/opt/anaconda3/envs/ai/lib/python3.10/site-packages/lightgbm/sklearn.py:726: UserWarning: 'early_stopping_rounds' argument is deprecated and will be removed in a future release of LightGBM. Pass 'early_stopping()' callback via 'callbacks' argument instead.\n",
      "  _log_warning(\"'early_stopping_rounds' argument is deprecated and will be removed in a future release of LightGBM. \"\n",
      "/Users/youngseoklee/opt/anaconda3/envs/ai/lib/python3.10/site-packages/lightgbm/sklearn.py:736: UserWarning: 'verbose' argument is deprecated and will be removed in a future release of LightGBM. Pass 'log_evaluation()' callback via 'callbacks' argument instead.\n",
      "  _log_warning(\"'verbose' argument is deprecated and will be removed in a future release of LightGBM. \"\n",
      "\u001b[32m[I 2023-08-01 00:04:04,120]\u001b[0m Trial 23 finished with value: 414354878319569.44 and parameters: {'lambda_l1': 1.2845332427790455e-07, 'lambda_l2': 0.07588423581756991, 'num_leaves': 55, 'feature_fraction': 0.4036677755882627, 'bagging_fraction': 0.49403136330394437, 'bagging_freq': 2, 'min_child_samples': 79}. Best is trial 10 with value: 274129069360801.22.\u001b[0m\n"
     ]
    },
    {
     "name": "stdout",
     "output_type": "stream",
     "text": [
      "414354878319569.44\n",
      "[LightGBM] [Warning] feature_fraction is set=0.45232106927165816, colsample_bytree=1.0 will be ignored. Current value: feature_fraction=0.45232106927165816\n",
      "[LightGBM] [Warning] lambda_l1 is set=1.7814772365807624e-06, reg_alpha=0.0 will be ignored. Current value: lambda_l1=1.7814772365807624e-06\n",
      "[LightGBM] [Warning] bagging_fraction is set=0.6193550345950016, subsample=1.0 will be ignored. Current value: bagging_fraction=0.6193550345950016\n",
      "[LightGBM] [Warning] lambda_l2 is set=4.255912789477217e-05, reg_lambda=0.0 will be ignored. Current value: lambda_l2=4.255912789477217e-05\n",
      "[LightGBM] [Warning] bagging_freq is set=1, subsample_freq=0 will be ignored. Current value: bagging_freq=1\n"
     ]
    },
    {
     "name": "stderr",
     "output_type": "stream",
     "text": [
      "/var/folders/qb/s5vw4nk95r53s007_f3ty08m0000gn/T/ipykernel_15260/2951571227.py:8: FutureWarning: suggest_loguniform has been deprecated in v3.0.0. This feature will be removed in v6.0.0. See https://github.com/optuna/optuna/releases/tag/v3.0.0. Use :func:`~optuna.trial.Trial.suggest_float` instead.\n",
      "  'lambda_l1': trial.suggest_loguniform('lambda_l1', 1e-8, 10.0),\n",
      "/var/folders/qb/s5vw4nk95r53s007_f3ty08m0000gn/T/ipykernel_15260/2951571227.py:9: FutureWarning: suggest_loguniform has been deprecated in v3.0.0. This feature will be removed in v6.0.0. See https://github.com/optuna/optuna/releases/tag/v3.0.0. Use :func:`~optuna.trial.Trial.suggest_float` instead.\n",
      "  'lambda_l2': trial.suggest_loguniform('lambda_l2', 1e-8, 10.0),\n",
      "/var/folders/qb/s5vw4nk95r53s007_f3ty08m0000gn/T/ipykernel_15260/2951571227.py:11: FutureWarning: suggest_uniform has been deprecated in v3.0.0. This feature will be removed in v6.0.0. See https://github.com/optuna/optuna/releases/tag/v3.0.0. Use :func:`~optuna.trial.Trial.suggest_float` instead.\n",
      "  'feature_fraction': trial.suggest_uniform('feature_fraction', 0.4, 1.0),\n",
      "/var/folders/qb/s5vw4nk95r53s007_f3ty08m0000gn/T/ipykernel_15260/2951571227.py:12: FutureWarning: suggest_uniform has been deprecated in v3.0.0. This feature will be removed in v6.0.0. See https://github.com/optuna/optuna/releases/tag/v3.0.0. Use :func:`~optuna.trial.Trial.suggest_float` instead.\n",
      "  'bagging_fraction': trial.suggest_uniform('bagging_fraction', 0.4, 1.0),\n",
      "/Users/youngseoklee/opt/anaconda3/envs/ai/lib/python3.10/site-packages/lightgbm/sklearn.py:726: UserWarning: 'early_stopping_rounds' argument is deprecated and will be removed in a future release of LightGBM. Pass 'early_stopping()' callback via 'callbacks' argument instead.\n",
      "  _log_warning(\"'early_stopping_rounds' argument is deprecated and will be removed in a future release of LightGBM. \"\n",
      "/Users/youngseoklee/opt/anaconda3/envs/ai/lib/python3.10/site-packages/lightgbm/sklearn.py:736: UserWarning: 'verbose' argument is deprecated and will be removed in a future release of LightGBM. Pass 'log_evaluation()' callback via 'callbacks' argument instead.\n",
      "  _log_warning(\"'verbose' argument is deprecated and will be removed in a future release of LightGBM. \"\n",
      "\u001b[32m[I 2023-08-01 00:04:04,844]\u001b[0m Trial 24 finished with value: 330981302400941.2 and parameters: {'lambda_l1': 1.7814772365807624e-06, 'lambda_l2': 4.255912789477217e-05, 'num_leaves': 22, 'feature_fraction': 0.45232106927165816, 'bagging_fraction': 0.6193550345950016, 'bagging_freq': 1, 'min_child_samples': 90}. Best is trial 10 with value: 274129069360801.22.\u001b[0m\n"
     ]
    },
    {
     "name": "stdout",
     "output_type": "stream",
     "text": [
      "330981302400941.2\n",
      "[LightGBM] [Warning] feature_fraction is set=0.5212490274731405, colsample_bytree=1.0 will be ignored. Current value: feature_fraction=0.5212490274731405\n",
      "[LightGBM] [Warning] lambda_l1 is set=1.1645610767559877e-07, reg_alpha=0.0 will be ignored. Current value: lambda_l1=1.1645610767559877e-07\n",
      "[LightGBM] [Warning] bagging_fraction is set=0.5557507131248682, subsample=1.0 will be ignored. Current value: bagging_fraction=0.5557507131248682\n",
      "[LightGBM] [Warning] lambda_l2 is set=0.0005465134122577566, reg_lambda=0.0 will be ignored. Current value: lambda_l2=0.0005465134122577566\n",
      "[LightGBM] [Warning] bagging_freq is set=3, subsample_freq=0 will be ignored. Current value: bagging_freq=3\n"
     ]
    },
    {
     "name": "stderr",
     "output_type": "stream",
     "text": [
      "/var/folders/qb/s5vw4nk95r53s007_f3ty08m0000gn/T/ipykernel_15260/2951571227.py:8: FutureWarning: suggest_loguniform has been deprecated in v3.0.0. This feature will be removed in v6.0.0. See https://github.com/optuna/optuna/releases/tag/v3.0.0. Use :func:`~optuna.trial.Trial.suggest_float` instead.\n",
      "  'lambda_l1': trial.suggest_loguniform('lambda_l1', 1e-8, 10.0),\n",
      "/var/folders/qb/s5vw4nk95r53s007_f3ty08m0000gn/T/ipykernel_15260/2951571227.py:9: FutureWarning: suggest_loguniform has been deprecated in v3.0.0. This feature will be removed in v6.0.0. See https://github.com/optuna/optuna/releases/tag/v3.0.0. Use :func:`~optuna.trial.Trial.suggest_float` instead.\n",
      "  'lambda_l2': trial.suggest_loguniform('lambda_l2', 1e-8, 10.0),\n",
      "/var/folders/qb/s5vw4nk95r53s007_f3ty08m0000gn/T/ipykernel_15260/2951571227.py:11: FutureWarning: suggest_uniform has been deprecated in v3.0.0. This feature will be removed in v6.0.0. See https://github.com/optuna/optuna/releases/tag/v3.0.0. Use :func:`~optuna.trial.Trial.suggest_float` instead.\n",
      "  'feature_fraction': trial.suggest_uniform('feature_fraction', 0.4, 1.0),\n",
      "/var/folders/qb/s5vw4nk95r53s007_f3ty08m0000gn/T/ipykernel_15260/2951571227.py:12: FutureWarning: suggest_uniform has been deprecated in v3.0.0. This feature will be removed in v6.0.0. See https://github.com/optuna/optuna/releases/tag/v3.0.0. Use :func:`~optuna.trial.Trial.suggest_float` instead.\n",
      "  'bagging_fraction': trial.suggest_uniform('bagging_fraction', 0.4, 1.0),\n",
      "/Users/youngseoklee/opt/anaconda3/envs/ai/lib/python3.10/site-packages/lightgbm/sklearn.py:726: UserWarning: 'early_stopping_rounds' argument is deprecated and will be removed in a future release of LightGBM. Pass 'early_stopping()' callback via 'callbacks' argument instead.\n",
      "  _log_warning(\"'early_stopping_rounds' argument is deprecated and will be removed in a future release of LightGBM. \"\n",
      "/Users/youngseoklee/opt/anaconda3/envs/ai/lib/python3.10/site-packages/lightgbm/sklearn.py:736: UserWarning: 'verbose' argument is deprecated and will be removed in a future release of LightGBM. Pass 'log_evaluation()' callback via 'callbacks' argument instead.\n",
      "  _log_warning(\"'verbose' argument is deprecated and will be removed in a future release of LightGBM. \"\n",
      "\u001b[32m[I 2023-08-01 00:04:05,086]\u001b[0m Trial 25 finished with value: 276549658107821.38 and parameters: {'lambda_l1': 1.1645610767559877e-07, 'lambda_l2': 0.0005465134122577566, 'num_leaves': 2, 'feature_fraction': 0.5212490274731405, 'bagging_fraction': 0.5557507131248682, 'bagging_freq': 3, 'min_child_samples': 57}. Best is trial 10 with value: 274129069360801.22.\u001b[0m\n"
     ]
    },
    {
     "name": "stdout",
     "output_type": "stream",
     "text": [
      "276549658107821.38\n",
      "[LightGBM] [Warning] feature_fraction is set=0.49057756333295766, colsample_bytree=1.0 will be ignored. Current value: feature_fraction=0.49057756333295766\n",
      "[LightGBM] [Warning] lambda_l1 is set=5.91009201329863e-08, reg_alpha=0.0 will be ignored. Current value: lambda_l1=5.91009201329863e-08\n",
      "[LightGBM] [Warning] bagging_fraction is set=0.5457919849079202, subsample=1.0 will be ignored. Current value: bagging_fraction=0.5457919849079202\n",
      "[LightGBM] [Warning] lambda_l2 is set=0.0012342894251429434, reg_lambda=0.0 will be ignored. Current value: lambda_l2=0.0012342894251429434\n",
      "[LightGBM] [Warning] bagging_freq is set=2, subsample_freq=0 will be ignored. Current value: bagging_freq=2\n"
     ]
    },
    {
     "name": "stderr",
     "output_type": "stream",
     "text": [
      "/var/folders/qb/s5vw4nk95r53s007_f3ty08m0000gn/T/ipykernel_15260/2951571227.py:8: FutureWarning: suggest_loguniform has been deprecated in v3.0.0. This feature will be removed in v6.0.0. See https://github.com/optuna/optuna/releases/tag/v3.0.0. Use :func:`~optuna.trial.Trial.suggest_float` instead.\n",
      "  'lambda_l1': trial.suggest_loguniform('lambda_l1', 1e-8, 10.0),\n",
      "/var/folders/qb/s5vw4nk95r53s007_f3ty08m0000gn/T/ipykernel_15260/2951571227.py:9: FutureWarning: suggest_loguniform has been deprecated in v3.0.0. This feature will be removed in v6.0.0. See https://github.com/optuna/optuna/releases/tag/v3.0.0. Use :func:`~optuna.trial.Trial.suggest_float` instead.\n",
      "  'lambda_l2': trial.suggest_loguniform('lambda_l2', 1e-8, 10.0),\n",
      "/var/folders/qb/s5vw4nk95r53s007_f3ty08m0000gn/T/ipykernel_15260/2951571227.py:11: FutureWarning: suggest_uniform has been deprecated in v3.0.0. This feature will be removed in v6.0.0. See https://github.com/optuna/optuna/releases/tag/v3.0.0. Use :func:`~optuna.trial.Trial.suggest_float` instead.\n",
      "  'feature_fraction': trial.suggest_uniform('feature_fraction', 0.4, 1.0),\n",
      "/var/folders/qb/s5vw4nk95r53s007_f3ty08m0000gn/T/ipykernel_15260/2951571227.py:12: FutureWarning: suggest_uniform has been deprecated in v3.0.0. This feature will be removed in v6.0.0. See https://github.com/optuna/optuna/releases/tag/v3.0.0. Use :func:`~optuna.trial.Trial.suggest_float` instead.\n",
      "  'bagging_fraction': trial.suggest_uniform('bagging_fraction', 0.4, 1.0),\n",
      "/Users/youngseoklee/opt/anaconda3/envs/ai/lib/python3.10/site-packages/lightgbm/sklearn.py:726: UserWarning: 'early_stopping_rounds' argument is deprecated and will be removed in a future release of LightGBM. Pass 'early_stopping()' callback via 'callbacks' argument instead.\n",
      "  _log_warning(\"'early_stopping_rounds' argument is deprecated and will be removed in a future release of LightGBM. \"\n",
      "/Users/youngseoklee/opt/anaconda3/envs/ai/lib/python3.10/site-packages/lightgbm/sklearn.py:736: UserWarning: 'verbose' argument is deprecated and will be removed in a future release of LightGBM. Pass 'log_evaluation()' callback via 'callbacks' argument instead.\n",
      "  _log_warning(\"'verbose' argument is deprecated and will be removed in a future release of LightGBM. \"\n",
      "\u001b[32m[I 2023-08-01 00:04:06,404]\u001b[0m Trial 26 finished with value: 432217031084142.06 and parameters: {'lambda_l1': 5.91009201329863e-08, 'lambda_l2': 0.0012342894251429434, 'num_leaves': 56, 'feature_fraction': 0.49057756333295766, 'bagging_fraction': 0.5457919849079202, 'bagging_freq': 2, 'min_child_samples': 19}. Best is trial 10 with value: 274129069360801.22.\u001b[0m\n"
     ]
    },
    {
     "name": "stdout",
     "output_type": "stream",
     "text": [
      "432217031084142.06\n",
      "[LightGBM] [Warning] feature_fraction is set=0.4535758477359798, colsample_bytree=1.0 will be ignored. Current value: feature_fraction=0.4535758477359798\n",
      "[LightGBM] [Warning] lambda_l1 is set=4.935231980569852e-08, reg_alpha=0.0 will be ignored. Current value: lambda_l1=4.935231980569852e-08\n",
      "[LightGBM] [Warning] bagging_fraction is set=0.6516061079724416, subsample=1.0 will be ignored. Current value: bagging_fraction=0.6516061079724416\n",
      "[LightGBM] [Warning] lambda_l2 is set=0.027804733321532268, reg_lambda=0.0 will be ignored. Current value: lambda_l2=0.027804733321532268\n",
      "[LightGBM] [Warning] bagging_freq is set=3, subsample_freq=0 will be ignored. Current value: bagging_freq=3\n"
     ]
    },
    {
     "name": "stderr",
     "output_type": "stream",
     "text": [
      "/var/folders/qb/s5vw4nk95r53s007_f3ty08m0000gn/T/ipykernel_15260/2951571227.py:8: FutureWarning: suggest_loguniform has been deprecated in v3.0.0. This feature will be removed in v6.0.0. See https://github.com/optuna/optuna/releases/tag/v3.0.0. Use :func:`~optuna.trial.Trial.suggest_float` instead.\n",
      "  'lambda_l1': trial.suggest_loguniform('lambda_l1', 1e-8, 10.0),\n",
      "/var/folders/qb/s5vw4nk95r53s007_f3ty08m0000gn/T/ipykernel_15260/2951571227.py:9: FutureWarning: suggest_loguniform has been deprecated in v3.0.0. This feature will be removed in v6.0.0. See https://github.com/optuna/optuna/releases/tag/v3.0.0. Use :func:`~optuna.trial.Trial.suggest_float` instead.\n",
      "  'lambda_l2': trial.suggest_loguniform('lambda_l2', 1e-8, 10.0),\n",
      "/var/folders/qb/s5vw4nk95r53s007_f3ty08m0000gn/T/ipykernel_15260/2951571227.py:11: FutureWarning: suggest_uniform has been deprecated in v3.0.0. This feature will be removed in v6.0.0. See https://github.com/optuna/optuna/releases/tag/v3.0.0. Use :func:`~optuna.trial.Trial.suggest_float` instead.\n",
      "  'feature_fraction': trial.suggest_uniform('feature_fraction', 0.4, 1.0),\n",
      "/var/folders/qb/s5vw4nk95r53s007_f3ty08m0000gn/T/ipykernel_15260/2951571227.py:12: FutureWarning: suggest_uniform has been deprecated in v3.0.0. This feature will be removed in v6.0.0. See https://github.com/optuna/optuna/releases/tag/v3.0.0. Use :func:`~optuna.trial.Trial.suggest_float` instead.\n",
      "  'bagging_fraction': trial.suggest_uniform('bagging_fraction', 0.4, 1.0),\n",
      "/Users/youngseoklee/opt/anaconda3/envs/ai/lib/python3.10/site-packages/lightgbm/sklearn.py:726: UserWarning: 'early_stopping_rounds' argument is deprecated and will be removed in a future release of LightGBM. Pass 'early_stopping()' callback via 'callbacks' argument instead.\n",
      "  _log_warning(\"'early_stopping_rounds' argument is deprecated and will be removed in a future release of LightGBM. \"\n",
      "/Users/youngseoklee/opt/anaconda3/envs/ai/lib/python3.10/site-packages/lightgbm/sklearn.py:736: UserWarning: 'verbose' argument is deprecated and will be removed in a future release of LightGBM. Pass 'log_evaluation()' callback via 'callbacks' argument instead.\n",
      "  _log_warning(\"'verbose' argument is deprecated and will be removed in a future release of LightGBM. \"\n",
      "\u001b[32m[I 2023-08-01 00:04:07,205]\u001b[0m Trial 27 finished with value: 352352427279015.4 and parameters: {'lambda_l1': 4.935231980569852e-08, 'lambda_l2': 0.027804733321532268, 'num_leaves': 22, 'feature_fraction': 0.4535758477359798, 'bagging_fraction': 0.6516061079724416, 'bagging_freq': 3, 'min_child_samples': 33}. Best is trial 10 with value: 274129069360801.22.\u001b[0m\n"
     ]
    },
    {
     "name": "stdout",
     "output_type": "stream",
     "text": [
      "352352427279015.4\n",
      "[LightGBM] [Warning] feature_fraction is set=0.5221378767808701, colsample_bytree=1.0 will be ignored. Current value: feature_fraction=0.5221378767808701\n",
      "[LightGBM] [Warning] lambda_l1 is set=2.6875046704748765e-07, reg_alpha=0.0 will be ignored. Current value: lambda_l1=2.6875046704748765e-07\n",
      "[LightGBM] [Warning] bagging_fraction is set=0.5992348623641316, subsample=1.0 will be ignored. Current value: bagging_fraction=0.5992348623641316\n",
      "[LightGBM] [Warning] lambda_l2 is set=0.00677764601602058, reg_lambda=0.0 will be ignored. Current value: lambda_l2=0.00677764601602058\n",
      "[LightGBM] [Warning] bagging_freq is set=1, subsample_freq=0 will be ignored. Current value: bagging_freq=1\n"
     ]
    },
    {
     "name": "stderr",
     "output_type": "stream",
     "text": [
      "/var/folders/qb/s5vw4nk95r53s007_f3ty08m0000gn/T/ipykernel_15260/2951571227.py:8: FutureWarning: suggest_loguniform has been deprecated in v3.0.0. This feature will be removed in v6.0.0. See https://github.com/optuna/optuna/releases/tag/v3.0.0. Use :func:`~optuna.trial.Trial.suggest_float` instead.\n",
      "  'lambda_l1': trial.suggest_loguniform('lambda_l1', 1e-8, 10.0),\n",
      "/var/folders/qb/s5vw4nk95r53s007_f3ty08m0000gn/T/ipykernel_15260/2951571227.py:9: FutureWarning: suggest_loguniform has been deprecated in v3.0.0. This feature will be removed in v6.0.0. See https://github.com/optuna/optuna/releases/tag/v3.0.0. Use :func:`~optuna.trial.Trial.suggest_float` instead.\n",
      "  'lambda_l2': trial.suggest_loguniform('lambda_l2', 1e-8, 10.0),\n",
      "/var/folders/qb/s5vw4nk95r53s007_f3ty08m0000gn/T/ipykernel_15260/2951571227.py:11: FutureWarning: suggest_uniform has been deprecated in v3.0.0. This feature will be removed in v6.0.0. See https://github.com/optuna/optuna/releases/tag/v3.0.0. Use :func:`~optuna.trial.Trial.suggest_float` instead.\n",
      "  'feature_fraction': trial.suggest_uniform('feature_fraction', 0.4, 1.0),\n",
      "/var/folders/qb/s5vw4nk95r53s007_f3ty08m0000gn/T/ipykernel_15260/2951571227.py:12: FutureWarning: suggest_uniform has been deprecated in v3.0.0. This feature will be removed in v6.0.0. See https://github.com/optuna/optuna/releases/tag/v3.0.0. Use :func:`~optuna.trial.Trial.suggest_float` instead.\n",
      "  'bagging_fraction': trial.suggest_uniform('bagging_fraction', 0.4, 1.0),\n",
      "/Users/youngseoklee/opt/anaconda3/envs/ai/lib/python3.10/site-packages/lightgbm/sklearn.py:726: UserWarning: 'early_stopping_rounds' argument is deprecated and will be removed in a future release of LightGBM. Pass 'early_stopping()' callback via 'callbacks' argument instead.\n",
      "  _log_warning(\"'early_stopping_rounds' argument is deprecated and will be removed in a future release of LightGBM. \"\n",
      "/Users/youngseoklee/opt/anaconda3/envs/ai/lib/python3.10/site-packages/lightgbm/sklearn.py:736: UserWarning: 'verbose' argument is deprecated and will be removed in a future release of LightGBM. Pass 'log_evaluation()' callback via 'callbacks' argument instead.\n",
      "  _log_warning(\"'verbose' argument is deprecated and will be removed in a future release of LightGBM. \"\n",
      "\u001b[32m[I 2023-08-01 00:04:09,036]\u001b[0m Trial 28 finished with value: 318891759513766.25 and parameters: {'lambda_l1': 2.6875046704748765e-07, 'lambda_l2': 0.00677764601602058, 'num_leaves': 107, 'feature_fraction': 0.5221378767808701, 'bagging_fraction': 0.5992348623641316, 'bagging_freq': 1, 'min_child_samples': 55}. Best is trial 10 with value: 274129069360801.22.\u001b[0m\n"
     ]
    },
    {
     "name": "stdout",
     "output_type": "stream",
     "text": [
      "318891759513766.25\n",
      "[LightGBM] [Warning] feature_fraction is set=0.45253857580221357, colsample_bytree=1.0 will be ignored. Current value: feature_fraction=0.45253857580221357\n",
      "[LightGBM] [Warning] lambda_l1 is set=9.324339333418205e-07, reg_alpha=0.0 will be ignored. Current value: lambda_l1=9.324339333418205e-07\n",
      "[LightGBM] [Warning] bagging_fraction is set=0.5475795339083415, subsample=1.0 will be ignored. Current value: bagging_fraction=0.5475795339083415\n",
      "[LightGBM] [Warning] lambda_l2 is set=0.1388163217071355, reg_lambda=0.0 will be ignored. Current value: lambda_l2=0.1388163217071355\n",
      "[LightGBM] [Warning] bagging_freq is set=2, subsample_freq=0 will be ignored. Current value: bagging_freq=2\n"
     ]
    },
    {
     "name": "stderr",
     "output_type": "stream",
     "text": [
      "/var/folders/qb/s5vw4nk95r53s007_f3ty08m0000gn/T/ipykernel_15260/2951571227.py:8: FutureWarning: suggest_loguniform has been deprecated in v3.0.0. This feature will be removed in v6.0.0. See https://github.com/optuna/optuna/releases/tag/v3.0.0. Use :func:`~optuna.trial.Trial.suggest_float` instead.\n",
      "  'lambda_l1': trial.suggest_loguniform('lambda_l1', 1e-8, 10.0),\n",
      "/var/folders/qb/s5vw4nk95r53s007_f3ty08m0000gn/T/ipykernel_15260/2951571227.py:9: FutureWarning: suggest_loguniform has been deprecated in v3.0.0. This feature will be removed in v6.0.0. See https://github.com/optuna/optuna/releases/tag/v3.0.0. Use :func:`~optuna.trial.Trial.suggest_float` instead.\n",
      "  'lambda_l2': trial.suggest_loguniform('lambda_l2', 1e-8, 10.0),\n",
      "/var/folders/qb/s5vw4nk95r53s007_f3ty08m0000gn/T/ipykernel_15260/2951571227.py:11: FutureWarning: suggest_uniform has been deprecated in v3.0.0. This feature will be removed in v6.0.0. See https://github.com/optuna/optuna/releases/tag/v3.0.0. Use :func:`~optuna.trial.Trial.suggest_float` instead.\n",
      "  'feature_fraction': trial.suggest_uniform('feature_fraction', 0.4, 1.0),\n",
      "/var/folders/qb/s5vw4nk95r53s007_f3ty08m0000gn/T/ipykernel_15260/2951571227.py:12: FutureWarning: suggest_uniform has been deprecated in v3.0.0. This feature will be removed in v6.0.0. See https://github.com/optuna/optuna/releases/tag/v3.0.0. Use :func:`~optuna.trial.Trial.suggest_float` instead.\n",
      "  'bagging_fraction': trial.suggest_uniform('bagging_fraction', 0.4, 1.0),\n",
      "/Users/youngseoklee/opt/anaconda3/envs/ai/lib/python3.10/site-packages/lightgbm/sklearn.py:726: UserWarning: 'early_stopping_rounds' argument is deprecated and will be removed in a future release of LightGBM. Pass 'early_stopping()' callback via 'callbacks' argument instead.\n",
      "  _log_warning(\"'early_stopping_rounds' argument is deprecated and will be removed in a future release of LightGBM. \"\n",
      "/Users/youngseoklee/opt/anaconda3/envs/ai/lib/python3.10/site-packages/lightgbm/sklearn.py:736: UserWarning: 'verbose' argument is deprecated and will be removed in a future release of LightGBM. Pass 'log_evaluation()' callback via 'callbacks' argument instead.\n",
      "  _log_warning(\"'verbose' argument is deprecated and will be removed in a future release of LightGBM. \"\n",
      "\u001b[32m[I 2023-08-01 00:04:11,599]\u001b[0m Trial 29 finished with value: 346099467420563.4 and parameters: {'lambda_l1': 9.324339333418205e-07, 'lambda_l2': 0.1388163217071355, 'num_leaves': 149, 'feature_fraction': 0.45253857580221357, 'bagging_fraction': 0.5475795339083415, 'bagging_freq': 2, 'min_child_samples': 62}. Best is trial 10 with value: 274129069360801.22.\u001b[0m\n"
     ]
    },
    {
     "name": "stdout",
     "output_type": "stream",
     "text": [
      "346099467420563.4\n",
      "[LightGBM] [Warning] feature_fraction is set=0.5694005584096956, colsample_bytree=1.0 will be ignored. Current value: feature_fraction=0.5694005584096956\n",
      "[LightGBM] [Warning] lambda_l1 is set=3.8322927384723217e-08, reg_alpha=0.0 will be ignored. Current value: lambda_l1=3.8322927384723217e-08\n",
      "[LightGBM] [Warning] bagging_fraction is set=0.6710259633956248, subsample=1.0 will be ignored. Current value: bagging_fraction=0.6710259633956248\n",
      "[LightGBM] [Warning] lambda_l2 is set=0.0006652708673363411, reg_lambda=0.0 will be ignored. Current value: lambda_l2=0.0006652708673363411\n",
      "[LightGBM] [Warning] bagging_freq is set=3, subsample_freq=0 will be ignored. Current value: bagging_freq=3\n"
     ]
    },
    {
     "name": "stderr",
     "output_type": "stream",
     "text": [
      "/var/folders/qb/s5vw4nk95r53s007_f3ty08m0000gn/T/ipykernel_15260/2951571227.py:8: FutureWarning: suggest_loguniform has been deprecated in v3.0.0. This feature will be removed in v6.0.0. See https://github.com/optuna/optuna/releases/tag/v3.0.0. Use :func:`~optuna.trial.Trial.suggest_float` instead.\n",
      "  'lambda_l1': trial.suggest_loguniform('lambda_l1', 1e-8, 10.0),\n",
      "/var/folders/qb/s5vw4nk95r53s007_f3ty08m0000gn/T/ipykernel_15260/2951571227.py:9: FutureWarning: suggest_loguniform has been deprecated in v3.0.0. This feature will be removed in v6.0.0. See https://github.com/optuna/optuna/releases/tag/v3.0.0. Use :func:`~optuna.trial.Trial.suggest_float` instead.\n",
      "  'lambda_l2': trial.suggest_loguniform('lambda_l2', 1e-8, 10.0),\n",
      "/var/folders/qb/s5vw4nk95r53s007_f3ty08m0000gn/T/ipykernel_15260/2951571227.py:11: FutureWarning: suggest_uniform has been deprecated in v3.0.0. This feature will be removed in v6.0.0. See https://github.com/optuna/optuna/releases/tag/v3.0.0. Use :func:`~optuna.trial.Trial.suggest_float` instead.\n",
      "  'feature_fraction': trial.suggest_uniform('feature_fraction', 0.4, 1.0),\n",
      "/var/folders/qb/s5vw4nk95r53s007_f3ty08m0000gn/T/ipykernel_15260/2951571227.py:12: FutureWarning: suggest_uniform has been deprecated in v3.0.0. This feature will be removed in v6.0.0. See https://github.com/optuna/optuna/releases/tag/v3.0.0. Use :func:`~optuna.trial.Trial.suggest_float` instead.\n",
      "  'bagging_fraction': trial.suggest_uniform('bagging_fraction', 0.4, 1.0),\n",
      "/Users/youngseoklee/opt/anaconda3/envs/ai/lib/python3.10/site-packages/lightgbm/sklearn.py:726: UserWarning: 'early_stopping_rounds' argument is deprecated and will be removed in a future release of LightGBM. Pass 'early_stopping()' callback via 'callbacks' argument instead.\n",
      "  _log_warning(\"'early_stopping_rounds' argument is deprecated and will be removed in a future release of LightGBM. \"\n",
      "/Users/youngseoklee/opt/anaconda3/envs/ai/lib/python3.10/site-packages/lightgbm/sklearn.py:736: UserWarning: 'verbose' argument is deprecated and will be removed in a future release of LightGBM. Pass 'log_evaluation()' callback via 'callbacks' argument instead.\n",
      "  _log_warning(\"'verbose' argument is deprecated and will be removed in a future release of LightGBM. \"\n",
      "\u001b[32m[I 2023-08-01 00:04:12,781]\u001b[0m Trial 30 finished with value: 332618964009663.6 and parameters: {'lambda_l1': 3.8322927384723217e-08, 'lambda_l2': 0.0006652708673363411, 'num_leaves': 48, 'feature_fraction': 0.5694005584096956, 'bagging_fraction': 0.6710259633956248, 'bagging_freq': 3, 'min_child_samples': 92}. Best is trial 10 with value: 274129069360801.22.\u001b[0m\n"
     ]
    },
    {
     "name": "stdout",
     "output_type": "stream",
     "text": [
      "332618964009663.6\n",
      "[LightGBM] [Warning] feature_fraction is set=0.5677679863783199, colsample_bytree=1.0 will be ignored. Current value: feature_fraction=0.5677679863783199\n",
      "[LightGBM] [Warning] lambda_l1 is set=1.0157640333072494e-08, reg_alpha=0.0 will be ignored. Current value: lambda_l1=1.0157640333072494e-08\n",
      "[LightGBM] [Warning] bagging_fraction is set=0.4705374765469681, subsample=1.0 will be ignored. Current value: bagging_fraction=0.4705374765469681\n",
      "[LightGBM] [Warning] lambda_l2 is set=0.0028456166502156747, reg_lambda=0.0 will be ignored. Current value: lambda_l2=0.0028456166502156747\n",
      "[LightGBM] [Warning] bagging_freq is set=4, subsample_freq=0 will be ignored. Current value: bagging_freq=4\n"
     ]
    },
    {
     "name": "stderr",
     "output_type": "stream",
     "text": [
      "/var/folders/qb/s5vw4nk95r53s007_f3ty08m0000gn/T/ipykernel_15260/2951571227.py:8: FutureWarning: suggest_loguniform has been deprecated in v3.0.0. This feature will be removed in v6.0.0. See https://github.com/optuna/optuna/releases/tag/v3.0.0. Use :func:`~optuna.trial.Trial.suggest_float` instead.\n",
      "  'lambda_l1': trial.suggest_loguniform('lambda_l1', 1e-8, 10.0),\n",
      "/var/folders/qb/s5vw4nk95r53s007_f3ty08m0000gn/T/ipykernel_15260/2951571227.py:9: FutureWarning: suggest_loguniform has been deprecated in v3.0.0. This feature will be removed in v6.0.0. See https://github.com/optuna/optuna/releases/tag/v3.0.0. Use :func:`~optuna.trial.Trial.suggest_float` instead.\n",
      "  'lambda_l2': trial.suggest_loguniform('lambda_l2', 1e-8, 10.0),\n",
      "/var/folders/qb/s5vw4nk95r53s007_f3ty08m0000gn/T/ipykernel_15260/2951571227.py:11: FutureWarning: suggest_uniform has been deprecated in v3.0.0. This feature will be removed in v6.0.0. See https://github.com/optuna/optuna/releases/tag/v3.0.0. Use :func:`~optuna.trial.Trial.suggest_float` instead.\n",
      "  'feature_fraction': trial.suggest_uniform('feature_fraction', 0.4, 1.0),\n",
      "/var/folders/qb/s5vw4nk95r53s007_f3ty08m0000gn/T/ipykernel_15260/2951571227.py:12: FutureWarning: suggest_uniform has been deprecated in v3.0.0. This feature will be removed in v6.0.0. See https://github.com/optuna/optuna/releases/tag/v3.0.0. Use :func:`~optuna.trial.Trial.suggest_float` instead.\n",
      "  'bagging_fraction': trial.suggest_uniform('bagging_fraction', 0.4, 1.0),\n",
      "/Users/youngseoklee/opt/anaconda3/envs/ai/lib/python3.10/site-packages/lightgbm/sklearn.py:726: UserWarning: 'early_stopping_rounds' argument is deprecated and will be removed in a future release of LightGBM. Pass 'early_stopping()' callback via 'callbacks' argument instead.\n",
      "  _log_warning(\"'early_stopping_rounds' argument is deprecated and will be removed in a future release of LightGBM. \"\n",
      "/Users/youngseoklee/opt/anaconda3/envs/ai/lib/python3.10/site-packages/lightgbm/sklearn.py:736: UserWarning: 'verbose' argument is deprecated and will be removed in a future release of LightGBM. Pass 'log_evaluation()' callback via 'callbacks' argument instead.\n",
      "  _log_warning(\"'verbose' argument is deprecated and will be removed in a future release of LightGBM. \"\n",
      "\u001b[32m[I 2023-08-01 00:04:13,119]\u001b[0m Trial 31 finished with value: 291604319296241.7 and parameters: {'lambda_l1': 1.0157640333072494e-08, 'lambda_l2': 0.0028456166502156747, 'num_leaves': 5, 'feature_fraction': 0.5677679863783199, 'bagging_fraction': 0.4705374765469681, 'bagging_freq': 4, 'min_child_samples': 73}. Best is trial 10 with value: 274129069360801.22.\u001b[0m\n"
     ]
    },
    {
     "name": "stdout",
     "output_type": "stream",
     "text": [
      "291604319296241.7\n",
      "[LightGBM] [Warning] feature_fraction is set=0.5101365182729224, colsample_bytree=1.0 will be ignored. Current value: feature_fraction=0.5101365182729224\n",
      "[LightGBM] [Warning] lambda_l1 is set=8.643317811637443e-06, reg_alpha=0.0 will be ignored. Current value: lambda_l1=8.643317811637443e-06\n",
      "[LightGBM] [Warning] bagging_fraction is set=0.5469286105558455, subsample=1.0 will be ignored. Current value: bagging_fraction=0.5469286105558455\n",
      "[LightGBM] [Warning] lambda_l2 is set=0.00030699355679830986, reg_lambda=0.0 will be ignored. Current value: lambda_l2=0.00030699355679830986\n",
      "[LightGBM] [Warning] bagging_freq is set=5, subsample_freq=0 will be ignored. Current value: bagging_freq=5\n"
     ]
    },
    {
     "name": "stderr",
     "output_type": "stream",
     "text": [
      "/var/folders/qb/s5vw4nk95r53s007_f3ty08m0000gn/T/ipykernel_15260/2951571227.py:8: FutureWarning: suggest_loguniform has been deprecated in v3.0.0. This feature will be removed in v6.0.0. See https://github.com/optuna/optuna/releases/tag/v3.0.0. Use :func:`~optuna.trial.Trial.suggest_float` instead.\n",
      "  'lambda_l1': trial.suggest_loguniform('lambda_l1', 1e-8, 10.0),\n",
      "/var/folders/qb/s5vw4nk95r53s007_f3ty08m0000gn/T/ipykernel_15260/2951571227.py:9: FutureWarning: suggest_loguniform has been deprecated in v3.0.0. This feature will be removed in v6.0.0. See https://github.com/optuna/optuna/releases/tag/v3.0.0. Use :func:`~optuna.trial.Trial.suggest_float` instead.\n",
      "  'lambda_l2': trial.suggest_loguniform('lambda_l2', 1e-8, 10.0),\n",
      "/var/folders/qb/s5vw4nk95r53s007_f3ty08m0000gn/T/ipykernel_15260/2951571227.py:11: FutureWarning: suggest_uniform has been deprecated in v3.0.0. This feature will be removed in v6.0.0. See https://github.com/optuna/optuna/releases/tag/v3.0.0. Use :func:`~optuna.trial.Trial.suggest_float` instead.\n",
      "  'feature_fraction': trial.suggest_uniform('feature_fraction', 0.4, 1.0),\n",
      "/var/folders/qb/s5vw4nk95r53s007_f3ty08m0000gn/T/ipykernel_15260/2951571227.py:12: FutureWarning: suggest_uniform has been deprecated in v3.0.0. This feature will be removed in v6.0.0. See https://github.com/optuna/optuna/releases/tag/v3.0.0. Use :func:`~optuna.trial.Trial.suggest_float` instead.\n",
      "  'bagging_fraction': trial.suggest_uniform('bagging_fraction', 0.4, 1.0),\n",
      "/Users/youngseoklee/opt/anaconda3/envs/ai/lib/python3.10/site-packages/lightgbm/sklearn.py:726: UserWarning: 'early_stopping_rounds' argument is deprecated and will be removed in a future release of LightGBM. Pass 'early_stopping()' callback via 'callbacks' argument instead.\n",
      "  _log_warning(\"'early_stopping_rounds' argument is deprecated and will be removed in a future release of LightGBM. \"\n",
      "/Users/youngseoklee/opt/anaconda3/envs/ai/lib/python3.10/site-packages/lightgbm/sklearn.py:736: UserWarning: 'verbose' argument is deprecated and will be removed in a future release of LightGBM. Pass 'log_evaluation()' callback via 'callbacks' argument instead.\n",
      "  _log_warning(\"'verbose' argument is deprecated and will be removed in a future release of LightGBM. \"\n",
      "\u001b[32m[I 2023-08-01 00:04:13,838]\u001b[0m Trial 32 finished with value: 354397329958939.94 and parameters: {'lambda_l1': 8.643317811637443e-06, 'lambda_l2': 0.00030699355679830986, 'num_leaves': 20, 'feature_fraction': 0.5101365182729224, 'bagging_fraction': 0.5469286105558455, 'bagging_freq': 5, 'min_child_samples': 83}. Best is trial 10 with value: 274129069360801.22.\u001b[0m\n"
     ]
    },
    {
     "name": "stdout",
     "output_type": "stream",
     "text": [
      "354397329958939.94\n",
      "[LightGBM] [Warning] feature_fraction is set=0.5266168176079014, colsample_bytree=1.0 will be ignored. Current value: feature_fraction=0.5266168176079014\n",
      "[LightGBM] [Warning] lambda_l1 is set=5.314428079710679e-07, reg_alpha=0.0 will be ignored. Current value: lambda_l1=5.314428079710679e-07\n",
      "[LightGBM] [Warning] bagging_fraction is set=0.6080990454704619, subsample=1.0 will be ignored. Current value: bagging_fraction=0.6080990454704619\n",
      "[LightGBM] [Warning] lambda_l2 is set=8.447267846494521e-05, reg_lambda=0.0 will be ignored. Current value: lambda_l2=8.447267846494521e-05\n",
      "[LightGBM] [Warning] bagging_freq is set=1, subsample_freq=0 will be ignored. Current value: bagging_freq=1\n"
     ]
    },
    {
     "name": "stderr",
     "output_type": "stream",
     "text": [
      "/var/folders/qb/s5vw4nk95r53s007_f3ty08m0000gn/T/ipykernel_15260/2951571227.py:8: FutureWarning: suggest_loguniform has been deprecated in v3.0.0. This feature will be removed in v6.0.0. See https://github.com/optuna/optuna/releases/tag/v3.0.0. Use :func:`~optuna.trial.Trial.suggest_float` instead.\n",
      "  'lambda_l1': trial.suggest_loguniform('lambda_l1', 1e-8, 10.0),\n",
      "/var/folders/qb/s5vw4nk95r53s007_f3ty08m0000gn/T/ipykernel_15260/2951571227.py:9: FutureWarning: suggest_loguniform has been deprecated in v3.0.0. This feature will be removed in v6.0.0. See https://github.com/optuna/optuna/releases/tag/v3.0.0. Use :func:`~optuna.trial.Trial.suggest_float` instead.\n",
      "  'lambda_l2': trial.suggest_loguniform('lambda_l2', 1e-8, 10.0),\n",
      "/var/folders/qb/s5vw4nk95r53s007_f3ty08m0000gn/T/ipykernel_15260/2951571227.py:11: FutureWarning: suggest_uniform has been deprecated in v3.0.0. This feature will be removed in v6.0.0. See https://github.com/optuna/optuna/releases/tag/v3.0.0. Use :func:`~optuna.trial.Trial.suggest_float` instead.\n",
      "  'feature_fraction': trial.suggest_uniform('feature_fraction', 0.4, 1.0),\n",
      "/var/folders/qb/s5vw4nk95r53s007_f3ty08m0000gn/T/ipykernel_15260/2951571227.py:12: FutureWarning: suggest_uniform has been deprecated in v3.0.0. This feature will be removed in v6.0.0. See https://github.com/optuna/optuna/releases/tag/v3.0.0. Use :func:`~optuna.trial.Trial.suggest_float` instead.\n",
      "  'bagging_fraction': trial.suggest_uniform('bagging_fraction', 0.4, 1.0),\n",
      "/Users/youngseoklee/opt/anaconda3/envs/ai/lib/python3.10/site-packages/lightgbm/sklearn.py:726: UserWarning: 'early_stopping_rounds' argument is deprecated and will be removed in a future release of LightGBM. Pass 'early_stopping()' callback via 'callbacks' argument instead.\n",
      "  _log_warning(\"'early_stopping_rounds' argument is deprecated and will be removed in a future release of LightGBM. \"\n",
      "/Users/youngseoklee/opt/anaconda3/envs/ai/lib/python3.10/site-packages/lightgbm/sklearn.py:736: UserWarning: 'verbose' argument is deprecated and will be removed in a future release of LightGBM. Pass 'log_evaluation()' callback via 'callbacks' argument instead.\n",
      "  _log_warning(\"'verbose' argument is deprecated and will be removed in a future release of LightGBM. \"\n",
      "\u001b[32m[I 2023-08-01 00:04:14,167]\u001b[0m Trial 33 finished with value: 291947250565152.75 and parameters: {'lambda_l1': 5.314428079710679e-07, 'lambda_l2': 8.447267846494521e-05, 'num_leaves': 5, 'feature_fraction': 0.5266168176079014, 'bagging_fraction': 0.6080990454704619, 'bagging_freq': 1, 'min_child_samples': 53}. Best is trial 10 with value: 274129069360801.22.\u001b[0m\n"
     ]
    },
    {
     "name": "stdout",
     "output_type": "stream",
     "text": [
      "291947250565152.75\n",
      "[LightGBM] [Warning] feature_fraction is set=0.4457042132621899, colsample_bytree=1.0 will be ignored. Current value: feature_fraction=0.4457042132621899\n",
      "[LightGBM] [Warning] lambda_l1 is set=5.765071344537271e-08, reg_alpha=0.0 will be ignored. Current value: lambda_l1=5.765071344537271e-08\n",
      "[LightGBM] [Warning] bagging_fraction is set=0.48102354523714586, subsample=1.0 will be ignored. Current value: bagging_fraction=0.48102354523714586\n",
      "[LightGBM] [Warning] lambda_l2 is set=0.010792961274208443, reg_lambda=0.0 will be ignored. Current value: lambda_l2=0.010792961274208443\n",
      "[LightGBM] [Warning] bagging_freq is set=4, subsample_freq=0 will be ignored. Current value: bagging_freq=4\n"
     ]
    },
    {
     "name": "stderr",
     "output_type": "stream",
     "text": [
      "/var/folders/qb/s5vw4nk95r53s007_f3ty08m0000gn/T/ipykernel_15260/2951571227.py:8: FutureWarning: suggest_loguniform has been deprecated in v3.0.0. This feature will be removed in v6.0.0. See https://github.com/optuna/optuna/releases/tag/v3.0.0. Use :func:`~optuna.trial.Trial.suggest_float` instead.\n",
      "  'lambda_l1': trial.suggest_loguniform('lambda_l1', 1e-8, 10.0),\n",
      "/var/folders/qb/s5vw4nk95r53s007_f3ty08m0000gn/T/ipykernel_15260/2951571227.py:9: FutureWarning: suggest_loguniform has been deprecated in v3.0.0. This feature will be removed in v6.0.0. See https://github.com/optuna/optuna/releases/tag/v3.0.0. Use :func:`~optuna.trial.Trial.suggest_float` instead.\n",
      "  'lambda_l2': trial.suggest_loguniform('lambda_l2', 1e-8, 10.0),\n",
      "/var/folders/qb/s5vw4nk95r53s007_f3ty08m0000gn/T/ipykernel_15260/2951571227.py:11: FutureWarning: suggest_uniform has been deprecated in v3.0.0. This feature will be removed in v6.0.0. See https://github.com/optuna/optuna/releases/tag/v3.0.0. Use :func:`~optuna.trial.Trial.suggest_float` instead.\n",
      "  'feature_fraction': trial.suggest_uniform('feature_fraction', 0.4, 1.0),\n",
      "/var/folders/qb/s5vw4nk95r53s007_f3ty08m0000gn/T/ipykernel_15260/2951571227.py:12: FutureWarning: suggest_uniform has been deprecated in v3.0.0. This feature will be removed in v6.0.0. See https://github.com/optuna/optuna/releases/tag/v3.0.0. Use :func:`~optuna.trial.Trial.suggest_float` instead.\n",
      "  'bagging_fraction': trial.suggest_uniform('bagging_fraction', 0.4, 1.0),\n",
      "/Users/youngseoklee/opt/anaconda3/envs/ai/lib/python3.10/site-packages/lightgbm/sklearn.py:726: UserWarning: 'early_stopping_rounds' argument is deprecated and will be removed in a future release of LightGBM. Pass 'early_stopping()' callback via 'callbacks' argument instead.\n",
      "  _log_warning(\"'early_stopping_rounds' argument is deprecated and will be removed in a future release of LightGBM. \"\n",
      "/Users/youngseoklee/opt/anaconda3/envs/ai/lib/python3.10/site-packages/lightgbm/sklearn.py:736: UserWarning: 'verbose' argument is deprecated and will be removed in a future release of LightGBM. Pass 'log_evaluation()' callback via 'callbacks' argument instead.\n",
      "  _log_warning(\"'verbose' argument is deprecated and will be removed in a future release of LightGBM. \"\n",
      "\u001b[32m[I 2023-08-01 00:04:15,094]\u001b[0m Trial 34 finished with value: 346404345663781.3 and parameters: {'lambda_l1': 5.765071344537271e-08, 'lambda_l2': 0.010792961274208443, 'num_leaves': 32, 'feature_fraction': 0.4457042132621899, 'bagging_fraction': 0.48102354523714586, 'bagging_freq': 4, 'min_child_samples': 94}. Best is trial 10 with value: 274129069360801.22.\u001b[0m\n"
     ]
    },
    {
     "name": "stdout",
     "output_type": "stream",
     "text": [
      "346404345663781.3\n",
      "[LightGBM] [Warning] feature_fraction is set=0.5548376654775264, colsample_bytree=1.0 will be ignored. Current value: feature_fraction=0.5548376654775264\n",
      "[LightGBM] [Warning] lambda_l1 is set=2.090877626443085e-07, reg_alpha=0.0 will be ignored. Current value: lambda_l1=2.090877626443085e-07\n",
      "[LightGBM] [Warning] bagging_fraction is set=0.580919122793937, subsample=1.0 will be ignored. Current value: bagging_fraction=0.580919122793937\n",
      "[LightGBM] [Warning] lambda_l2 is set=0.0006323402980775693, reg_lambda=0.0 will be ignored. Current value: lambda_l2=0.0006323402980775693\n",
      "[LightGBM] [Warning] bagging_freq is set=6, subsample_freq=0 will be ignored. Current value: bagging_freq=6\n"
     ]
    },
    {
     "name": "stderr",
     "output_type": "stream",
     "text": [
      "/var/folders/qb/s5vw4nk95r53s007_f3ty08m0000gn/T/ipykernel_15260/2951571227.py:8: FutureWarning: suggest_loguniform has been deprecated in v3.0.0. This feature will be removed in v6.0.0. See https://github.com/optuna/optuna/releases/tag/v3.0.0. Use :func:`~optuna.trial.Trial.suggest_float` instead.\n",
      "  'lambda_l1': trial.suggest_loguniform('lambda_l1', 1e-8, 10.0),\n",
      "/var/folders/qb/s5vw4nk95r53s007_f3ty08m0000gn/T/ipykernel_15260/2951571227.py:9: FutureWarning: suggest_loguniform has been deprecated in v3.0.0. This feature will be removed in v6.0.0. See https://github.com/optuna/optuna/releases/tag/v3.0.0. Use :func:`~optuna.trial.Trial.suggest_float` instead.\n",
      "  'lambda_l2': trial.suggest_loguniform('lambda_l2', 1e-8, 10.0),\n",
      "/var/folders/qb/s5vw4nk95r53s007_f3ty08m0000gn/T/ipykernel_15260/2951571227.py:11: FutureWarning: suggest_uniform has been deprecated in v3.0.0. This feature will be removed in v6.0.0. See https://github.com/optuna/optuna/releases/tag/v3.0.0. Use :func:`~optuna.trial.Trial.suggest_float` instead.\n",
      "  'feature_fraction': trial.suggest_uniform('feature_fraction', 0.4, 1.0),\n",
      "/var/folders/qb/s5vw4nk95r53s007_f3ty08m0000gn/T/ipykernel_15260/2951571227.py:12: FutureWarning: suggest_uniform has been deprecated in v3.0.0. This feature will be removed in v6.0.0. See https://github.com/optuna/optuna/releases/tag/v3.0.0. Use :func:`~optuna.trial.Trial.suggest_float` instead.\n",
      "  'bagging_fraction': trial.suggest_uniform('bagging_fraction', 0.4, 1.0),\n",
      "/Users/youngseoklee/opt/anaconda3/envs/ai/lib/python3.10/site-packages/lightgbm/sklearn.py:726: UserWarning: 'early_stopping_rounds' argument is deprecated and will be removed in a future release of LightGBM. Pass 'early_stopping()' callback via 'callbacks' argument instead.\n",
      "  _log_warning(\"'early_stopping_rounds' argument is deprecated and will be removed in a future release of LightGBM. \"\n",
      "/Users/youngseoklee/opt/anaconda3/envs/ai/lib/python3.10/site-packages/lightgbm/sklearn.py:736: UserWarning: 'verbose' argument is deprecated and will be removed in a future release of LightGBM. Pass 'log_evaluation()' callback via 'callbacks' argument instead.\n",
      "  _log_warning(\"'verbose' argument is deprecated and will be removed in a future release of LightGBM. \"\n",
      "\u001b[32m[I 2023-08-01 00:04:16,450]\u001b[0m Trial 35 finished with value: 407171232912672.2 and parameters: {'lambda_l1': 2.090877626443085e-07, 'lambda_l2': 0.0006323402980775693, 'num_leaves': 62, 'feature_fraction': 0.5548376654775264, 'bagging_fraction': 0.580919122793937, 'bagging_freq': 6, 'min_child_samples': 73}. Best is trial 10 with value: 274129069360801.22.\u001b[0m\n"
     ]
    },
    {
     "name": "stdout",
     "output_type": "stream",
     "text": [
      "407171232912672.2\n",
      "[LightGBM] [Warning] feature_fraction is set=0.5350433993535071, colsample_bytree=1.0 will be ignored. Current value: feature_fraction=0.5350433993535071\n",
      "[LightGBM] [Warning] lambda_l1 is set=1.6037416009732958e-06, reg_alpha=0.0 will be ignored. Current value: lambda_l1=1.6037416009732958e-06\n",
      "[LightGBM] [Warning] bagging_fraction is set=0.5270711608059157, subsample=1.0 will be ignored. Current value: bagging_fraction=0.5270711608059157\n",
      "[LightGBM] [Warning] lambda_l2 is set=9.464350422192111e-08, reg_lambda=0.0 will be ignored. Current value: lambda_l2=9.464350422192111e-08\n",
      "[LightGBM] [Warning] bagging_freq is set=2, subsample_freq=0 will be ignored. Current value: bagging_freq=2\n"
     ]
    },
    {
     "name": "stderr",
     "output_type": "stream",
     "text": [
      "/var/folders/qb/s5vw4nk95r53s007_f3ty08m0000gn/T/ipykernel_15260/2951571227.py:8: FutureWarning: suggest_loguniform has been deprecated in v3.0.0. This feature will be removed in v6.0.0. See https://github.com/optuna/optuna/releases/tag/v3.0.0. Use :func:`~optuna.trial.Trial.suggest_float` instead.\n",
      "  'lambda_l1': trial.suggest_loguniform('lambda_l1', 1e-8, 10.0),\n",
      "/var/folders/qb/s5vw4nk95r53s007_f3ty08m0000gn/T/ipykernel_15260/2951571227.py:9: FutureWarning: suggest_loguniform has been deprecated in v3.0.0. This feature will be removed in v6.0.0. See https://github.com/optuna/optuna/releases/tag/v3.0.0. Use :func:`~optuna.trial.Trial.suggest_float` instead.\n",
      "  'lambda_l2': trial.suggest_loguniform('lambda_l2', 1e-8, 10.0),\n",
      "/var/folders/qb/s5vw4nk95r53s007_f3ty08m0000gn/T/ipykernel_15260/2951571227.py:11: FutureWarning: suggest_uniform has been deprecated in v3.0.0. This feature will be removed in v6.0.0. See https://github.com/optuna/optuna/releases/tag/v3.0.0. Use :func:`~optuna.trial.Trial.suggest_float` instead.\n",
      "  'feature_fraction': trial.suggest_uniform('feature_fraction', 0.4, 1.0),\n",
      "/var/folders/qb/s5vw4nk95r53s007_f3ty08m0000gn/T/ipykernel_15260/2951571227.py:12: FutureWarning: suggest_uniform has been deprecated in v3.0.0. This feature will be removed in v6.0.0. See https://github.com/optuna/optuna/releases/tag/v3.0.0. Use :func:`~optuna.trial.Trial.suggest_float` instead.\n",
      "  'bagging_fraction': trial.suggest_uniform('bagging_fraction', 0.4, 1.0),\n",
      "/Users/youngseoklee/opt/anaconda3/envs/ai/lib/python3.10/site-packages/lightgbm/sklearn.py:726: UserWarning: 'early_stopping_rounds' argument is deprecated and will be removed in a future release of LightGBM. Pass 'early_stopping()' callback via 'callbacks' argument instead.\n",
      "  _log_warning(\"'early_stopping_rounds' argument is deprecated and will be removed in a future release of LightGBM. \"\n",
      "/Users/youngseoklee/opt/anaconda3/envs/ai/lib/python3.10/site-packages/lightgbm/sklearn.py:736: UserWarning: 'verbose' argument is deprecated and will be removed in a future release of LightGBM. Pass 'log_evaluation()' callback via 'callbacks' argument instead.\n",
      "  _log_warning(\"'verbose' argument is deprecated and will be removed in a future release of LightGBM. \"\n",
      "\u001b[32m[I 2023-08-01 00:04:17,939]\u001b[0m Trial 36 finished with value: 346286942374576.56 and parameters: {'lambda_l1': 1.6037416009732958e-06, 'lambda_l2': 9.464350422192111e-08, 'num_leaves': 72, 'feature_fraction': 0.5350433993535071, 'bagging_fraction': 0.5270711608059157, 'bagging_freq': 2, 'min_child_samples': 40}. Best is trial 10 with value: 274129069360801.22.\u001b[0m\n"
     ]
    },
    {
     "name": "stdout",
     "output_type": "stream",
     "text": [
      "346286942374576.56\n",
      "[LightGBM] [Warning] feature_fraction is set=0.4011875394731922, colsample_bytree=1.0 will be ignored. Current value: feature_fraction=0.4011875394731922\n",
      "[LightGBM] [Warning] lambda_l1 is set=4.386529012146316e-06, reg_alpha=0.0 will be ignored. Current value: lambda_l1=4.386529012146316e-06\n",
      "[LightGBM] [Warning] bagging_fraction is set=0.49472454423833273, subsample=1.0 will be ignored. Current value: bagging_fraction=0.49472454423833273\n",
      "[LightGBM] [Warning] lambda_l2 is set=6.53903820266431e-06, reg_lambda=0.0 will be ignored. Current value: lambda_l2=6.53903820266431e-06\n",
      "[LightGBM] [Warning] bagging_freq is set=3, subsample_freq=0 will be ignored. Current value: bagging_freq=3\n"
     ]
    },
    {
     "name": "stderr",
     "output_type": "stream",
     "text": [
      "/var/folders/qb/s5vw4nk95r53s007_f3ty08m0000gn/T/ipykernel_15260/2951571227.py:8: FutureWarning: suggest_loguniform has been deprecated in v3.0.0. This feature will be removed in v6.0.0. See https://github.com/optuna/optuna/releases/tag/v3.0.0. Use :func:`~optuna.trial.Trial.suggest_float` instead.\n",
      "  'lambda_l1': trial.suggest_loguniform('lambda_l1', 1e-8, 10.0),\n",
      "/var/folders/qb/s5vw4nk95r53s007_f3ty08m0000gn/T/ipykernel_15260/2951571227.py:9: FutureWarning: suggest_loguniform has been deprecated in v3.0.0. This feature will be removed in v6.0.0. See https://github.com/optuna/optuna/releases/tag/v3.0.0. Use :func:`~optuna.trial.Trial.suggest_float` instead.\n",
      "  'lambda_l2': trial.suggest_loguniform('lambda_l2', 1e-8, 10.0),\n",
      "/var/folders/qb/s5vw4nk95r53s007_f3ty08m0000gn/T/ipykernel_15260/2951571227.py:11: FutureWarning: suggest_uniform has been deprecated in v3.0.0. This feature will be removed in v6.0.0. See https://github.com/optuna/optuna/releases/tag/v3.0.0. Use :func:`~optuna.trial.Trial.suggest_float` instead.\n",
      "  'feature_fraction': trial.suggest_uniform('feature_fraction', 0.4, 1.0),\n",
      "/var/folders/qb/s5vw4nk95r53s007_f3ty08m0000gn/T/ipykernel_15260/2951571227.py:12: FutureWarning: suggest_uniform has been deprecated in v3.0.0. This feature will be removed in v6.0.0. See https://github.com/optuna/optuna/releases/tag/v3.0.0. Use :func:`~optuna.trial.Trial.suggest_float` instead.\n",
      "  'bagging_fraction': trial.suggest_uniform('bagging_fraction', 0.4, 1.0),\n",
      "/Users/youngseoklee/opt/anaconda3/envs/ai/lib/python3.10/site-packages/lightgbm/sklearn.py:726: UserWarning: 'early_stopping_rounds' argument is deprecated and will be removed in a future release of LightGBM. Pass 'early_stopping()' callback via 'callbacks' argument instead.\n",
      "  _log_warning(\"'early_stopping_rounds' argument is deprecated and will be removed in a future release of LightGBM. \"\n",
      "/Users/youngseoklee/opt/anaconda3/envs/ai/lib/python3.10/site-packages/lightgbm/sklearn.py:736: UserWarning: 'verbose' argument is deprecated and will be removed in a future release of LightGBM. Pass 'log_evaluation()' callback via 'callbacks' argument instead.\n",
      "  _log_warning(\"'verbose' argument is deprecated and will be removed in a future release of LightGBM. \"\n",
      "\u001b[32m[I 2023-08-01 00:04:18,607]\u001b[0m Trial 37 finished with value: 387676885664349.25 and parameters: {'lambda_l1': 4.386529012146316e-06, 'lambda_l2': 6.53903820266431e-06, 'num_leaves': 16, 'feature_fraction': 0.4011875394731922, 'bagging_fraction': 0.49472454423833273, 'bagging_freq': 3, 'min_child_samples': 60}. Best is trial 10 with value: 274129069360801.22.\u001b[0m\n"
     ]
    },
    {
     "name": "stdout",
     "output_type": "stream",
     "text": [
      "387676885664349.25\n",
      "[LightGBM] [Warning] feature_fraction is set=0.48301626711207957, colsample_bytree=1.0 will be ignored. Current value: feature_fraction=0.48301626711207957\n",
      "[LightGBM] [Warning] lambda_l1 is set=2.996944402120531e-08, reg_alpha=0.0 will be ignored. Current value: lambda_l1=2.996944402120531e-08\n",
      "[LightGBM] [Warning] bagging_fraction is set=0.5721261461343109, subsample=1.0 will be ignored. Current value: bagging_fraction=0.5721261461343109\n",
      "[LightGBM] [Warning] lambda_l2 is set=2.4414780678575864e-07, reg_lambda=0.0 will be ignored. Current value: lambda_l2=2.4414780678575864e-07\n",
      "[LightGBM] [Warning] bagging_freq is set=1, subsample_freq=0 will be ignored. Current value: bagging_freq=1\n"
     ]
    },
    {
     "name": "stderr",
     "output_type": "stream",
     "text": [
      "/var/folders/qb/s5vw4nk95r53s007_f3ty08m0000gn/T/ipykernel_15260/2951571227.py:8: FutureWarning: suggest_loguniform has been deprecated in v3.0.0. This feature will be removed in v6.0.0. See https://github.com/optuna/optuna/releases/tag/v3.0.0. Use :func:`~optuna.trial.Trial.suggest_float` instead.\n",
      "  'lambda_l1': trial.suggest_loguniform('lambda_l1', 1e-8, 10.0),\n",
      "/var/folders/qb/s5vw4nk95r53s007_f3ty08m0000gn/T/ipykernel_15260/2951571227.py:9: FutureWarning: suggest_loguniform has been deprecated in v3.0.0. This feature will be removed in v6.0.0. See https://github.com/optuna/optuna/releases/tag/v3.0.0. Use :func:`~optuna.trial.Trial.suggest_float` instead.\n",
      "  'lambda_l2': trial.suggest_loguniform('lambda_l2', 1e-8, 10.0),\n",
      "/var/folders/qb/s5vw4nk95r53s007_f3ty08m0000gn/T/ipykernel_15260/2951571227.py:11: FutureWarning: suggest_uniform has been deprecated in v3.0.0. This feature will be removed in v6.0.0. See https://github.com/optuna/optuna/releases/tag/v3.0.0. Use :func:`~optuna.trial.Trial.suggest_float` instead.\n",
      "  'feature_fraction': trial.suggest_uniform('feature_fraction', 0.4, 1.0),\n",
      "/var/folders/qb/s5vw4nk95r53s007_f3ty08m0000gn/T/ipykernel_15260/2951571227.py:12: FutureWarning: suggest_uniform has been deprecated in v3.0.0. This feature will be removed in v6.0.0. See https://github.com/optuna/optuna/releases/tag/v3.0.0. Use :func:`~optuna.trial.Trial.suggest_float` instead.\n",
      "  'bagging_fraction': trial.suggest_uniform('bagging_fraction', 0.4, 1.0),\n",
      "/Users/youngseoklee/opt/anaconda3/envs/ai/lib/python3.10/site-packages/lightgbm/sklearn.py:726: UserWarning: 'early_stopping_rounds' argument is deprecated and will be removed in a future release of LightGBM. Pass 'early_stopping()' callback via 'callbacks' argument instead.\n",
      "  _log_warning(\"'early_stopping_rounds' argument is deprecated and will be removed in a future release of LightGBM. \"\n",
      "/Users/youngseoklee/opt/anaconda3/envs/ai/lib/python3.10/site-packages/lightgbm/sklearn.py:736: UserWarning: 'verbose' argument is deprecated and will be removed in a future release of LightGBM. Pass 'log_evaluation()' callback via 'callbacks' argument instead.\n",
      "  _log_warning(\"'verbose' argument is deprecated and will be removed in a future release of LightGBM. \"\n",
      "\u001b[32m[I 2023-08-01 00:04:20,273]\u001b[0m Trial 38 finished with value: 430425163779127.0 and parameters: {'lambda_l1': 2.996944402120531e-08, 'lambda_l2': 2.4414780678575864e-07, 'num_leaves': 89, 'feature_fraction': 0.48301626711207957, 'bagging_fraction': 0.5721261461343109, 'bagging_freq': 1, 'min_child_samples': 80}. Best is trial 10 with value: 274129069360801.22.\u001b[0m\n"
     ]
    },
    {
     "name": "stdout",
     "output_type": "stream",
     "text": [
      "430425163779127.0\n",
      "[LightGBM] [Warning] feature_fraction is set=0.4327366946198039, colsample_bytree=1.0 will be ignored. Current value: feature_fraction=0.4327366946198039\n",
      "[LightGBM] [Warning] lambda_l1 is set=1.2932756803784498e-07, reg_alpha=0.0 will be ignored. Current value: lambda_l1=1.2932756803784498e-07\n",
      "[LightGBM] [Warning] bagging_fraction is set=0.4706442852079894, subsample=1.0 will be ignored. Current value: bagging_fraction=0.4706442852079894\n",
      "[LightGBM] [Warning] lambda_l2 is set=6.1770138647814825, reg_lambda=0.0 will be ignored. Current value: lambda_l2=6.1770138647814825\n",
      "[LightGBM] [Warning] bagging_freq is set=4, subsample_freq=0 will be ignored. Current value: bagging_freq=4\n"
     ]
    },
    {
     "name": "stderr",
     "output_type": "stream",
     "text": [
      "/var/folders/qb/s5vw4nk95r53s007_f3ty08m0000gn/T/ipykernel_15260/2951571227.py:8: FutureWarning: suggest_loguniform has been deprecated in v3.0.0. This feature will be removed in v6.0.0. See https://github.com/optuna/optuna/releases/tag/v3.0.0. Use :func:`~optuna.trial.Trial.suggest_float` instead.\n",
      "  'lambda_l1': trial.suggest_loguniform('lambda_l1', 1e-8, 10.0),\n",
      "/var/folders/qb/s5vw4nk95r53s007_f3ty08m0000gn/T/ipykernel_15260/2951571227.py:9: FutureWarning: suggest_loguniform has been deprecated in v3.0.0. This feature will be removed in v6.0.0. See https://github.com/optuna/optuna/releases/tag/v3.0.0. Use :func:`~optuna.trial.Trial.suggest_float` instead.\n",
      "  'lambda_l2': trial.suggest_loguniform('lambda_l2', 1e-8, 10.0),\n",
      "/var/folders/qb/s5vw4nk95r53s007_f3ty08m0000gn/T/ipykernel_15260/2951571227.py:11: FutureWarning: suggest_uniform has been deprecated in v3.0.0. This feature will be removed in v6.0.0. See https://github.com/optuna/optuna/releases/tag/v3.0.0. Use :func:`~optuna.trial.Trial.suggest_float` instead.\n",
      "  'feature_fraction': trial.suggest_uniform('feature_fraction', 0.4, 1.0),\n",
      "/var/folders/qb/s5vw4nk95r53s007_f3ty08m0000gn/T/ipykernel_15260/2951571227.py:12: FutureWarning: suggest_uniform has been deprecated in v3.0.0. This feature will be removed in v6.0.0. See https://github.com/optuna/optuna/releases/tag/v3.0.0. Use :func:`~optuna.trial.Trial.suggest_float` instead.\n",
      "  'bagging_fraction': trial.suggest_uniform('bagging_fraction', 0.4, 1.0),\n",
      "/Users/youngseoklee/opt/anaconda3/envs/ai/lib/python3.10/site-packages/lightgbm/sklearn.py:726: UserWarning: 'early_stopping_rounds' argument is deprecated and will be removed in a future release of LightGBM. Pass 'early_stopping()' callback via 'callbacks' argument instead.\n",
      "  _log_warning(\"'early_stopping_rounds' argument is deprecated and will be removed in a future release of LightGBM. \"\n",
      "/Users/youngseoklee/opt/anaconda3/envs/ai/lib/python3.10/site-packages/lightgbm/sklearn.py:736: UserWarning: 'verbose' argument is deprecated and will be removed in a future release of LightGBM. Pass 'log_evaluation()' callback via 'callbacks' argument instead.\n",
      "  _log_warning(\"'verbose' argument is deprecated and will be removed in a future release of LightGBM. \"\n",
      "\u001b[32m[I 2023-08-01 00:04:21,238]\u001b[0m Trial 39 finished with value: 356149655145503.5 and parameters: {'lambda_l1': 1.2932756803784498e-07, 'lambda_l2': 6.1770138647814825, 'num_leaves': 34, 'feature_fraction': 0.4327366946198039, 'bagging_fraction': 0.4706442852079894, 'bagging_freq': 4, 'min_child_samples': 66}. Best is trial 10 with value: 274129069360801.22.\u001b[0m\n"
     ]
    },
    {
     "name": "stdout",
     "output_type": "stream",
     "text": [
      "356149655145503.5\n",
      "[LightGBM] [Warning] feature_fraction is set=0.5948965658536377, colsample_bytree=1.0 will be ignored. Current value: feature_fraction=0.5948965658536377\n",
      "[LightGBM] [Warning] lambda_l1 is set=3.2984369236389546e-08, reg_alpha=0.0 will be ignored. Current value: lambda_l1=3.2984369236389546e-08\n",
      "[LightGBM] [Warning] bagging_fraction is set=0.4326401101002113, subsample=1.0 will be ignored. Current value: bagging_fraction=0.4326401101002113\n",
      "[LightGBM] [Warning] lambda_l2 is set=8.72395520349424e-05, reg_lambda=0.0 will be ignored. Current value: lambda_l2=8.72395520349424e-05\n",
      "[LightGBM] [Warning] bagging_freq is set=6, subsample_freq=0 will be ignored. Current value: bagging_freq=6\n"
     ]
    },
    {
     "name": "stderr",
     "output_type": "stream",
     "text": [
      "/var/folders/qb/s5vw4nk95r53s007_f3ty08m0000gn/T/ipykernel_15260/2951571227.py:8: FutureWarning: suggest_loguniform has been deprecated in v3.0.0. This feature will be removed in v6.0.0. See https://github.com/optuna/optuna/releases/tag/v3.0.0. Use :func:`~optuna.trial.Trial.suggest_float` instead.\n",
      "  'lambda_l1': trial.suggest_loguniform('lambda_l1', 1e-8, 10.0),\n",
      "/var/folders/qb/s5vw4nk95r53s007_f3ty08m0000gn/T/ipykernel_15260/2951571227.py:9: FutureWarning: suggest_loguniform has been deprecated in v3.0.0. This feature will be removed in v6.0.0. See https://github.com/optuna/optuna/releases/tag/v3.0.0. Use :func:`~optuna.trial.Trial.suggest_float` instead.\n",
      "  'lambda_l2': trial.suggest_loguniform('lambda_l2', 1e-8, 10.0),\n",
      "/var/folders/qb/s5vw4nk95r53s007_f3ty08m0000gn/T/ipykernel_15260/2951571227.py:11: FutureWarning: suggest_uniform has been deprecated in v3.0.0. This feature will be removed in v6.0.0. See https://github.com/optuna/optuna/releases/tag/v3.0.0. Use :func:`~optuna.trial.Trial.suggest_float` instead.\n",
      "  'feature_fraction': trial.suggest_uniform('feature_fraction', 0.4, 1.0),\n",
      "/var/folders/qb/s5vw4nk95r53s007_f3ty08m0000gn/T/ipykernel_15260/2951571227.py:12: FutureWarning: suggest_uniform has been deprecated in v3.0.0. This feature will be removed in v6.0.0. See https://github.com/optuna/optuna/releases/tag/v3.0.0. Use :func:`~optuna.trial.Trial.suggest_float` instead.\n",
      "  'bagging_fraction': trial.suggest_uniform('bagging_fraction', 0.4, 1.0),\n",
      "/Users/youngseoklee/opt/anaconda3/envs/ai/lib/python3.10/site-packages/lightgbm/sklearn.py:726: UserWarning: 'early_stopping_rounds' argument is deprecated and will be removed in a future release of LightGBM. Pass 'early_stopping()' callback via 'callbacks' argument instead.\n",
      "  _log_warning(\"'early_stopping_rounds' argument is deprecated and will be removed in a future release of LightGBM. \"\n",
      "/Users/youngseoklee/opt/anaconda3/envs/ai/lib/python3.10/site-packages/lightgbm/sklearn.py:736: UserWarning: 'verbose' argument is deprecated and will be removed in a future release of LightGBM. Pass 'log_evaluation()' callback via 'callbacks' argument instead.\n",
      "  _log_warning(\"'verbose' argument is deprecated and will be removed in a future release of LightGBM. \"\n",
      "\u001b[32m[I 2023-08-01 00:04:22,942]\u001b[0m Trial 40 finished with value: 328492935603777.94 and parameters: {'lambda_l1': 3.2984369236389546e-08, 'lambda_l2': 8.72395520349424e-05, 'num_leaves': 95, 'feature_fraction': 0.5948965658536377, 'bagging_fraction': 0.4326401101002113, 'bagging_freq': 6, 'min_child_samples': 87}. Best is trial 10 with value: 274129069360801.22.\u001b[0m\n"
     ]
    },
    {
     "name": "stdout",
     "output_type": "stream",
     "text": [
      "328492935603777.94\n",
      "[LightGBM] [Warning] feature_fraction is set=0.4377101780875721, colsample_bytree=1.0 will be ignored. Current value: feature_fraction=0.4377101780875721\n",
      "[LightGBM] [Warning] lambda_l1 is set=1.66985121864131e-08, reg_alpha=0.0 will be ignored. Current value: lambda_l1=1.66985121864131e-08\n",
      "[LightGBM] [Warning] bagging_fraction is set=0.6048057960073888, subsample=1.0 will be ignored. Current value: bagging_fraction=0.6048057960073888\n",
      "[LightGBM] [Warning] lambda_l2 is set=0.0020646017247818167, reg_lambda=0.0 will be ignored. Current value: lambda_l2=0.0020646017247818167\n",
      "[LightGBM] [Warning] bagging_freq is set=1, subsample_freq=0 will be ignored. Current value: bagging_freq=1\n"
     ]
    },
    {
     "name": "stderr",
     "output_type": "stream",
     "text": [
      "/var/folders/qb/s5vw4nk95r53s007_f3ty08m0000gn/T/ipykernel_15260/2951571227.py:8: FutureWarning: suggest_loguniform has been deprecated in v3.0.0. This feature will be removed in v6.0.0. See https://github.com/optuna/optuna/releases/tag/v3.0.0. Use :func:`~optuna.trial.Trial.suggest_float` instead.\n",
      "  'lambda_l1': trial.suggest_loguniform('lambda_l1', 1e-8, 10.0),\n",
      "/var/folders/qb/s5vw4nk95r53s007_f3ty08m0000gn/T/ipykernel_15260/2951571227.py:9: FutureWarning: suggest_loguniform has been deprecated in v3.0.0. This feature will be removed in v6.0.0. See https://github.com/optuna/optuna/releases/tag/v3.0.0. Use :func:`~optuna.trial.Trial.suggest_float` instead.\n",
      "  'lambda_l2': trial.suggest_loguniform('lambda_l2', 1e-8, 10.0),\n",
      "/var/folders/qb/s5vw4nk95r53s007_f3ty08m0000gn/T/ipykernel_15260/2951571227.py:11: FutureWarning: suggest_uniform has been deprecated in v3.0.0. This feature will be removed in v6.0.0. See https://github.com/optuna/optuna/releases/tag/v3.0.0. Use :func:`~optuna.trial.Trial.suggest_float` instead.\n",
      "  'feature_fraction': trial.suggest_uniform('feature_fraction', 0.4, 1.0),\n",
      "/var/folders/qb/s5vw4nk95r53s007_f3ty08m0000gn/T/ipykernel_15260/2951571227.py:12: FutureWarning: suggest_uniform has been deprecated in v3.0.0. This feature will be removed in v6.0.0. See https://github.com/optuna/optuna/releases/tag/v3.0.0. Use :func:`~optuna.trial.Trial.suggest_float` instead.\n",
      "  'bagging_fraction': trial.suggest_uniform('bagging_fraction', 0.4, 1.0),\n",
      "/Users/youngseoklee/opt/anaconda3/envs/ai/lib/python3.10/site-packages/lightgbm/sklearn.py:726: UserWarning: 'early_stopping_rounds' argument is deprecated and will be removed in a future release of LightGBM. Pass 'early_stopping()' callback via 'callbacks' argument instead.\n",
      "  _log_warning(\"'early_stopping_rounds' argument is deprecated and will be removed in a future release of LightGBM. \"\n",
      "/Users/youngseoklee/opt/anaconda3/envs/ai/lib/python3.10/site-packages/lightgbm/sklearn.py:736: UserWarning: 'verbose' argument is deprecated and will be removed in a future release of LightGBM. Pass 'log_evaluation()' callback via 'callbacks' argument instead.\n",
      "  _log_warning(\"'verbose' argument is deprecated and will be removed in a future release of LightGBM. \"\n",
      "\u001b[32m[I 2023-08-01 00:04:23,181]\u001b[0m Trial 41 finished with value: 278387324292055.25 and parameters: {'lambda_l1': 1.66985121864131e-08, 'lambda_l2': 0.0020646017247818167, 'num_leaves': 2, 'feature_fraction': 0.4377101780875721, 'bagging_fraction': 0.6048057960073888, 'bagging_freq': 1, 'min_child_samples': 100}. Best is trial 10 with value: 274129069360801.22.\u001b[0m\n"
     ]
    },
    {
     "name": "stdout",
     "output_type": "stream",
     "text": [
      "278387324292055.25\n",
      "[LightGBM] [Warning] feature_fraction is set=0.5102570982172515, colsample_bytree=1.0 will be ignored. Current value: feature_fraction=0.5102570982172515\n",
      "[LightGBM] [Warning] lambda_l1 is set=2.5412598858339644e-08, reg_alpha=0.0 will be ignored. Current value: lambda_l1=2.5412598858339644e-08\n",
      "[LightGBM] [Warning] bagging_fraction is set=0.6166394984254627, subsample=1.0 will be ignored. Current value: bagging_fraction=0.6166394984254627\n",
      "[LightGBM] [Warning] lambda_l2 is set=0.002201077896753557, reg_lambda=0.0 will be ignored. Current value: lambda_l2=0.002201077896753557\n",
      "[LightGBM] [Warning] bagging_freq is set=1, subsample_freq=0 will be ignored. Current value: bagging_freq=1\n"
     ]
    },
    {
     "name": "stderr",
     "output_type": "stream",
     "text": [
      "/var/folders/qb/s5vw4nk95r53s007_f3ty08m0000gn/T/ipykernel_15260/2951571227.py:8: FutureWarning: suggest_loguniform has been deprecated in v3.0.0. This feature will be removed in v6.0.0. See https://github.com/optuna/optuna/releases/tag/v3.0.0. Use :func:`~optuna.trial.Trial.suggest_float` instead.\n",
      "  'lambda_l1': trial.suggest_loguniform('lambda_l1', 1e-8, 10.0),\n",
      "/var/folders/qb/s5vw4nk95r53s007_f3ty08m0000gn/T/ipykernel_15260/2951571227.py:9: FutureWarning: suggest_loguniform has been deprecated in v3.0.0. This feature will be removed in v6.0.0. See https://github.com/optuna/optuna/releases/tag/v3.0.0. Use :func:`~optuna.trial.Trial.suggest_float` instead.\n",
      "  'lambda_l2': trial.suggest_loguniform('lambda_l2', 1e-8, 10.0),\n",
      "/var/folders/qb/s5vw4nk95r53s007_f3ty08m0000gn/T/ipykernel_15260/2951571227.py:11: FutureWarning: suggest_uniform has been deprecated in v3.0.0. This feature will be removed in v6.0.0. See https://github.com/optuna/optuna/releases/tag/v3.0.0. Use :func:`~optuna.trial.Trial.suggest_float` instead.\n",
      "  'feature_fraction': trial.suggest_uniform('feature_fraction', 0.4, 1.0),\n",
      "/var/folders/qb/s5vw4nk95r53s007_f3ty08m0000gn/T/ipykernel_15260/2951571227.py:12: FutureWarning: suggest_uniform has been deprecated in v3.0.0. This feature will be removed in v6.0.0. See https://github.com/optuna/optuna/releases/tag/v3.0.0. Use :func:`~optuna.trial.Trial.suggest_float` instead.\n",
      "  'bagging_fraction': trial.suggest_uniform('bagging_fraction', 0.4, 1.0),\n",
      "/Users/youngseoklee/opt/anaconda3/envs/ai/lib/python3.10/site-packages/lightgbm/sklearn.py:726: UserWarning: 'early_stopping_rounds' argument is deprecated and will be removed in a future release of LightGBM. Pass 'early_stopping()' callback via 'callbacks' argument instead.\n",
      "  _log_warning(\"'early_stopping_rounds' argument is deprecated and will be removed in a future release of LightGBM. \"\n",
      "/Users/youngseoklee/opt/anaconda3/envs/ai/lib/python3.10/site-packages/lightgbm/sklearn.py:736: UserWarning: 'verbose' argument is deprecated and will be removed in a future release of LightGBM. Pass 'log_evaluation()' callback via 'callbacks' argument instead.\n",
      "  _log_warning(\"'verbose' argument is deprecated and will be removed in a future release of LightGBM. \"\n",
      "\u001b[32m[I 2023-08-01 00:04:23,746]\u001b[0m Trial 42 finished with value: 363370187384395.56 and parameters: {'lambda_l1': 2.5412598858339644e-08, 'lambda_l2': 0.002201077896753557, 'num_leaves': 14, 'feature_fraction': 0.5102570982172515, 'bagging_fraction': 0.6166394984254627, 'bagging_freq': 1, 'min_child_samples': 94}. Best is trial 10 with value: 274129069360801.22.\u001b[0m\n"
     ]
    },
    {
     "name": "stdout",
     "output_type": "stream",
     "text": [
      "363370187384395.56\n",
      "[LightGBM] [Warning] feature_fraction is set=0.42925840893198225, colsample_bytree=1.0 will be ignored. Current value: feature_fraction=0.42925840893198225\n",
      "[LightGBM] [Warning] lambda_l1 is set=1.4497698233038724e-07, reg_alpha=0.0 will be ignored. Current value: lambda_l1=1.4497698233038724e-07\n",
      "[LightGBM] [Warning] bagging_fraction is set=0.556962289824236, subsample=1.0 will be ignored. Current value: bagging_fraction=0.556962289824236\n",
      "[LightGBM] [Warning] lambda_l2 is set=0.0005805793024456112, reg_lambda=0.0 will be ignored. Current value: lambda_l2=0.0005805793024456112\n",
      "[LightGBM] [Warning] bagging_freq is set=1, subsample_freq=0 will be ignored. Current value: bagging_freq=1\n"
     ]
    },
    {
     "name": "stderr",
     "output_type": "stream",
     "text": [
      "/var/folders/qb/s5vw4nk95r53s007_f3ty08m0000gn/T/ipykernel_15260/2951571227.py:8: FutureWarning: suggest_loguniform has been deprecated in v3.0.0. This feature will be removed in v6.0.0. See https://github.com/optuna/optuna/releases/tag/v3.0.0. Use :func:`~optuna.trial.Trial.suggest_float` instead.\n",
      "  'lambda_l1': trial.suggest_loguniform('lambda_l1', 1e-8, 10.0),\n",
      "/var/folders/qb/s5vw4nk95r53s007_f3ty08m0000gn/T/ipykernel_15260/2951571227.py:9: FutureWarning: suggest_loguniform has been deprecated in v3.0.0. This feature will be removed in v6.0.0. See https://github.com/optuna/optuna/releases/tag/v3.0.0. Use :func:`~optuna.trial.Trial.suggest_float` instead.\n",
      "  'lambda_l2': trial.suggest_loguniform('lambda_l2', 1e-8, 10.0),\n",
      "/var/folders/qb/s5vw4nk95r53s007_f3ty08m0000gn/T/ipykernel_15260/2951571227.py:11: FutureWarning: suggest_uniform has been deprecated in v3.0.0. This feature will be removed in v6.0.0. See https://github.com/optuna/optuna/releases/tag/v3.0.0. Use :func:`~optuna.trial.Trial.suggest_float` instead.\n",
      "  'feature_fraction': trial.suggest_uniform('feature_fraction', 0.4, 1.0),\n",
      "/var/folders/qb/s5vw4nk95r53s007_f3ty08m0000gn/T/ipykernel_15260/2951571227.py:12: FutureWarning: suggest_uniform has been deprecated in v3.0.0. This feature will be removed in v6.0.0. See https://github.com/optuna/optuna/releases/tag/v3.0.0. Use :func:`~optuna.trial.Trial.suggest_float` instead.\n",
      "  'bagging_fraction': trial.suggest_uniform('bagging_fraction', 0.4, 1.0),\n",
      "/Users/youngseoklee/opt/anaconda3/envs/ai/lib/python3.10/site-packages/lightgbm/sklearn.py:726: UserWarning: 'early_stopping_rounds' argument is deprecated and will be removed in a future release of LightGBM. Pass 'early_stopping()' callback via 'callbacks' argument instead.\n",
      "  _log_warning(\"'early_stopping_rounds' argument is deprecated and will be removed in a future release of LightGBM. \"\n",
      "/Users/youngseoklee/opt/anaconda3/envs/ai/lib/python3.10/site-packages/lightgbm/sklearn.py:736: UserWarning: 'verbose' argument is deprecated and will be removed in a future release of LightGBM. Pass 'log_evaluation()' callback via 'callbacks' argument instead.\n",
      "  _log_warning(\"'verbose' argument is deprecated and will be removed in a future release of LightGBM. \"\n",
      "\u001b[32m[I 2023-08-01 00:04:23,978]\u001b[0m Trial 43 finished with value: 280957378867727.47 and parameters: {'lambda_l1': 1.4497698233038724e-07, 'lambda_l2': 0.0005805793024456112, 'num_leaves': 2, 'feature_fraction': 0.42925840893198225, 'bagging_fraction': 0.556962289824236, 'bagging_freq': 1, 'min_child_samples': 100}. Best is trial 10 with value: 274129069360801.22.\u001b[0m\n"
     ]
    },
    {
     "name": "stdout",
     "output_type": "stream",
     "text": [
      "280957378867727.47\n",
      "[LightGBM] [Warning] feature_fraction is set=0.4695088684541451, colsample_bytree=1.0 will be ignored. Current value: feature_fraction=0.4695088684541451\n",
      "[LightGBM] [Warning] lambda_l1 is set=1.0224385375029513e-08, reg_alpha=0.0 will be ignored. Current value: lambda_l1=1.0224385375029513e-08\n",
      "[LightGBM] [Warning] bagging_fraction is set=0.667847339590341, subsample=1.0 will be ignored. Current value: bagging_fraction=0.667847339590341\n",
      "[LightGBM] [Warning] lambda_l2 is set=0.004055506364307088, reg_lambda=0.0 will be ignored. Current value: lambda_l2=0.004055506364307088\n",
      "[LightGBM] [Warning] bagging_freq is set=2, subsample_freq=0 will be ignored. Current value: bagging_freq=2\n"
     ]
    },
    {
     "name": "stderr",
     "output_type": "stream",
     "text": [
      "/var/folders/qb/s5vw4nk95r53s007_f3ty08m0000gn/T/ipykernel_15260/2951571227.py:8: FutureWarning: suggest_loguniform has been deprecated in v3.0.0. This feature will be removed in v6.0.0. See https://github.com/optuna/optuna/releases/tag/v3.0.0. Use :func:`~optuna.trial.Trial.suggest_float` instead.\n",
      "  'lambda_l1': trial.suggest_loguniform('lambda_l1', 1e-8, 10.0),\n",
      "/var/folders/qb/s5vw4nk95r53s007_f3ty08m0000gn/T/ipykernel_15260/2951571227.py:9: FutureWarning: suggest_loguniform has been deprecated in v3.0.0. This feature will be removed in v6.0.0. See https://github.com/optuna/optuna/releases/tag/v3.0.0. Use :func:`~optuna.trial.Trial.suggest_float` instead.\n",
      "  'lambda_l2': trial.suggest_loguniform('lambda_l2', 1e-8, 10.0),\n",
      "/var/folders/qb/s5vw4nk95r53s007_f3ty08m0000gn/T/ipykernel_15260/2951571227.py:11: FutureWarning: suggest_uniform has been deprecated in v3.0.0. This feature will be removed in v6.0.0. See https://github.com/optuna/optuna/releases/tag/v3.0.0. Use :func:`~optuna.trial.Trial.suggest_float` instead.\n",
      "  'feature_fraction': trial.suggest_uniform('feature_fraction', 0.4, 1.0),\n",
      "/var/folders/qb/s5vw4nk95r53s007_f3ty08m0000gn/T/ipykernel_15260/2951571227.py:12: FutureWarning: suggest_uniform has been deprecated in v3.0.0. This feature will be removed in v6.0.0. See https://github.com/optuna/optuna/releases/tag/v3.0.0. Use :func:`~optuna.trial.Trial.suggest_float` instead.\n",
      "  'bagging_fraction': trial.suggest_uniform('bagging_fraction', 0.4, 1.0),\n",
      "/Users/youngseoklee/opt/anaconda3/envs/ai/lib/python3.10/site-packages/lightgbm/sklearn.py:726: UserWarning: 'early_stopping_rounds' argument is deprecated and will be removed in a future release of LightGBM. Pass 'early_stopping()' callback via 'callbacks' argument instead.\n",
      "  _log_warning(\"'early_stopping_rounds' argument is deprecated and will be removed in a future release of LightGBM. \"\n",
      "/Users/youngseoklee/opt/anaconda3/envs/ai/lib/python3.10/site-packages/lightgbm/sklearn.py:736: UserWarning: 'verbose' argument is deprecated and will be removed in a future release of LightGBM. Pass 'log_evaluation()' callback via 'callbacks' argument instead.\n",
      "  _log_warning(\"'verbose' argument is deprecated and will be removed in a future release of LightGBM. \"\n",
      "\u001b[32m[I 2023-08-01 00:04:25,177]\u001b[0m Trial 44 finished with value: 375315477264421.75 and parameters: {'lambda_l1': 1.0224385375029513e-08, 'lambda_l2': 0.004055506364307088, 'num_leaves': 45, 'feature_fraction': 0.4695088684541451, 'bagging_fraction': 0.667847339590341, 'bagging_freq': 2, 'min_child_samples': 48}. Best is trial 10 with value: 274129069360801.22.\u001b[0m\n"
     ]
    },
    {
     "name": "stdout",
     "output_type": "stream",
     "text": [
      "375315477264421.75\n",
      "[LightGBM] [Warning] feature_fraction is set=0.4233386601431663, colsample_bytree=1.0 will be ignored. Current value: feature_fraction=0.4233386601431663\n",
      "[LightGBM] [Warning] lambda_l1 is set=9.665761923182995e-07, reg_alpha=0.0 will be ignored. Current value: lambda_l1=9.665761923182995e-07\n",
      "[LightGBM] [Warning] bagging_fraction is set=0.5834263761843966, subsample=1.0 will be ignored. Current value: bagging_fraction=0.5834263761843966\n",
      "[LightGBM] [Warning] lambda_l2 is set=1.537952111235579e-05, reg_lambda=0.0 will be ignored. Current value: lambda_l2=1.537952111235579e-05\n",
      "[LightGBM] [Warning] bagging_freq is set=3, subsample_freq=0 will be ignored. Current value: bagging_freq=3\n"
     ]
    },
    {
     "name": "stderr",
     "output_type": "stream",
     "text": [
      "/var/folders/qb/s5vw4nk95r53s007_f3ty08m0000gn/T/ipykernel_15260/2951571227.py:8: FutureWarning: suggest_loguniform has been deprecated in v3.0.0. This feature will be removed in v6.0.0. See https://github.com/optuna/optuna/releases/tag/v3.0.0. Use :func:`~optuna.trial.Trial.suggest_float` instead.\n",
      "  'lambda_l1': trial.suggest_loguniform('lambda_l1', 1e-8, 10.0),\n",
      "/var/folders/qb/s5vw4nk95r53s007_f3ty08m0000gn/T/ipykernel_15260/2951571227.py:9: FutureWarning: suggest_loguniform has been deprecated in v3.0.0. This feature will be removed in v6.0.0. See https://github.com/optuna/optuna/releases/tag/v3.0.0. Use :func:`~optuna.trial.Trial.suggest_float` instead.\n",
      "  'lambda_l2': trial.suggest_loguniform('lambda_l2', 1e-8, 10.0),\n",
      "/var/folders/qb/s5vw4nk95r53s007_f3ty08m0000gn/T/ipykernel_15260/2951571227.py:11: FutureWarning: suggest_uniform has been deprecated in v3.0.0. This feature will be removed in v6.0.0. See https://github.com/optuna/optuna/releases/tag/v3.0.0. Use :func:`~optuna.trial.Trial.suggest_float` instead.\n",
      "  'feature_fraction': trial.suggest_uniform('feature_fraction', 0.4, 1.0),\n",
      "/var/folders/qb/s5vw4nk95r53s007_f3ty08m0000gn/T/ipykernel_15260/2951571227.py:12: FutureWarning: suggest_uniform has been deprecated in v3.0.0. This feature will be removed in v6.0.0. See https://github.com/optuna/optuna/releases/tag/v3.0.0. Use :func:`~optuna.trial.Trial.suggest_float` instead.\n",
      "  'bagging_fraction': trial.suggest_uniform('bagging_fraction', 0.4, 1.0),\n",
      "/Users/youngseoklee/opt/anaconda3/envs/ai/lib/python3.10/site-packages/lightgbm/sklearn.py:726: UserWarning: 'early_stopping_rounds' argument is deprecated and will be removed in a future release of LightGBM. Pass 'early_stopping()' callback via 'callbacks' argument instead.\n",
      "  _log_warning(\"'early_stopping_rounds' argument is deprecated and will be removed in a future release of LightGBM. \"\n",
      "/Users/youngseoklee/opt/anaconda3/envs/ai/lib/python3.10/site-packages/lightgbm/sklearn.py:736: UserWarning: 'verbose' argument is deprecated and will be removed in a future release of LightGBM. Pass 'log_evaluation()' callback via 'callbacks' argument instead.\n",
      "  _log_warning(\"'verbose' argument is deprecated and will be removed in a future release of LightGBM. \"\n",
      "\u001b[32m[I 2023-08-01 00:04:26,105]\u001b[0m Trial 45 finished with value: 353402166750926.7 and parameters: {'lambda_l1': 9.665761923182995e-07, 'lambda_l2': 1.537952111235579e-05, 'num_leaves': 28, 'feature_fraction': 0.4233386601431663, 'bagging_fraction': 0.5834263761843966, 'bagging_freq': 3, 'min_child_samples': 83}. Best is trial 10 with value: 274129069360801.22.\u001b[0m\n"
     ]
    },
    {
     "name": "stdout",
     "output_type": "stream",
     "text": [
      "353402166750926.7\n",
      "[LightGBM] [Warning] feature_fraction is set=0.5409783185810414, colsample_bytree=1.0 will be ignored. Current value: feature_fraction=0.5409783185810414\n",
      "[LightGBM] [Warning] lambda_l1 is set=1.257830983469176e-07, reg_alpha=0.0 will be ignored. Current value: lambda_l1=1.257830983469176e-07\n",
      "[LightGBM] [Warning] bagging_fraction is set=0.5318904914618743, subsample=1.0 will be ignored. Current value: bagging_fraction=0.5318904914618743\n",
      "[LightGBM] [Warning] lambda_l2 is set=0.0003230582062783815, reg_lambda=0.0 will be ignored. Current value: lambda_l2=0.0003230582062783815\n",
      "[LightGBM] [Warning] bagging_freq is set=1, subsample_freq=0 will be ignored. Current value: bagging_freq=1\n"
     ]
    },
    {
     "name": "stderr",
     "output_type": "stream",
     "text": [
      "/var/folders/qb/s5vw4nk95r53s007_f3ty08m0000gn/T/ipykernel_15260/2951571227.py:8: FutureWarning: suggest_loguniform has been deprecated in v3.0.0. This feature will be removed in v6.0.0. See https://github.com/optuna/optuna/releases/tag/v3.0.0. Use :func:`~optuna.trial.Trial.suggest_float` instead.\n",
      "  'lambda_l1': trial.suggest_loguniform('lambda_l1', 1e-8, 10.0),\n",
      "/var/folders/qb/s5vw4nk95r53s007_f3ty08m0000gn/T/ipykernel_15260/2951571227.py:9: FutureWarning: suggest_loguniform has been deprecated in v3.0.0. This feature will be removed in v6.0.0. See https://github.com/optuna/optuna/releases/tag/v3.0.0. Use :func:`~optuna.trial.Trial.suggest_float` instead.\n",
      "  'lambda_l2': trial.suggest_loguniform('lambda_l2', 1e-8, 10.0),\n",
      "/var/folders/qb/s5vw4nk95r53s007_f3ty08m0000gn/T/ipykernel_15260/2951571227.py:11: FutureWarning: suggest_uniform has been deprecated in v3.0.0. This feature will be removed in v6.0.0. See https://github.com/optuna/optuna/releases/tag/v3.0.0. Use :func:`~optuna.trial.Trial.suggest_float` instead.\n",
      "  'feature_fraction': trial.suggest_uniform('feature_fraction', 0.4, 1.0),\n",
      "/var/folders/qb/s5vw4nk95r53s007_f3ty08m0000gn/T/ipykernel_15260/2951571227.py:12: FutureWarning: suggest_uniform has been deprecated in v3.0.0. This feature will be removed in v6.0.0. See https://github.com/optuna/optuna/releases/tag/v3.0.0. Use :func:`~optuna.trial.Trial.suggest_float` instead.\n",
      "  'bagging_fraction': trial.suggest_uniform('bagging_fraction', 0.4, 1.0),\n",
      "/Users/youngseoklee/opt/anaconda3/envs/ai/lib/python3.10/site-packages/lightgbm/sklearn.py:726: UserWarning: 'early_stopping_rounds' argument is deprecated and will be removed in a future release of LightGBM. Pass 'early_stopping()' callback via 'callbacks' argument instead.\n",
      "  _log_warning(\"'early_stopping_rounds' argument is deprecated and will be removed in a future release of LightGBM. \"\n",
      "/Users/youngseoklee/opt/anaconda3/envs/ai/lib/python3.10/site-packages/lightgbm/sklearn.py:736: UserWarning: 'verbose' argument is deprecated and will be removed in a future release of LightGBM. Pass 'log_evaluation()' callback via 'callbacks' argument instead.\n",
      "  _log_warning(\"'verbose' argument is deprecated and will be removed in a future release of LightGBM. \"\n",
      "\u001b[32m[I 2023-08-01 00:04:26,651]\u001b[0m Trial 46 finished with value: 367927772315091.3 and parameters: {'lambda_l1': 1.257830983469176e-07, 'lambda_l2': 0.0003230582062783815, 'num_leaves': 12, 'feature_fraction': 0.5409783185810414, 'bagging_fraction': 0.5318904914618743, 'bagging_freq': 1, 'min_child_samples': 94}. Best is trial 10 with value: 274129069360801.22.\u001b[0m\n"
     ]
    },
    {
     "name": "stdout",
     "output_type": "stream",
     "text": [
      "367927772315091.3\n",
      "[LightGBM] [Warning] feature_fraction is set=0.49862077437276453, colsample_bytree=1.0 will be ignored. Current value: feature_fraction=0.49862077437276453\n",
      "[LightGBM] [Warning] lambda_l1 is set=5.653837118294383e-07, reg_alpha=0.0 will be ignored. Current value: lambda_l1=5.653837118294383e-07\n",
      "[LightGBM] [Warning] bagging_fraction is set=0.6273850051736679, subsample=1.0 will be ignored. Current value: bagging_fraction=0.6273850051736679\n",
      "[LightGBM] [Warning] lambda_l2 is set=0.0027575059884706495, reg_lambda=0.0 will be ignored. Current value: lambda_l2=0.0027575059884706495\n",
      "[LightGBM] [Warning] bagging_freq is set=5, subsample_freq=0 will be ignored. Current value: bagging_freq=5\n"
     ]
    },
    {
     "name": "stderr",
     "output_type": "stream",
     "text": [
      "/var/folders/qb/s5vw4nk95r53s007_f3ty08m0000gn/T/ipykernel_15260/2951571227.py:8: FutureWarning: suggest_loguniform has been deprecated in v3.0.0. This feature will be removed in v6.0.0. See https://github.com/optuna/optuna/releases/tag/v3.0.0. Use :func:`~optuna.trial.Trial.suggest_float` instead.\n",
      "  'lambda_l1': trial.suggest_loguniform('lambda_l1', 1e-8, 10.0),\n",
      "/var/folders/qb/s5vw4nk95r53s007_f3ty08m0000gn/T/ipykernel_15260/2951571227.py:9: FutureWarning: suggest_loguniform has been deprecated in v3.0.0. This feature will be removed in v6.0.0. See https://github.com/optuna/optuna/releases/tag/v3.0.0. Use :func:`~optuna.trial.Trial.suggest_float` instead.\n",
      "  'lambda_l2': trial.suggest_loguniform('lambda_l2', 1e-8, 10.0),\n",
      "/var/folders/qb/s5vw4nk95r53s007_f3ty08m0000gn/T/ipykernel_15260/2951571227.py:11: FutureWarning: suggest_uniform has been deprecated in v3.0.0. This feature will be removed in v6.0.0. See https://github.com/optuna/optuna/releases/tag/v3.0.0. Use :func:`~optuna.trial.Trial.suggest_float` instead.\n",
      "  'feature_fraction': trial.suggest_uniform('feature_fraction', 0.4, 1.0),\n",
      "/var/folders/qb/s5vw4nk95r53s007_f3ty08m0000gn/T/ipykernel_15260/2951571227.py:12: FutureWarning: suggest_uniform has been deprecated in v3.0.0. This feature will be removed in v6.0.0. See https://github.com/optuna/optuna/releases/tag/v3.0.0. Use :func:`~optuna.trial.Trial.suggest_float` instead.\n",
      "  'bagging_fraction': trial.suggest_uniform('bagging_fraction', 0.4, 1.0),\n",
      "/Users/youngseoklee/opt/anaconda3/envs/ai/lib/python3.10/site-packages/lightgbm/sklearn.py:726: UserWarning: 'early_stopping_rounds' argument is deprecated and will be removed in a future release of LightGBM. Pass 'early_stopping()' callback via 'callbacks' argument instead.\n",
      "  _log_warning(\"'early_stopping_rounds' argument is deprecated and will be removed in a future release of LightGBM. \"\n",
      "/Users/youngseoklee/opt/anaconda3/envs/ai/lib/python3.10/site-packages/lightgbm/sklearn.py:736: UserWarning: 'verbose' argument is deprecated and will be removed in a future release of LightGBM. Pass 'log_evaluation()' callback via 'callbacks' argument instead.\n",
      "  _log_warning(\"'verbose' argument is deprecated and will be removed in a future release of LightGBM. \"\n",
      "\u001b[32m[I 2023-08-01 00:04:30,253]\u001b[0m Trial 47 finished with value: 299494812324666.25 and parameters: {'lambda_l1': 5.653837118294383e-07, 'lambda_l2': 0.0027575059884706495, 'num_leaves': 222, 'feature_fraction': 0.49862077437276453, 'bagging_fraction': 0.6273850051736679, 'bagging_freq': 5, 'min_child_samples': 89}. Best is trial 10 with value: 274129069360801.22.\u001b[0m\n"
     ]
    },
    {
     "name": "stdout",
     "output_type": "stream",
     "text": [
      "299494812324666.25\n",
      "[LightGBM] [Warning] feature_fraction is set=0.46331651868639706, colsample_bytree=1.0 will be ignored. Current value: feature_fraction=0.46331651868639706\n",
      "[LightGBM] [Warning] lambda_l1 is set=2.3167303188744033e-08, reg_alpha=0.0 will be ignored. Current value: lambda_l1=2.3167303188744033e-08\n",
      "[LightGBM] [Warning] bagging_fraction is set=0.4530710178830498, subsample=1.0 will be ignored. Current value: bagging_fraction=0.4530710178830498\n",
      "[LightGBM] [Warning] lambda_l2 is set=0.011863570148995292, reg_lambda=0.0 will be ignored. Current value: lambda_l2=0.011863570148995292\n",
      "[LightGBM] [Warning] bagging_freq is set=2, subsample_freq=0 will be ignored. Current value: bagging_freq=2\n"
     ]
    },
    {
     "name": "stderr",
     "output_type": "stream",
     "text": [
      "/var/folders/qb/s5vw4nk95r53s007_f3ty08m0000gn/T/ipykernel_15260/2951571227.py:8: FutureWarning: suggest_loguniform has been deprecated in v3.0.0. This feature will be removed in v6.0.0. See https://github.com/optuna/optuna/releases/tag/v3.0.0. Use :func:`~optuna.trial.Trial.suggest_float` instead.\n",
      "  'lambda_l1': trial.suggest_loguniform('lambda_l1', 1e-8, 10.0),\n",
      "/var/folders/qb/s5vw4nk95r53s007_f3ty08m0000gn/T/ipykernel_15260/2951571227.py:9: FutureWarning: suggest_loguniform has been deprecated in v3.0.0. This feature will be removed in v6.0.0. See https://github.com/optuna/optuna/releases/tag/v3.0.0. Use :func:`~optuna.trial.Trial.suggest_float` instead.\n",
      "  'lambda_l2': trial.suggest_loguniform('lambda_l2', 1e-8, 10.0),\n",
      "/var/folders/qb/s5vw4nk95r53s007_f3ty08m0000gn/T/ipykernel_15260/2951571227.py:11: FutureWarning: suggest_uniform has been deprecated in v3.0.0. This feature will be removed in v6.0.0. See https://github.com/optuna/optuna/releases/tag/v3.0.0. Use :func:`~optuna.trial.Trial.suggest_float` instead.\n",
      "  'feature_fraction': trial.suggest_uniform('feature_fraction', 0.4, 1.0),\n",
      "/var/folders/qb/s5vw4nk95r53s007_f3ty08m0000gn/T/ipykernel_15260/2951571227.py:12: FutureWarning: suggest_uniform has been deprecated in v3.0.0. This feature will be removed in v6.0.0. See https://github.com/optuna/optuna/releases/tag/v3.0.0. Use :func:`~optuna.trial.Trial.suggest_float` instead.\n",
      "  'bagging_fraction': trial.suggest_uniform('bagging_fraction', 0.4, 1.0),\n",
      "/Users/youngseoklee/opt/anaconda3/envs/ai/lib/python3.10/site-packages/lightgbm/sklearn.py:726: UserWarning: 'early_stopping_rounds' argument is deprecated and will be removed in a future release of LightGBM. Pass 'early_stopping()' callback via 'callbacks' argument instead.\n",
      "  _log_warning(\"'early_stopping_rounds' argument is deprecated and will be removed in a future release of LightGBM. \"\n",
      "/Users/youngseoklee/opt/anaconda3/envs/ai/lib/python3.10/site-packages/lightgbm/sklearn.py:736: UserWarning: 'verbose' argument is deprecated and will be removed in a future release of LightGBM. Pass 'log_evaluation()' callback via 'callbacks' argument instead.\n",
      "  _log_warning(\"'verbose' argument is deprecated and will be removed in a future release of LightGBM. \"\n",
      "\u001b[32m[I 2023-08-01 00:04:31,220]\u001b[0m Trial 48 finished with value: 399191494644705.75 and parameters: {'lambda_l1': 2.3167303188744033e-08, 'lambda_l2': 0.011863570148995292, 'num_leaves': 32, 'feature_fraction': 0.46331651868639706, 'bagging_fraction': 0.4530710178830498, 'bagging_freq': 2, 'min_child_samples': 74}. Best is trial 10 with value: 274129069360801.22.\u001b[0m\n"
     ]
    },
    {
     "name": "stdout",
     "output_type": "stream",
     "text": [
      "399191494644705.75\n",
      "[LightGBM] [Warning] feature_fraction is set=0.4364304830692286, colsample_bytree=1.0 will be ignored. Current value: feature_fraction=0.4364304830692286\n",
      "[LightGBM] [Warning] lambda_l1 is set=6.556342924809363e-08, reg_alpha=0.0 will be ignored. Current value: lambda_l1=6.556342924809363e-08\n",
      "[LightGBM] [Warning] bagging_fraction is set=0.6998740687369662, subsample=1.0 will be ignored. Current value: bagging_fraction=0.6998740687369662\n",
      "[LightGBM] [Warning] lambda_l2 is set=0.00012833345059915804, reg_lambda=0.0 will be ignored. Current value: lambda_l2=0.00012833345059915804\n",
      "[LightGBM] [Warning] bagging_freq is set=1, subsample_freq=0 will be ignored. Current value: bagging_freq=1\n"
     ]
    },
    {
     "name": "stderr",
     "output_type": "stream",
     "text": [
      "/var/folders/qb/s5vw4nk95r53s007_f3ty08m0000gn/T/ipykernel_15260/2951571227.py:8: FutureWarning: suggest_loguniform has been deprecated in v3.0.0. This feature will be removed in v6.0.0. See https://github.com/optuna/optuna/releases/tag/v3.0.0. Use :func:`~optuna.trial.Trial.suggest_float` instead.\n",
      "  'lambda_l1': trial.suggest_loguniform('lambda_l1', 1e-8, 10.0),\n",
      "/var/folders/qb/s5vw4nk95r53s007_f3ty08m0000gn/T/ipykernel_15260/2951571227.py:9: FutureWarning: suggest_loguniform has been deprecated in v3.0.0. This feature will be removed in v6.0.0. See https://github.com/optuna/optuna/releases/tag/v3.0.0. Use :func:`~optuna.trial.Trial.suggest_float` instead.\n",
      "  'lambda_l2': trial.suggest_loguniform('lambda_l2', 1e-8, 10.0),\n",
      "/var/folders/qb/s5vw4nk95r53s007_f3ty08m0000gn/T/ipykernel_15260/2951571227.py:11: FutureWarning: suggest_uniform has been deprecated in v3.0.0. This feature will be removed in v6.0.0. See https://github.com/optuna/optuna/releases/tag/v3.0.0. Use :func:`~optuna.trial.Trial.suggest_float` instead.\n",
      "  'feature_fraction': trial.suggest_uniform('feature_fraction', 0.4, 1.0),\n",
      "/var/folders/qb/s5vw4nk95r53s007_f3ty08m0000gn/T/ipykernel_15260/2951571227.py:12: FutureWarning: suggest_uniform has been deprecated in v3.0.0. This feature will be removed in v6.0.0. See https://github.com/optuna/optuna/releases/tag/v3.0.0. Use :func:`~optuna.trial.Trial.suggest_float` instead.\n",
      "  'bagging_fraction': trial.suggest_uniform('bagging_fraction', 0.4, 1.0),\n",
      "/Users/youngseoklee/opt/anaconda3/envs/ai/lib/python3.10/site-packages/lightgbm/sklearn.py:726: UserWarning: 'early_stopping_rounds' argument is deprecated and will be removed in a future release of LightGBM. Pass 'early_stopping()' callback via 'callbacks' argument instead.\n",
      "  _log_warning(\"'early_stopping_rounds' argument is deprecated and will be removed in a future release of LightGBM. \"\n",
      "/Users/youngseoklee/opt/anaconda3/envs/ai/lib/python3.10/site-packages/lightgbm/sklearn.py:736: UserWarning: 'verbose' argument is deprecated and will be removed in a future release of LightGBM. Pass 'log_evaluation()' callback via 'callbacks' argument instead.\n",
      "  _log_warning(\"'verbose' argument is deprecated and will be removed in a future release of LightGBM. \"\n",
      "\u001b[32m[I 2023-08-01 00:04:31,648]\u001b[0m Trial 49 finished with value: 265579173796455.3 and parameters: {'lambda_l1': 6.556342924809363e-08, 'lambda_l2': 0.00012833345059915804, 'num_leaves': 8, 'feature_fraction': 0.4364304830692286, 'bagging_fraction': 0.6998740687369662, 'bagging_freq': 1, 'min_child_samples': 96}. Best is trial 49 with value: 265579173796455.3.\u001b[0m\n"
     ]
    },
    {
     "name": "stdout",
     "output_type": "stream",
     "text": [
      "265579173796455.3\n",
      "[LightGBM] [Warning] feature_fraction is set=0.43361209303374526, colsample_bytree=1.0 will be ignored. Current value: feature_fraction=0.43361209303374526\n",
      "[LightGBM] [Warning] lambda_l1 is set=9.610828018649659e-08, reg_alpha=0.0 will be ignored. Current value: lambda_l1=9.610828018649659e-08\n",
      "[LightGBM] [Warning] bagging_fraction is set=0.6949342805813687, subsample=1.0 will be ignored. Current value: bagging_fraction=0.6949342805813687\n",
      "[LightGBM] [Warning] lambda_l2 is set=0.0001564402911333063, reg_lambda=0.0 will be ignored. Current value: lambda_l2=0.0001564402911333063\n",
      "[LightGBM] [Warning] bagging_freq is set=1, subsample_freq=0 will be ignored. Current value: bagging_freq=1\n"
     ]
    },
    {
     "name": "stderr",
     "output_type": "stream",
     "text": [
      "/var/folders/qb/s5vw4nk95r53s007_f3ty08m0000gn/T/ipykernel_15260/2951571227.py:8: FutureWarning: suggest_loguniform has been deprecated in v3.0.0. This feature will be removed in v6.0.0. See https://github.com/optuna/optuna/releases/tag/v3.0.0. Use :func:`~optuna.trial.Trial.suggest_float` instead.\n",
      "  'lambda_l1': trial.suggest_loguniform('lambda_l1', 1e-8, 10.0),\n",
      "/var/folders/qb/s5vw4nk95r53s007_f3ty08m0000gn/T/ipykernel_15260/2951571227.py:9: FutureWarning: suggest_loguniform has been deprecated in v3.0.0. This feature will be removed in v6.0.0. See https://github.com/optuna/optuna/releases/tag/v3.0.0. Use :func:`~optuna.trial.Trial.suggest_float` instead.\n",
      "  'lambda_l2': trial.suggest_loguniform('lambda_l2', 1e-8, 10.0),\n",
      "/var/folders/qb/s5vw4nk95r53s007_f3ty08m0000gn/T/ipykernel_15260/2951571227.py:11: FutureWarning: suggest_uniform has been deprecated in v3.0.0. This feature will be removed in v6.0.0. See https://github.com/optuna/optuna/releases/tag/v3.0.0. Use :func:`~optuna.trial.Trial.suggest_float` instead.\n",
      "  'feature_fraction': trial.suggest_uniform('feature_fraction', 0.4, 1.0),\n",
      "/var/folders/qb/s5vw4nk95r53s007_f3ty08m0000gn/T/ipykernel_15260/2951571227.py:12: FutureWarning: suggest_uniform has been deprecated in v3.0.0. This feature will be removed in v6.0.0. See https://github.com/optuna/optuna/releases/tag/v3.0.0. Use :func:`~optuna.trial.Trial.suggest_float` instead.\n",
      "  'bagging_fraction': trial.suggest_uniform('bagging_fraction', 0.4, 1.0),\n",
      "/Users/youngseoklee/opt/anaconda3/envs/ai/lib/python3.10/site-packages/lightgbm/sklearn.py:726: UserWarning: 'early_stopping_rounds' argument is deprecated and will be removed in a future release of LightGBM. Pass 'early_stopping()' callback via 'callbacks' argument instead.\n",
      "  _log_warning(\"'early_stopping_rounds' argument is deprecated and will be removed in a future release of LightGBM. \"\n",
      "/Users/youngseoklee/opt/anaconda3/envs/ai/lib/python3.10/site-packages/lightgbm/sklearn.py:736: UserWarning: 'verbose' argument is deprecated and will be removed in a future release of LightGBM. Pass 'log_evaluation()' callback via 'callbacks' argument instead.\n",
      "  _log_warning(\"'verbose' argument is deprecated and will be removed in a future release of LightGBM. \"\n",
      "\u001b[32m[I 2023-08-01 00:04:31,892]\u001b[0m Trial 50 finished with value: 280514452863291.97 and parameters: {'lambda_l1': 9.610828018649659e-08, 'lambda_l2': 0.0001564402911333063, 'num_leaves': 2, 'feature_fraction': 0.43361209303374526, 'bagging_fraction': 0.6949342805813687, 'bagging_freq': 1, 'min_child_samples': 98}. Best is trial 49 with value: 265579173796455.3.\u001b[0m\n"
     ]
    },
    {
     "name": "stdout",
     "output_type": "stream",
     "text": [
      "280514452863291.97\n",
      "[LightGBM] [Warning] feature_fraction is set=0.46971222054808714, colsample_bytree=1.0 will be ignored. Current value: feature_fraction=0.46971222054808714\n",
      "[LightGBM] [Warning] lambda_l1 is set=2.402772276217619e-08, reg_alpha=0.0 will be ignored. Current value: lambda_l1=2.402772276217619e-08\n",
      "[LightGBM] [Warning] bagging_fraction is set=0.6506558825129387, subsample=1.0 will be ignored. Current value: bagging_fraction=0.6506558825129387\n",
      "[LightGBM] [Warning] lambda_l2 is set=0.02317643585834473, reg_lambda=0.0 will be ignored. Current value: lambda_l2=0.02317643585834473\n",
      "[LightGBM] [Warning] bagging_freq is set=1, subsample_freq=0 will be ignored. Current value: bagging_freq=1\n"
     ]
    },
    {
     "name": "stderr",
     "output_type": "stream",
     "text": [
      "/var/folders/qb/s5vw4nk95r53s007_f3ty08m0000gn/T/ipykernel_15260/2951571227.py:8: FutureWarning: suggest_loguniform has been deprecated in v3.0.0. This feature will be removed in v6.0.0. See https://github.com/optuna/optuna/releases/tag/v3.0.0. Use :func:`~optuna.trial.Trial.suggest_float` instead.\n",
      "  'lambda_l1': trial.suggest_loguniform('lambda_l1', 1e-8, 10.0),\n",
      "/var/folders/qb/s5vw4nk95r53s007_f3ty08m0000gn/T/ipykernel_15260/2951571227.py:9: FutureWarning: suggest_loguniform has been deprecated in v3.0.0. This feature will be removed in v6.0.0. See https://github.com/optuna/optuna/releases/tag/v3.0.0. Use :func:`~optuna.trial.Trial.suggest_float` instead.\n",
      "  'lambda_l2': trial.suggest_loguniform('lambda_l2', 1e-8, 10.0),\n",
      "/var/folders/qb/s5vw4nk95r53s007_f3ty08m0000gn/T/ipykernel_15260/2951571227.py:11: FutureWarning: suggest_uniform has been deprecated in v3.0.0. This feature will be removed in v6.0.0. See https://github.com/optuna/optuna/releases/tag/v3.0.0. Use :func:`~optuna.trial.Trial.suggest_float` instead.\n",
      "  'feature_fraction': trial.suggest_uniform('feature_fraction', 0.4, 1.0),\n",
      "/var/folders/qb/s5vw4nk95r53s007_f3ty08m0000gn/T/ipykernel_15260/2951571227.py:12: FutureWarning: suggest_uniform has been deprecated in v3.0.0. This feature will be removed in v6.0.0. See https://github.com/optuna/optuna/releases/tag/v3.0.0. Use :func:`~optuna.trial.Trial.suggest_float` instead.\n",
      "  'bagging_fraction': trial.suggest_uniform('bagging_fraction', 0.4, 1.0),\n",
      "/Users/youngseoklee/opt/anaconda3/envs/ai/lib/python3.10/site-packages/lightgbm/sklearn.py:726: UserWarning: 'early_stopping_rounds' argument is deprecated and will be removed in a future release of LightGBM. Pass 'early_stopping()' callback via 'callbacks' argument instead.\n",
      "  _log_warning(\"'early_stopping_rounds' argument is deprecated and will be removed in a future release of LightGBM. \"\n",
      "/Users/youngseoklee/opt/anaconda3/envs/ai/lib/python3.10/site-packages/lightgbm/sklearn.py:736: UserWarning: 'verbose' argument is deprecated and will be removed in a future release of LightGBM. Pass 'log_evaluation()' callback via 'callbacks' argument instead.\n",
      "  _log_warning(\"'verbose' argument is deprecated and will be removed in a future release of LightGBM. \"\n",
      "\u001b[32m[I 2023-08-01 00:04:32,485]\u001b[0m Trial 51 finished with value: 351327010404808.9 and parameters: {'lambda_l1': 2.402772276217619e-08, 'lambda_l2': 0.02317643585834473, 'num_leaves': 15, 'feature_fraction': 0.46971222054808714, 'bagging_fraction': 0.6506558825129387, 'bagging_freq': 1, 'min_child_samples': 96}. Best is trial 49 with value: 265579173796455.3.\u001b[0m\n"
     ]
    },
    {
     "name": "stdout",
     "output_type": "stream",
     "text": [
      "351327010404808.9\n",
      "[LightGBM] [Warning] feature_fraction is set=0.42065629723668857, colsample_bytree=1.0 will be ignored. Current value: feature_fraction=0.42065629723668857\n",
      "[LightGBM] [Warning] lambda_l1 is set=6.682459793124512e-08, reg_alpha=0.0 will be ignored. Current value: lambda_l1=6.682459793124512e-08\n",
      "[LightGBM] [Warning] bagging_fraction is set=0.7231507060015256, subsample=1.0 will be ignored. Current value: bagging_fraction=0.7231507060015256\n",
      "[LightGBM] [Warning] lambda_l2 is set=3.6894585447528776e-08, reg_lambda=0.0 will be ignored. Current value: lambda_l2=3.6894585447528776e-08\n",
      "[LightGBM] [Warning] bagging_freq is set=2, subsample_freq=0 will be ignored. Current value: bagging_freq=2\n"
     ]
    },
    {
     "name": "stderr",
     "output_type": "stream",
     "text": [
      "/var/folders/qb/s5vw4nk95r53s007_f3ty08m0000gn/T/ipykernel_15260/2951571227.py:8: FutureWarning: suggest_loguniform has been deprecated in v3.0.0. This feature will be removed in v6.0.0. See https://github.com/optuna/optuna/releases/tag/v3.0.0. Use :func:`~optuna.trial.Trial.suggest_float` instead.\n",
      "  'lambda_l1': trial.suggest_loguniform('lambda_l1', 1e-8, 10.0),\n",
      "/var/folders/qb/s5vw4nk95r53s007_f3ty08m0000gn/T/ipykernel_15260/2951571227.py:9: FutureWarning: suggest_loguniform has been deprecated in v3.0.0. This feature will be removed in v6.0.0. See https://github.com/optuna/optuna/releases/tag/v3.0.0. Use :func:`~optuna.trial.Trial.suggest_float` instead.\n",
      "  'lambda_l2': trial.suggest_loguniform('lambda_l2', 1e-8, 10.0),\n",
      "/var/folders/qb/s5vw4nk95r53s007_f3ty08m0000gn/T/ipykernel_15260/2951571227.py:11: FutureWarning: suggest_uniform has been deprecated in v3.0.0. This feature will be removed in v6.0.0. See https://github.com/optuna/optuna/releases/tag/v3.0.0. Use :func:`~optuna.trial.Trial.suggest_float` instead.\n",
      "  'feature_fraction': trial.suggest_uniform('feature_fraction', 0.4, 1.0),\n",
      "/var/folders/qb/s5vw4nk95r53s007_f3ty08m0000gn/T/ipykernel_15260/2951571227.py:12: FutureWarning: suggest_uniform has been deprecated in v3.0.0. This feature will be removed in v6.0.0. See https://github.com/optuna/optuna/releases/tag/v3.0.0. Use :func:`~optuna.trial.Trial.suggest_float` instead.\n",
      "  'bagging_fraction': trial.suggest_uniform('bagging_fraction', 0.4, 1.0),\n",
      "/Users/youngseoklee/opt/anaconda3/envs/ai/lib/python3.10/site-packages/lightgbm/sklearn.py:726: UserWarning: 'early_stopping_rounds' argument is deprecated and will be removed in a future release of LightGBM. Pass 'early_stopping()' callback via 'callbacks' argument instead.\n",
      "  _log_warning(\"'early_stopping_rounds' argument is deprecated and will be removed in a future release of LightGBM. \"\n",
      "/Users/youngseoklee/opt/anaconda3/envs/ai/lib/python3.10/site-packages/lightgbm/sklearn.py:736: UserWarning: 'verbose' argument is deprecated and will be removed in a future release of LightGBM. Pass 'log_evaluation()' callback via 'callbacks' argument instead.\n",
      "  _log_warning(\"'verbose' argument is deprecated and will be removed in a future release of LightGBM. \"\n",
      "\u001b[32m[I 2023-08-01 00:04:33,327]\u001b[0m Trial 52 finished with value: 347085942637095.6 and parameters: {'lambda_l1': 6.682459793124512e-08, 'lambda_l2': 3.6894585447528776e-08, 'num_leaves': 23, 'feature_fraction': 0.42065629723668857, 'bagging_fraction': 0.7231507060015256, 'bagging_freq': 2, 'min_child_samples': 86}. Best is trial 49 with value: 265579173796455.3.\u001b[0m\n"
     ]
    },
    {
     "name": "stdout",
     "output_type": "stream",
     "text": [
      "347085942637095.6\n",
      "[LightGBM] [Warning] feature_fraction is set=0.4000509004507785, colsample_bytree=1.0 will be ignored. Current value: feature_fraction=0.4000509004507785\n",
      "[LightGBM] [Warning] lambda_l1 is set=1.8395957567991228e-08, reg_alpha=0.0 will be ignored. Current value: lambda_l1=1.8395957567991228e-08\n",
      "[LightGBM] [Warning] bagging_fraction is set=0.5969731642421843, subsample=1.0 will be ignored. Current value: bagging_fraction=0.5969731642421843\n",
      "[LightGBM] [Warning] lambda_l2 is set=0.0012051851042696204, reg_lambda=0.0 will be ignored. Current value: lambda_l2=0.0012051851042696204\n",
      "[LightGBM] [Warning] bagging_freq is set=1, subsample_freq=0 will be ignored. Current value: bagging_freq=1\n"
     ]
    },
    {
     "name": "stderr",
     "output_type": "stream",
     "text": [
      "/var/folders/qb/s5vw4nk95r53s007_f3ty08m0000gn/T/ipykernel_15260/2951571227.py:8: FutureWarning: suggest_loguniform has been deprecated in v3.0.0. This feature will be removed in v6.0.0. See https://github.com/optuna/optuna/releases/tag/v3.0.0. Use :func:`~optuna.trial.Trial.suggest_float` instead.\n",
      "  'lambda_l1': trial.suggest_loguniform('lambda_l1', 1e-8, 10.0),\n",
      "/var/folders/qb/s5vw4nk95r53s007_f3ty08m0000gn/T/ipykernel_15260/2951571227.py:9: FutureWarning: suggest_loguniform has been deprecated in v3.0.0. This feature will be removed in v6.0.0. See https://github.com/optuna/optuna/releases/tag/v3.0.0. Use :func:`~optuna.trial.Trial.suggest_float` instead.\n",
      "  'lambda_l2': trial.suggest_loguniform('lambda_l2', 1e-8, 10.0),\n",
      "/var/folders/qb/s5vw4nk95r53s007_f3ty08m0000gn/T/ipykernel_15260/2951571227.py:11: FutureWarning: suggest_uniform has been deprecated in v3.0.0. This feature will be removed in v6.0.0. See https://github.com/optuna/optuna/releases/tag/v3.0.0. Use :func:`~optuna.trial.Trial.suggest_float` instead.\n",
      "  'feature_fraction': trial.suggest_uniform('feature_fraction', 0.4, 1.0),\n",
      "/var/folders/qb/s5vw4nk95r53s007_f3ty08m0000gn/T/ipykernel_15260/2951571227.py:12: FutureWarning: suggest_uniform has been deprecated in v3.0.0. This feature will be removed in v6.0.0. See https://github.com/optuna/optuna/releases/tag/v3.0.0. Use :func:`~optuna.trial.Trial.suggest_float` instead.\n",
      "  'bagging_fraction': trial.suggest_uniform('bagging_fraction', 0.4, 1.0),\n",
      "/Users/youngseoklee/opt/anaconda3/envs/ai/lib/python3.10/site-packages/lightgbm/sklearn.py:726: UserWarning: 'early_stopping_rounds' argument is deprecated and will be removed in a future release of LightGBM. Pass 'early_stopping()' callback via 'callbacks' argument instead.\n",
      "  _log_warning(\"'early_stopping_rounds' argument is deprecated and will be removed in a future release of LightGBM. \"\n",
      "/Users/youngseoklee/opt/anaconda3/envs/ai/lib/python3.10/site-packages/lightgbm/sklearn.py:736: UserWarning: 'verbose' argument is deprecated and will be removed in a future release of LightGBM. Pass 'log_evaluation()' callback via 'callbacks' argument instead.\n",
      "  _log_warning(\"'verbose' argument is deprecated and will be removed in a future release of LightGBM. \"\n",
      "\u001b[32m[I 2023-08-01 00:04:34,518]\u001b[0m Trial 53 finished with value: 366340162870560.44 and parameters: {'lambda_l1': 1.8395957567991228e-08, 'lambda_l2': 0.0012051851042696204, 'num_leaves': 41, 'feature_fraction': 0.4000509004507785, 'bagging_fraction': 0.5969731642421843, 'bagging_freq': 1, 'min_child_samples': 90}. Best is trial 49 with value: 265579173796455.3.\u001b[0m\n"
     ]
    },
    {
     "name": "stdout",
     "output_type": "stream",
     "text": [
      "366340162870560.44\n",
      "[LightGBM] [Warning] feature_fraction is set=0.5067526221970647, colsample_bytree=1.0 will be ignored. Current value: feature_fraction=0.5067526221970647\n",
      "[LightGBM] [Warning] lambda_l1 is set=4.717993182995794e-07, reg_alpha=0.0 will be ignored. Current value: lambda_l1=4.717993182995794e-07\n",
      "[LightGBM] [Warning] bagging_fraction is set=0.505797802735686, subsample=1.0 will be ignored. Current value: bagging_fraction=0.505797802735686\n",
      "[LightGBM] [Warning] lambda_l2 is set=0.005278844177834888, reg_lambda=0.0 will be ignored. Current value: lambda_l2=0.005278844177834888\n",
      "[LightGBM] [Warning] bagging_freq is set=1, subsample_freq=0 will be ignored. Current value: bagging_freq=1\n"
     ]
    },
    {
     "name": "stderr",
     "output_type": "stream",
     "text": [
      "/var/folders/qb/s5vw4nk95r53s007_f3ty08m0000gn/T/ipykernel_15260/2951571227.py:8: FutureWarning: suggest_loguniform has been deprecated in v3.0.0. This feature will be removed in v6.0.0. See https://github.com/optuna/optuna/releases/tag/v3.0.0. Use :func:`~optuna.trial.Trial.suggest_float` instead.\n",
      "  'lambda_l1': trial.suggest_loguniform('lambda_l1', 1e-8, 10.0),\n",
      "/var/folders/qb/s5vw4nk95r53s007_f3ty08m0000gn/T/ipykernel_15260/2951571227.py:9: FutureWarning: suggest_loguniform has been deprecated in v3.0.0. This feature will be removed in v6.0.0. See https://github.com/optuna/optuna/releases/tag/v3.0.0. Use :func:`~optuna.trial.Trial.suggest_float` instead.\n",
      "  'lambda_l2': trial.suggest_loguniform('lambda_l2', 1e-8, 10.0),\n",
      "/var/folders/qb/s5vw4nk95r53s007_f3ty08m0000gn/T/ipykernel_15260/2951571227.py:11: FutureWarning: suggest_uniform has been deprecated in v3.0.0. This feature will be removed in v6.0.0. See https://github.com/optuna/optuna/releases/tag/v3.0.0. Use :func:`~optuna.trial.Trial.suggest_float` instead.\n",
      "  'feature_fraction': trial.suggest_uniform('feature_fraction', 0.4, 1.0),\n",
      "/var/folders/qb/s5vw4nk95r53s007_f3ty08m0000gn/T/ipykernel_15260/2951571227.py:12: FutureWarning: suggest_uniform has been deprecated in v3.0.0. This feature will be removed in v6.0.0. See https://github.com/optuna/optuna/releases/tag/v3.0.0. Use :func:`~optuna.trial.Trial.suggest_float` instead.\n",
      "  'bagging_fraction': trial.suggest_uniform('bagging_fraction', 0.4, 1.0),\n",
      "/Users/youngseoklee/opt/anaconda3/envs/ai/lib/python3.10/site-packages/lightgbm/sklearn.py:726: UserWarning: 'early_stopping_rounds' argument is deprecated and will be removed in a future release of LightGBM. Pass 'early_stopping()' callback via 'callbacks' argument instead.\n",
      "  _log_warning(\"'early_stopping_rounds' argument is deprecated and will be removed in a future release of LightGBM. \"\n",
      "/Users/youngseoklee/opt/anaconda3/envs/ai/lib/python3.10/site-packages/lightgbm/sklearn.py:736: UserWarning: 'verbose' argument is deprecated and will be removed in a future release of LightGBM. Pass 'log_evaluation()' callback via 'callbacks' argument instead.\n",
      "  _log_warning(\"'verbose' argument is deprecated and will be removed in a future release of LightGBM. \"\n",
      "\u001b[32m[I 2023-08-01 00:04:34,947]\u001b[0m Trial 54 finished with value: 333547194144112.75 and parameters: {'lambda_l1': 4.717993182995794e-07, 'lambda_l2': 0.005278844177834888, 'num_leaves': 8, 'feature_fraction': 0.5067526221970647, 'bagging_fraction': 0.505797802735686, 'bagging_freq': 1, 'min_child_samples': 97}. Best is trial 49 with value: 265579173796455.3.\u001b[0m\n"
     ]
    },
    {
     "name": "stdout",
     "output_type": "stream",
     "text": [
      "333547194144112.75\n",
      "[LightGBM] [Warning] feature_fraction is set=0.4458770346941828, colsample_bytree=1.0 will be ignored. Current value: feature_fraction=0.4458770346941828\n",
      "[LightGBM] [Warning] lambda_l1 is set=2.3291392182325313e-07, reg_alpha=0.0 will be ignored. Current value: lambda_l1=2.3291392182325313e-07\n",
      "[LightGBM] [Warning] bagging_fraction is set=0.6212845854942942, subsample=1.0 will be ignored. Current value: bagging_fraction=0.6212845854942942\n",
      "[LightGBM] [Warning] lambda_l2 is set=1.749334794572622e-06, reg_lambda=0.0 will be ignored. Current value: lambda_l2=1.749334794572622e-06\n",
      "[LightGBM] [Warning] bagging_freq is set=7, subsample_freq=0 will be ignored. Current value: bagging_freq=7\n"
     ]
    },
    {
     "name": "stderr",
     "output_type": "stream",
     "text": [
      "/var/folders/qb/s5vw4nk95r53s007_f3ty08m0000gn/T/ipykernel_15260/2951571227.py:8: FutureWarning: suggest_loguniform has been deprecated in v3.0.0. This feature will be removed in v6.0.0. See https://github.com/optuna/optuna/releases/tag/v3.0.0. Use :func:`~optuna.trial.Trial.suggest_float` instead.\n",
      "  'lambda_l1': trial.suggest_loguniform('lambda_l1', 1e-8, 10.0),\n",
      "/var/folders/qb/s5vw4nk95r53s007_f3ty08m0000gn/T/ipykernel_15260/2951571227.py:9: FutureWarning: suggest_loguniform has been deprecated in v3.0.0. This feature will be removed in v6.0.0. See https://github.com/optuna/optuna/releases/tag/v3.0.0. Use :func:`~optuna.trial.Trial.suggest_float` instead.\n",
      "  'lambda_l2': trial.suggest_loguniform('lambda_l2', 1e-8, 10.0),\n",
      "/var/folders/qb/s5vw4nk95r53s007_f3ty08m0000gn/T/ipykernel_15260/2951571227.py:11: FutureWarning: suggest_uniform has been deprecated in v3.0.0. This feature will be removed in v6.0.0. See https://github.com/optuna/optuna/releases/tag/v3.0.0. Use :func:`~optuna.trial.Trial.suggest_float` instead.\n",
      "  'feature_fraction': trial.suggest_uniform('feature_fraction', 0.4, 1.0),\n",
      "/var/folders/qb/s5vw4nk95r53s007_f3ty08m0000gn/T/ipykernel_15260/2951571227.py:12: FutureWarning: suggest_uniform has been deprecated in v3.0.0. This feature will be removed in v6.0.0. See https://github.com/optuna/optuna/releases/tag/v3.0.0. Use :func:`~optuna.trial.Trial.suggest_float` instead.\n",
      "  'bagging_fraction': trial.suggest_uniform('bagging_fraction', 0.4, 1.0),\n",
      "/Users/youngseoklee/opt/anaconda3/envs/ai/lib/python3.10/site-packages/lightgbm/sklearn.py:726: UserWarning: 'early_stopping_rounds' argument is deprecated and will be removed in a future release of LightGBM. Pass 'early_stopping()' callback via 'callbacks' argument instead.\n",
      "  _log_warning(\"'early_stopping_rounds' argument is deprecated and will be removed in a future release of LightGBM. \"\n",
      "/Users/youngseoklee/opt/anaconda3/envs/ai/lib/python3.10/site-packages/lightgbm/sklearn.py:736: UserWarning: 'verbose' argument is deprecated and will be removed in a future release of LightGBM. Pass 'log_evaluation()' callback via 'callbacks' argument instead.\n",
      "  _log_warning(\"'verbose' argument is deprecated and will be removed in a future release of LightGBM. \"\n",
      "\u001b[32m[I 2023-08-01 00:04:35,742]\u001b[0m Trial 55 finished with value: 339122173872332.5 and parameters: {'lambda_l1': 2.3291392182325313e-07, 'lambda_l2': 1.749334794572622e-06, 'num_leaves': 23, 'feature_fraction': 0.4458770346941828, 'bagging_fraction': 0.6212845854942942, 'bagging_freq': 7, 'min_child_samples': 100}. Best is trial 49 with value: 265579173796455.3.\u001b[0m\n"
     ]
    },
    {
     "name": "stdout",
     "output_type": "stream",
     "text": [
      "339122173872332.5\n",
      "[LightGBM] [Warning] feature_fraction is set=0.48349735331031096, colsample_bytree=1.0 will be ignored. Current value: feature_fraction=0.48349735331031096\n",
      "[LightGBM] [Warning] lambda_l1 is set=6.674477655939599e-08, reg_alpha=0.0 will be ignored. Current value: lambda_l1=6.674477655939599e-08\n",
      "[LightGBM] [Warning] bagging_fraction is set=0.5663500473901497, subsample=1.0 will be ignored. Current value: bagging_fraction=0.5663500473901497\n",
      "[LightGBM] [Warning] lambda_l2 is set=2.4259081952838642e-05, reg_lambda=0.0 will be ignored. Current value: lambda_l2=2.4259081952838642e-05\n",
      "[LightGBM] [Warning] bagging_freq is set=2, subsample_freq=0 will be ignored. Current value: bagging_freq=2\n"
     ]
    },
    {
     "name": "stderr",
     "output_type": "stream",
     "text": [
      "/var/folders/qb/s5vw4nk95r53s007_f3ty08m0000gn/T/ipykernel_15260/2951571227.py:8: FutureWarning: suggest_loguniform has been deprecated in v3.0.0. This feature will be removed in v6.0.0. See https://github.com/optuna/optuna/releases/tag/v3.0.0. Use :func:`~optuna.trial.Trial.suggest_float` instead.\n",
      "  'lambda_l1': trial.suggest_loguniform('lambda_l1', 1e-8, 10.0),\n",
      "/var/folders/qb/s5vw4nk95r53s007_f3ty08m0000gn/T/ipykernel_15260/2951571227.py:9: FutureWarning: suggest_loguniform has been deprecated in v3.0.0. This feature will be removed in v6.0.0. See https://github.com/optuna/optuna/releases/tag/v3.0.0. Use :func:`~optuna.trial.Trial.suggest_float` instead.\n",
      "  'lambda_l2': trial.suggest_loguniform('lambda_l2', 1e-8, 10.0),\n",
      "/var/folders/qb/s5vw4nk95r53s007_f3ty08m0000gn/T/ipykernel_15260/2951571227.py:11: FutureWarning: suggest_uniform has been deprecated in v3.0.0. This feature will be removed in v6.0.0. See https://github.com/optuna/optuna/releases/tag/v3.0.0. Use :func:`~optuna.trial.Trial.suggest_float` instead.\n",
      "  'feature_fraction': trial.suggest_uniform('feature_fraction', 0.4, 1.0),\n",
      "/var/folders/qb/s5vw4nk95r53s007_f3ty08m0000gn/T/ipykernel_15260/2951571227.py:12: FutureWarning: suggest_uniform has been deprecated in v3.0.0. This feature will be removed in v6.0.0. See https://github.com/optuna/optuna/releases/tag/v3.0.0. Use :func:`~optuna.trial.Trial.suggest_float` instead.\n",
      "  'bagging_fraction': trial.suggest_uniform('bagging_fraction', 0.4, 1.0),\n",
      "/Users/youngseoklee/opt/anaconda3/envs/ai/lib/python3.10/site-packages/lightgbm/sklearn.py:726: UserWarning: 'early_stopping_rounds' argument is deprecated and will be removed in a future release of LightGBM. Pass 'early_stopping()' callback via 'callbacks' argument instead.\n",
      "  _log_warning(\"'early_stopping_rounds' argument is deprecated and will be removed in a future release of LightGBM. \"\n",
      "/Users/youngseoklee/opt/anaconda3/envs/ai/lib/python3.10/site-packages/lightgbm/sklearn.py:736: UserWarning: 'verbose' argument is deprecated and will be removed in a future release of LightGBM. Pass 'log_evaluation()' callback via 'callbacks' argument instead.\n",
      "  _log_warning(\"'verbose' argument is deprecated and will be removed in a future release of LightGBM. \"\n",
      "\u001b[32m[I 2023-08-01 00:04:36,319]\u001b[0m Trial 56 finished with value: 349850117506421.2 and parameters: {'lambda_l1': 6.674477655939599e-08, 'lambda_l2': 2.4259081952838642e-05, 'num_leaves': 12, 'feature_fraction': 0.48349735331031096, 'bagging_fraction': 0.5663500473901497, 'bagging_freq': 2, 'min_child_samples': 81}. Best is trial 49 with value: 265579173796455.3.\u001b[0m\n"
     ]
    },
    {
     "name": "stdout",
     "output_type": "stream",
     "text": [
      "349850117506421.2\n",
      "[LightGBM] [Warning] feature_fraction is set=0.461815895739547, colsample_bytree=1.0 will be ignored. Current value: feature_fraction=0.461815895739547\n",
      "[LightGBM] [Warning] lambda_l1 is set=1.0479534424000891e-08, reg_alpha=0.0 will be ignored. Current value: lambda_l1=1.0479534424000891e-08\n",
      "[LightGBM] [Warning] bagging_fraction is set=0.659793959739962, subsample=1.0 will be ignored. Current value: bagging_fraction=0.659793959739962\n",
      "[LightGBM] [Warning] lambda_l2 is set=4.989505093543385e-07, reg_lambda=0.0 will be ignored. Current value: lambda_l2=4.989505093543385e-07\n",
      "[LightGBM] [Warning] bagging_freq is set=6, subsample_freq=0 will be ignored. Current value: bagging_freq=6\n"
     ]
    },
    {
     "name": "stderr",
     "output_type": "stream",
     "text": [
      "/var/folders/qb/s5vw4nk95r53s007_f3ty08m0000gn/T/ipykernel_15260/2951571227.py:8: FutureWarning: suggest_loguniform has been deprecated in v3.0.0. This feature will be removed in v6.0.0. See https://github.com/optuna/optuna/releases/tag/v3.0.0. Use :func:`~optuna.trial.Trial.suggest_float` instead.\n",
      "  'lambda_l1': trial.suggest_loguniform('lambda_l1', 1e-8, 10.0),\n",
      "/var/folders/qb/s5vw4nk95r53s007_f3ty08m0000gn/T/ipykernel_15260/2951571227.py:9: FutureWarning: suggest_loguniform has been deprecated in v3.0.0. This feature will be removed in v6.0.0. See https://github.com/optuna/optuna/releases/tag/v3.0.0. Use :func:`~optuna.trial.Trial.suggest_float` instead.\n",
      "  'lambda_l2': trial.suggest_loguniform('lambda_l2', 1e-8, 10.0),\n",
      "/var/folders/qb/s5vw4nk95r53s007_f3ty08m0000gn/T/ipykernel_15260/2951571227.py:11: FutureWarning: suggest_uniform has been deprecated in v3.0.0. This feature will be removed in v6.0.0. See https://github.com/optuna/optuna/releases/tag/v3.0.0. Use :func:`~optuna.trial.Trial.suggest_float` instead.\n",
      "  'feature_fraction': trial.suggest_uniform('feature_fraction', 0.4, 1.0),\n",
      "/var/folders/qb/s5vw4nk95r53s007_f3ty08m0000gn/T/ipykernel_15260/2951571227.py:12: FutureWarning: suggest_uniform has been deprecated in v3.0.0. This feature will be removed in v6.0.0. See https://github.com/optuna/optuna/releases/tag/v3.0.0. Use :func:`~optuna.trial.Trial.suggest_float` instead.\n",
      "  'bagging_fraction': trial.suggest_uniform('bagging_fraction', 0.4, 1.0),\n",
      "/Users/youngseoklee/opt/anaconda3/envs/ai/lib/python3.10/site-packages/lightgbm/sklearn.py:726: UserWarning: 'early_stopping_rounds' argument is deprecated and will be removed in a future release of LightGBM. Pass 'early_stopping()' callback via 'callbacks' argument instead.\n",
      "  _log_warning(\"'early_stopping_rounds' argument is deprecated and will be removed in a future release of LightGBM. \"\n",
      "/Users/youngseoklee/opt/anaconda3/envs/ai/lib/python3.10/site-packages/lightgbm/sklearn.py:736: UserWarning: 'verbose' argument is deprecated and will be removed in a future release of LightGBM. Pass 'log_evaluation()' callback via 'callbacks' argument instead.\n",
      "  _log_warning(\"'verbose' argument is deprecated and will be removed in a future release of LightGBM. \"\n",
      "\u001b[32m[I 2023-08-01 00:04:37,532]\u001b[0m Trial 57 finished with value: 404023766081584.3 and parameters: {'lambda_l1': 1.0479534424000891e-08, 'lambda_l2': 4.989505093543385e-07, 'num_leaves': 47, 'feature_fraction': 0.461815895739547, 'bagging_fraction': 0.659793959739962, 'bagging_freq': 6, 'min_child_samples': 90}. Best is trial 49 with value: 265579173796455.3.\u001b[0m\n"
     ]
    },
    {
     "name": "stdout",
     "output_type": "stream",
     "text": [
      "404023766081584.3\n",
      "[LightGBM] [Warning] feature_fraction is set=0.426154002336154, colsample_bytree=1.0 will be ignored. Current value: feature_fraction=0.426154002336154\n",
      "[LightGBM] [Warning] lambda_l1 is set=2.0356892830274834e-05, reg_alpha=0.0 will be ignored. Current value: lambda_l1=2.0356892830274834e-05\n",
      "[LightGBM] [Warning] bagging_fraction is set=0.6410410270874681, subsample=1.0 will be ignored. Current value: bagging_fraction=0.6410410270874681\n",
      "[LightGBM] [Warning] lambda_l2 is set=1.663236998912501e-08, reg_lambda=0.0 will be ignored. Current value: lambda_l2=1.663236998912501e-08\n",
      "[LightGBM] [Warning] bagging_freq is set=1, subsample_freq=0 will be ignored. Current value: bagging_freq=1\n"
     ]
    },
    {
     "name": "stderr",
     "output_type": "stream",
     "text": [
      "/var/folders/qb/s5vw4nk95r53s007_f3ty08m0000gn/T/ipykernel_15260/2951571227.py:8: FutureWarning: suggest_loguniform has been deprecated in v3.0.0. This feature will be removed in v6.0.0. See https://github.com/optuna/optuna/releases/tag/v3.0.0. Use :func:`~optuna.trial.Trial.suggest_float` instead.\n",
      "  'lambda_l1': trial.suggest_loguniform('lambda_l1', 1e-8, 10.0),\n",
      "/var/folders/qb/s5vw4nk95r53s007_f3ty08m0000gn/T/ipykernel_15260/2951571227.py:9: FutureWarning: suggest_loguniform has been deprecated in v3.0.0. This feature will be removed in v6.0.0. See https://github.com/optuna/optuna/releases/tag/v3.0.0. Use :func:`~optuna.trial.Trial.suggest_float` instead.\n",
      "  'lambda_l2': trial.suggest_loguniform('lambda_l2', 1e-8, 10.0),\n",
      "/var/folders/qb/s5vw4nk95r53s007_f3ty08m0000gn/T/ipykernel_15260/2951571227.py:11: FutureWarning: suggest_uniform has been deprecated in v3.0.0. This feature will be removed in v6.0.0. See https://github.com/optuna/optuna/releases/tag/v3.0.0. Use :func:`~optuna.trial.Trial.suggest_float` instead.\n",
      "  'feature_fraction': trial.suggest_uniform('feature_fraction', 0.4, 1.0),\n",
      "/var/folders/qb/s5vw4nk95r53s007_f3ty08m0000gn/T/ipykernel_15260/2951571227.py:12: FutureWarning: suggest_uniform has been deprecated in v3.0.0. This feature will be removed in v6.0.0. See https://github.com/optuna/optuna/releases/tag/v3.0.0. Use :func:`~optuna.trial.Trial.suggest_float` instead.\n",
      "  'bagging_fraction': trial.suggest_uniform('bagging_fraction', 0.4, 1.0),\n",
      "/Users/youngseoklee/opt/anaconda3/envs/ai/lib/python3.10/site-packages/lightgbm/sklearn.py:726: UserWarning: 'early_stopping_rounds' argument is deprecated and will be removed in a future release of LightGBM. Pass 'early_stopping()' callback via 'callbacks' argument instead.\n",
      "  _log_warning(\"'early_stopping_rounds' argument is deprecated and will be removed in a future release of LightGBM. \"\n",
      "/Users/youngseoklee/opt/anaconda3/envs/ai/lib/python3.10/site-packages/lightgbm/sklearn.py:736: UserWarning: 'verbose' argument is deprecated and will be removed in a future release of LightGBM. Pass 'log_evaluation()' callback via 'callbacks' argument instead.\n",
      "  _log_warning(\"'verbose' argument is deprecated and will be removed in a future release of LightGBM. \"\n",
      "\u001b[32m[I 2023-08-01 00:04:39,943]\u001b[0m Trial 58 finished with value: 384147995899505.56 and parameters: {'lambda_l1': 2.0356892830274834e-05, 'lambda_l2': 1.663236998912501e-08, 'num_leaves': 146, 'feature_fraction': 0.426154002336154, 'bagging_fraction': 0.6410410270874681, 'bagging_freq': 1, 'min_child_samples': 96}. Best is trial 49 with value: 265579173796455.3.\u001b[0m\n"
     ]
    },
    {
     "name": "stdout",
     "output_type": "stream",
     "text": [
      "384147995899505.56\n",
      "[LightGBM] [Warning] feature_fraction is set=0.5446641429915411, colsample_bytree=1.0 will be ignored. Current value: feature_fraction=0.5446641429915411\n",
      "[LightGBM] [Warning] lambda_l1 is set=3.4734412115654078e-06, reg_alpha=0.0 will be ignored. Current value: lambda_l1=3.4734412115654078e-06\n",
      "[LightGBM] [Warning] bagging_fraction is set=0.6864947048663965, subsample=1.0 will be ignored. Current value: bagging_fraction=0.6864947048663965\n",
      "[LightGBM] [Warning] lambda_l2 is set=5.301793456272488e-06, reg_lambda=0.0 will be ignored. Current value: lambda_l2=5.301793456272488e-06\n",
      "[LightGBM] [Warning] bagging_freq is set=3, subsample_freq=0 will be ignored. Current value: bagging_freq=3\n"
     ]
    },
    {
     "name": "stderr",
     "output_type": "stream",
     "text": [
      "/var/folders/qb/s5vw4nk95r53s007_f3ty08m0000gn/T/ipykernel_15260/2951571227.py:8: FutureWarning: suggest_loguniform has been deprecated in v3.0.0. This feature will be removed in v6.0.0. See https://github.com/optuna/optuna/releases/tag/v3.0.0. Use :func:`~optuna.trial.Trial.suggest_float` instead.\n",
      "  'lambda_l1': trial.suggest_loguniform('lambda_l1', 1e-8, 10.0),\n",
      "/var/folders/qb/s5vw4nk95r53s007_f3ty08m0000gn/T/ipykernel_15260/2951571227.py:9: FutureWarning: suggest_loguniform has been deprecated in v3.0.0. This feature will be removed in v6.0.0. See https://github.com/optuna/optuna/releases/tag/v3.0.0. Use :func:`~optuna.trial.Trial.suggest_float` instead.\n",
      "  'lambda_l2': trial.suggest_loguniform('lambda_l2', 1e-8, 10.0),\n",
      "/var/folders/qb/s5vw4nk95r53s007_f3ty08m0000gn/T/ipykernel_15260/2951571227.py:11: FutureWarning: suggest_uniform has been deprecated in v3.0.0. This feature will be removed in v6.0.0. See https://github.com/optuna/optuna/releases/tag/v3.0.0. Use :func:`~optuna.trial.Trial.suggest_float` instead.\n",
      "  'feature_fraction': trial.suggest_uniform('feature_fraction', 0.4, 1.0),\n",
      "/var/folders/qb/s5vw4nk95r53s007_f3ty08m0000gn/T/ipykernel_15260/2951571227.py:12: FutureWarning: suggest_uniform has been deprecated in v3.0.0. This feature will be removed in v6.0.0. See https://github.com/optuna/optuna/releases/tag/v3.0.0. Use :func:`~optuna.trial.Trial.suggest_float` instead.\n",
      "  'bagging_fraction': trial.suggest_uniform('bagging_fraction', 0.4, 1.0),\n",
      "/Users/youngseoklee/opt/anaconda3/envs/ai/lib/python3.10/site-packages/lightgbm/sklearn.py:726: UserWarning: 'early_stopping_rounds' argument is deprecated and will be removed in a future release of LightGBM. Pass 'early_stopping()' callback via 'callbacks' argument instead.\n",
      "  _log_warning(\"'early_stopping_rounds' argument is deprecated and will be removed in a future release of LightGBM. \"\n",
      "/Users/youngseoklee/opt/anaconda3/envs/ai/lib/python3.10/site-packages/lightgbm/sklearn.py:736: UserWarning: 'verbose' argument is deprecated and will be removed in a future release of LightGBM. Pass 'log_evaluation()' callback via 'callbacks' argument instead.\n",
      "  _log_warning(\"'verbose' argument is deprecated and will be removed in a future release of LightGBM. \"\n",
      "\u001b[32m[I 2023-08-01 00:04:40,869]\u001b[0m Trial 59 finished with value: 374861528706164.2 and parameters: {'lambda_l1': 3.4734412115654078e-06, 'lambda_l2': 5.301793456272488e-06, 'num_leaves': 29, 'feature_fraction': 0.5446641429915411, 'bagging_fraction': 0.6864947048663965, 'bagging_freq': 3, 'min_child_samples': 85}. Best is trial 49 with value: 265579173796455.3.\u001b[0m\n"
     ]
    },
    {
     "name": "stdout",
     "output_type": "stream",
     "text": [
      "374861528706164.2\n",
      "[LightGBM] [Warning] feature_fraction is set=0.4908565616643531, colsample_bytree=1.0 will be ignored. Current value: feature_fraction=0.4908565616643531\n",
      "[LightGBM] [Warning] lambda_l1 is set=3.917983371018179e-08, reg_alpha=0.0 will be ignored. Current value: lambda_l1=3.917983371018179e-08\n",
      "[LightGBM] [Warning] bagging_fraction is set=0.5296828026342304, subsample=1.0 will be ignored. Current value: bagging_fraction=0.5296828026342304\n",
      "[LightGBM] [Warning] lambda_l2 is set=0.0017143619859431726, reg_lambda=0.0 will be ignored. Current value: lambda_l2=0.0017143619859431726\n",
      "[LightGBM] [Warning] bagging_freq is set=2, subsample_freq=0 will be ignored. Current value: bagging_freq=2\n"
     ]
    },
    {
     "name": "stderr",
     "output_type": "stream",
     "text": [
      "/var/folders/qb/s5vw4nk95r53s007_f3ty08m0000gn/T/ipykernel_15260/2951571227.py:8: FutureWarning: suggest_loguniform has been deprecated in v3.0.0. This feature will be removed in v6.0.0. See https://github.com/optuna/optuna/releases/tag/v3.0.0. Use :func:`~optuna.trial.Trial.suggest_float` instead.\n",
      "  'lambda_l1': trial.suggest_loguniform('lambda_l1', 1e-8, 10.0),\n",
      "/var/folders/qb/s5vw4nk95r53s007_f3ty08m0000gn/T/ipykernel_15260/2951571227.py:9: FutureWarning: suggest_loguniform has been deprecated in v3.0.0. This feature will be removed in v6.0.0. See https://github.com/optuna/optuna/releases/tag/v3.0.0. Use :func:`~optuna.trial.Trial.suggest_float` instead.\n",
      "  'lambda_l2': trial.suggest_loguniform('lambda_l2', 1e-8, 10.0),\n",
      "/var/folders/qb/s5vw4nk95r53s007_f3ty08m0000gn/T/ipykernel_15260/2951571227.py:11: FutureWarning: suggest_uniform has been deprecated in v3.0.0. This feature will be removed in v6.0.0. See https://github.com/optuna/optuna/releases/tag/v3.0.0. Use :func:`~optuna.trial.Trial.suggest_float` instead.\n",
      "  'feature_fraction': trial.suggest_uniform('feature_fraction', 0.4, 1.0),\n",
      "/var/folders/qb/s5vw4nk95r53s007_f3ty08m0000gn/T/ipykernel_15260/2951571227.py:12: FutureWarning: suggest_uniform has been deprecated in v3.0.0. This feature will be removed in v6.0.0. See https://github.com/optuna/optuna/releases/tag/v3.0.0. Use :func:`~optuna.trial.Trial.suggest_float` instead.\n",
      "  'bagging_fraction': trial.suggest_uniform('bagging_fraction', 0.4, 1.0),\n",
      "/Users/youngseoklee/opt/anaconda3/envs/ai/lib/python3.10/site-packages/lightgbm/sklearn.py:726: UserWarning: 'early_stopping_rounds' argument is deprecated and will be removed in a future release of LightGBM. Pass 'early_stopping()' callback via 'callbacks' argument instead.\n",
      "  _log_warning(\"'early_stopping_rounds' argument is deprecated and will be removed in a future release of LightGBM. \"\n",
      "/Users/youngseoklee/opt/anaconda3/envs/ai/lib/python3.10/site-packages/lightgbm/sklearn.py:736: UserWarning: 'verbose' argument is deprecated and will be removed in a future release of LightGBM. Pass 'log_evaluation()' callback via 'callbacks' argument instead.\n",
      "  _log_warning(\"'verbose' argument is deprecated and will be removed in a future release of LightGBM. \"\n",
      "\u001b[32m[I 2023-08-01 00:04:44,827]\u001b[0m Trial 60 finished with value: 351187161424690.6 and parameters: {'lambda_l1': 3.917983371018179e-08, 'lambda_l2': 0.0017143619859431726, 'num_leaves': 254, 'feature_fraction': 0.4908565616643531, 'bagging_fraction': 0.5296828026342304, 'bagging_freq': 2, 'min_child_samples': 76}. Best is trial 49 with value: 265579173796455.3.\u001b[0m\n"
     ]
    },
    {
     "name": "stdout",
     "output_type": "stream",
     "text": [
      "351187161424690.6\n",
      "[LightGBM] [Warning] feature_fraction is set=0.43997821853172664, colsample_bytree=1.0 will be ignored. Current value: feature_fraction=0.43997821853172664\n",
      "[LightGBM] [Warning] lambda_l1 is set=1.3500862407429826e-07, reg_alpha=0.0 will be ignored. Current value: lambda_l1=1.3500862407429826e-07\n",
      "[LightGBM] [Warning] bagging_fraction is set=0.6893366183318642, subsample=1.0 will be ignored. Current value: bagging_fraction=0.6893366183318642\n",
      "[LightGBM] [Warning] lambda_l2 is set=0.00019156973500591393, reg_lambda=0.0 will be ignored. Current value: lambda_l2=0.00019156973500591393\n",
      "[LightGBM] [Warning] bagging_freq is set=1, subsample_freq=0 will be ignored. Current value: bagging_freq=1\n"
     ]
    },
    {
     "name": "stderr",
     "output_type": "stream",
     "text": [
      "/var/folders/qb/s5vw4nk95r53s007_f3ty08m0000gn/T/ipykernel_15260/2951571227.py:8: FutureWarning: suggest_loguniform has been deprecated in v3.0.0. This feature will be removed in v6.0.0. See https://github.com/optuna/optuna/releases/tag/v3.0.0. Use :func:`~optuna.trial.Trial.suggest_float` instead.\n",
      "  'lambda_l1': trial.suggest_loguniform('lambda_l1', 1e-8, 10.0),\n",
      "/var/folders/qb/s5vw4nk95r53s007_f3ty08m0000gn/T/ipykernel_15260/2951571227.py:9: FutureWarning: suggest_loguniform has been deprecated in v3.0.0. This feature will be removed in v6.0.0. See https://github.com/optuna/optuna/releases/tag/v3.0.0. Use :func:`~optuna.trial.Trial.suggest_float` instead.\n",
      "  'lambda_l2': trial.suggest_loguniform('lambda_l2', 1e-8, 10.0),\n",
      "/var/folders/qb/s5vw4nk95r53s007_f3ty08m0000gn/T/ipykernel_15260/2951571227.py:11: FutureWarning: suggest_uniform has been deprecated in v3.0.0. This feature will be removed in v6.0.0. See https://github.com/optuna/optuna/releases/tag/v3.0.0. Use :func:`~optuna.trial.Trial.suggest_float` instead.\n",
      "  'feature_fraction': trial.suggest_uniform('feature_fraction', 0.4, 1.0),\n",
      "/var/folders/qb/s5vw4nk95r53s007_f3ty08m0000gn/T/ipykernel_15260/2951571227.py:12: FutureWarning: suggest_uniform has been deprecated in v3.0.0. This feature will be removed in v6.0.0. See https://github.com/optuna/optuna/releases/tag/v3.0.0. Use :func:`~optuna.trial.Trial.suggest_float` instead.\n",
      "  'bagging_fraction': trial.suggest_uniform('bagging_fraction', 0.4, 1.0),\n",
      "/Users/youngseoklee/opt/anaconda3/envs/ai/lib/python3.10/site-packages/lightgbm/sklearn.py:726: UserWarning: 'early_stopping_rounds' argument is deprecated and will be removed in a future release of LightGBM. Pass 'early_stopping()' callback via 'callbacks' argument instead.\n",
      "  _log_warning(\"'early_stopping_rounds' argument is deprecated and will be removed in a future release of LightGBM. \"\n",
      "/Users/youngseoklee/opt/anaconda3/envs/ai/lib/python3.10/site-packages/lightgbm/sklearn.py:736: UserWarning: 'verbose' argument is deprecated and will be removed in a future release of LightGBM. Pass 'log_evaluation()' callback via 'callbacks' argument instead.\n",
      "  _log_warning(\"'verbose' argument is deprecated and will be removed in a future release of LightGBM. \"\n",
      "\u001b[32m[I 2023-08-01 00:04:45,106]\u001b[0m Trial 61 finished with value: 296336729914766.94 and parameters: {'lambda_l1': 1.3500862407429826e-07, 'lambda_l2': 0.00019156973500591393, 'num_leaves': 3, 'feature_fraction': 0.43997821853172664, 'bagging_fraction': 0.6893366183318642, 'bagging_freq': 1, 'min_child_samples': 98}. Best is trial 49 with value: 265579173796455.3.\u001b[0m\n"
     ]
    },
    {
     "name": "stdout",
     "output_type": "stream",
     "text": [
      "296336729914766.94\n",
      "[LightGBM] [Warning] feature_fraction is set=0.419460395227238, colsample_bytree=1.0 will be ignored. Current value: feature_fraction=0.419460395227238\n",
      "[LightGBM] [Warning] lambda_l1 is set=7.83599152514373e-08, reg_alpha=0.0 will be ignored. Current value: lambda_l1=7.83599152514373e-08\n",
      "[LightGBM] [Warning] bagging_fraction is set=0.7480773126309821, subsample=1.0 will be ignored. Current value: bagging_fraction=0.7480773126309821\n",
      "[LightGBM] [Warning] lambda_l2 is set=0.00010478245786932065, reg_lambda=0.0 will be ignored. Current value: lambda_l2=0.00010478245786932065\n",
      "[LightGBM] [Warning] bagging_freq is set=1, subsample_freq=0 will be ignored. Current value: bagging_freq=1\n"
     ]
    },
    {
     "name": "stderr",
     "output_type": "stream",
     "text": [
      "/var/folders/qb/s5vw4nk95r53s007_f3ty08m0000gn/T/ipykernel_15260/2951571227.py:8: FutureWarning: suggest_loguniform has been deprecated in v3.0.0. This feature will be removed in v6.0.0. See https://github.com/optuna/optuna/releases/tag/v3.0.0. Use :func:`~optuna.trial.Trial.suggest_float` instead.\n",
      "  'lambda_l1': trial.suggest_loguniform('lambda_l1', 1e-8, 10.0),\n",
      "/var/folders/qb/s5vw4nk95r53s007_f3ty08m0000gn/T/ipykernel_15260/2951571227.py:9: FutureWarning: suggest_loguniform has been deprecated in v3.0.0. This feature will be removed in v6.0.0. See https://github.com/optuna/optuna/releases/tag/v3.0.0. Use :func:`~optuna.trial.Trial.suggest_float` instead.\n",
      "  'lambda_l2': trial.suggest_loguniform('lambda_l2', 1e-8, 10.0),\n",
      "/var/folders/qb/s5vw4nk95r53s007_f3ty08m0000gn/T/ipykernel_15260/2951571227.py:11: FutureWarning: suggest_uniform has been deprecated in v3.0.0. This feature will be removed in v6.0.0. See https://github.com/optuna/optuna/releases/tag/v3.0.0. Use :func:`~optuna.trial.Trial.suggest_float` instead.\n",
      "  'feature_fraction': trial.suggest_uniform('feature_fraction', 0.4, 1.0),\n",
      "/var/folders/qb/s5vw4nk95r53s007_f3ty08m0000gn/T/ipykernel_15260/2951571227.py:12: FutureWarning: suggest_uniform has been deprecated in v3.0.0. This feature will be removed in v6.0.0. See https://github.com/optuna/optuna/releases/tag/v3.0.0. Use :func:`~optuna.trial.Trial.suggest_float` instead.\n",
      "  'bagging_fraction': trial.suggest_uniform('bagging_fraction', 0.4, 1.0),\n",
      "/Users/youngseoklee/opt/anaconda3/envs/ai/lib/python3.10/site-packages/lightgbm/sklearn.py:726: UserWarning: 'early_stopping_rounds' argument is deprecated and will be removed in a future release of LightGBM. Pass 'early_stopping()' callback via 'callbacks' argument instead.\n",
      "  _log_warning(\"'early_stopping_rounds' argument is deprecated and will be removed in a future release of LightGBM. \"\n",
      "/Users/youngseoklee/opt/anaconda3/envs/ai/lib/python3.10/site-packages/lightgbm/sklearn.py:736: UserWarning: 'verbose' argument is deprecated and will be removed in a future release of LightGBM. Pass 'log_evaluation()' callback via 'callbacks' argument instead.\n",
      "  _log_warning(\"'verbose' argument is deprecated and will be removed in a future release of LightGBM. \"\n",
      "\u001b[32m[I 2023-08-01 00:04:45,354]\u001b[0m Trial 62 finished with value: 276970280553335.47 and parameters: {'lambda_l1': 7.83599152514373e-08, 'lambda_l2': 0.00010478245786932065, 'num_leaves': 2, 'feature_fraction': 0.419460395227238, 'bagging_fraction': 0.7480773126309821, 'bagging_freq': 1, 'min_child_samples': 92}. Best is trial 49 with value: 265579173796455.3.\u001b[0m\n"
     ]
    },
    {
     "name": "stdout",
     "output_type": "stream",
     "text": [
      "276970280553335.47\n",
      "[LightGBM] [Warning] feature_fraction is set=0.40000348865425095, colsample_bytree=1.0 will be ignored. Current value: feature_fraction=0.40000348865425095\n",
      "[LightGBM] [Warning] lambda_l1 is set=1.786489475216073e-08, reg_alpha=0.0 will be ignored. Current value: lambda_l1=1.786489475216073e-08\n",
      "[LightGBM] [Warning] bagging_fraction is set=0.7504834015182162, subsample=1.0 will be ignored. Current value: bagging_fraction=0.7504834015182162\n",
      "[LightGBM] [Warning] lambda_l2 is set=0.00036406526902646414, reg_lambda=0.0 will be ignored. Current value: lambda_l2=0.00036406526902646414\n",
      "[LightGBM] [Warning] bagging_freq is set=1, subsample_freq=0 will be ignored. Current value: bagging_freq=1\n"
     ]
    },
    {
     "name": "stderr",
     "output_type": "stream",
     "text": [
      "/var/folders/qb/s5vw4nk95r53s007_f3ty08m0000gn/T/ipykernel_15260/2951571227.py:8: FutureWarning: suggest_loguniform has been deprecated in v3.0.0. This feature will be removed in v6.0.0. See https://github.com/optuna/optuna/releases/tag/v3.0.0. Use :func:`~optuna.trial.Trial.suggest_float` instead.\n",
      "  'lambda_l1': trial.suggest_loguniform('lambda_l1', 1e-8, 10.0),\n",
      "/var/folders/qb/s5vw4nk95r53s007_f3ty08m0000gn/T/ipykernel_15260/2951571227.py:9: FutureWarning: suggest_loguniform has been deprecated in v3.0.0. This feature will be removed in v6.0.0. See https://github.com/optuna/optuna/releases/tag/v3.0.0. Use :func:`~optuna.trial.Trial.suggest_float` instead.\n",
      "  'lambda_l2': trial.suggest_loguniform('lambda_l2', 1e-8, 10.0),\n",
      "/var/folders/qb/s5vw4nk95r53s007_f3ty08m0000gn/T/ipykernel_15260/2951571227.py:11: FutureWarning: suggest_uniform has been deprecated in v3.0.0. This feature will be removed in v6.0.0. See https://github.com/optuna/optuna/releases/tag/v3.0.0. Use :func:`~optuna.trial.Trial.suggest_float` instead.\n",
      "  'feature_fraction': trial.suggest_uniform('feature_fraction', 0.4, 1.0),\n",
      "/var/folders/qb/s5vw4nk95r53s007_f3ty08m0000gn/T/ipykernel_15260/2951571227.py:12: FutureWarning: suggest_uniform has been deprecated in v3.0.0. This feature will be removed in v6.0.0. See https://github.com/optuna/optuna/releases/tag/v3.0.0. Use :func:`~optuna.trial.Trial.suggest_float` instead.\n",
      "  'bagging_fraction': trial.suggest_uniform('bagging_fraction', 0.4, 1.0),\n",
      "/Users/youngseoklee/opt/anaconda3/envs/ai/lib/python3.10/site-packages/lightgbm/sklearn.py:726: UserWarning: 'early_stopping_rounds' argument is deprecated and will be removed in a future release of LightGBM. Pass 'early_stopping()' callback via 'callbacks' argument instead.\n",
      "  _log_warning(\"'early_stopping_rounds' argument is deprecated and will be removed in a future release of LightGBM. \"\n",
      "/Users/youngseoklee/opt/anaconda3/envs/ai/lib/python3.10/site-packages/lightgbm/sklearn.py:736: UserWarning: 'verbose' argument is deprecated and will be removed in a future release of LightGBM. Pass 'log_evaluation()' callback via 'callbacks' argument instead.\n",
      "  _log_warning(\"'verbose' argument is deprecated and will be removed in a future release of LightGBM. \"\n",
      "\u001b[32m[I 2023-08-01 00:04:45,889]\u001b[0m Trial 63 finished with value: 326589172441107.44 and parameters: {'lambda_l1': 1.786489475216073e-08, 'lambda_l2': 0.00036406526902646414, 'num_leaves': 12, 'feature_fraction': 0.40000348865425095, 'bagging_fraction': 0.7504834015182162, 'bagging_freq': 1, 'min_child_samples': 95}. Best is trial 49 with value: 265579173796455.3.\u001b[0m\n"
     ]
    },
    {
     "name": "stdout",
     "output_type": "stream",
     "text": [
      "326589172441107.44\n",
      "[LightGBM] [Warning] feature_fraction is set=0.4578708703380162, colsample_bytree=1.0 will be ignored. Current value: feature_fraction=0.4578708703380162\n",
      "[LightGBM] [Warning] lambda_l1 is set=6.306659291979633e-08, reg_alpha=0.0 will be ignored. Current value: lambda_l1=6.306659291979633e-08\n",
      "[LightGBM] [Warning] bagging_fraction is set=0.6006436557996151, subsample=1.0 will be ignored. Current value: bagging_fraction=0.6006436557996151\n",
      "[LightGBM] [Warning] lambda_l2 is set=7.846717393409288e-05, reg_lambda=0.0 will be ignored. Current value: lambda_l2=7.846717393409288e-05\n",
      "[LightGBM] [Warning] bagging_freq is set=1, subsample_freq=0 will be ignored. Current value: bagging_freq=1\n"
     ]
    },
    {
     "name": "stderr",
     "output_type": "stream",
     "text": [
      "/var/folders/qb/s5vw4nk95r53s007_f3ty08m0000gn/T/ipykernel_15260/2951571227.py:8: FutureWarning: suggest_loguniform has been deprecated in v3.0.0. This feature will be removed in v6.0.0. See https://github.com/optuna/optuna/releases/tag/v3.0.0. Use :func:`~optuna.trial.Trial.suggest_float` instead.\n",
      "  'lambda_l1': trial.suggest_loguniform('lambda_l1', 1e-8, 10.0),\n",
      "/var/folders/qb/s5vw4nk95r53s007_f3ty08m0000gn/T/ipykernel_15260/2951571227.py:9: FutureWarning: suggest_loguniform has been deprecated in v3.0.0. This feature will be removed in v6.0.0. See https://github.com/optuna/optuna/releases/tag/v3.0.0. Use :func:`~optuna.trial.Trial.suggest_float` instead.\n",
      "  'lambda_l2': trial.suggest_loguniform('lambda_l2', 1e-8, 10.0),\n",
      "/var/folders/qb/s5vw4nk95r53s007_f3ty08m0000gn/T/ipykernel_15260/2951571227.py:11: FutureWarning: suggest_uniform has been deprecated in v3.0.0. This feature will be removed in v6.0.0. See https://github.com/optuna/optuna/releases/tag/v3.0.0. Use :func:`~optuna.trial.Trial.suggest_float` instead.\n",
      "  'feature_fraction': trial.suggest_uniform('feature_fraction', 0.4, 1.0),\n",
      "/var/folders/qb/s5vw4nk95r53s007_f3ty08m0000gn/T/ipykernel_15260/2951571227.py:12: FutureWarning: suggest_uniform has been deprecated in v3.0.0. This feature will be removed in v6.0.0. See https://github.com/optuna/optuna/releases/tag/v3.0.0. Use :func:`~optuna.trial.Trial.suggest_float` instead.\n",
      "  'bagging_fraction': trial.suggest_uniform('bagging_fraction', 0.4, 1.0),\n",
      "/Users/youngseoklee/opt/anaconda3/envs/ai/lib/python3.10/site-packages/lightgbm/sklearn.py:726: UserWarning: 'early_stopping_rounds' argument is deprecated and will be removed in a future release of LightGBM. Pass 'early_stopping()' callback via 'callbacks' argument instead.\n",
      "  _log_warning(\"'early_stopping_rounds' argument is deprecated and will be removed in a future release of LightGBM. \"\n",
      "/Users/youngseoklee/opt/anaconda3/envs/ai/lib/python3.10/site-packages/lightgbm/sklearn.py:736: UserWarning: 'verbose' argument is deprecated and will be removed in a future release of LightGBM. Pass 'log_evaluation()' callback via 'callbacks' argument instead.\n",
      "  _log_warning(\"'verbose' argument is deprecated and will be removed in a future release of LightGBM. \"\n",
      "\u001b[32m[I 2023-08-01 00:04:46,591]\u001b[0m Trial 64 finished with value: 330003970584498.9 and parameters: {'lambda_l1': 6.306659291979633e-08, 'lambda_l2': 7.846717393409288e-05, 'num_leaves': 21, 'feature_fraction': 0.4578708703380162, 'bagging_fraction': 0.6006436557996151, 'bagging_freq': 1, 'min_child_samples': 10}. Best is trial 49 with value: 265579173796455.3.\u001b[0m\n"
     ]
    },
    {
     "name": "stdout",
     "output_type": "stream",
     "text": [
      "330003970584498.9\n",
      "[LightGBM] [Warning] feature_fraction is set=0.4196848573850644, colsample_bytree=1.0 will be ignored. Current value: feature_fraction=0.4196848573850644\n",
      "[LightGBM] [Warning] lambda_l1 is set=2.0003007082993544e-07, reg_alpha=0.0 will be ignored. Current value: lambda_l1=2.0003007082993544e-07\n",
      "[LightGBM] [Warning] bagging_fraction is set=0.7727011760483248, subsample=1.0 will be ignored. Current value: bagging_fraction=0.7727011760483248\n",
      "[LightGBM] [Warning] lambda_l2 is set=0.0008580074980219299, reg_lambda=0.0 will be ignored. Current value: lambda_l2=0.0008580074980219299\n",
      "[LightGBM] [Warning] bagging_freq is set=2, subsample_freq=0 will be ignored. Current value: bagging_freq=2\n"
     ]
    },
    {
     "name": "stderr",
     "output_type": "stream",
     "text": [
      "/var/folders/qb/s5vw4nk95r53s007_f3ty08m0000gn/T/ipykernel_15260/2951571227.py:8: FutureWarning: suggest_loguniform has been deprecated in v3.0.0. This feature will be removed in v6.0.0. See https://github.com/optuna/optuna/releases/tag/v3.0.0. Use :func:`~optuna.trial.Trial.suggest_float` instead.\n",
      "  'lambda_l1': trial.suggest_loguniform('lambda_l1', 1e-8, 10.0),\n",
      "/var/folders/qb/s5vw4nk95r53s007_f3ty08m0000gn/T/ipykernel_15260/2951571227.py:9: FutureWarning: suggest_loguniform has been deprecated in v3.0.0. This feature will be removed in v6.0.0. See https://github.com/optuna/optuna/releases/tag/v3.0.0. Use :func:`~optuna.trial.Trial.suggest_float` instead.\n",
      "  'lambda_l2': trial.suggest_loguniform('lambda_l2', 1e-8, 10.0),\n",
      "/var/folders/qb/s5vw4nk95r53s007_f3ty08m0000gn/T/ipykernel_15260/2951571227.py:11: FutureWarning: suggest_uniform has been deprecated in v3.0.0. This feature will be removed in v6.0.0. See https://github.com/optuna/optuna/releases/tag/v3.0.0. Use :func:`~optuna.trial.Trial.suggest_float` instead.\n",
      "  'feature_fraction': trial.suggest_uniform('feature_fraction', 0.4, 1.0),\n",
      "/var/folders/qb/s5vw4nk95r53s007_f3ty08m0000gn/T/ipykernel_15260/2951571227.py:12: FutureWarning: suggest_uniform has been deprecated in v3.0.0. This feature will be removed in v6.0.0. See https://github.com/optuna/optuna/releases/tag/v3.0.0. Use :func:`~optuna.trial.Trial.suggest_float` instead.\n",
      "  'bagging_fraction': trial.suggest_uniform('bagging_fraction', 0.4, 1.0),\n",
      "/Users/youngseoklee/opt/anaconda3/envs/ai/lib/python3.10/site-packages/lightgbm/sklearn.py:726: UserWarning: 'early_stopping_rounds' argument is deprecated and will be removed in a future release of LightGBM. Pass 'early_stopping()' callback via 'callbacks' argument instead.\n",
      "  _log_warning(\"'early_stopping_rounds' argument is deprecated and will be removed in a future release of LightGBM. \"\n",
      "/Users/youngseoklee/opt/anaconda3/envs/ai/lib/python3.10/site-packages/lightgbm/sklearn.py:736: UserWarning: 'verbose' argument is deprecated and will be removed in a future release of LightGBM. Pass 'log_evaluation()' callback via 'callbacks' argument instead.\n",
      "  _log_warning(\"'verbose' argument is deprecated and will be removed in a future release of LightGBM. \"\n",
      "\u001b[32m[I 2023-08-01 00:04:47,168]\u001b[0m Trial 65 finished with value: 316067620112049.56 and parameters: {'lambda_l1': 2.0003007082993544e-07, 'lambda_l2': 0.0008580074980219299, 'num_leaves': 10, 'feature_fraction': 0.4196848573850644, 'bagging_fraction': 0.7727011760483248, 'bagging_freq': 2, 'min_child_samples': 90}. Best is trial 49 with value: 265579173796455.3.\u001b[0m\n"
     ]
    },
    {
     "name": "stdout",
     "output_type": "stream",
     "text": [
      "316067620112049.56\n",
      "[LightGBM] [Warning] feature_fraction is set=0.4430734953871398, colsample_bytree=1.0 will be ignored. Current value: feature_fraction=0.4430734953871398\n",
      "[LightGBM] [Warning] lambda_l1 is set=1.9082334720065477e-08, reg_alpha=0.0 will be ignored. Current value: lambda_l1=1.9082334720065477e-08\n",
      "[LightGBM] [Warning] bagging_fraction is set=0.706412993635855, subsample=1.0 will be ignored. Current value: bagging_fraction=0.706412993635855\n",
      "[LightGBM] [Warning] lambda_l2 is set=0.0004901060185184718, reg_lambda=0.0 will be ignored. Current value: lambda_l2=0.0004901060185184718\n",
      "[LightGBM] [Warning] bagging_freq is set=1, subsample_freq=0 will be ignored. Current value: bagging_freq=1\n"
     ]
    },
    {
     "name": "stderr",
     "output_type": "stream",
     "text": [
      "/var/folders/qb/s5vw4nk95r53s007_f3ty08m0000gn/T/ipykernel_15260/2951571227.py:8: FutureWarning: suggest_loguniform has been deprecated in v3.0.0. This feature will be removed in v6.0.0. See https://github.com/optuna/optuna/releases/tag/v3.0.0. Use :func:`~optuna.trial.Trial.suggest_float` instead.\n",
      "  'lambda_l1': trial.suggest_loguniform('lambda_l1', 1e-8, 10.0),\n",
      "/var/folders/qb/s5vw4nk95r53s007_f3ty08m0000gn/T/ipykernel_15260/2951571227.py:9: FutureWarning: suggest_loguniform has been deprecated in v3.0.0. This feature will be removed in v6.0.0. See https://github.com/optuna/optuna/releases/tag/v3.0.0. Use :func:`~optuna.trial.Trial.suggest_float` instead.\n",
      "  'lambda_l2': trial.suggest_loguniform('lambda_l2', 1e-8, 10.0),\n",
      "/var/folders/qb/s5vw4nk95r53s007_f3ty08m0000gn/T/ipykernel_15260/2951571227.py:11: FutureWarning: suggest_uniform has been deprecated in v3.0.0. This feature will be removed in v6.0.0. See https://github.com/optuna/optuna/releases/tag/v3.0.0. Use :func:`~optuna.trial.Trial.suggest_float` instead.\n",
      "  'feature_fraction': trial.suggest_uniform('feature_fraction', 0.4, 1.0),\n",
      "/var/folders/qb/s5vw4nk95r53s007_f3ty08m0000gn/T/ipykernel_15260/2951571227.py:12: FutureWarning: suggest_uniform has been deprecated in v3.0.0. This feature will be removed in v6.0.0. See https://github.com/optuna/optuna/releases/tag/v3.0.0. Use :func:`~optuna.trial.Trial.suggest_float` instead.\n",
      "  'bagging_fraction': trial.suggest_uniform('bagging_fraction', 0.4, 1.0),\n",
      "/Users/youngseoklee/opt/anaconda3/envs/ai/lib/python3.10/site-packages/lightgbm/sklearn.py:726: UserWarning: 'early_stopping_rounds' argument is deprecated and will be removed in a future release of LightGBM. Pass 'early_stopping()' callback via 'callbacks' argument instead.\n",
      "  _log_warning(\"'early_stopping_rounds' argument is deprecated and will be removed in a future release of LightGBM. \"\n",
      "/Users/youngseoklee/opt/anaconda3/envs/ai/lib/python3.10/site-packages/lightgbm/sklearn.py:736: UserWarning: 'verbose' argument is deprecated and will be removed in a future release of LightGBM. Pass 'log_evaluation()' callback via 'callbacks' argument instead.\n",
      "  _log_warning(\"'verbose' argument is deprecated and will be removed in a future release of LightGBM. \"\n",
      "\u001b[32m[I 2023-08-01 00:04:48,128]\u001b[0m Trial 66 finished with value: 377689207554054.75 and parameters: {'lambda_l1': 1.9082334720065477e-08, 'lambda_l2': 0.0004901060185184718, 'num_leaves': 37, 'feature_fraction': 0.4430734953871398, 'bagging_fraction': 0.706412993635855, 'bagging_freq': 1, 'min_child_samples': 70}. Best is trial 49 with value: 265579173796455.3.\u001b[0m\n"
     ]
    },
    {
     "name": "stdout",
     "output_type": "stream",
     "text": [
      "377689207554054.75\n",
      "[LightGBM] [Warning] feature_fraction is set=0.5200496513696119, colsample_bytree=1.0 will be ignored. Current value: feature_fraction=0.5200496513696119\n",
      "[LightGBM] [Warning] lambda_l1 is set=3.3754477375164697e-07, reg_alpha=0.0 will be ignored. Current value: lambda_l1=3.3754477375164697e-07\n",
      "[LightGBM] [Warning] bagging_fraction is set=0.818731237795452, subsample=1.0 will be ignored. Current value: bagging_fraction=0.818731237795452\n",
      "[LightGBM] [Warning] lambda_l2 is set=0.001486489261406687, reg_lambda=0.0 will be ignored. Current value: lambda_l2=0.001486489261406687\n",
      "[LightGBM] [Warning] bagging_freq is set=2, subsample_freq=0 will be ignored. Current value: bagging_freq=2\n"
     ]
    },
    {
     "name": "stderr",
     "output_type": "stream",
     "text": [
      "/var/folders/qb/s5vw4nk95r53s007_f3ty08m0000gn/T/ipykernel_15260/2951571227.py:8: FutureWarning: suggest_loguniform has been deprecated in v3.0.0. This feature will be removed in v6.0.0. See https://github.com/optuna/optuna/releases/tag/v3.0.0. Use :func:`~optuna.trial.Trial.suggest_float` instead.\n",
      "  'lambda_l1': trial.suggest_loguniform('lambda_l1', 1e-8, 10.0),\n",
      "/var/folders/qb/s5vw4nk95r53s007_f3ty08m0000gn/T/ipykernel_15260/2951571227.py:9: FutureWarning: suggest_loguniform has been deprecated in v3.0.0. This feature will be removed in v6.0.0. See https://github.com/optuna/optuna/releases/tag/v3.0.0. Use :func:`~optuna.trial.Trial.suggest_float` instead.\n",
      "  'lambda_l2': trial.suggest_loguniform('lambda_l2', 1e-8, 10.0),\n",
      "/var/folders/qb/s5vw4nk95r53s007_f3ty08m0000gn/T/ipykernel_15260/2951571227.py:11: FutureWarning: suggest_uniform has been deprecated in v3.0.0. This feature will be removed in v6.0.0. See https://github.com/optuna/optuna/releases/tag/v3.0.0. Use :func:`~optuna.trial.Trial.suggest_float` instead.\n",
      "  'feature_fraction': trial.suggest_uniform('feature_fraction', 0.4, 1.0),\n",
      "/var/folders/qb/s5vw4nk95r53s007_f3ty08m0000gn/T/ipykernel_15260/2951571227.py:12: FutureWarning: suggest_uniform has been deprecated in v3.0.0. This feature will be removed in v6.0.0. See https://github.com/optuna/optuna/releases/tag/v3.0.0. Use :func:`~optuna.trial.Trial.suggest_float` instead.\n",
      "  'bagging_fraction': trial.suggest_uniform('bagging_fraction', 0.4, 1.0),\n",
      "/Users/youngseoklee/opt/anaconda3/envs/ai/lib/python3.10/site-packages/lightgbm/sklearn.py:726: UserWarning: 'early_stopping_rounds' argument is deprecated and will be removed in a future release of LightGBM. Pass 'early_stopping()' callback via 'callbacks' argument instead.\n",
      "  _log_warning(\"'early_stopping_rounds' argument is deprecated and will be removed in a future release of LightGBM. \"\n",
      "/Users/youngseoklee/opt/anaconda3/envs/ai/lib/python3.10/site-packages/lightgbm/sklearn.py:736: UserWarning: 'verbose' argument is deprecated and will be removed in a future release of LightGBM. Pass 'log_evaluation()' callback via 'callbacks' argument instead.\n",
      "  _log_warning(\"'verbose' argument is deprecated and will be removed in a future release of LightGBM. \"\n",
      "\u001b[32m[I 2023-08-01 00:04:49,532]\u001b[0m Trial 67 finished with value: 463696643646306.7 and parameters: {'lambda_l1': 3.3754477375164697e-07, 'lambda_l2': 0.001486489261406687, 'num_leaves': 55, 'feature_fraction': 0.5200496513696119, 'bagging_fraction': 0.818731237795452, 'bagging_freq': 2, 'min_child_samples': 93}. Best is trial 49 with value: 265579173796455.3.\u001b[0m\n"
     ]
    },
    {
     "name": "stdout",
     "output_type": "stream",
     "text": [
      "463696643646306.7\n",
      "[LightGBM] [Warning] feature_fraction is set=0.4846818589563797, colsample_bytree=1.0 will be ignored. Current value: feature_fraction=0.4846818589563797\n",
      "[LightGBM] [Warning] lambda_l1 is set=4.278588395519269e-08, reg_alpha=0.0 will be ignored. Current value: lambda_l1=4.278588395519269e-08\n",
      "[LightGBM] [Warning] bagging_fraction is set=0.670537809483593, subsample=1.0 will be ignored. Current value: bagging_fraction=0.670537809483593\n",
      "[LightGBM] [Warning] lambda_l2 is set=4.7510228427564886e-05, reg_lambda=0.0 will be ignored. Current value: lambda_l2=4.7510228427564886e-05\n",
      "[LightGBM] [Warning] bagging_freq is set=1, subsample_freq=0 will be ignored. Current value: bagging_freq=1\n"
     ]
    },
    {
     "name": "stderr",
     "output_type": "stream",
     "text": [
      "/var/folders/qb/s5vw4nk95r53s007_f3ty08m0000gn/T/ipykernel_15260/2951571227.py:8: FutureWarning: suggest_loguniform has been deprecated in v3.0.0. This feature will be removed in v6.0.0. See https://github.com/optuna/optuna/releases/tag/v3.0.0. Use :func:`~optuna.trial.Trial.suggest_float` instead.\n",
      "  'lambda_l1': trial.suggest_loguniform('lambda_l1', 1e-8, 10.0),\n",
      "/var/folders/qb/s5vw4nk95r53s007_f3ty08m0000gn/T/ipykernel_15260/2951571227.py:9: FutureWarning: suggest_loguniform has been deprecated in v3.0.0. This feature will be removed in v6.0.0. See https://github.com/optuna/optuna/releases/tag/v3.0.0. Use :func:`~optuna.trial.Trial.suggest_float` instead.\n",
      "  'lambda_l2': trial.suggest_loguniform('lambda_l2', 1e-8, 10.0),\n",
      "/var/folders/qb/s5vw4nk95r53s007_f3ty08m0000gn/T/ipykernel_15260/2951571227.py:11: FutureWarning: suggest_uniform has been deprecated in v3.0.0. This feature will be removed in v6.0.0. See https://github.com/optuna/optuna/releases/tag/v3.0.0. Use :func:`~optuna.trial.Trial.suggest_float` instead.\n",
      "  'feature_fraction': trial.suggest_uniform('feature_fraction', 0.4, 1.0),\n",
      "/var/folders/qb/s5vw4nk95r53s007_f3ty08m0000gn/T/ipykernel_15260/2951571227.py:12: FutureWarning: suggest_uniform has been deprecated in v3.0.0. This feature will be removed in v6.0.0. See https://github.com/optuna/optuna/releases/tag/v3.0.0. Use :func:`~optuna.trial.Trial.suggest_float` instead.\n",
      "  'bagging_fraction': trial.suggest_uniform('bagging_fraction', 0.4, 1.0),\n",
      "/Users/youngseoklee/opt/anaconda3/envs/ai/lib/python3.10/site-packages/lightgbm/sklearn.py:726: UserWarning: 'early_stopping_rounds' argument is deprecated and will be removed in a future release of LightGBM. Pass 'early_stopping()' callback via 'callbacks' argument instead.\n",
      "  _log_warning(\"'early_stopping_rounds' argument is deprecated and will be removed in a future release of LightGBM. \"\n",
      "/Users/youngseoklee/opt/anaconda3/envs/ai/lib/python3.10/site-packages/lightgbm/sklearn.py:736: UserWarning: 'verbose' argument is deprecated and will be removed in a future release of LightGBM. Pass 'log_evaluation()' callback via 'callbacks' argument instead.\n",
      "  _log_warning(\"'verbose' argument is deprecated and will be removed in a future release of LightGBM. \"\n",
      "\u001b[32m[I 2023-08-01 00:04:50,304]\u001b[0m Trial 68 finished with value: 361357843127298.8 and parameters: {'lambda_l1': 4.278588395519269e-08, 'lambda_l2': 4.7510228427564886e-05, 'num_leaves': 25, 'feature_fraction': 0.4846818589563797, 'bagging_fraction': 0.670537809483593, 'bagging_freq': 1, 'min_child_samples': 38}. Best is trial 49 with value: 265579173796455.3.\u001b[0m\n"
     ]
    },
    {
     "name": "stdout",
     "output_type": "stream",
     "text": [
      "361357843127298.8\n",
      "[LightGBM] [Warning] feature_fraction is set=0.417292938158033, colsample_bytree=1.0 will be ignored. Current value: feature_fraction=0.417292938158033\n",
      "[LightGBM] [Warning] lambda_l1 is set=8.566852449957898e-08, reg_alpha=0.0 will be ignored. Current value: lambda_l1=8.566852449957898e-08\n",
      "[LightGBM] [Warning] bagging_fraction is set=0.5884213864039892, subsample=1.0 will be ignored. Current value: bagging_fraction=0.5884213864039892\n",
      "[LightGBM] [Warning] lambda_l2 is set=0.00020829377688511184, reg_lambda=0.0 will be ignored. Current value: lambda_l2=0.00020829377688511184\n",
      "[LightGBM] [Warning] bagging_freq is set=1, subsample_freq=0 will be ignored. Current value: bagging_freq=1\n"
     ]
    },
    {
     "name": "stderr",
     "output_type": "stream",
     "text": [
      "/var/folders/qb/s5vw4nk95r53s007_f3ty08m0000gn/T/ipykernel_15260/2951571227.py:8: FutureWarning: suggest_loguniform has been deprecated in v3.0.0. This feature will be removed in v6.0.0. See https://github.com/optuna/optuna/releases/tag/v3.0.0. Use :func:`~optuna.trial.Trial.suggest_float` instead.\n",
      "  'lambda_l1': trial.suggest_loguniform('lambda_l1', 1e-8, 10.0),\n",
      "/var/folders/qb/s5vw4nk95r53s007_f3ty08m0000gn/T/ipykernel_15260/2951571227.py:9: FutureWarning: suggest_loguniform has been deprecated in v3.0.0. This feature will be removed in v6.0.0. See https://github.com/optuna/optuna/releases/tag/v3.0.0. Use :func:`~optuna.trial.Trial.suggest_float` instead.\n",
      "  'lambda_l2': trial.suggest_loguniform('lambda_l2', 1e-8, 10.0),\n",
      "/var/folders/qb/s5vw4nk95r53s007_f3ty08m0000gn/T/ipykernel_15260/2951571227.py:11: FutureWarning: suggest_uniform has been deprecated in v3.0.0. This feature will be removed in v6.0.0. See https://github.com/optuna/optuna/releases/tag/v3.0.0. Use :func:`~optuna.trial.Trial.suggest_float` instead.\n",
      "  'feature_fraction': trial.suggest_uniform('feature_fraction', 0.4, 1.0),\n",
      "/var/folders/qb/s5vw4nk95r53s007_f3ty08m0000gn/T/ipykernel_15260/2951571227.py:12: FutureWarning: suggest_uniform has been deprecated in v3.0.0. This feature will be removed in v6.0.0. See https://github.com/optuna/optuna/releases/tag/v3.0.0. Use :func:`~optuna.trial.Trial.suggest_float` instead.\n",
      "  'bagging_fraction': trial.suggest_uniform('bagging_fraction', 0.4, 1.0),\n",
      "/Users/youngseoklee/opt/anaconda3/envs/ai/lib/python3.10/site-packages/lightgbm/sklearn.py:726: UserWarning: 'early_stopping_rounds' argument is deprecated and will be removed in a future release of LightGBM. Pass 'early_stopping()' callback via 'callbacks' argument instead.\n",
      "  _log_warning(\"'early_stopping_rounds' argument is deprecated and will be removed in a future release of LightGBM. \"\n",
      "/Users/youngseoklee/opt/anaconda3/envs/ai/lib/python3.10/site-packages/lightgbm/sklearn.py:736: UserWarning: 'verbose' argument is deprecated and will be removed in a future release of LightGBM. Pass 'log_evaluation()' callback via 'callbacks' argument instead.\n",
      "  _log_warning(\"'verbose' argument is deprecated and will be removed in a future release of LightGBM. \"\n",
      "\u001b[32m[I 2023-08-01 00:04:50,947]\u001b[0m Trial 69 finished with value: 334726079462582.2 and parameters: {'lambda_l1': 8.566852449957898e-08, 'lambda_l2': 0.00020829377688511184, 'num_leaves': 18, 'feature_fraction': 0.417292938158033, 'bagging_fraction': 0.5884213864039892, 'bagging_freq': 1, 'min_child_samples': 87}. Best is trial 49 with value: 265579173796455.3.\u001b[0m\n"
     ]
    },
    {
     "name": "stdout",
     "output_type": "stream",
     "text": [
      "334726079462582.2\n",
      "[LightGBM] [Warning] feature_fraction is set=0.4635045531878528, colsample_bytree=1.0 will be ignored. Current value: feature_fraction=0.4635045531878528\n",
      "[LightGBM] [Warning] lambda_l1 is set=8.94952334513314e-07, reg_alpha=0.0 will be ignored. Current value: lambda_l1=8.94952334513314e-07\n",
      "[LightGBM] [Warning] bagging_fraction is set=0.6387019116835488, subsample=1.0 will be ignored. Current value: bagging_fraction=0.6387019116835488\n",
      "[LightGBM] [Warning] lambda_l2 is set=0.000781189222774657, reg_lambda=0.0 will be ignored. Current value: lambda_l2=0.000781189222774657\n",
      "[LightGBM] [Warning] bagging_freq is set=5, subsample_freq=0 will be ignored. Current value: bagging_freq=5\n"
     ]
    },
    {
     "name": "stderr",
     "output_type": "stream",
     "text": [
      "/var/folders/qb/s5vw4nk95r53s007_f3ty08m0000gn/T/ipykernel_15260/2951571227.py:8: FutureWarning: suggest_loguniform has been deprecated in v3.0.0. This feature will be removed in v6.0.0. See https://github.com/optuna/optuna/releases/tag/v3.0.0. Use :func:`~optuna.trial.Trial.suggest_float` instead.\n",
      "  'lambda_l1': trial.suggest_loguniform('lambda_l1', 1e-8, 10.0),\n",
      "/var/folders/qb/s5vw4nk95r53s007_f3ty08m0000gn/T/ipykernel_15260/2951571227.py:9: FutureWarning: suggest_loguniform has been deprecated in v3.0.0. This feature will be removed in v6.0.0. See https://github.com/optuna/optuna/releases/tag/v3.0.0. Use :func:`~optuna.trial.Trial.suggest_float` instead.\n",
      "  'lambda_l2': trial.suggest_loguniform('lambda_l2', 1e-8, 10.0),\n",
      "/var/folders/qb/s5vw4nk95r53s007_f3ty08m0000gn/T/ipykernel_15260/2951571227.py:11: FutureWarning: suggest_uniform has been deprecated in v3.0.0. This feature will be removed in v6.0.0. See https://github.com/optuna/optuna/releases/tag/v3.0.0. Use :func:`~optuna.trial.Trial.suggest_float` instead.\n",
      "  'feature_fraction': trial.suggest_uniform('feature_fraction', 0.4, 1.0),\n",
      "/var/folders/qb/s5vw4nk95r53s007_f3ty08m0000gn/T/ipykernel_15260/2951571227.py:12: FutureWarning: suggest_uniform has been deprecated in v3.0.0. This feature will be removed in v6.0.0. See https://github.com/optuna/optuna/releases/tag/v3.0.0. Use :func:`~optuna.trial.Trial.suggest_float` instead.\n",
      "  'bagging_fraction': trial.suggest_uniform('bagging_fraction', 0.4, 1.0),\n",
      "/Users/youngseoklee/opt/anaconda3/envs/ai/lib/python3.10/site-packages/lightgbm/sklearn.py:726: UserWarning: 'early_stopping_rounds' argument is deprecated and will be removed in a future release of LightGBM. Pass 'early_stopping()' callback via 'callbacks' argument instead.\n",
      "  _log_warning(\"'early_stopping_rounds' argument is deprecated and will be removed in a future release of LightGBM. \"\n",
      "/Users/youngseoklee/opt/anaconda3/envs/ai/lib/python3.10/site-packages/lightgbm/sklearn.py:736: UserWarning: 'verbose' argument is deprecated and will be removed in a future release of LightGBM. Pass 'log_evaluation()' callback via 'callbacks' argument instead.\n",
      "  _log_warning(\"'verbose' argument is deprecated and will be removed in a future release of LightGBM. \"\n",
      "\u001b[32m[I 2023-08-01 00:04:51,417]\u001b[0m Trial 70 finished with value: 343649520864104.7 and parameters: {'lambda_l1': 8.94952334513314e-07, 'lambda_l2': 0.000781189222774657, 'num_leaves': 8, 'feature_fraction': 0.4635045531878528, 'bagging_fraction': 0.6387019116835488, 'bagging_freq': 5, 'min_child_samples': 100}. Best is trial 49 with value: 265579173796455.3.\u001b[0m\n"
     ]
    },
    {
     "name": "stdout",
     "output_type": "stream",
     "text": [
      "343649520864104.7\n",
      "[LightGBM] [Warning] feature_fraction is set=0.4393590266727598, colsample_bytree=1.0 will be ignored. Current value: feature_fraction=0.4393590266727598\n",
      "[LightGBM] [Warning] lambda_l1 is set=9.570856597347847e-08, reg_alpha=0.0 will be ignored. Current value: lambda_l1=9.570856597347847e-08\n",
      "[LightGBM] [Warning] bagging_fraction is set=0.7047897836809225, subsample=1.0 will be ignored. Current value: bagging_fraction=0.7047897836809225\n",
      "[LightGBM] [Warning] lambda_l2 is set=0.0001191589980627414, reg_lambda=0.0 will be ignored. Current value: lambda_l2=0.0001191589980627414\n",
      "[LightGBM] [Warning] bagging_freq is set=1, subsample_freq=0 will be ignored. Current value: bagging_freq=1\n"
     ]
    },
    {
     "name": "stderr",
     "output_type": "stream",
     "text": [
      "/var/folders/qb/s5vw4nk95r53s007_f3ty08m0000gn/T/ipykernel_15260/2951571227.py:8: FutureWarning: suggest_loguniform has been deprecated in v3.0.0. This feature will be removed in v6.0.0. See https://github.com/optuna/optuna/releases/tag/v3.0.0. Use :func:`~optuna.trial.Trial.suggest_float` instead.\n",
      "  'lambda_l1': trial.suggest_loguniform('lambda_l1', 1e-8, 10.0),\n",
      "/var/folders/qb/s5vw4nk95r53s007_f3ty08m0000gn/T/ipykernel_15260/2951571227.py:9: FutureWarning: suggest_loguniform has been deprecated in v3.0.0. This feature will be removed in v6.0.0. See https://github.com/optuna/optuna/releases/tag/v3.0.0. Use :func:`~optuna.trial.Trial.suggest_float` instead.\n",
      "  'lambda_l2': trial.suggest_loguniform('lambda_l2', 1e-8, 10.0),\n",
      "/var/folders/qb/s5vw4nk95r53s007_f3ty08m0000gn/T/ipykernel_15260/2951571227.py:11: FutureWarning: suggest_uniform has been deprecated in v3.0.0. This feature will be removed in v6.0.0. See https://github.com/optuna/optuna/releases/tag/v3.0.0. Use :func:`~optuna.trial.Trial.suggest_float` instead.\n",
      "  'feature_fraction': trial.suggest_uniform('feature_fraction', 0.4, 1.0),\n",
      "/var/folders/qb/s5vw4nk95r53s007_f3ty08m0000gn/T/ipykernel_15260/2951571227.py:12: FutureWarning: suggest_uniform has been deprecated in v3.0.0. This feature will be removed in v6.0.0. See https://github.com/optuna/optuna/releases/tag/v3.0.0. Use :func:`~optuna.trial.Trial.suggest_float` instead.\n",
      "  'bagging_fraction': trial.suggest_uniform('bagging_fraction', 0.4, 1.0),\n",
      "/Users/youngseoklee/opt/anaconda3/envs/ai/lib/python3.10/site-packages/lightgbm/sklearn.py:726: UserWarning: 'early_stopping_rounds' argument is deprecated and will be removed in a future release of LightGBM. Pass 'early_stopping()' callback via 'callbacks' argument instead.\n",
      "  _log_warning(\"'early_stopping_rounds' argument is deprecated and will be removed in a future release of LightGBM. \"\n",
      "/Users/youngseoklee/opt/anaconda3/envs/ai/lib/python3.10/site-packages/lightgbm/sklearn.py:736: UserWarning: 'verbose' argument is deprecated and will be removed in a future release of LightGBM. Pass 'log_evaluation()' callback via 'callbacks' argument instead.\n",
      "  _log_warning(\"'verbose' argument is deprecated and will be removed in a future release of LightGBM. \"\n",
      "\u001b[32m[I 2023-08-01 00:04:51,662]\u001b[0m Trial 71 finished with value: 279480755613658.4 and parameters: {'lambda_l1': 9.570856597347847e-08, 'lambda_l2': 0.0001191589980627414, 'num_leaves': 2, 'feature_fraction': 0.4393590266727598, 'bagging_fraction': 0.7047897836809225, 'bagging_freq': 1, 'min_child_samples': 92}. Best is trial 49 with value: 265579173796455.3.\u001b[0m\n"
     ]
    },
    {
     "name": "stdout",
     "output_type": "stream",
     "text": [
      "279480755613658.4\n",
      "[LightGBM] [Warning] feature_fraction is set=0.4462272054301832, colsample_bytree=1.0 will be ignored. Current value: feature_fraction=0.4462272054301832\n",
      "[LightGBM] [Warning] lambda_l1 is set=3.2875073220899775e-08, reg_alpha=0.0 will be ignored. Current value: lambda_l1=3.2875073220899775e-08\n",
      "[LightGBM] [Warning] bagging_fraction is set=0.705229590248591, subsample=1.0 will be ignored. Current value: bagging_fraction=0.705229590248591\n",
      "[LightGBM] [Warning] lambda_l2 is set=0.00011896281803065807, reg_lambda=0.0 will be ignored. Current value: lambda_l2=0.00011896281803065807\n",
      "[LightGBM] [Warning] bagging_freq is set=1, subsample_freq=0 will be ignored. Current value: bagging_freq=1\n"
     ]
    },
    {
     "name": "stderr",
     "output_type": "stream",
     "text": [
      "/var/folders/qb/s5vw4nk95r53s007_f3ty08m0000gn/T/ipykernel_15260/2951571227.py:8: FutureWarning: suggest_loguniform has been deprecated in v3.0.0. This feature will be removed in v6.0.0. See https://github.com/optuna/optuna/releases/tag/v3.0.0. Use :func:`~optuna.trial.Trial.suggest_float` instead.\n",
      "  'lambda_l1': trial.suggest_loguniform('lambda_l1', 1e-8, 10.0),\n",
      "/var/folders/qb/s5vw4nk95r53s007_f3ty08m0000gn/T/ipykernel_15260/2951571227.py:9: FutureWarning: suggest_loguniform has been deprecated in v3.0.0. This feature will be removed in v6.0.0. See https://github.com/optuna/optuna/releases/tag/v3.0.0. Use :func:`~optuna.trial.Trial.suggest_float` instead.\n",
      "  'lambda_l2': trial.suggest_loguniform('lambda_l2', 1e-8, 10.0),\n",
      "/var/folders/qb/s5vw4nk95r53s007_f3ty08m0000gn/T/ipykernel_15260/2951571227.py:11: FutureWarning: suggest_uniform has been deprecated in v3.0.0. This feature will be removed in v6.0.0. See https://github.com/optuna/optuna/releases/tag/v3.0.0. Use :func:`~optuna.trial.Trial.suggest_float` instead.\n",
      "  'feature_fraction': trial.suggest_uniform('feature_fraction', 0.4, 1.0),\n",
      "/var/folders/qb/s5vw4nk95r53s007_f3ty08m0000gn/T/ipykernel_15260/2951571227.py:12: FutureWarning: suggest_uniform has been deprecated in v3.0.0. This feature will be removed in v6.0.0. See https://github.com/optuna/optuna/releases/tag/v3.0.0. Use :func:`~optuna.trial.Trial.suggest_float` instead.\n",
      "  'bagging_fraction': trial.suggest_uniform('bagging_fraction', 0.4, 1.0),\n",
      "/Users/youngseoklee/opt/anaconda3/envs/ai/lib/python3.10/site-packages/lightgbm/sklearn.py:726: UserWarning: 'early_stopping_rounds' argument is deprecated and will be removed in a future release of LightGBM. Pass 'early_stopping()' callback via 'callbacks' argument instead.\n",
      "  _log_warning(\"'early_stopping_rounds' argument is deprecated and will be removed in a future release of LightGBM. \"\n",
      "/Users/youngseoklee/opt/anaconda3/envs/ai/lib/python3.10/site-packages/lightgbm/sklearn.py:736: UserWarning: 'verbose' argument is deprecated and will be removed in a future release of LightGBM. Pass 'log_evaluation()' callback via 'callbacks' argument instead.\n",
      "  _log_warning(\"'verbose' argument is deprecated and will be removed in a future release of LightGBM. \"\n",
      "\u001b[32m[I 2023-08-01 00:04:54,638]\u001b[0m Trial 72 finished with value: 376022459647909.4 and parameters: {'lambda_l1': 3.2875073220899775e-08, 'lambda_l2': 0.00011896281803065807, 'num_leaves': 187, 'feature_fraction': 0.4462272054301832, 'bagging_fraction': 0.705229590248591, 'bagging_freq': 1, 'min_child_samples': 97}. Best is trial 49 with value: 265579173796455.3.\u001b[0m\n"
     ]
    },
    {
     "name": "stdout",
     "output_type": "stream",
     "text": [
      "376022459647909.4\n",
      "[LightGBM] [Warning] feature_fraction is set=0.4179355744776867, colsample_bytree=1.0 will be ignored. Current value: feature_fraction=0.4179355744776867\n",
      "[LightGBM] [Warning] lambda_l1 is set=1.7197802283459678e-08, reg_alpha=0.0 will be ignored. Current value: lambda_l1=1.7197802283459678e-08\n",
      "[LightGBM] [Warning] bagging_fraction is set=0.5583712810194237, subsample=1.0 will be ignored. Current value: bagging_fraction=0.5583712810194237\n",
      "[LightGBM] [Warning] lambda_l2 is set=1.3246291882447487e-05, reg_lambda=0.0 will be ignored. Current value: lambda_l2=1.3246291882447487e-05\n",
      "[LightGBM] [Warning] bagging_freq is set=4, subsample_freq=0 will be ignored. Current value: bagging_freq=4\n"
     ]
    },
    {
     "name": "stderr",
     "output_type": "stream",
     "text": [
      "/var/folders/qb/s5vw4nk95r53s007_f3ty08m0000gn/T/ipykernel_15260/2951571227.py:8: FutureWarning: suggest_loguniform has been deprecated in v3.0.0. This feature will be removed in v6.0.0. See https://github.com/optuna/optuna/releases/tag/v3.0.0. Use :func:`~optuna.trial.Trial.suggest_float` instead.\n",
      "  'lambda_l1': trial.suggest_loguniform('lambda_l1', 1e-8, 10.0),\n",
      "/var/folders/qb/s5vw4nk95r53s007_f3ty08m0000gn/T/ipykernel_15260/2951571227.py:9: FutureWarning: suggest_loguniform has been deprecated in v3.0.0. This feature will be removed in v6.0.0. See https://github.com/optuna/optuna/releases/tag/v3.0.0. Use :func:`~optuna.trial.Trial.suggest_float` instead.\n",
      "  'lambda_l2': trial.suggest_loguniform('lambda_l2', 1e-8, 10.0),\n",
      "/var/folders/qb/s5vw4nk95r53s007_f3ty08m0000gn/T/ipykernel_15260/2951571227.py:11: FutureWarning: suggest_uniform has been deprecated in v3.0.0. This feature will be removed in v6.0.0. See https://github.com/optuna/optuna/releases/tag/v3.0.0. Use :func:`~optuna.trial.Trial.suggest_float` instead.\n",
      "  'feature_fraction': trial.suggest_uniform('feature_fraction', 0.4, 1.0),\n",
      "/var/folders/qb/s5vw4nk95r53s007_f3ty08m0000gn/T/ipykernel_15260/2951571227.py:12: FutureWarning: suggest_uniform has been deprecated in v3.0.0. This feature will be removed in v6.0.0. See https://github.com/optuna/optuna/releases/tag/v3.0.0. Use :func:`~optuna.trial.Trial.suggest_float` instead.\n",
      "  'bagging_fraction': trial.suggest_uniform('bagging_fraction', 0.4, 1.0),\n",
      "/Users/youngseoklee/opt/anaconda3/envs/ai/lib/python3.10/site-packages/lightgbm/sklearn.py:726: UserWarning: 'early_stopping_rounds' argument is deprecated and will be removed in a future release of LightGBM. Pass 'early_stopping()' callback via 'callbacks' argument instead.\n",
      "  _log_warning(\"'early_stopping_rounds' argument is deprecated and will be removed in a future release of LightGBM. \"\n",
      "/Users/youngseoklee/opt/anaconda3/envs/ai/lib/python3.10/site-packages/lightgbm/sklearn.py:736: UserWarning: 'verbose' argument is deprecated and will be removed in a future release of LightGBM. Pass 'log_evaluation()' callback via 'callbacks' argument instead.\n",
      "  _log_warning(\"'verbose' argument is deprecated and will be removed in a future release of LightGBM. \"\n",
      "\u001b[32m[I 2023-08-01 00:04:54,883]\u001b[0m Trial 73 finished with value: 271233452430258.0 and parameters: {'lambda_l1': 1.7197802283459678e-08, 'lambda_l2': 1.3246291882447487e-05, 'num_leaves': 2, 'feature_fraction': 0.4179355744776867, 'bagging_fraction': 0.5583712810194237, 'bagging_freq': 4, 'min_child_samples': 92}. Best is trial 49 with value: 265579173796455.3.\u001b[0m\n"
     ]
    },
    {
     "name": "stdout",
     "output_type": "stream",
     "text": [
      "271233452430258.0\n",
      "[LightGBM] [Warning] feature_fraction is set=0.4233747560282635, colsample_bytree=1.0 will be ignored. Current value: feature_fraction=0.4233747560282635\n",
      "[LightGBM] [Warning] lambda_l1 is set=1.716715828258532e-08, reg_alpha=0.0 will be ignored. Current value: lambda_l1=1.716715828258532e-08\n",
      "[LightGBM] [Warning] bagging_fraction is set=0.6073425718615626, subsample=1.0 will be ignored. Current value: bagging_fraction=0.6073425718615626\n",
      "[LightGBM] [Warning] lambda_l2 is set=0.0003366643377126612, reg_lambda=0.0 will be ignored. Current value: lambda_l2=0.0003366643377126612\n",
      "[LightGBM] [Warning] bagging_freq is set=4, subsample_freq=0 will be ignored. Current value: bagging_freq=4\n"
     ]
    },
    {
     "name": "stderr",
     "output_type": "stream",
     "text": [
      "/var/folders/qb/s5vw4nk95r53s007_f3ty08m0000gn/T/ipykernel_15260/2951571227.py:8: FutureWarning: suggest_loguniform has been deprecated in v3.0.0. This feature will be removed in v6.0.0. See https://github.com/optuna/optuna/releases/tag/v3.0.0. Use :func:`~optuna.trial.Trial.suggest_float` instead.\n",
      "  'lambda_l1': trial.suggest_loguniform('lambda_l1', 1e-8, 10.0),\n",
      "/var/folders/qb/s5vw4nk95r53s007_f3ty08m0000gn/T/ipykernel_15260/2951571227.py:9: FutureWarning: suggest_loguniform has been deprecated in v3.0.0. This feature will be removed in v6.0.0. See https://github.com/optuna/optuna/releases/tag/v3.0.0. Use :func:`~optuna.trial.Trial.suggest_float` instead.\n",
      "  'lambda_l2': trial.suggest_loguniform('lambda_l2', 1e-8, 10.0),\n",
      "/var/folders/qb/s5vw4nk95r53s007_f3ty08m0000gn/T/ipykernel_15260/2951571227.py:11: FutureWarning: suggest_uniform has been deprecated in v3.0.0. This feature will be removed in v6.0.0. See https://github.com/optuna/optuna/releases/tag/v3.0.0. Use :func:`~optuna.trial.Trial.suggest_float` instead.\n",
      "  'feature_fraction': trial.suggest_uniform('feature_fraction', 0.4, 1.0),\n",
      "/var/folders/qb/s5vw4nk95r53s007_f3ty08m0000gn/T/ipykernel_15260/2951571227.py:12: FutureWarning: suggest_uniform has been deprecated in v3.0.0. This feature will be removed in v6.0.0. See https://github.com/optuna/optuna/releases/tag/v3.0.0. Use :func:`~optuna.trial.Trial.suggest_float` instead.\n",
      "  'bagging_fraction': trial.suggest_uniform('bagging_fraction', 0.4, 1.0),\n",
      "/Users/youngseoklee/opt/anaconda3/envs/ai/lib/python3.10/site-packages/lightgbm/sklearn.py:726: UserWarning: 'early_stopping_rounds' argument is deprecated and will be removed in a future release of LightGBM. Pass 'early_stopping()' callback via 'callbacks' argument instead.\n",
      "  _log_warning(\"'early_stopping_rounds' argument is deprecated and will be removed in a future release of LightGBM. \"\n",
      "/Users/youngseoklee/opt/anaconda3/envs/ai/lib/python3.10/site-packages/lightgbm/sklearn.py:736: UserWarning: 'verbose' argument is deprecated and will be removed in a future release of LightGBM. Pass 'log_evaluation()' callback via 'callbacks' argument instead.\n",
      "  _log_warning(\"'verbose' argument is deprecated and will be removed in a future release of LightGBM. \"\n",
      "\u001b[32m[I 2023-08-01 00:04:55,131]\u001b[0m Trial 74 finished with value: 278701630450670.47 and parameters: {'lambda_l1': 1.716715828258532e-08, 'lambda_l2': 0.0003366643377126612, 'num_leaves': 2, 'feature_fraction': 0.4233747560282635, 'bagging_fraction': 0.6073425718615626, 'bagging_freq': 4, 'min_child_samples': 92}. Best is trial 49 with value: 265579173796455.3.\u001b[0m\n"
     ]
    },
    {
     "name": "stdout",
     "output_type": "stream",
     "text": [
      "278701630450670.47\n",
      "[LightGBM] [Warning] feature_fraction is set=0.40757267897461935, colsample_bytree=1.0 will be ignored. Current value: feature_fraction=0.40757267897461935\n",
      "[LightGBM] [Warning] lambda_l1 is set=1.5870402465713073e-08, reg_alpha=0.0 will be ignored. Current value: lambda_l1=1.5870402465713073e-08\n",
      "[LightGBM] [Warning] bagging_fraction is set=0.6098656335973082, subsample=1.0 will be ignored. Current value: bagging_fraction=0.6098656335973082\n",
      "[LightGBM] [Warning] lambda_l2 is set=0.0002982377673406013, reg_lambda=0.0 will be ignored. Current value: lambda_l2=0.0002982377673406013\n",
      "[LightGBM] [Warning] bagging_freq is set=4, subsample_freq=0 will be ignored. Current value: bagging_freq=4\n"
     ]
    },
    {
     "name": "stderr",
     "output_type": "stream",
     "text": [
      "/var/folders/qb/s5vw4nk95r53s007_f3ty08m0000gn/T/ipykernel_15260/2951571227.py:8: FutureWarning: suggest_loguniform has been deprecated in v3.0.0. This feature will be removed in v6.0.0. See https://github.com/optuna/optuna/releases/tag/v3.0.0. Use :func:`~optuna.trial.Trial.suggest_float` instead.\n",
      "  'lambda_l1': trial.suggest_loguniform('lambda_l1', 1e-8, 10.0),\n",
      "/var/folders/qb/s5vw4nk95r53s007_f3ty08m0000gn/T/ipykernel_15260/2951571227.py:9: FutureWarning: suggest_loguniform has been deprecated in v3.0.0. This feature will be removed in v6.0.0. See https://github.com/optuna/optuna/releases/tag/v3.0.0. Use :func:`~optuna.trial.Trial.suggest_float` instead.\n",
      "  'lambda_l2': trial.suggest_loguniform('lambda_l2', 1e-8, 10.0),\n",
      "/var/folders/qb/s5vw4nk95r53s007_f3ty08m0000gn/T/ipykernel_15260/2951571227.py:11: FutureWarning: suggest_uniform has been deprecated in v3.0.0. This feature will be removed in v6.0.0. See https://github.com/optuna/optuna/releases/tag/v3.0.0. Use :func:`~optuna.trial.Trial.suggest_float` instead.\n",
      "  'feature_fraction': trial.suggest_uniform('feature_fraction', 0.4, 1.0),\n",
      "/var/folders/qb/s5vw4nk95r53s007_f3ty08m0000gn/T/ipykernel_15260/2951571227.py:12: FutureWarning: suggest_uniform has been deprecated in v3.0.0. This feature will be removed in v6.0.0. See https://github.com/optuna/optuna/releases/tag/v3.0.0. Use :func:`~optuna.trial.Trial.suggest_float` instead.\n",
      "  'bagging_fraction': trial.suggest_uniform('bagging_fraction', 0.4, 1.0),\n",
      "/Users/youngseoklee/opt/anaconda3/envs/ai/lib/python3.10/site-packages/lightgbm/sklearn.py:726: UserWarning: 'early_stopping_rounds' argument is deprecated and will be removed in a future release of LightGBM. Pass 'early_stopping()' callback via 'callbacks' argument instead.\n",
      "  _log_warning(\"'early_stopping_rounds' argument is deprecated and will be removed in a future release of LightGBM. \"\n",
      "/Users/youngseoklee/opt/anaconda3/envs/ai/lib/python3.10/site-packages/lightgbm/sklearn.py:736: UserWarning: 'verbose' argument is deprecated and will be removed in a future release of LightGBM. Pass 'log_evaluation()' callback via 'callbacks' argument instead.\n",
      "  _log_warning(\"'verbose' argument is deprecated and will be removed in a future release of LightGBM. \"\n",
      "\u001b[32m[I 2023-08-01 00:04:55,807]\u001b[0m Trial 75 finished with value: 336644658177186.3 and parameters: {'lambda_l1': 1.5870402465713073e-08, 'lambda_l2': 0.0002982377673406013, 'num_leaves': 17, 'feature_fraction': 0.40757267897461935, 'bagging_fraction': 0.6098656335973082, 'bagging_freq': 4, 'min_child_samples': 88}. Best is trial 49 with value: 265579173796455.3.\u001b[0m\n"
     ]
    },
    {
     "name": "stdout",
     "output_type": "stream",
     "text": [
      "336644658177186.3\n",
      "[LightGBM] [Warning] feature_fraction is set=0.4152676240833433, colsample_bytree=1.0 will be ignored. Current value: feature_fraction=0.4152676240833433\n",
      "[LightGBM] [Warning] lambda_l1 is set=1.0352715560906783e-08, reg_alpha=0.0 will be ignored. Current value: lambda_l1=1.0352715560906783e-08\n",
      "[LightGBM] [Warning] bagging_fraction is set=0.5666195551759446, subsample=1.0 will be ignored. Current value: bagging_fraction=0.5666195551759446\n",
      "[LightGBM] [Warning] lambda_l2 is set=0.0025067115256392986, reg_lambda=0.0 will be ignored. Current value: lambda_l2=0.0025067115256392986\n",
      "[LightGBM] [Warning] bagging_freq is set=4, subsample_freq=0 will be ignored. Current value: bagging_freq=4\n"
     ]
    },
    {
     "name": "stderr",
     "output_type": "stream",
     "text": [
      "/var/folders/qb/s5vw4nk95r53s007_f3ty08m0000gn/T/ipykernel_15260/2951571227.py:8: FutureWarning: suggest_loguniform has been deprecated in v3.0.0. This feature will be removed in v6.0.0. See https://github.com/optuna/optuna/releases/tag/v3.0.0. Use :func:`~optuna.trial.Trial.suggest_float` instead.\n",
      "  'lambda_l1': trial.suggest_loguniform('lambda_l1', 1e-8, 10.0),\n",
      "/var/folders/qb/s5vw4nk95r53s007_f3ty08m0000gn/T/ipykernel_15260/2951571227.py:9: FutureWarning: suggest_loguniform has been deprecated in v3.0.0. This feature will be removed in v6.0.0. See https://github.com/optuna/optuna/releases/tag/v3.0.0. Use :func:`~optuna.trial.Trial.suggest_float` instead.\n",
      "  'lambda_l2': trial.suggest_loguniform('lambda_l2', 1e-8, 10.0),\n",
      "/var/folders/qb/s5vw4nk95r53s007_f3ty08m0000gn/T/ipykernel_15260/2951571227.py:11: FutureWarning: suggest_uniform has been deprecated in v3.0.0. This feature will be removed in v6.0.0. See https://github.com/optuna/optuna/releases/tag/v3.0.0. Use :func:`~optuna.trial.Trial.suggest_float` instead.\n",
      "  'feature_fraction': trial.suggest_uniform('feature_fraction', 0.4, 1.0),\n",
      "/var/folders/qb/s5vw4nk95r53s007_f3ty08m0000gn/T/ipykernel_15260/2951571227.py:12: FutureWarning: suggest_uniform has been deprecated in v3.0.0. This feature will be removed in v6.0.0. See https://github.com/optuna/optuna/releases/tag/v3.0.0. Use :func:`~optuna.trial.Trial.suggest_float` instead.\n",
      "  'bagging_fraction': trial.suggest_uniform('bagging_fraction', 0.4, 1.0),\n",
      "/Users/youngseoklee/opt/anaconda3/envs/ai/lib/python3.10/site-packages/lightgbm/sklearn.py:726: UserWarning: 'early_stopping_rounds' argument is deprecated and will be removed in a future release of LightGBM. Pass 'early_stopping()' callback via 'callbacks' argument instead.\n",
      "  _log_warning(\"'early_stopping_rounds' argument is deprecated and will be removed in a future release of LightGBM. \"\n",
      "/Users/youngseoklee/opt/anaconda3/envs/ai/lib/python3.10/site-packages/lightgbm/sklearn.py:736: UserWarning: 'verbose' argument is deprecated and will be removed in a future release of LightGBM. Pass 'log_evaluation()' callback via 'callbacks' argument instead.\n",
      "  _log_warning(\"'verbose' argument is deprecated and will be removed in a future release of LightGBM. \"\n",
      "\u001b[32m[I 2023-08-01 00:04:56,314]\u001b[0m Trial 76 finished with value: 326398799742813.7 and parameters: {'lambda_l1': 1.0352715560906783e-08, 'lambda_l2': 0.0025067115256392986, 'num_leaves': 9, 'feature_fraction': 0.4152676240833433, 'bagging_fraction': 0.5666195551759446, 'bagging_freq': 4, 'min_child_samples': 23}. Best is trial 49 with value: 265579173796455.3.\u001b[0m\n"
     ]
    },
    {
     "name": "stdout",
     "output_type": "stream",
     "text": [
      "326398799742813.7\n",
      "[LightGBM] [Warning] feature_fraction is set=0.4288660264511953, colsample_bytree=1.0 will be ignored. Current value: feature_fraction=0.4288660264511953\n",
      "[LightGBM] [Warning] lambda_l1 is set=4.4730816581709504e-08, reg_alpha=0.0 will be ignored. Current value: lambda_l1=4.4730816581709504e-08\n",
      "[LightGBM] [Warning] bagging_fraction is set=0.5900322782556899, subsample=1.0 will be ignored. Current value: bagging_fraction=0.5900322782556899\n",
      "[LightGBM] [Warning] lambda_l2 is set=0.00046264272559245416, reg_lambda=0.0 will be ignored. Current value: lambda_l2=0.00046264272559245416\n",
      "[LightGBM] [Warning] bagging_freq is set=4, subsample_freq=0 will be ignored. Current value: bagging_freq=4\n"
     ]
    },
    {
     "name": "stderr",
     "output_type": "stream",
     "text": [
      "/var/folders/qb/s5vw4nk95r53s007_f3ty08m0000gn/T/ipykernel_15260/2951571227.py:8: FutureWarning: suggest_loguniform has been deprecated in v3.0.0. This feature will be removed in v6.0.0. See https://github.com/optuna/optuna/releases/tag/v3.0.0. Use :func:`~optuna.trial.Trial.suggest_float` instead.\n",
      "  'lambda_l1': trial.suggest_loguniform('lambda_l1', 1e-8, 10.0),\n",
      "/var/folders/qb/s5vw4nk95r53s007_f3ty08m0000gn/T/ipykernel_15260/2951571227.py:9: FutureWarning: suggest_loguniform has been deprecated in v3.0.0. This feature will be removed in v6.0.0. See https://github.com/optuna/optuna/releases/tag/v3.0.0. Use :func:`~optuna.trial.Trial.suggest_float` instead.\n",
      "  'lambda_l2': trial.suggest_loguniform('lambda_l2', 1e-8, 10.0),\n",
      "/var/folders/qb/s5vw4nk95r53s007_f3ty08m0000gn/T/ipykernel_15260/2951571227.py:11: FutureWarning: suggest_uniform has been deprecated in v3.0.0. This feature will be removed in v6.0.0. See https://github.com/optuna/optuna/releases/tag/v3.0.0. Use :func:`~optuna.trial.Trial.suggest_float` instead.\n",
      "  'feature_fraction': trial.suggest_uniform('feature_fraction', 0.4, 1.0),\n",
      "/var/folders/qb/s5vw4nk95r53s007_f3ty08m0000gn/T/ipykernel_15260/2951571227.py:12: FutureWarning: suggest_uniform has been deprecated in v3.0.0. This feature will be removed in v6.0.0. See https://github.com/optuna/optuna/releases/tag/v3.0.0. Use :func:`~optuna.trial.Trial.suggest_float` instead.\n",
      "  'bagging_fraction': trial.suggest_uniform('bagging_fraction', 0.4, 1.0),\n",
      "/Users/youngseoklee/opt/anaconda3/envs/ai/lib/python3.10/site-packages/lightgbm/sklearn.py:726: UserWarning: 'early_stopping_rounds' argument is deprecated and will be removed in a future release of LightGBM. Pass 'early_stopping()' callback via 'callbacks' argument instead.\n",
      "  _log_warning(\"'early_stopping_rounds' argument is deprecated and will be removed in a future release of LightGBM. \"\n",
      "/Users/youngseoklee/opt/anaconda3/envs/ai/lib/python3.10/site-packages/lightgbm/sklearn.py:736: UserWarning: 'verbose' argument is deprecated and will be removed in a future release of LightGBM. Pass 'log_evaluation()' callback via 'callbacks' argument instead.\n",
      "  _log_warning(\"'verbose' argument is deprecated and will be removed in a future release of LightGBM. \"\n",
      "\u001b[32m[I 2023-08-01 00:04:57,238]\u001b[0m Trial 77 finished with value: 345867623164114.5 and parameters: {'lambda_l1': 4.4730816581709504e-08, 'lambda_l2': 0.00046264272559245416, 'num_leaves': 29, 'feature_fraction': 0.4288660264511953, 'bagging_fraction': 0.5900322782556899, 'bagging_freq': 4, 'min_child_samples': 93}. Best is trial 49 with value: 265579173796455.3.\u001b[0m\n"
     ]
    },
    {
     "name": "stdout",
     "output_type": "stream",
     "text": [
      "345867623164114.5\n",
      "[LightGBM] [Warning] feature_fraction is set=0.47511586998949407, colsample_bytree=1.0 will be ignored. Current value: feature_fraction=0.47511586998949407\n",
      "[LightGBM] [Warning] lambda_l1 is set=2.0065789519314813e-08, reg_alpha=0.0 will be ignored. Current value: lambda_l1=2.0065789519314813e-08\n",
      "[LightGBM] [Warning] bagging_fraction is set=0.5493392734953167, subsample=1.0 will be ignored. Current value: bagging_fraction=0.5493392734953167\n",
      "[LightGBM] [Warning] lambda_l2 is set=1.8332289562500927e-05, reg_lambda=0.0 will be ignored. Current value: lambda_l2=1.8332289562500927e-05\n",
      "[LightGBM] [Warning] bagging_freq is set=3, subsample_freq=0 will be ignored. Current value: bagging_freq=3\n"
     ]
    },
    {
     "name": "stderr",
     "output_type": "stream",
     "text": [
      "/var/folders/qb/s5vw4nk95r53s007_f3ty08m0000gn/T/ipykernel_15260/2951571227.py:8: FutureWarning: suggest_loguniform has been deprecated in v3.0.0. This feature will be removed in v6.0.0. See https://github.com/optuna/optuna/releases/tag/v3.0.0. Use :func:`~optuna.trial.Trial.suggest_float` instead.\n",
      "  'lambda_l1': trial.suggest_loguniform('lambda_l1', 1e-8, 10.0),\n",
      "/var/folders/qb/s5vw4nk95r53s007_f3ty08m0000gn/T/ipykernel_15260/2951571227.py:9: FutureWarning: suggest_loguniform has been deprecated in v3.0.0. This feature will be removed in v6.0.0. See https://github.com/optuna/optuna/releases/tag/v3.0.0. Use :func:`~optuna.trial.Trial.suggest_float` instead.\n",
      "  'lambda_l2': trial.suggest_loguniform('lambda_l2', 1e-8, 10.0),\n",
      "/var/folders/qb/s5vw4nk95r53s007_f3ty08m0000gn/T/ipykernel_15260/2951571227.py:11: FutureWarning: suggest_uniform has been deprecated in v3.0.0. This feature will be removed in v6.0.0. See https://github.com/optuna/optuna/releases/tag/v3.0.0. Use :func:`~optuna.trial.Trial.suggest_float` instead.\n",
      "  'feature_fraction': trial.suggest_uniform('feature_fraction', 0.4, 1.0),\n",
      "/var/folders/qb/s5vw4nk95r53s007_f3ty08m0000gn/T/ipykernel_15260/2951571227.py:12: FutureWarning: suggest_uniform has been deprecated in v3.0.0. This feature will be removed in v6.0.0. See https://github.com/optuna/optuna/releases/tag/v3.0.0. Use :func:`~optuna.trial.Trial.suggest_float` instead.\n",
      "  'bagging_fraction': trial.suggest_uniform('bagging_fraction', 0.4, 1.0),\n",
      "/Users/youngseoklee/opt/anaconda3/envs/ai/lib/python3.10/site-packages/lightgbm/sklearn.py:726: UserWarning: 'early_stopping_rounds' argument is deprecated and will be removed in a future release of LightGBM. Pass 'early_stopping()' callback via 'callbacks' argument instead.\n",
      "  _log_warning(\"'early_stopping_rounds' argument is deprecated and will be removed in a future release of LightGBM. \"\n",
      "/Users/youngseoklee/opt/anaconda3/envs/ai/lib/python3.10/site-packages/lightgbm/sklearn.py:736: UserWarning: 'verbose' argument is deprecated and will be removed in a future release of LightGBM. Pass 'log_evaluation()' callback via 'callbacks' argument instead.\n",
      "  _log_warning(\"'verbose' argument is deprecated and will be removed in a future release of LightGBM. \"\n",
      "\u001b[32m[I 2023-08-01 00:04:58,271]\u001b[0m Trial 78 finished with value: 406361704439450.4 and parameters: {'lambda_l1': 2.0065789519314813e-08, 'lambda_l2': 1.8332289562500927e-05, 'num_leaves': 36, 'feature_fraction': 0.47511586998949407, 'bagging_fraction': 0.5493392734953167, 'bagging_freq': 3, 'min_child_samples': 92}. Best is trial 49 with value: 265579173796455.3.\u001b[0m\n"
     ]
    },
    {
     "name": "stdout",
     "output_type": "stream",
     "text": [
      "406361704439450.4\n",
      "[LightGBM] [Warning] feature_fraction is set=0.4494867581618745, colsample_bytree=1.0 will be ignored. Current value: feature_fraction=0.4494867581618745\n",
      "[LightGBM] [Warning] lambda_l1 is set=3.228511050575692e-08, reg_alpha=0.0 will be ignored. Current value: lambda_l1=3.228511050575692e-08\n",
      "[LightGBM] [Warning] bagging_fraction is set=0.6276292892970906, subsample=1.0 will be ignored. Current value: bagging_fraction=0.6276292892970906\n",
      "[LightGBM] [Warning] lambda_l2 is set=4.8020863633321187e-05, reg_lambda=0.0 will be ignored. Current value: lambda_l2=4.8020863633321187e-05\n",
      "[LightGBM] [Warning] bagging_freq is set=4, subsample_freq=0 will be ignored. Current value: bagging_freq=4\n"
     ]
    },
    {
     "name": "stderr",
     "output_type": "stream",
     "text": [
      "/var/folders/qb/s5vw4nk95r53s007_f3ty08m0000gn/T/ipykernel_15260/2951571227.py:8: FutureWarning: suggest_loguniform has been deprecated in v3.0.0. This feature will be removed in v6.0.0. See https://github.com/optuna/optuna/releases/tag/v3.0.0. Use :func:`~optuna.trial.Trial.suggest_float` instead.\n",
      "  'lambda_l1': trial.suggest_loguniform('lambda_l1', 1e-8, 10.0),\n",
      "/var/folders/qb/s5vw4nk95r53s007_f3ty08m0000gn/T/ipykernel_15260/2951571227.py:9: FutureWarning: suggest_loguniform has been deprecated in v3.0.0. This feature will be removed in v6.0.0. See https://github.com/optuna/optuna/releases/tag/v3.0.0. Use :func:`~optuna.trial.Trial.suggest_float` instead.\n",
      "  'lambda_l2': trial.suggest_loguniform('lambda_l2', 1e-8, 10.0),\n",
      "/var/folders/qb/s5vw4nk95r53s007_f3ty08m0000gn/T/ipykernel_15260/2951571227.py:11: FutureWarning: suggest_uniform has been deprecated in v3.0.0. This feature will be removed in v6.0.0. See https://github.com/optuna/optuna/releases/tag/v3.0.0. Use :func:`~optuna.trial.Trial.suggest_float` instead.\n",
      "  'feature_fraction': trial.suggest_uniform('feature_fraction', 0.4, 1.0),\n",
      "/var/folders/qb/s5vw4nk95r53s007_f3ty08m0000gn/T/ipykernel_15260/2951571227.py:12: FutureWarning: suggest_uniform has been deprecated in v3.0.0. This feature will be removed in v6.0.0. See https://github.com/optuna/optuna/releases/tag/v3.0.0. Use :func:`~optuna.trial.Trial.suggest_float` instead.\n",
      "  'bagging_fraction': trial.suggest_uniform('bagging_fraction', 0.4, 1.0),\n",
      "/Users/youngseoklee/opt/anaconda3/envs/ai/lib/python3.10/site-packages/lightgbm/sklearn.py:726: UserWarning: 'early_stopping_rounds' argument is deprecated and will be removed in a future release of LightGBM. Pass 'early_stopping()' callback via 'callbacks' argument instead.\n",
      "  _log_warning(\"'early_stopping_rounds' argument is deprecated and will be removed in a future release of LightGBM. \"\n",
      "/Users/youngseoklee/opt/anaconda3/envs/ai/lib/python3.10/site-packages/lightgbm/sklearn.py:736: UserWarning: 'verbose' argument is deprecated and will be removed in a future release of LightGBM. Pass 'log_evaluation()' callback via 'callbacks' argument instead.\n",
      "  _log_warning(\"'verbose' argument is deprecated and will be removed in a future release of LightGBM. \"\n",
      "\u001b[32m[I 2023-08-01 00:04:58,994]\u001b[0m Trial 79 finished with value: 282142180975463.9 and parameters: {'lambda_l1': 3.228511050575692e-08, 'lambda_l2': 4.8020863633321187e-05, 'num_leaves': 18, 'feature_fraction': 0.4494867581618745, 'bagging_fraction': 0.6276292892970906, 'bagging_freq': 4, 'min_child_samples': 82}. Best is trial 49 with value: 265579173796455.3.\u001b[0m\n"
     ]
    },
    {
     "name": "stdout",
     "output_type": "stream",
     "text": [
      "282142180975463.9\n",
      "[LightGBM] [Warning] feature_fraction is set=0.41651696976656244, colsample_bytree=1.0 will be ignored. Current value: feature_fraction=0.41651696976656244\n",
      "[LightGBM] [Warning] lambda_l1 is set=1.9834457129439646e-07, reg_alpha=0.0 will be ignored. Current value: lambda_l1=1.9834457129439646e-07\n",
      "[LightGBM] [Warning] bagging_fraction is set=0.6101588015782847, subsample=1.0 will be ignored. Current value: bagging_fraction=0.6101588015782847\n",
      "[LightGBM] [Warning] lambda_l2 is set=0.0009203637590608376, reg_lambda=0.0 will be ignored. Current value: lambda_l2=0.0009203637590608376\n",
      "[LightGBM] [Warning] bagging_freq is set=4, subsample_freq=0 will be ignored. Current value: bagging_freq=4\n"
     ]
    },
    {
     "name": "stderr",
     "output_type": "stream",
     "text": [
      "/var/folders/qb/s5vw4nk95r53s007_f3ty08m0000gn/T/ipykernel_15260/2951571227.py:8: FutureWarning: suggest_loguniform has been deprecated in v3.0.0. This feature will be removed in v6.0.0. See https://github.com/optuna/optuna/releases/tag/v3.0.0. Use :func:`~optuna.trial.Trial.suggest_float` instead.\n",
      "  'lambda_l1': trial.suggest_loguniform('lambda_l1', 1e-8, 10.0),\n",
      "/var/folders/qb/s5vw4nk95r53s007_f3ty08m0000gn/T/ipykernel_15260/2951571227.py:9: FutureWarning: suggest_loguniform has been deprecated in v3.0.0. This feature will be removed in v6.0.0. See https://github.com/optuna/optuna/releases/tag/v3.0.0. Use :func:`~optuna.trial.Trial.suggest_float` instead.\n",
      "  'lambda_l2': trial.suggest_loguniform('lambda_l2', 1e-8, 10.0),\n",
      "/var/folders/qb/s5vw4nk95r53s007_f3ty08m0000gn/T/ipykernel_15260/2951571227.py:11: FutureWarning: suggest_uniform has been deprecated in v3.0.0. This feature will be removed in v6.0.0. See https://github.com/optuna/optuna/releases/tag/v3.0.0. Use :func:`~optuna.trial.Trial.suggest_float` instead.\n",
      "  'feature_fraction': trial.suggest_uniform('feature_fraction', 0.4, 1.0),\n",
      "/var/folders/qb/s5vw4nk95r53s007_f3ty08m0000gn/T/ipykernel_15260/2951571227.py:12: FutureWarning: suggest_uniform has been deprecated in v3.0.0. This feature will be removed in v6.0.0. See https://github.com/optuna/optuna/releases/tag/v3.0.0. Use :func:`~optuna.trial.Trial.suggest_float` instead.\n",
      "  'bagging_fraction': trial.suggest_uniform('bagging_fraction', 0.4, 1.0),\n",
      "/Users/youngseoklee/opt/anaconda3/envs/ai/lib/python3.10/site-packages/lightgbm/sklearn.py:726: UserWarning: 'early_stopping_rounds' argument is deprecated and will be removed in a future release of LightGBM. Pass 'early_stopping()' callback via 'callbacks' argument instead.\n",
      "  _log_warning(\"'early_stopping_rounds' argument is deprecated and will be removed in a future release of LightGBM. \"\n",
      "/Users/youngseoklee/opt/anaconda3/envs/ai/lib/python3.10/site-packages/lightgbm/sklearn.py:736: UserWarning: 'verbose' argument is deprecated and will be removed in a future release of LightGBM. Pass 'log_evaluation()' callback via 'callbacks' argument instead.\n",
      "  _log_warning(\"'verbose' argument is deprecated and will be removed in a future release of LightGBM. \"\n",
      "\u001b[32m[I 2023-08-01 00:04:59,464]\u001b[0m Trial 80 finished with value: 302067801945815.5 and parameters: {'lambda_l1': 1.9834457129439646e-07, 'lambda_l2': 0.0009203637590608376, 'num_leaves': 8, 'feature_fraction': 0.41651696976656244, 'bagging_fraction': 0.6101588015782847, 'bagging_freq': 4, 'min_child_samples': 85}. Best is trial 49 with value: 265579173796455.3.\u001b[0m\n"
     ]
    },
    {
     "name": "stdout",
     "output_type": "stream",
     "text": [
      "302067801945815.5\n",
      "[LightGBM] [Warning] feature_fraction is set=0.4342622569119639, colsample_bytree=1.0 will be ignored. Current value: feature_fraction=0.4342622569119639\n",
      "[LightGBM] [Warning] lambda_l1 is set=7.428499454532e-08, reg_alpha=0.0 will be ignored. Current value: lambda_l1=7.428499454532e-08\n",
      "[LightGBM] [Warning] bagging_fraction is set=0.6473011438009929, subsample=1.0 will be ignored. Current value: bagging_fraction=0.6473011438009929\n",
      "[LightGBM] [Warning] lambda_l2 is set=0.00016921792820741497, reg_lambda=0.0 will be ignored. Current value: lambda_l2=0.00016921792820741497\n",
      "[LightGBM] [Warning] bagging_freq is set=1, subsample_freq=0 will be ignored. Current value: bagging_freq=1\n"
     ]
    },
    {
     "name": "stderr",
     "output_type": "stream",
     "text": [
      "/var/folders/qb/s5vw4nk95r53s007_f3ty08m0000gn/T/ipykernel_15260/2951571227.py:8: FutureWarning: suggest_loguniform has been deprecated in v3.0.0. This feature will be removed in v6.0.0. See https://github.com/optuna/optuna/releases/tag/v3.0.0. Use :func:`~optuna.trial.Trial.suggest_float` instead.\n",
      "  'lambda_l1': trial.suggest_loguniform('lambda_l1', 1e-8, 10.0),\n",
      "/var/folders/qb/s5vw4nk95r53s007_f3ty08m0000gn/T/ipykernel_15260/2951571227.py:9: FutureWarning: suggest_loguniform has been deprecated in v3.0.0. This feature will be removed in v6.0.0. See https://github.com/optuna/optuna/releases/tag/v3.0.0. Use :func:`~optuna.trial.Trial.suggest_float` instead.\n",
      "  'lambda_l2': trial.suggest_loguniform('lambda_l2', 1e-8, 10.0),\n",
      "/var/folders/qb/s5vw4nk95r53s007_f3ty08m0000gn/T/ipykernel_15260/2951571227.py:11: FutureWarning: suggest_uniform has been deprecated in v3.0.0. This feature will be removed in v6.0.0. See https://github.com/optuna/optuna/releases/tag/v3.0.0. Use :func:`~optuna.trial.Trial.suggest_float` instead.\n",
      "  'feature_fraction': trial.suggest_uniform('feature_fraction', 0.4, 1.0),\n",
      "/var/folders/qb/s5vw4nk95r53s007_f3ty08m0000gn/T/ipykernel_15260/2951571227.py:12: FutureWarning: suggest_uniform has been deprecated in v3.0.0. This feature will be removed in v6.0.0. See https://github.com/optuna/optuna/releases/tag/v3.0.0. Use :func:`~optuna.trial.Trial.suggest_float` instead.\n",
      "  'bagging_fraction': trial.suggest_uniform('bagging_fraction', 0.4, 1.0),\n",
      "/Users/youngseoklee/opt/anaconda3/envs/ai/lib/python3.10/site-packages/lightgbm/sklearn.py:726: UserWarning: 'early_stopping_rounds' argument is deprecated and will be removed in a future release of LightGBM. Pass 'early_stopping()' callback via 'callbacks' argument instead.\n",
      "  _log_warning(\"'early_stopping_rounds' argument is deprecated and will be removed in a future release of LightGBM. \"\n",
      "/Users/youngseoklee/opt/anaconda3/envs/ai/lib/python3.10/site-packages/lightgbm/sklearn.py:736: UserWarning: 'verbose' argument is deprecated and will be removed in a future release of LightGBM. Pass 'log_evaluation()' callback via 'callbacks' argument instead.\n",
      "  _log_warning(\"'verbose' argument is deprecated and will be removed in a future release of LightGBM. \"\n",
      "\u001b[32m[I 2023-08-01 00:04:59,706]\u001b[0m Trial 81 finished with value: 279965391453841.9 and parameters: {'lambda_l1': 7.428499454532e-08, 'lambda_l2': 0.00016921792820741497, 'num_leaves': 2, 'feature_fraction': 0.4342622569119639, 'bagging_fraction': 0.6473011438009929, 'bagging_freq': 1, 'min_child_samples': 92}. Best is trial 49 with value: 265579173796455.3.\u001b[0m\n"
     ]
    },
    {
     "name": "stdout",
     "output_type": "stream",
     "text": [
      "279965391453841.9\n",
      "[LightGBM] [Warning] feature_fraction is set=0.45864436109689893, colsample_bytree=1.0 will be ignored. Current value: feature_fraction=0.45864436109689893\n",
      "[LightGBM] [Warning] lambda_l1 is set=1.0156259710104448e-07, reg_alpha=0.0 will be ignored. Current value: lambda_l1=1.0156259710104448e-07\n",
      "[LightGBM] [Warning] bagging_fraction is set=0.572642268114101, subsample=1.0 will be ignored. Current value: bagging_fraction=0.572642268114101\n",
      "[LightGBM] [Warning] lambda_l2 is set=0.00010461121962876638, reg_lambda=0.0 will be ignored. Current value: lambda_l2=0.00010461121962876638\n",
      "[LightGBM] [Warning] bagging_freq is set=1, subsample_freq=0 will be ignored. Current value: bagging_freq=1\n"
     ]
    },
    {
     "name": "stderr",
     "output_type": "stream",
     "text": [
      "/var/folders/qb/s5vw4nk95r53s007_f3ty08m0000gn/T/ipykernel_15260/2951571227.py:8: FutureWarning: suggest_loguniform has been deprecated in v3.0.0. This feature will be removed in v6.0.0. See https://github.com/optuna/optuna/releases/tag/v3.0.0. Use :func:`~optuna.trial.Trial.suggest_float` instead.\n",
      "  'lambda_l1': trial.suggest_loguniform('lambda_l1', 1e-8, 10.0),\n",
      "/var/folders/qb/s5vw4nk95r53s007_f3ty08m0000gn/T/ipykernel_15260/2951571227.py:9: FutureWarning: suggest_loguniform has been deprecated in v3.0.0. This feature will be removed in v6.0.0. See https://github.com/optuna/optuna/releases/tag/v3.0.0. Use :func:`~optuna.trial.Trial.suggest_float` instead.\n",
      "  'lambda_l2': trial.suggest_loguniform('lambda_l2', 1e-8, 10.0),\n",
      "/var/folders/qb/s5vw4nk95r53s007_f3ty08m0000gn/T/ipykernel_15260/2951571227.py:11: FutureWarning: suggest_uniform has been deprecated in v3.0.0. This feature will be removed in v6.0.0. See https://github.com/optuna/optuna/releases/tag/v3.0.0. Use :func:`~optuna.trial.Trial.suggest_float` instead.\n",
      "  'feature_fraction': trial.suggest_uniform('feature_fraction', 0.4, 1.0),\n",
      "/var/folders/qb/s5vw4nk95r53s007_f3ty08m0000gn/T/ipykernel_15260/2951571227.py:12: FutureWarning: suggest_uniform has been deprecated in v3.0.0. This feature will be removed in v6.0.0. See https://github.com/optuna/optuna/releases/tag/v3.0.0. Use :func:`~optuna.trial.Trial.suggest_float` instead.\n",
      "  'bagging_fraction': trial.suggest_uniform('bagging_fraction', 0.4, 1.0),\n",
      "/Users/youngseoklee/opt/anaconda3/envs/ai/lib/python3.10/site-packages/lightgbm/sklearn.py:726: UserWarning: 'early_stopping_rounds' argument is deprecated and will be removed in a future release of LightGBM. Pass 'early_stopping()' callback via 'callbacks' argument instead.\n",
      "  _log_warning(\"'early_stopping_rounds' argument is deprecated and will be removed in a future release of LightGBM. \"\n",
      "/Users/youngseoklee/opt/anaconda3/envs/ai/lib/python3.10/site-packages/lightgbm/sklearn.py:736: UserWarning: 'verbose' argument is deprecated and will be removed in a future release of LightGBM. Pass 'log_evaluation()' callback via 'callbacks' argument instead.\n",
      "  _log_warning(\"'verbose' argument is deprecated and will be removed in a future release of LightGBM. \"\n",
      "\u001b[32m[I 2023-08-01 00:04:59,979]\u001b[0m Trial 82 finished with value: 296705809633902.8 and parameters: {'lambda_l1': 1.0156259710104448e-07, 'lambda_l2': 0.00010461121962876638, 'num_leaves': 3, 'feature_fraction': 0.45864436109689893, 'bagging_fraction': 0.572642268114101, 'bagging_freq': 1, 'min_child_samples': 96}. Best is trial 49 with value: 265579173796455.3.\u001b[0m\n"
     ]
    },
    {
     "name": "stdout",
     "output_type": "stream",
     "text": [
      "296705809633902.8\n",
      "[LightGBM] [Warning] feature_fraction is set=0.43601050476745173, colsample_bytree=1.0 will be ignored. Current value: feature_fraction=0.43601050476745173\n",
      "[LightGBM] [Warning] lambda_l1 is set=1.598972978142907e-08, reg_alpha=0.0 will be ignored. Current value: lambda_l1=1.598972978142907e-08\n",
      "[LightGBM] [Warning] bagging_fraction is set=0.6607103285873388, subsample=1.0 will be ignored. Current value: bagging_fraction=0.6607103285873388\n",
      "[LightGBM] [Warning] lambda_l2 is set=0.00029406232978796727, reg_lambda=0.0 will be ignored. Current value: lambda_l2=0.00029406232978796727\n",
      "[LightGBM] [Warning] bagging_freq is set=5, subsample_freq=0 will be ignored. Current value: bagging_freq=5\n"
     ]
    },
    {
     "name": "stderr",
     "output_type": "stream",
     "text": [
      "/var/folders/qb/s5vw4nk95r53s007_f3ty08m0000gn/T/ipykernel_15260/2951571227.py:8: FutureWarning: suggest_loguniform has been deprecated in v3.0.0. This feature will be removed in v6.0.0. See https://github.com/optuna/optuna/releases/tag/v3.0.0. Use :func:`~optuna.trial.Trial.suggest_float` instead.\n",
      "  'lambda_l1': trial.suggest_loguniform('lambda_l1', 1e-8, 10.0),\n",
      "/var/folders/qb/s5vw4nk95r53s007_f3ty08m0000gn/T/ipykernel_15260/2951571227.py:9: FutureWarning: suggest_loguniform has been deprecated in v3.0.0. This feature will be removed in v6.0.0. See https://github.com/optuna/optuna/releases/tag/v3.0.0. Use :func:`~optuna.trial.Trial.suggest_float` instead.\n",
      "  'lambda_l2': trial.suggest_loguniform('lambda_l2', 1e-8, 10.0),\n",
      "/var/folders/qb/s5vw4nk95r53s007_f3ty08m0000gn/T/ipykernel_15260/2951571227.py:11: FutureWarning: suggest_uniform has been deprecated in v3.0.0. This feature will be removed in v6.0.0. See https://github.com/optuna/optuna/releases/tag/v3.0.0. Use :func:`~optuna.trial.Trial.suggest_float` instead.\n",
      "  'feature_fraction': trial.suggest_uniform('feature_fraction', 0.4, 1.0),\n",
      "/var/folders/qb/s5vw4nk95r53s007_f3ty08m0000gn/T/ipykernel_15260/2951571227.py:12: FutureWarning: suggest_uniform has been deprecated in v3.0.0. This feature will be removed in v6.0.0. See https://github.com/optuna/optuna/releases/tag/v3.0.0. Use :func:`~optuna.trial.Trial.suggest_float` instead.\n",
      "  'bagging_fraction': trial.suggest_uniform('bagging_fraction', 0.4, 1.0),\n",
      "/Users/youngseoklee/opt/anaconda3/envs/ai/lib/python3.10/site-packages/lightgbm/sklearn.py:726: UserWarning: 'early_stopping_rounds' argument is deprecated and will be removed in a future release of LightGBM. Pass 'early_stopping()' callback via 'callbacks' argument instead.\n",
      "  _log_warning(\"'early_stopping_rounds' argument is deprecated and will be removed in a future release of LightGBM. \"\n",
      "/Users/youngseoklee/opt/anaconda3/envs/ai/lib/python3.10/site-packages/lightgbm/sklearn.py:736: UserWarning: 'verbose' argument is deprecated and will be removed in a future release of LightGBM. Pass 'log_evaluation()' callback via 'callbacks' argument instead.\n",
      "  _log_warning(\"'verbose' argument is deprecated and will be removed in a future release of LightGBM. \"\n",
      "\u001b[32m[I 2023-08-01 00:05:00,596]\u001b[0m Trial 83 finished with value: 370021685452734.06 and parameters: {'lambda_l1': 1.598972978142907e-08, 'lambda_l2': 0.00029406232978796727, 'num_leaves': 13, 'feature_fraction': 0.43601050476745173, 'bagging_fraction': 0.6607103285873388, 'bagging_freq': 5, 'min_child_samples': 91}. Best is trial 49 with value: 265579173796455.3.\u001b[0m\n"
     ]
    },
    {
     "name": "stdout",
     "output_type": "stream",
     "text": [
      "370021685452734.06\n",
      "[LightGBM] [Warning] feature_fraction is set=0.49552231531806873, colsample_bytree=1.0 will be ignored. Current value: feature_fraction=0.49552231531806873\n",
      "[LightGBM] [Warning] lambda_l1 is set=4.435659045166452e-08, reg_alpha=0.0 will be ignored. Current value: lambda_l1=4.435659045166452e-08\n",
      "[LightGBM] [Warning] bagging_fraction is set=0.5401725479896327, subsample=1.0 will be ignored. Current value: bagging_fraction=0.5401725479896327\n",
      "[LightGBM] [Warning] lambda_l2 is set=0.0037622872986198997, reg_lambda=0.0 will be ignored. Current value: lambda_l2=0.0037622872986198997\n",
      "[LightGBM] [Warning] bagging_freq is set=2, subsample_freq=0 will be ignored. Current value: bagging_freq=2\n"
     ]
    },
    {
     "name": "stderr",
     "output_type": "stream",
     "text": [
      "/var/folders/qb/s5vw4nk95r53s007_f3ty08m0000gn/T/ipykernel_15260/2951571227.py:8: FutureWarning: suggest_loguniform has been deprecated in v3.0.0. This feature will be removed in v6.0.0. See https://github.com/optuna/optuna/releases/tag/v3.0.0. Use :func:`~optuna.trial.Trial.suggest_float` instead.\n",
      "  'lambda_l1': trial.suggest_loguniform('lambda_l1', 1e-8, 10.0),\n",
      "/var/folders/qb/s5vw4nk95r53s007_f3ty08m0000gn/T/ipykernel_15260/2951571227.py:9: FutureWarning: suggest_loguniform has been deprecated in v3.0.0. This feature will be removed in v6.0.0. See https://github.com/optuna/optuna/releases/tag/v3.0.0. Use :func:`~optuna.trial.Trial.suggest_float` instead.\n",
      "  'lambda_l2': trial.suggest_loguniform('lambda_l2', 1e-8, 10.0),\n",
      "/var/folders/qb/s5vw4nk95r53s007_f3ty08m0000gn/T/ipykernel_15260/2951571227.py:11: FutureWarning: suggest_uniform has been deprecated in v3.0.0. This feature will be removed in v6.0.0. See https://github.com/optuna/optuna/releases/tag/v3.0.0. Use :func:`~optuna.trial.Trial.suggest_float` instead.\n",
      "  'feature_fraction': trial.suggest_uniform('feature_fraction', 0.4, 1.0),\n",
      "/var/folders/qb/s5vw4nk95r53s007_f3ty08m0000gn/T/ipykernel_15260/2951571227.py:12: FutureWarning: suggest_uniform has been deprecated in v3.0.0. This feature will be removed in v6.0.0. See https://github.com/optuna/optuna/releases/tag/v3.0.0. Use :func:`~optuna.trial.Trial.suggest_float` instead.\n",
      "  'bagging_fraction': trial.suggest_uniform('bagging_fraction', 0.4, 1.0),\n",
      "/Users/youngseoklee/opt/anaconda3/envs/ai/lib/python3.10/site-packages/lightgbm/sklearn.py:726: UserWarning: 'early_stopping_rounds' argument is deprecated and will be removed in a future release of LightGBM. Pass 'early_stopping()' callback via 'callbacks' argument instead.\n",
      "  _log_warning(\"'early_stopping_rounds' argument is deprecated and will be removed in a future release of LightGBM. \"\n",
      "/Users/youngseoklee/opt/anaconda3/envs/ai/lib/python3.10/site-packages/lightgbm/sklearn.py:736: UserWarning: 'verbose' argument is deprecated and will be removed in a future release of LightGBM. Pass 'log_evaluation()' callback via 'callbacks' argument instead.\n",
      "  _log_warning(\"'verbose' argument is deprecated and will be removed in a future release of LightGBM. \"\n",
      "\u001b[32m[I 2023-08-01 00:05:01,400]\u001b[0m Trial 84 finished with value: 368523598488520.7 and parameters: {'lambda_l1': 4.435659045166452e-08, 'lambda_l2': 0.0037622872986198997, 'num_leaves': 22, 'feature_fraction': 0.49552231531806873, 'bagging_fraction': 0.5401725479896327, 'bagging_freq': 2, 'min_child_samples': 100}. Best is trial 49 with value: 265579173796455.3.\u001b[0m\n"
     ]
    },
    {
     "name": "stdout",
     "output_type": "stream",
     "text": [
      "368523598488520.7\n",
      "[LightGBM] [Warning] feature_fraction is set=0.4697377363309037, colsample_bytree=1.0 will be ignored. Current value: feature_fraction=0.4697377363309037\n",
      "[LightGBM] [Warning] lambda_l1 is set=1.553398343134637e-08, reg_alpha=0.0 will be ignored. Current value: lambda_l1=1.553398343134637e-08\n",
      "[LightGBM] [Warning] bagging_fraction is set=0.6800076813075945, subsample=1.0 will be ignored. Current value: bagging_fraction=0.6800076813075945\n",
      "[LightGBM] [Warning] lambda_l2 is set=6.505136887811104e-05, reg_lambda=0.0 will be ignored. Current value: lambda_l2=6.505136887811104e-05\n",
      "[LightGBM] [Warning] bagging_freq is set=3, subsample_freq=0 will be ignored. Current value: bagging_freq=3\n"
     ]
    },
    {
     "name": "stderr",
     "output_type": "stream",
     "text": [
      "/var/folders/qb/s5vw4nk95r53s007_f3ty08m0000gn/T/ipykernel_15260/2951571227.py:8: FutureWarning: suggest_loguniform has been deprecated in v3.0.0. This feature will be removed in v6.0.0. See https://github.com/optuna/optuna/releases/tag/v3.0.0. Use :func:`~optuna.trial.Trial.suggest_float` instead.\n",
      "  'lambda_l1': trial.suggest_loguniform('lambda_l1', 1e-8, 10.0),\n",
      "/var/folders/qb/s5vw4nk95r53s007_f3ty08m0000gn/T/ipykernel_15260/2951571227.py:9: FutureWarning: suggest_loguniform has been deprecated in v3.0.0. This feature will be removed in v6.0.0. See https://github.com/optuna/optuna/releases/tag/v3.0.0. Use :func:`~optuna.trial.Trial.suggest_float` instead.\n",
      "  'lambda_l2': trial.suggest_loguniform('lambda_l2', 1e-8, 10.0),\n",
      "/var/folders/qb/s5vw4nk95r53s007_f3ty08m0000gn/T/ipykernel_15260/2951571227.py:11: FutureWarning: suggest_uniform has been deprecated in v3.0.0. This feature will be removed in v6.0.0. See https://github.com/optuna/optuna/releases/tag/v3.0.0. Use :func:`~optuna.trial.Trial.suggest_float` instead.\n",
      "  'feature_fraction': trial.suggest_uniform('feature_fraction', 0.4, 1.0),\n",
      "/var/folders/qb/s5vw4nk95r53s007_f3ty08m0000gn/T/ipykernel_15260/2951571227.py:12: FutureWarning: suggest_uniform has been deprecated in v3.0.0. This feature will be removed in v6.0.0. See https://github.com/optuna/optuna/releases/tag/v3.0.0. Use :func:`~optuna.trial.Trial.suggest_float` instead.\n",
      "  'bagging_fraction': trial.suggest_uniform('bagging_fraction', 0.4, 1.0),\n",
      "/Users/youngseoklee/opt/anaconda3/envs/ai/lib/python3.10/site-packages/lightgbm/sklearn.py:726: UserWarning: 'early_stopping_rounds' argument is deprecated and will be removed in a future release of LightGBM. Pass 'early_stopping()' callback via 'callbacks' argument instead.\n",
      "  _log_warning(\"'early_stopping_rounds' argument is deprecated and will be removed in a future release of LightGBM. \"\n",
      "/Users/youngseoklee/opt/anaconda3/envs/ai/lib/python3.10/site-packages/lightgbm/sklearn.py:736: UserWarning: 'verbose' argument is deprecated and will be removed in a future release of LightGBM. Pass 'log_evaluation()' callback via 'callbacks' argument instead.\n",
      "  _log_warning(\"'verbose' argument is deprecated and will be removed in a future release of LightGBM. \"\n",
      "\u001b[32m[I 2023-08-01 00:05:01,872]\u001b[0m Trial 85 finished with value: 309577555061193.1 and parameters: {'lambda_l1': 1.553398343134637e-08, 'lambda_l2': 6.505136887811104e-05, 'num_leaves': 8, 'feature_fraction': 0.4697377363309037, 'bagging_fraction': 0.6800076813075945, 'bagging_freq': 3, 'min_child_samples': 95}. Best is trial 49 with value: 265579173796455.3.\u001b[0m\n"
     ]
    },
    {
     "name": "stdout",
     "output_type": "stream",
     "text": [
      "309577555061193.1\n",
      "[LightGBM] [Warning] feature_fraction is set=0.41318567591583083, colsample_bytree=1.0 will be ignored. Current value: feature_fraction=0.41318567591583083\n",
      "[LightGBM] [Warning] lambda_l1 is set=2.341176603433564e-08, reg_alpha=0.0 will be ignored. Current value: lambda_l1=2.341176603433564e-08\n",
      "[LightGBM] [Warning] bagging_fraction is set=0.6296240309325083, subsample=1.0 will be ignored. Current value: bagging_fraction=0.6296240309325083\n",
      "[LightGBM] [Warning] lambda_l2 is set=0.00015078067681777987, reg_lambda=0.0 will be ignored. Current value: lambda_l2=0.00015078067681777987\n",
      "[LightGBM] [Warning] bagging_freq is set=1, subsample_freq=0 will be ignored. Current value: bagging_freq=1\n"
     ]
    },
    {
     "name": "stderr",
     "output_type": "stream",
     "text": [
      "/var/folders/qb/s5vw4nk95r53s007_f3ty08m0000gn/T/ipykernel_15260/2951571227.py:8: FutureWarning: suggest_loguniform has been deprecated in v3.0.0. This feature will be removed in v6.0.0. See https://github.com/optuna/optuna/releases/tag/v3.0.0. Use :func:`~optuna.trial.Trial.suggest_float` instead.\n",
      "  'lambda_l1': trial.suggest_loguniform('lambda_l1', 1e-8, 10.0),\n",
      "/var/folders/qb/s5vw4nk95r53s007_f3ty08m0000gn/T/ipykernel_15260/2951571227.py:9: FutureWarning: suggest_loguniform has been deprecated in v3.0.0. This feature will be removed in v6.0.0. See https://github.com/optuna/optuna/releases/tag/v3.0.0. Use :func:`~optuna.trial.Trial.suggest_float` instead.\n",
      "  'lambda_l2': trial.suggest_loguniform('lambda_l2', 1e-8, 10.0),\n",
      "/var/folders/qb/s5vw4nk95r53s007_f3ty08m0000gn/T/ipykernel_15260/2951571227.py:11: FutureWarning: suggest_uniform has been deprecated in v3.0.0. This feature will be removed in v6.0.0. See https://github.com/optuna/optuna/releases/tag/v3.0.0. Use :func:`~optuna.trial.Trial.suggest_float` instead.\n",
      "  'feature_fraction': trial.suggest_uniform('feature_fraction', 0.4, 1.0),\n",
      "/var/folders/qb/s5vw4nk95r53s007_f3ty08m0000gn/T/ipykernel_15260/2951571227.py:12: FutureWarning: suggest_uniform has been deprecated in v3.0.0. This feature will be removed in v6.0.0. See https://github.com/optuna/optuna/releases/tag/v3.0.0. Use :func:`~optuna.trial.Trial.suggest_float` instead.\n",
      "  'bagging_fraction': trial.suggest_uniform('bagging_fraction', 0.4, 1.0),\n",
      "/Users/youngseoklee/opt/anaconda3/envs/ai/lib/python3.10/site-packages/lightgbm/sklearn.py:726: UserWarning: 'early_stopping_rounds' argument is deprecated and will be removed in a future release of LightGBM. Pass 'early_stopping()' callback via 'callbacks' argument instead.\n",
      "  _log_warning(\"'early_stopping_rounds' argument is deprecated and will be removed in a future release of LightGBM. \"\n",
      "/Users/youngseoklee/opt/anaconda3/envs/ai/lib/python3.10/site-packages/lightgbm/sklearn.py:736: UserWarning: 'verbose' argument is deprecated and will be removed in a future release of LightGBM. Pass 'log_evaluation()' callback via 'callbacks' argument instead.\n",
      "  _log_warning(\"'verbose' argument is deprecated and will be removed in a future release of LightGBM. \"\n",
      "\u001b[32m[I 2023-08-01 00:05:02,680]\u001b[0m Trial 86 finished with value: 403538558254389.56 and parameters: {'lambda_l1': 2.341176603433564e-08, 'lambda_l2': 0.00015078067681777987, 'num_leaves': 27, 'feature_fraction': 0.41318567591583083, 'bagging_fraction': 0.6296240309325083, 'bagging_freq': 1, 'min_child_samples': 88}. Best is trial 49 with value: 265579173796455.3.\u001b[0m\n"
     ]
    },
    {
     "name": "stdout",
     "output_type": "stream",
     "text": [
      "403538558254389.56\n",
      "[LightGBM] [Warning] feature_fraction is set=0.4017155734488127, colsample_bytree=1.0 will be ignored. Current value: feature_fraction=0.4017155734488127\n",
      "[LightGBM] [Warning] lambda_l1 is set=1.0799341437906319e-07, reg_alpha=0.0 will be ignored. Current value: lambda_l1=1.0799341437906319e-07\n",
      "[LightGBM] [Warning] bagging_fraction is set=0.5871125400809637, subsample=1.0 will be ignored. Current value: bagging_fraction=0.5871125400809637\n",
      "[LightGBM] [Warning] lambda_l2 is set=0.0006228764330300054, reg_lambda=0.0 will be ignored. Current value: lambda_l2=0.0006228764330300054\n",
      "[LightGBM] [Warning] bagging_freq is set=1, subsample_freq=0 will be ignored. Current value: bagging_freq=1\n"
     ]
    },
    {
     "name": "stderr",
     "output_type": "stream",
     "text": [
      "/var/folders/qb/s5vw4nk95r53s007_f3ty08m0000gn/T/ipykernel_15260/2951571227.py:8: FutureWarning: suggest_loguniform has been deprecated in v3.0.0. This feature will be removed in v6.0.0. See https://github.com/optuna/optuna/releases/tag/v3.0.0. Use :func:`~optuna.trial.Trial.suggest_float` instead.\n",
      "  'lambda_l1': trial.suggest_loguniform('lambda_l1', 1e-8, 10.0),\n",
      "/var/folders/qb/s5vw4nk95r53s007_f3ty08m0000gn/T/ipykernel_15260/2951571227.py:9: FutureWarning: suggest_loguniform has been deprecated in v3.0.0. This feature will be removed in v6.0.0. See https://github.com/optuna/optuna/releases/tag/v3.0.0. Use :func:`~optuna.trial.Trial.suggest_float` instead.\n",
      "  'lambda_l2': trial.suggest_loguniform('lambda_l2', 1e-8, 10.0),\n",
      "/var/folders/qb/s5vw4nk95r53s007_f3ty08m0000gn/T/ipykernel_15260/2951571227.py:11: FutureWarning: suggest_uniform has been deprecated in v3.0.0. This feature will be removed in v6.0.0. See https://github.com/optuna/optuna/releases/tag/v3.0.0. Use :func:`~optuna.trial.Trial.suggest_float` instead.\n",
      "  'feature_fraction': trial.suggest_uniform('feature_fraction', 0.4, 1.0),\n",
      "/var/folders/qb/s5vw4nk95r53s007_f3ty08m0000gn/T/ipykernel_15260/2951571227.py:12: FutureWarning: suggest_uniform has been deprecated in v3.0.0. This feature will be removed in v6.0.0. See https://github.com/optuna/optuna/releases/tag/v3.0.0. Use :func:`~optuna.trial.Trial.suggest_float` instead.\n",
      "  'bagging_fraction': trial.suggest_uniform('bagging_fraction', 0.4, 1.0),\n",
      "/Users/youngseoklee/opt/anaconda3/envs/ai/lib/python3.10/site-packages/lightgbm/sklearn.py:726: UserWarning: 'early_stopping_rounds' argument is deprecated and will be removed in a future release of LightGBM. Pass 'early_stopping()' callback via 'callbacks' argument instead.\n",
      "  _log_warning(\"'early_stopping_rounds' argument is deprecated and will be removed in a future release of LightGBM. \"\n",
      "/Users/youngseoklee/opt/anaconda3/envs/ai/lib/python3.10/site-packages/lightgbm/sklearn.py:736: UserWarning: 'verbose' argument is deprecated and will be removed in a future release of LightGBM. Pass 'log_evaluation()' callback via 'callbacks' argument instead.\n",
      "  _log_warning(\"'verbose' argument is deprecated and will be removed in a future release of LightGBM. \"\n",
      "\u001b[32m[I 2023-08-01 00:05:04,897]\u001b[0m Trial 87 finished with value: 382159639063397.7 and parameters: {'lambda_l1': 1.0799341437906319e-07, 'lambda_l2': 0.0006228764330300054, 'num_leaves': 127, 'feature_fraction': 0.4017155734488127, 'bagging_fraction': 0.5871125400809637, 'bagging_freq': 1, 'min_child_samples': 98}. Best is trial 49 with value: 265579173796455.3.\u001b[0m\n"
     ]
    },
    {
     "name": "stdout",
     "output_type": "stream",
     "text": [
      "382159639063397.7\n",
      "[LightGBM] [Warning] feature_fraction is set=0.44762859294634716, colsample_bytree=1.0 will be ignored. Current value: feature_fraction=0.44762859294634716\n",
      "[LightGBM] [Warning] lambda_l1 is set=3.0370328178844997e-07, reg_alpha=0.0 will be ignored. Current value: lambda_l1=3.0370328178844997e-07\n",
      "[LightGBM] [Warning] bagging_fraction is set=0.5577555938677998, subsample=1.0 will be ignored. Current value: bagging_fraction=0.5577555938677998\n",
      "[LightGBM] [Warning] lambda_l2 is set=3.777908286878863e-05, reg_lambda=0.0 will be ignored. Current value: lambda_l2=3.777908286878863e-05\n",
      "[LightGBM] [Warning] bagging_freq is set=1, subsample_freq=0 will be ignored. Current value: bagging_freq=1\n"
     ]
    },
    {
     "name": "stderr",
     "output_type": "stream",
     "text": [
      "/var/folders/qb/s5vw4nk95r53s007_f3ty08m0000gn/T/ipykernel_15260/2951571227.py:8: FutureWarning: suggest_loguniform has been deprecated in v3.0.0. This feature will be removed in v6.0.0. See https://github.com/optuna/optuna/releases/tag/v3.0.0. Use :func:`~optuna.trial.Trial.suggest_float` instead.\n",
      "  'lambda_l1': trial.suggest_loguniform('lambda_l1', 1e-8, 10.0),\n",
      "/var/folders/qb/s5vw4nk95r53s007_f3ty08m0000gn/T/ipykernel_15260/2951571227.py:9: FutureWarning: suggest_loguniform has been deprecated in v3.0.0. This feature will be removed in v6.0.0. See https://github.com/optuna/optuna/releases/tag/v3.0.0. Use :func:`~optuna.trial.Trial.suggest_float` instead.\n",
      "  'lambda_l2': trial.suggest_loguniform('lambda_l2', 1e-8, 10.0),\n",
      "/var/folders/qb/s5vw4nk95r53s007_f3ty08m0000gn/T/ipykernel_15260/2951571227.py:11: FutureWarning: suggest_uniform has been deprecated in v3.0.0. This feature will be removed in v6.0.0. See https://github.com/optuna/optuna/releases/tag/v3.0.0. Use :func:`~optuna.trial.Trial.suggest_float` instead.\n",
      "  'feature_fraction': trial.suggest_uniform('feature_fraction', 0.4, 1.0),\n",
      "/var/folders/qb/s5vw4nk95r53s007_f3ty08m0000gn/T/ipykernel_15260/2951571227.py:12: FutureWarning: suggest_uniform has been deprecated in v3.0.0. This feature will be removed in v6.0.0. See https://github.com/optuna/optuna/releases/tag/v3.0.0. Use :func:`~optuna.trial.Trial.suggest_float` instead.\n",
      "  'bagging_fraction': trial.suggest_uniform('bagging_fraction', 0.4, 1.0),\n",
      "/Users/youngseoklee/opt/anaconda3/envs/ai/lib/python3.10/site-packages/lightgbm/sklearn.py:726: UserWarning: 'early_stopping_rounds' argument is deprecated and will be removed in a future release of LightGBM. Pass 'early_stopping()' callback via 'callbacks' argument instead.\n",
      "  _log_warning(\"'early_stopping_rounds' argument is deprecated and will be removed in a future release of LightGBM. \"\n",
      "/Users/youngseoklee/opt/anaconda3/envs/ai/lib/python3.10/site-packages/lightgbm/sklearn.py:736: UserWarning: 'verbose' argument is deprecated and will be removed in a future release of LightGBM. Pass 'log_evaluation()' callback via 'callbacks' argument instead.\n",
      "  _log_warning(\"'verbose' argument is deprecated and will be removed in a future release of LightGBM. \"\n",
      "\u001b[32m[I 2023-08-01 00:05:05,496]\u001b[0m Trial 88 finished with value: 305874980340210.75 and parameters: {'lambda_l1': 3.0370328178844997e-07, 'lambda_l2': 3.777908286878863e-05, 'num_leaves': 16, 'feature_fraction': 0.44762859294634716, 'bagging_fraction': 0.5577555938677998, 'bagging_freq': 1, 'min_child_samples': 78}. Best is trial 49 with value: 265579173796455.3.\u001b[0m\n"
     ]
    },
    {
     "name": "stdout",
     "output_type": "stream",
     "text": [
      "305874980340210.75\n",
      "[LightGBM] [Warning] feature_fraction is set=0.4765779646092159, colsample_bytree=1.0 will be ignored. Current value: feature_fraction=0.4765779646092159\n",
      "[LightGBM] [Warning] lambda_l1 is set=5.4904574322553764e-08, reg_alpha=0.0 will be ignored. Current value: lambda_l1=5.4904574322553764e-08\n",
      "[LightGBM] [Warning] bagging_fraction is set=0.6055748323835225, subsample=1.0 will be ignored. Current value: bagging_fraction=0.6055748323835225\n",
      "[LightGBM] [Warning] lambda_l2 is set=0.001235257497760586, reg_lambda=0.0 will be ignored. Current value: lambda_l2=0.001235257497760586\n",
      "[LightGBM] [Warning] bagging_freq is set=2, subsample_freq=0 will be ignored. Current value: bagging_freq=2\n"
     ]
    },
    {
     "name": "stderr",
     "output_type": "stream",
     "text": [
      "/var/folders/qb/s5vw4nk95r53s007_f3ty08m0000gn/T/ipykernel_15260/2951571227.py:8: FutureWarning: suggest_loguniform has been deprecated in v3.0.0. This feature will be removed in v6.0.0. See https://github.com/optuna/optuna/releases/tag/v3.0.0. Use :func:`~optuna.trial.Trial.suggest_float` instead.\n",
      "  'lambda_l1': trial.suggest_loguniform('lambda_l1', 1e-8, 10.0),\n",
      "/var/folders/qb/s5vw4nk95r53s007_f3ty08m0000gn/T/ipykernel_15260/2951571227.py:9: FutureWarning: suggest_loguniform has been deprecated in v3.0.0. This feature will be removed in v6.0.0. See https://github.com/optuna/optuna/releases/tag/v3.0.0. Use :func:`~optuna.trial.Trial.suggest_float` instead.\n",
      "  'lambda_l2': trial.suggest_loguniform('lambda_l2', 1e-8, 10.0),\n",
      "/var/folders/qb/s5vw4nk95r53s007_f3ty08m0000gn/T/ipykernel_15260/2951571227.py:11: FutureWarning: suggest_uniform has been deprecated in v3.0.0. This feature will be removed in v6.0.0. See https://github.com/optuna/optuna/releases/tag/v3.0.0. Use :func:`~optuna.trial.Trial.suggest_float` instead.\n",
      "  'feature_fraction': trial.suggest_uniform('feature_fraction', 0.4, 1.0),\n",
      "/var/folders/qb/s5vw4nk95r53s007_f3ty08m0000gn/T/ipykernel_15260/2951571227.py:12: FutureWarning: suggest_uniform has been deprecated in v3.0.0. This feature will be removed in v6.0.0. See https://github.com/optuna/optuna/releases/tag/v3.0.0. Use :func:`~optuna.trial.Trial.suggest_float` instead.\n",
      "  'bagging_fraction': trial.suggest_uniform('bagging_fraction', 0.4, 1.0),\n",
      "/Users/youngseoklee/opt/anaconda3/envs/ai/lib/python3.10/site-packages/lightgbm/sklearn.py:726: UserWarning: 'early_stopping_rounds' argument is deprecated and will be removed in a future release of LightGBM. Pass 'early_stopping()' callback via 'callbacks' argument instead.\n",
      "  _log_warning(\"'early_stopping_rounds' argument is deprecated and will be removed in a future release of LightGBM. \"\n",
      "/Users/youngseoklee/opt/anaconda3/envs/ai/lib/python3.10/site-packages/lightgbm/sklearn.py:736: UserWarning: 'verbose' argument is deprecated and will be removed in a future release of LightGBM. Pass 'log_evaluation()' callback via 'callbacks' argument instead.\n",
      "  _log_warning(\"'verbose' argument is deprecated and will be removed in a future release of LightGBM. \"\n",
      "\u001b[32m[I 2023-08-01 00:05:05,757]\u001b[0m Trial 89 finished with value: 277088834783204.0 and parameters: {'lambda_l1': 5.4904574322553764e-08, 'lambda_l2': 0.001235257497760586, 'num_leaves': 2, 'feature_fraction': 0.4765779646092159, 'bagging_fraction': 0.6055748323835225, 'bagging_freq': 2, 'min_child_samples': 92}. Best is trial 49 with value: 265579173796455.3.\u001b[0m\n"
     ]
    },
    {
     "name": "stdout",
     "output_type": "stream",
     "text": [
      "277088834783204.0\n",
      "[LightGBM] [Warning] feature_fraction is set=0.47601009008968503, colsample_bytree=1.0 will be ignored. Current value: feature_fraction=0.47601009008968503\n",
      "[LightGBM] [Warning] lambda_l1 is set=2.6852729906146733e-08, reg_alpha=0.0 will be ignored. Current value: lambda_l1=2.6852729906146733e-08\n",
      "[LightGBM] [Warning] bagging_fraction is set=0.6082069426981049, subsample=1.0 will be ignored. Current value: bagging_fraction=0.6082069426981049\n",
      "[LightGBM] [Warning] lambda_l2 is set=0.0013458233072478436, reg_lambda=0.0 will be ignored. Current value: lambda_l2=0.0013458233072478436\n",
      "[LightGBM] [Warning] bagging_freq is set=3, subsample_freq=0 will be ignored. Current value: bagging_freq=3\n"
     ]
    },
    {
     "name": "stderr",
     "output_type": "stream",
     "text": [
      "/var/folders/qb/s5vw4nk95r53s007_f3ty08m0000gn/T/ipykernel_15260/2951571227.py:8: FutureWarning: suggest_loguniform has been deprecated in v3.0.0. This feature will be removed in v6.0.0. See https://github.com/optuna/optuna/releases/tag/v3.0.0. Use :func:`~optuna.trial.Trial.suggest_float` instead.\n",
      "  'lambda_l1': trial.suggest_loguniform('lambda_l1', 1e-8, 10.0),\n",
      "/var/folders/qb/s5vw4nk95r53s007_f3ty08m0000gn/T/ipykernel_15260/2951571227.py:9: FutureWarning: suggest_loguniform has been deprecated in v3.0.0. This feature will be removed in v6.0.0. See https://github.com/optuna/optuna/releases/tag/v3.0.0. Use :func:`~optuna.trial.Trial.suggest_float` instead.\n",
      "  'lambda_l2': trial.suggest_loguniform('lambda_l2', 1e-8, 10.0),\n",
      "/var/folders/qb/s5vw4nk95r53s007_f3ty08m0000gn/T/ipykernel_15260/2951571227.py:11: FutureWarning: suggest_uniform has been deprecated in v3.0.0. This feature will be removed in v6.0.0. See https://github.com/optuna/optuna/releases/tag/v3.0.0. Use :func:`~optuna.trial.Trial.suggest_float` instead.\n",
      "  'feature_fraction': trial.suggest_uniform('feature_fraction', 0.4, 1.0),\n",
      "/var/folders/qb/s5vw4nk95r53s007_f3ty08m0000gn/T/ipykernel_15260/2951571227.py:12: FutureWarning: suggest_uniform has been deprecated in v3.0.0. This feature will be removed in v6.0.0. See https://github.com/optuna/optuna/releases/tag/v3.0.0. Use :func:`~optuna.trial.Trial.suggest_float` instead.\n",
      "  'bagging_fraction': trial.suggest_uniform('bagging_fraction', 0.4, 1.0),\n",
      "/Users/youngseoklee/opt/anaconda3/envs/ai/lib/python3.10/site-packages/lightgbm/sklearn.py:726: UserWarning: 'early_stopping_rounds' argument is deprecated and will be removed in a future release of LightGBM. Pass 'early_stopping()' callback via 'callbacks' argument instead.\n",
      "  _log_warning(\"'early_stopping_rounds' argument is deprecated and will be removed in a future release of LightGBM. \"\n",
      "/Users/youngseoklee/opt/anaconda3/envs/ai/lib/python3.10/site-packages/lightgbm/sklearn.py:736: UserWarning: 'verbose' argument is deprecated and will be removed in a future release of LightGBM. Pass 'log_evaluation()' callback via 'callbacks' argument instead.\n",
      "  _log_warning(\"'verbose' argument is deprecated and will be removed in a future release of LightGBM. \"\n",
      "\u001b[32m[I 2023-08-01 00:05:06,256]\u001b[0m Trial 90 finished with value: 330191824855246.8 and parameters: {'lambda_l1': 2.6852729906146733e-08, 'lambda_l2': 0.0013458233072478436, 'num_leaves': 9, 'feature_fraction': 0.47601009008968503, 'bagging_fraction': 0.6082069426981049, 'bagging_freq': 3, 'min_child_samples': 55}. Best is trial 49 with value: 265579173796455.3.\u001b[0m\n"
     ]
    },
    {
     "name": "stdout",
     "output_type": "stream",
     "text": [
      "330191824855246.8\n",
      "[LightGBM] [Warning] feature_fraction is set=0.43375115162999844, colsample_bytree=1.0 will be ignored. Current value: feature_fraction=0.43375115162999844\n",
      "[LightGBM] [Warning] lambda_l1 is set=6.007422796628242e-08, reg_alpha=0.0 will be ignored. Current value: lambda_l1=6.007422796628242e-08\n",
      "[LightGBM] [Warning] bagging_fraction is set=0.6205362597467169, subsample=1.0 will be ignored. Current value: bagging_fraction=0.6205362597467169\n",
      "[LightGBM] [Warning] lambda_l2 is set=0.001802425208728414, reg_lambda=0.0 will be ignored. Current value: lambda_l2=0.001802425208728414\n",
      "[LightGBM] [Warning] bagging_freq is set=2, subsample_freq=0 will be ignored. Current value: bagging_freq=2\n"
     ]
    },
    {
     "name": "stderr",
     "output_type": "stream",
     "text": [
      "/var/folders/qb/s5vw4nk95r53s007_f3ty08m0000gn/T/ipykernel_15260/2951571227.py:8: FutureWarning: suggest_loguniform has been deprecated in v3.0.0. This feature will be removed in v6.0.0. See https://github.com/optuna/optuna/releases/tag/v3.0.0. Use :func:`~optuna.trial.Trial.suggest_float` instead.\n",
      "  'lambda_l1': trial.suggest_loguniform('lambda_l1', 1e-8, 10.0),\n",
      "/var/folders/qb/s5vw4nk95r53s007_f3ty08m0000gn/T/ipykernel_15260/2951571227.py:9: FutureWarning: suggest_loguniform has been deprecated in v3.0.0. This feature will be removed in v6.0.0. See https://github.com/optuna/optuna/releases/tag/v3.0.0. Use :func:`~optuna.trial.Trial.suggest_float` instead.\n",
      "  'lambda_l2': trial.suggest_loguniform('lambda_l2', 1e-8, 10.0),\n",
      "/var/folders/qb/s5vw4nk95r53s007_f3ty08m0000gn/T/ipykernel_15260/2951571227.py:11: FutureWarning: suggest_uniform has been deprecated in v3.0.0. This feature will be removed in v6.0.0. See https://github.com/optuna/optuna/releases/tag/v3.0.0. Use :func:`~optuna.trial.Trial.suggest_float` instead.\n",
      "  'feature_fraction': trial.suggest_uniform('feature_fraction', 0.4, 1.0),\n",
      "/var/folders/qb/s5vw4nk95r53s007_f3ty08m0000gn/T/ipykernel_15260/2951571227.py:12: FutureWarning: suggest_uniform has been deprecated in v3.0.0. This feature will be removed in v6.0.0. See https://github.com/optuna/optuna/releases/tag/v3.0.0. Use :func:`~optuna.trial.Trial.suggest_float` instead.\n",
      "  'bagging_fraction': trial.suggest_uniform('bagging_fraction', 0.4, 1.0),\n",
      "/Users/youngseoklee/opt/anaconda3/envs/ai/lib/python3.10/site-packages/lightgbm/sklearn.py:726: UserWarning: 'early_stopping_rounds' argument is deprecated and will be removed in a future release of LightGBM. Pass 'early_stopping()' callback via 'callbacks' argument instead.\n",
      "  _log_warning(\"'early_stopping_rounds' argument is deprecated and will be removed in a future release of LightGBM. \"\n",
      "/Users/youngseoklee/opt/anaconda3/envs/ai/lib/python3.10/site-packages/lightgbm/sklearn.py:736: UserWarning: 'verbose' argument is deprecated and will be removed in a future release of LightGBM. Pass 'log_evaluation()' callback via 'callbacks' argument instead.\n",
      "  _log_warning(\"'verbose' argument is deprecated and will be removed in a future release of LightGBM. \"\n",
      "\u001b[32m[I 2023-08-01 00:05:06,521]\u001b[0m Trial 91 finished with value: 281090072562239.34 and parameters: {'lambda_l1': 6.007422796628242e-08, 'lambda_l2': 0.001802425208728414, 'num_leaves': 2, 'feature_fraction': 0.43375115162999844, 'bagging_fraction': 0.6205362597467169, 'bagging_freq': 2, 'min_child_samples': 92}. Best is trial 49 with value: 265579173796455.3.\u001b[0m\n"
     ]
    },
    {
     "name": "stdout",
     "output_type": "stream",
     "text": [
      "281090072562239.34\n",
      "[LightGBM] [Warning] feature_fraction is set=0.4546463507929336, colsample_bytree=1.0 will be ignored. Current value: feature_fraction=0.4546463507929336\n",
      "[LightGBM] [Warning] lambda_l1 is set=4.02417500447223e-08, reg_alpha=0.0 will be ignored. Current value: lambda_l1=4.02417500447223e-08\n",
      "[LightGBM] [Warning] bagging_fraction is set=0.6005820621237308, subsample=1.0 will be ignored. Current value: bagging_fraction=0.6005820621237308\n",
      "[LightGBM] [Warning] lambda_l2 is set=0.0004730258806096199, reg_lambda=0.0 will be ignored. Current value: lambda_l2=0.0004730258806096199\n",
      "[LightGBM] [Warning] bagging_freq is set=1, subsample_freq=0 will be ignored. Current value: bagging_freq=1\n"
     ]
    },
    {
     "name": "stderr",
     "output_type": "stream",
     "text": [
      "/var/folders/qb/s5vw4nk95r53s007_f3ty08m0000gn/T/ipykernel_15260/2951571227.py:8: FutureWarning: suggest_loguniform has been deprecated in v3.0.0. This feature will be removed in v6.0.0. See https://github.com/optuna/optuna/releases/tag/v3.0.0. Use :func:`~optuna.trial.Trial.suggest_float` instead.\n",
      "  'lambda_l1': trial.suggest_loguniform('lambda_l1', 1e-8, 10.0),\n",
      "/var/folders/qb/s5vw4nk95r53s007_f3ty08m0000gn/T/ipykernel_15260/2951571227.py:9: FutureWarning: suggest_loguniform has been deprecated in v3.0.0. This feature will be removed in v6.0.0. See https://github.com/optuna/optuna/releases/tag/v3.0.0. Use :func:`~optuna.trial.Trial.suggest_float` instead.\n",
      "  'lambda_l2': trial.suggest_loguniform('lambda_l2', 1e-8, 10.0),\n",
      "/var/folders/qb/s5vw4nk95r53s007_f3ty08m0000gn/T/ipykernel_15260/2951571227.py:11: FutureWarning: suggest_uniform has been deprecated in v3.0.0. This feature will be removed in v6.0.0. See https://github.com/optuna/optuna/releases/tag/v3.0.0. Use :func:`~optuna.trial.Trial.suggest_float` instead.\n",
      "  'feature_fraction': trial.suggest_uniform('feature_fraction', 0.4, 1.0),\n",
      "/var/folders/qb/s5vw4nk95r53s007_f3ty08m0000gn/T/ipykernel_15260/2951571227.py:12: FutureWarning: suggest_uniform has been deprecated in v3.0.0. This feature will be removed in v6.0.0. See https://github.com/optuna/optuna/releases/tag/v3.0.0. Use :func:`~optuna.trial.Trial.suggest_float` instead.\n",
      "  'bagging_fraction': trial.suggest_uniform('bagging_fraction', 0.4, 1.0),\n",
      "/Users/youngseoklee/opt/anaconda3/envs/ai/lib/python3.10/site-packages/lightgbm/sklearn.py:726: UserWarning: 'early_stopping_rounds' argument is deprecated and will be removed in a future release of LightGBM. Pass 'early_stopping()' callback via 'callbacks' argument instead.\n",
      "  _log_warning(\"'early_stopping_rounds' argument is deprecated and will be removed in a future release of LightGBM. \"\n",
      "/Users/youngseoklee/opt/anaconda3/envs/ai/lib/python3.10/site-packages/lightgbm/sklearn.py:736: UserWarning: 'verbose' argument is deprecated and will be removed in a future release of LightGBM. Pass 'log_evaluation()' callback via 'callbacks' argument instead.\n",
      "  _log_warning(\"'verbose' argument is deprecated and will be removed in a future release of LightGBM. \"\n",
      "\u001b[32m[I 2023-08-01 00:05:07,161]\u001b[0m Trial 92 finished with value: 356327204507452.2 and parameters: {'lambda_l1': 4.02417500447223e-08, 'lambda_l2': 0.0004730258806096199, 'num_leaves': 18, 'feature_fraction': 0.4546463507929336, 'bagging_fraction': 0.6005820621237308, 'bagging_freq': 1, 'min_child_samples': 95}. Best is trial 49 with value: 265579173796455.3.\u001b[0m\n"
     ]
    },
    {
     "name": "stdout",
     "output_type": "stream",
     "text": [
      "356327204507452.2\n",
      "[LightGBM] [Warning] feature_fraction is set=0.4257410177229256, colsample_bytree=1.0 will be ignored. Current value: feature_fraction=0.4257410177229256\n",
      "[LightGBM] [Warning] lambda_l1 is set=1.194722377881053e-08, reg_alpha=0.0 will be ignored. Current value: lambda_l1=1.194722377881053e-08\n",
      "[LightGBM] [Warning] bagging_fraction is set=0.5786383854370623, subsample=1.0 will be ignored. Current value: bagging_fraction=0.5786383854370623\n",
      "[LightGBM] [Warning] lambda_l2 is set=0.007782644730992425, reg_lambda=0.0 will be ignored. Current value: lambda_l2=0.007782644730992425\n",
      "[LightGBM] [Warning] bagging_freq is set=2, subsample_freq=0 will be ignored. Current value: bagging_freq=2\n"
     ]
    },
    {
     "name": "stderr",
     "output_type": "stream",
     "text": [
      "/var/folders/qb/s5vw4nk95r53s007_f3ty08m0000gn/T/ipykernel_15260/2951571227.py:8: FutureWarning: suggest_loguniform has been deprecated in v3.0.0. This feature will be removed in v6.0.0. See https://github.com/optuna/optuna/releases/tag/v3.0.0. Use :func:`~optuna.trial.Trial.suggest_float` instead.\n",
      "  'lambda_l1': trial.suggest_loguniform('lambda_l1', 1e-8, 10.0),\n",
      "/var/folders/qb/s5vw4nk95r53s007_f3ty08m0000gn/T/ipykernel_15260/2951571227.py:9: FutureWarning: suggest_loguniform has been deprecated in v3.0.0. This feature will be removed in v6.0.0. See https://github.com/optuna/optuna/releases/tag/v3.0.0. Use :func:`~optuna.trial.Trial.suggest_float` instead.\n",
      "  'lambda_l2': trial.suggest_loguniform('lambda_l2', 1e-8, 10.0),\n",
      "/var/folders/qb/s5vw4nk95r53s007_f3ty08m0000gn/T/ipykernel_15260/2951571227.py:11: FutureWarning: suggest_uniform has been deprecated in v3.0.0. This feature will be removed in v6.0.0. See https://github.com/optuna/optuna/releases/tag/v3.0.0. Use :func:`~optuna.trial.Trial.suggest_float` instead.\n",
      "  'feature_fraction': trial.suggest_uniform('feature_fraction', 0.4, 1.0),\n",
      "/var/folders/qb/s5vw4nk95r53s007_f3ty08m0000gn/T/ipykernel_15260/2951571227.py:12: FutureWarning: suggest_uniform has been deprecated in v3.0.0. This feature will be removed in v6.0.0. See https://github.com/optuna/optuna/releases/tag/v3.0.0. Use :func:`~optuna.trial.Trial.suggest_float` instead.\n",
      "  'bagging_fraction': trial.suggest_uniform('bagging_fraction', 0.4, 1.0),\n",
      "/Users/youngseoklee/opt/anaconda3/envs/ai/lib/python3.10/site-packages/lightgbm/sklearn.py:726: UserWarning: 'early_stopping_rounds' argument is deprecated and will be removed in a future release of LightGBM. Pass 'early_stopping()' callback via 'callbacks' argument instead.\n",
      "  _log_warning(\"'early_stopping_rounds' argument is deprecated and will be removed in a future release of LightGBM. \"\n",
      "/Users/youngseoklee/opt/anaconda3/envs/ai/lib/python3.10/site-packages/lightgbm/sklearn.py:736: UserWarning: 'verbose' argument is deprecated and will be removed in a future release of LightGBM. Pass 'log_evaluation()' callback via 'callbacks' argument instead.\n",
      "  _log_warning(\"'verbose' argument is deprecated and will be removed in a future release of LightGBM. \"\n",
      "\u001b[32m[I 2023-08-01 00:05:07,420]\u001b[0m Trial 93 finished with value: 279039179737351.6 and parameters: {'lambda_l1': 1.194722377881053e-08, 'lambda_l2': 0.007782644730992425, 'num_leaves': 2, 'feature_fraction': 0.4257410177229256, 'bagging_fraction': 0.5786383854370623, 'bagging_freq': 2, 'min_child_samples': 98}. Best is trial 49 with value: 265579173796455.3.\u001b[0m\n"
     ]
    },
    {
     "name": "stdout",
     "output_type": "stream",
     "text": [
      "279039179737351.6\n",
      "[LightGBM] [Warning] feature_fraction is set=0.4159236320250855, colsample_bytree=1.0 will be ignored. Current value: feature_fraction=0.4159236320250855\n",
      "[LightGBM] [Warning] lambda_l1 is set=1.0049546104226446e-08, reg_alpha=0.0 will be ignored. Current value: lambda_l1=1.0049546104226446e-08\n",
      "[LightGBM] [Warning] bagging_fraction is set=0.5762587820249923, subsample=1.0 will be ignored. Current value: bagging_fraction=0.5762587820249923\n",
      "[LightGBM] [Warning] lambda_l2 is set=0.005496509426553489, reg_lambda=0.0 will be ignored. Current value: lambda_l2=0.005496509426553489\n",
      "[LightGBM] [Warning] bagging_freq is set=2, subsample_freq=0 will be ignored. Current value: bagging_freq=2\n"
     ]
    },
    {
     "name": "stderr",
     "output_type": "stream",
     "text": [
      "/var/folders/qb/s5vw4nk95r53s007_f3ty08m0000gn/T/ipykernel_15260/2951571227.py:8: FutureWarning: suggest_loguniform has been deprecated in v3.0.0. This feature will be removed in v6.0.0. See https://github.com/optuna/optuna/releases/tag/v3.0.0. Use :func:`~optuna.trial.Trial.suggest_float` instead.\n",
      "  'lambda_l1': trial.suggest_loguniform('lambda_l1', 1e-8, 10.0),\n",
      "/var/folders/qb/s5vw4nk95r53s007_f3ty08m0000gn/T/ipykernel_15260/2951571227.py:9: FutureWarning: suggest_loguniform has been deprecated in v3.0.0. This feature will be removed in v6.0.0. See https://github.com/optuna/optuna/releases/tag/v3.0.0. Use :func:`~optuna.trial.Trial.suggest_float` instead.\n",
      "  'lambda_l2': trial.suggest_loguniform('lambda_l2', 1e-8, 10.0),\n",
      "/var/folders/qb/s5vw4nk95r53s007_f3ty08m0000gn/T/ipykernel_15260/2951571227.py:11: FutureWarning: suggest_uniform has been deprecated in v3.0.0. This feature will be removed in v6.0.0. See https://github.com/optuna/optuna/releases/tag/v3.0.0. Use :func:`~optuna.trial.Trial.suggest_float` instead.\n",
      "  'feature_fraction': trial.suggest_uniform('feature_fraction', 0.4, 1.0),\n",
      "/var/folders/qb/s5vw4nk95r53s007_f3ty08m0000gn/T/ipykernel_15260/2951571227.py:12: FutureWarning: suggest_uniform has been deprecated in v3.0.0. This feature will be removed in v6.0.0. See https://github.com/optuna/optuna/releases/tag/v3.0.0. Use :func:`~optuna.trial.Trial.suggest_float` instead.\n",
      "  'bagging_fraction': trial.suggest_uniform('bagging_fraction', 0.4, 1.0),\n",
      "/Users/youngseoklee/opt/anaconda3/envs/ai/lib/python3.10/site-packages/lightgbm/sklearn.py:726: UserWarning: 'early_stopping_rounds' argument is deprecated and will be removed in a future release of LightGBM. Pass 'early_stopping()' callback via 'callbacks' argument instead.\n",
      "  _log_warning(\"'early_stopping_rounds' argument is deprecated and will be removed in a future release of LightGBM. \"\n",
      "/Users/youngseoklee/opt/anaconda3/envs/ai/lib/python3.10/site-packages/lightgbm/sklearn.py:736: UserWarning: 'verbose' argument is deprecated and will be removed in a future release of LightGBM. Pass 'log_evaluation()' callback via 'callbacks' argument instead.\n",
      "  _log_warning(\"'verbose' argument is deprecated and will be removed in a future release of LightGBM. \"\n",
      "\u001b[32m[I 2023-08-01 00:05:08,015]\u001b[0m Trial 94 finished with value: 336018899999360.44 and parameters: {'lambda_l1': 1.0049546104226446e-08, 'lambda_l2': 0.005496509426553489, 'num_leaves': 12, 'feature_fraction': 0.4159236320250855, 'bagging_fraction': 0.5762587820249923, 'bagging_freq': 2, 'min_child_samples': 98}. Best is trial 49 with value: 265579173796455.3.\u001b[0m\n"
     ]
    },
    {
     "name": "stdout",
     "output_type": "stream",
     "text": [
      "336018899999360.44\n",
      "[LightGBM] [Warning] feature_fraction is set=0.5069550697344579, colsample_bytree=1.0 will be ignored. Current value: feature_fraction=0.5069550697344579\n",
      "[LightGBM] [Warning] lambda_l1 is set=2.84494548395849e-08, reg_alpha=0.0 will be ignored. Current value: lambda_l1=2.84494548395849e-08\n",
      "[LightGBM] [Warning] bagging_fraction is set=0.5593784497232974, subsample=1.0 will be ignored. Current value: bagging_fraction=0.5593784497232974\n",
      "[LightGBM] [Warning] lambda_l2 is set=0.00789915255115724, reg_lambda=0.0 will be ignored. Current value: lambda_l2=0.00789915255115724\n",
      "[LightGBM] [Warning] bagging_freq is set=3, subsample_freq=0 will be ignored. Current value: bagging_freq=3\n"
     ]
    },
    {
     "name": "stderr",
     "output_type": "stream",
     "text": [
      "/var/folders/qb/s5vw4nk95r53s007_f3ty08m0000gn/T/ipykernel_15260/2951571227.py:8: FutureWarning: suggest_loguniform has been deprecated in v3.0.0. This feature will be removed in v6.0.0. See https://github.com/optuna/optuna/releases/tag/v3.0.0. Use :func:`~optuna.trial.Trial.suggest_float` instead.\n",
      "  'lambda_l1': trial.suggest_loguniform('lambda_l1', 1e-8, 10.0),\n",
      "/var/folders/qb/s5vw4nk95r53s007_f3ty08m0000gn/T/ipykernel_15260/2951571227.py:9: FutureWarning: suggest_loguniform has been deprecated in v3.0.0. This feature will be removed in v6.0.0. See https://github.com/optuna/optuna/releases/tag/v3.0.0. Use :func:`~optuna.trial.Trial.suggest_float` instead.\n",
      "  'lambda_l2': trial.suggest_loguniform('lambda_l2', 1e-8, 10.0),\n",
      "/var/folders/qb/s5vw4nk95r53s007_f3ty08m0000gn/T/ipykernel_15260/2951571227.py:11: FutureWarning: suggest_uniform has been deprecated in v3.0.0. This feature will be removed in v6.0.0. See https://github.com/optuna/optuna/releases/tag/v3.0.0. Use :func:`~optuna.trial.Trial.suggest_float` instead.\n",
      "  'feature_fraction': trial.suggest_uniform('feature_fraction', 0.4, 1.0),\n",
      "/var/folders/qb/s5vw4nk95r53s007_f3ty08m0000gn/T/ipykernel_15260/2951571227.py:12: FutureWarning: suggest_uniform has been deprecated in v3.0.0. This feature will be removed in v6.0.0. See https://github.com/optuna/optuna/releases/tag/v3.0.0. Use :func:`~optuna.trial.Trial.suggest_float` instead.\n",
      "  'bagging_fraction': trial.suggest_uniform('bagging_fraction', 0.4, 1.0),\n",
      "/Users/youngseoklee/opt/anaconda3/envs/ai/lib/python3.10/site-packages/lightgbm/sklearn.py:726: UserWarning: 'early_stopping_rounds' argument is deprecated and will be removed in a future release of LightGBM. Pass 'early_stopping()' callback via 'callbacks' argument instead.\n",
      "  _log_warning(\"'early_stopping_rounds' argument is deprecated and will be removed in a future release of LightGBM. \"\n",
      "/Users/youngseoklee/opt/anaconda3/envs/ai/lib/python3.10/site-packages/lightgbm/sklearn.py:736: UserWarning: 'verbose' argument is deprecated and will be removed in a future release of LightGBM. Pass 'log_evaluation()' callback via 'callbacks' argument instead.\n",
      "  _log_warning(\"'verbose' argument is deprecated and will be removed in a future release of LightGBM. \"\n",
      "\u001b[32m[I 2023-08-01 00:05:08,831]\u001b[0m Trial 95 finished with value: 363779187217792.56 and parameters: {'lambda_l1': 2.84494548395849e-08, 'lambda_l2': 0.00789915255115724, 'num_leaves': 24, 'feature_fraction': 0.5069550697344579, 'bagging_fraction': 0.5593784497232974, 'bagging_freq': 3, 'min_child_samples': 47}. Best is trial 49 with value: 265579173796455.3.\u001b[0m\n"
     ]
    },
    {
     "name": "stdout",
     "output_type": "stream",
     "text": [
      "363779187217792.56\n",
      "[LightGBM] [Warning] feature_fraction is set=0.4261819955024172, colsample_bytree=1.0 will be ignored. Current value: feature_fraction=0.4261819955024172\n",
      "[LightGBM] [Warning] lambda_l1 is set=1.3619468560259146e-08, reg_alpha=0.0 will be ignored. Current value: lambda_l1=1.3619468560259146e-08\n",
      "[LightGBM] [Warning] bagging_fraction is set=0.5175832197482733, subsample=1.0 will be ignored. Current value: bagging_fraction=0.5175832197482733\n",
      "[LightGBM] [Warning] lambda_l2 is set=0.0027747953008676472, reg_lambda=0.0 will be ignored. Current value: lambda_l2=0.0027747953008676472\n",
      "[LightGBM] [Warning] bagging_freq is set=3, subsample_freq=0 will be ignored. Current value: bagging_freq=3\n"
     ]
    },
    {
     "name": "stderr",
     "output_type": "stream",
     "text": [
      "/var/folders/qb/s5vw4nk95r53s007_f3ty08m0000gn/T/ipykernel_15260/2951571227.py:8: FutureWarning: suggest_loguniform has been deprecated in v3.0.0. This feature will be removed in v6.0.0. See https://github.com/optuna/optuna/releases/tag/v3.0.0. Use :func:`~optuna.trial.Trial.suggest_float` instead.\n",
      "  'lambda_l1': trial.suggest_loguniform('lambda_l1', 1e-8, 10.0),\n",
      "/var/folders/qb/s5vw4nk95r53s007_f3ty08m0000gn/T/ipykernel_15260/2951571227.py:9: FutureWarning: suggest_loguniform has been deprecated in v3.0.0. This feature will be removed in v6.0.0. See https://github.com/optuna/optuna/releases/tag/v3.0.0. Use :func:`~optuna.trial.Trial.suggest_float` instead.\n",
      "  'lambda_l2': trial.suggest_loguniform('lambda_l2', 1e-8, 10.0),\n",
      "/var/folders/qb/s5vw4nk95r53s007_f3ty08m0000gn/T/ipykernel_15260/2951571227.py:11: FutureWarning: suggest_uniform has been deprecated in v3.0.0. This feature will be removed in v6.0.0. See https://github.com/optuna/optuna/releases/tag/v3.0.0. Use :func:`~optuna.trial.Trial.suggest_float` instead.\n",
      "  'feature_fraction': trial.suggest_uniform('feature_fraction', 0.4, 1.0),\n",
      "/var/folders/qb/s5vw4nk95r53s007_f3ty08m0000gn/T/ipykernel_15260/2951571227.py:12: FutureWarning: suggest_uniform has been deprecated in v3.0.0. This feature will be removed in v6.0.0. See https://github.com/optuna/optuna/releases/tag/v3.0.0. Use :func:`~optuna.trial.Trial.suggest_float` instead.\n",
      "  'bagging_fraction': trial.suggest_uniform('bagging_fraction', 0.4, 1.0),\n",
      "/Users/youngseoklee/opt/anaconda3/envs/ai/lib/python3.10/site-packages/lightgbm/sklearn.py:726: UserWarning: 'early_stopping_rounds' argument is deprecated and will be removed in a future release of LightGBM. Pass 'early_stopping()' callback via 'callbacks' argument instead.\n",
      "  _log_warning(\"'early_stopping_rounds' argument is deprecated and will be removed in a future release of LightGBM. \"\n",
      "/Users/youngseoklee/opt/anaconda3/envs/ai/lib/python3.10/site-packages/lightgbm/sklearn.py:736: UserWarning: 'verbose' argument is deprecated and will be removed in a future release of LightGBM. Pass 'log_evaluation()' callback via 'callbacks' argument instead.\n",
      "  _log_warning(\"'verbose' argument is deprecated and will be removed in a future release of LightGBM. \"\n",
      "\u001b[32m[I 2023-08-01 00:05:09,799]\u001b[0m Trial 96 finished with value: 378069573694283.4 and parameters: {'lambda_l1': 1.3619468560259146e-08, 'lambda_l2': 0.0027747953008676472, 'num_leaves': 33, 'feature_fraction': 0.4261819955024172, 'bagging_fraction': 0.5175832197482733, 'bagging_freq': 3, 'min_child_samples': 97}. Best is trial 49 with value: 265579173796455.3.\u001b[0m\n"
     ]
    },
    {
     "name": "stdout",
     "output_type": "stream",
     "text": [
      "378069573694283.4\n",
      "[LightGBM] [Warning] feature_fraction is set=0.4772938267207151, colsample_bytree=1.0 will be ignored. Current value: feature_fraction=0.4772938267207151\n",
      "[LightGBM] [Warning] lambda_l1 is set=1.750990238851907e-07, reg_alpha=0.0 will be ignored. Current value: lambda_l1=1.750990238851907e-07\n",
      "[LightGBM] [Warning] bagging_fraction is set=0.578690782687308, subsample=1.0 will be ignored. Current value: bagging_fraction=0.578690782687308\n",
      "[LightGBM] [Warning] lambda_l2 is set=0.0038582821736008245, reg_lambda=0.0 will be ignored. Current value: lambda_l2=0.0038582821736008245\n",
      "[LightGBM] [Warning] bagging_freq is set=2, subsample_freq=0 will be ignored. Current value: bagging_freq=2\n"
     ]
    },
    {
     "name": "stderr",
     "output_type": "stream",
     "text": [
      "/var/folders/qb/s5vw4nk95r53s007_f3ty08m0000gn/T/ipykernel_15260/2951571227.py:8: FutureWarning: suggest_loguniform has been deprecated in v3.0.0. This feature will be removed in v6.0.0. See https://github.com/optuna/optuna/releases/tag/v3.0.0. Use :func:`~optuna.trial.Trial.suggest_float` instead.\n",
      "  'lambda_l1': trial.suggest_loguniform('lambda_l1', 1e-8, 10.0),\n",
      "/var/folders/qb/s5vw4nk95r53s007_f3ty08m0000gn/T/ipykernel_15260/2951571227.py:9: FutureWarning: suggest_loguniform has been deprecated in v3.0.0. This feature will be removed in v6.0.0. See https://github.com/optuna/optuna/releases/tag/v3.0.0. Use :func:`~optuna.trial.Trial.suggest_float` instead.\n",
      "  'lambda_l2': trial.suggest_loguniform('lambda_l2', 1e-8, 10.0),\n",
      "/var/folders/qb/s5vw4nk95r53s007_f3ty08m0000gn/T/ipykernel_15260/2951571227.py:11: FutureWarning: suggest_uniform has been deprecated in v3.0.0. This feature will be removed in v6.0.0. See https://github.com/optuna/optuna/releases/tag/v3.0.0. Use :func:`~optuna.trial.Trial.suggest_float` instead.\n",
      "  'feature_fraction': trial.suggest_uniform('feature_fraction', 0.4, 1.0),\n",
      "/var/folders/qb/s5vw4nk95r53s007_f3ty08m0000gn/T/ipykernel_15260/2951571227.py:12: FutureWarning: suggest_uniform has been deprecated in v3.0.0. This feature will be removed in v6.0.0. See https://github.com/optuna/optuna/releases/tag/v3.0.0. Use :func:`~optuna.trial.Trial.suggest_float` instead.\n",
      "  'bagging_fraction': trial.suggest_uniform('bagging_fraction', 0.4, 1.0),\n",
      "/Users/youngseoklee/opt/anaconda3/envs/ai/lib/python3.10/site-packages/lightgbm/sklearn.py:726: UserWarning: 'early_stopping_rounds' argument is deprecated and will be removed in a future release of LightGBM. Pass 'early_stopping()' callback via 'callbacks' argument instead.\n",
      "  _log_warning(\"'early_stopping_rounds' argument is deprecated and will be removed in a future release of LightGBM. \"\n",
      "/Users/youngseoklee/opt/anaconda3/envs/ai/lib/python3.10/site-packages/lightgbm/sklearn.py:736: UserWarning: 'verbose' argument is deprecated and will be removed in a future release of LightGBM. Pass 'log_evaluation()' callback via 'callbacks' argument instead.\n",
      "  _log_warning(\"'verbose' argument is deprecated and will be removed in a future release of LightGBM. \"\n",
      "\u001b[32m[I 2023-08-01 00:05:10,308]\u001b[0m Trial 97 finished with value: 322568746150994.1 and parameters: {'lambda_l1': 1.750990238851907e-07, 'lambda_l2': 0.0038582821736008245, 'num_leaves': 9, 'feature_fraction': 0.4772938267207151, 'bagging_fraction': 0.578690782687308, 'bagging_freq': 2, 'min_child_samples': 84}. Best is trial 49 with value: 265579173796455.3.\u001b[0m\n"
     ]
    },
    {
     "name": "stdout",
     "output_type": "stream",
     "text": [
      "322568746150994.1\n",
      "[LightGBM] [Warning] feature_fraction is set=0.4591075668280973, colsample_bytree=1.0 will be ignored. Current value: feature_fraction=0.4591075668280973\n",
      "[LightGBM] [Warning] lambda_l1 is set=5.791011595496539e-08, reg_alpha=0.0 will be ignored. Current value: lambda_l1=5.791011595496539e-08\n",
      "[LightGBM] [Warning] bagging_fraction is set=0.5405547412528598, subsample=1.0 will be ignored. Current value: bagging_fraction=0.5405547412528598\n",
      "[LightGBM] [Warning] lambda_l2 is set=0.0010324414096713312, reg_lambda=0.0 will be ignored. Current value: lambda_l2=0.0010324414096713312\n",
      "[LightGBM] [Warning] bagging_freq is set=4, subsample_freq=0 will be ignored. Current value: bagging_freq=4\n"
     ]
    },
    {
     "name": "stderr",
     "output_type": "stream",
     "text": [
      "/var/folders/qb/s5vw4nk95r53s007_f3ty08m0000gn/T/ipykernel_15260/2951571227.py:8: FutureWarning: suggest_loguniform has been deprecated in v3.0.0. This feature will be removed in v6.0.0. See https://github.com/optuna/optuna/releases/tag/v3.0.0. Use :func:`~optuna.trial.Trial.suggest_float` instead.\n",
      "  'lambda_l1': trial.suggest_loguniform('lambda_l1', 1e-8, 10.0),\n",
      "/var/folders/qb/s5vw4nk95r53s007_f3ty08m0000gn/T/ipykernel_15260/2951571227.py:9: FutureWarning: suggest_loguniform has been deprecated in v3.0.0. This feature will be removed in v6.0.0. See https://github.com/optuna/optuna/releases/tag/v3.0.0. Use :func:`~optuna.trial.Trial.suggest_float` instead.\n",
      "  'lambda_l2': trial.suggest_loguniform('lambda_l2', 1e-8, 10.0),\n",
      "/var/folders/qb/s5vw4nk95r53s007_f3ty08m0000gn/T/ipykernel_15260/2951571227.py:11: FutureWarning: suggest_uniform has been deprecated in v3.0.0. This feature will be removed in v6.0.0. See https://github.com/optuna/optuna/releases/tag/v3.0.0. Use :func:`~optuna.trial.Trial.suggest_float` instead.\n",
      "  'feature_fraction': trial.suggest_uniform('feature_fraction', 0.4, 1.0),\n",
      "/var/folders/qb/s5vw4nk95r53s007_f3ty08m0000gn/T/ipykernel_15260/2951571227.py:12: FutureWarning: suggest_uniform has been deprecated in v3.0.0. This feature will be removed in v6.0.0. See https://github.com/optuna/optuna/releases/tag/v3.0.0. Use :func:`~optuna.trial.Trial.suggest_float` instead.\n",
      "  'bagging_fraction': trial.suggest_uniform('bagging_fraction', 0.4, 1.0),\n",
      "/Users/youngseoklee/opt/anaconda3/envs/ai/lib/python3.10/site-packages/lightgbm/sklearn.py:726: UserWarning: 'early_stopping_rounds' argument is deprecated and will be removed in a future release of LightGBM. Pass 'early_stopping()' callback via 'callbacks' argument instead.\n",
      "  _log_warning(\"'early_stopping_rounds' argument is deprecated and will be removed in a future release of LightGBM. \"\n",
      "/Users/youngseoklee/opt/anaconda3/envs/ai/lib/python3.10/site-packages/lightgbm/sklearn.py:736: UserWarning: 'verbose' argument is deprecated and will be removed in a future release of LightGBM. Pass 'log_evaluation()' callback via 'callbacks' argument instead.\n",
      "  _log_warning(\"'verbose' argument is deprecated and will be removed in a future release of LightGBM. \"\n",
      "\u001b[32m[I 2023-08-01 00:05:10,976]\u001b[0m Trial 98 finished with value: 344495429173984.94 and parameters: {'lambda_l1': 5.791011595496539e-08, 'lambda_l2': 0.0010324414096713312, 'num_leaves': 17, 'feature_fraction': 0.4591075668280973, 'bagging_fraction': 0.5405547412528598, 'bagging_freq': 4, 'min_child_samples': 100}. Best is trial 49 with value: 265579173796455.3.\u001b[0m\n"
     ]
    },
    {
     "name": "stdout",
     "output_type": "stream",
     "text": [
      "344495429173984.94\n",
      "[LightGBM] [Warning] feature_fraction is set=0.4003256690724242, colsample_bytree=1.0 will be ignored. Current value: feature_fraction=0.4003256690724242\n",
      "[LightGBM] [Warning] lambda_l1 is set=1.5644444614686053e-08, reg_alpha=0.0 will be ignored. Current value: lambda_l1=1.5644444614686053e-08\n",
      "[LightGBM] [Warning] bagging_fraction is set=0.5955035818236802, subsample=1.0 will be ignored. Current value: bagging_fraction=0.5955035818236802\n",
      "[LightGBM] [Warning] lambda_l2 is set=0.0020349630164876132, reg_lambda=0.0 will be ignored. Current value: lambda_l2=0.0020349630164876132\n",
      "[LightGBM] [Warning] bagging_freq is set=2, subsample_freq=0 will be ignored. Current value: bagging_freq=2\n"
     ]
    },
    {
     "name": "stderr",
     "output_type": "stream",
     "text": [
      "/var/folders/qb/s5vw4nk95r53s007_f3ty08m0000gn/T/ipykernel_15260/2951571227.py:8: FutureWarning: suggest_loguniform has been deprecated in v3.0.0. This feature will be removed in v6.0.0. See https://github.com/optuna/optuna/releases/tag/v3.0.0. Use :func:`~optuna.trial.Trial.suggest_float` instead.\n",
      "  'lambda_l1': trial.suggest_loguniform('lambda_l1', 1e-8, 10.0),\n",
      "/var/folders/qb/s5vw4nk95r53s007_f3ty08m0000gn/T/ipykernel_15260/2951571227.py:9: FutureWarning: suggest_loguniform has been deprecated in v3.0.0. This feature will be removed in v6.0.0. See https://github.com/optuna/optuna/releases/tag/v3.0.0. Use :func:`~optuna.trial.Trial.suggest_float` instead.\n",
      "  'lambda_l2': trial.suggest_loguniform('lambda_l2', 1e-8, 10.0),\n",
      "/var/folders/qb/s5vw4nk95r53s007_f3ty08m0000gn/T/ipykernel_15260/2951571227.py:11: FutureWarning: suggest_uniform has been deprecated in v3.0.0. This feature will be removed in v6.0.0. See https://github.com/optuna/optuna/releases/tag/v3.0.0. Use :func:`~optuna.trial.Trial.suggest_float` instead.\n",
      "  'feature_fraction': trial.suggest_uniform('feature_fraction', 0.4, 1.0),\n",
      "/var/folders/qb/s5vw4nk95r53s007_f3ty08m0000gn/T/ipykernel_15260/2951571227.py:12: FutureWarning: suggest_uniform has been deprecated in v3.0.0. This feature will be removed in v6.0.0. See https://github.com/optuna/optuna/releases/tag/v3.0.0. Use :func:`~optuna.trial.Trial.suggest_float` instead.\n",
      "  'bagging_fraction': trial.suggest_uniform('bagging_fraction', 0.4, 1.0),\n",
      "/Users/youngseoklee/opt/anaconda3/envs/ai/lib/python3.10/site-packages/lightgbm/sklearn.py:726: UserWarning: 'early_stopping_rounds' argument is deprecated and will be removed in a future release of LightGBM. Pass 'early_stopping()' callback via 'callbacks' argument instead.\n",
      "  _log_warning(\"'early_stopping_rounds' argument is deprecated and will be removed in a future release of LightGBM. \"\n",
      "/Users/youngseoklee/opt/anaconda3/envs/ai/lib/python3.10/site-packages/lightgbm/sklearn.py:736: UserWarning: 'verbose' argument is deprecated and will be removed in a future release of LightGBM. Pass 'log_evaluation()' callback via 'callbacks' argument instead.\n",
      "  _log_warning(\"'verbose' argument is deprecated and will be removed in a future release of LightGBM. \"\n",
      "\u001b[32m[I 2023-08-01 00:05:12,067]\u001b[0m Trial 99 finished with value: 418144424883928.5 and parameters: {'lambda_l1': 1.5644444614686053e-08, 'lambda_l2': 0.0020349630164876132, 'num_leaves': 41, 'feature_fraction': 0.4003256690724242, 'bagging_fraction': 0.5955035818236802, 'bagging_freq': 2, 'min_child_samples': 89}. Best is trial 49 with value: 265579173796455.3.\u001b[0m\n"
     ]
    },
    {
     "name": "stdout",
     "output_type": "stream",
     "text": [
      "418144424883928.5\n",
      "Best trial:\n",
      "  Value:  265579173796455.3\n",
      "  Params: \n",
      "    lambda_l1: 6.556342924809363e-08\n",
      "    lambda_l2: 0.00012833345059915804\n",
      "    num_leaves: 8\n",
      "    feature_fraction: 0.4364304830692286\n",
      "    bagging_fraction: 0.6998740687369662\n",
      "    bagging_freq: 1\n",
      "    min_child_samples: 96\n"
     ]
    }
   ],
   "source": [
    "def objective(trial):\n",
    "\n",
    "    param = {\n",
    "        'objective': 'regression',\n",
    "        'metric': 'mse',\n",
    "        'verbosity': -1,\n",
    "        'boosting_type': 'gbdt',\n",
    "        'lambda_l1': trial.suggest_loguniform('lambda_l1', 1e-8, 10.0),\n",
    "        'lambda_l2': trial.suggest_loguniform('lambda_l2', 1e-8, 10.0),\n",
    "        'num_leaves': trial.suggest_int('num_leaves', 2, 256),\n",
    "        'feature_fraction': trial.suggest_uniform('feature_fraction', 0.4, 1.0),\n",
    "        'bagging_fraction': trial.suggest_uniform('bagging_fraction', 0.4, 1.0),\n",
    "        'bagging_freq': trial.suggest_int('bagging_freq', 1, 7),\n",
    "        'min_child_samples': trial.suggest_int('min_child_samples', 5, 100),\n",
    "    }\n",
    "\n",
    "\n",
    "    model = lgb.LGBMRegressor(**param)\n",
    "    model.fit(X_train, y_train, eval_set=[[X_valid, y_valid]], early_stopping_rounds=100, verbose=False)\n",
    "    y_pred = model.predict(X_valid)\n",
    "\n",
    "\n",
    "    mape = mean_absolute_percentage_error(y_valid, y_pred)\n",
    "    print(mape)\n",
    "    return mape\n",
    "\n",
    "\n",
    "# Run optimization\n",
    "study = optuna.create_study(direction='minimize')\n",
    "study.optimize(objective, n_trials=100)\n",
    "\n",
    "# Print best parameters\n",
    "print(\"Best trial:\")\n",
    "trial = study.best_trial\n",
    "print(\"  Value: \", trial.value)\n",
    "print(\"  Params: \")\n",
    "for key, value in trial.params.items():\n",
    "    print(\"    {}: {}\".format(key, value))"
   ]
  },
  {
   "cell_type": "code",
   "execution_count": 178,
   "id": "e8da0c82",
   "metadata": {},
   "outputs": [],
   "source": [
    "best_params = trial.params"
   ]
  },
  {
   "cell_type": "code",
   "execution_count": 179,
   "id": "4475b53a",
   "metadata": {},
   "outputs": [
    {
     "name": "stderr",
     "output_type": "stream",
     "text": [
      "/Users/youngseoklee/opt/anaconda3/envs/ai/lib/python3.10/site-packages/lightgbm/sklearn.py:726: UserWarning: 'early_stopping_rounds' argument is deprecated and will be removed in a future release of LightGBM. Pass 'early_stopping()' callback via 'callbacks' argument instead.\n",
      "  _log_warning(\"'early_stopping_rounds' argument is deprecated and will be removed in a future release of LightGBM. \"\n",
      "/Users/youngseoklee/opt/anaconda3/envs/ai/lib/python3.10/site-packages/lightgbm/sklearn.py:736: UserWarning: 'verbose' argument is deprecated and will be removed in a future release of LightGBM. Pass 'log_evaluation()' callback via 'callbacks' argument instead.\n",
      "  _log_warning(\"'verbose' argument is deprecated and will be removed in a future release of LightGBM. \"\n"
     ]
    },
    {
     "name": "stdout",
     "output_type": "stream",
     "text": [
      "[LightGBM] [Warning] bagging_freq is set=1, subsample_freq=0 will be ignored. Current value: bagging_freq=1\n",
      "[LightGBM] [Warning] lambda_l1 is set=6.556342924809363e-08, reg_alpha=0.0 will be ignored. Current value: lambda_l1=6.556342924809363e-08\n",
      "[LightGBM] [Warning] feature_fraction is set=0.4364304830692286, colsample_bytree=1.0 will be ignored. Current value: feature_fraction=0.4364304830692286\n",
      "[LightGBM] [Warning] bagging_fraction is set=0.6998740687369662, subsample=1.0 will be ignored. Current value: bagging_fraction=0.6998740687369662\n",
      "[LightGBM] [Warning] lambda_l2 is set=0.00012833345059915804, reg_lambda=0.0 will be ignored. Current value: lambda_l2=0.00012833345059915804\n",
      "mape: 265579173796455.3\n"
     ]
    }
   ],
   "source": [
    "# Create a LGBMRegressor with the best parameters\n",
    "model = lgb.LGBMRegressor(**best_params)\n",
    "\n",
    "# Train the model\n",
    "model.fit(X_train, y_train, eval_set=[[X_valid, y_valid]], early_stopping_rounds=100, verbose=False)\n",
    "# Make predictions\n",
    "y_pred = model.predict(X_valid)\n",
    "\n",
    "# You can calculate the performance of the model using various metrics, for example:\n",
    "mape = mean_absolute_percentage_error(y_valid, y_pred)\n",
    "print(f'mape: {mape}')"
   ]
  },
  {
   "cell_type": "code",
   "execution_count": 180,
   "id": "25691240",
   "metadata": {},
   "outputs": [],
   "source": [
    "pred = model.predict(test_df)"
   ]
  },
  {
   "cell_type": "code",
   "execution_count": 188,
   "id": "fd0a3da7",
   "metadata": {},
   "outputs": [],
   "source": [
    "sub['answer'] = pred\n",
    "\n",
    "sub.to_csv(path + 'sub.csv')"
   ]
  },
  {
   "cell_type": "code",
   "execution_count": 189,
   "id": "2cabd63d",
   "metadata": {},
   "outputs": [
    {
     "name": "stdout",
     "output_type": "stream",
     "text": [
      "<class 'pandas.core.frame.DataFrame'>\n",
      "Index: 16800 entries, 1_20220825 00 to 100_20220831 23\n",
      "Data columns (total 1 columns):\n",
      " #   Column  Non-Null Count  Dtype  \n",
      "---  ------  --------------  -----  \n",
      " 0   answer  16800 non-null  float64\n",
      "dtypes: float64(1)\n",
      "memory usage: 262.5+ KB\n"
     ]
    }
   ],
   "source": [
    "sub.info()"
   ]
  },
  {
   "cell_type": "code",
   "execution_count": null,
   "id": "44055ec7",
   "metadata": {},
   "outputs": [],
   "source": []
  }
 ],
 "metadata": {
  "kernelspec": {
   "display_name": "Python 3 (ipykernel)",
   "language": "python",
   "name": "python3"
  },
  "language_info": {
   "codemirror_mode": {
    "name": "ipython",
    "version": 3
   },
   "file_extension": ".py",
   "mimetype": "text/x-python",
   "name": "python",
   "nbconvert_exporter": "python",
   "pygments_lexer": "ipython3",
   "version": "3.10.11"
  }
 },
 "nbformat": 4,
 "nbformat_minor": 5
}
